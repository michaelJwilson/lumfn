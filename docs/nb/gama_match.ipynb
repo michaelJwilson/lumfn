{
 "cells": [
  {
   "cell_type": "code",
   "execution_count": 1,
   "id": "8bb2444a-e173-475f-a6e3-7efe3ddec906",
   "metadata": {},
   "outputs": [],
   "source": [
    "import sys\n",
    "import numpy             as     np\n",
    "import pylab             as     pl\n",
    "import astropy.io.fits   as     fits\n",
    "import matplotlib        as     mpl\n",
    "import matplotlib.pyplot as     plt\n",
    "\n",
    "from   astropy.table     import Table\n",
    "from   matplotlib.pyplot import figure"
   ]
  },
  {
   "cell_type": "code",
   "execution_count": 2,
   "id": "32a20699-bf1c-478e-a8ce-285fa175f3b1",
   "metadata": {},
   "outputs": [],
   "source": [
    "sys.path.append('/global/homes/m/mjwilson/desi/BGS/lumfn/py/lumfn/')\n",
    "sys.path.append('/global/homes/m/mjwilson/desi/BGS/lumfn/py/')"
   ]
  },
  {
   "cell_type": "code",
   "execution_count": 3,
   "id": "20042a0b-10b5-48f2-aaa2-3eecef56cdc5",
   "metadata": {},
   "outputs": [],
   "source": [
    "from   SV3.define_sample import define_sample\n",
    "from   params            import params"
   ]
  },
  {
   "cell_type": "code",
   "execution_count": 4,
   "id": "d0c9945f-d269-4f61-bee1-4bc335ac1f96",
   "metadata": {},
   "outputs": [],
   "source": [
    "version = 0.4"
   ]
  },
  {
   "cell_type": "markdown",
   "id": "4d51b2c6-6c4c-46d6-ae3a-3554d792a521",
   "metadata": {},
   "source": [
    "### https://desi.lbl.gov/trac/wiki/TargetSelectionWG/TargetingTruthTables/MatchedTruthCatalogs"
   ]
  },
  {
   "cell_type": "code",
   "execution_count": 5,
   "id": "efd3adfb-a60b-4872-bf16-9623a971fea7",
   "metadata": {},
   "outputs": [
    {
     "data": {
      "text/html": [
       "<i>Table length=169336</i>\n",
       "<table id=\"table46913378327712\" class=\"table-striped table-bordered table-condensed\">\n",
       "<thead><tr><th>RA</th><th>DEC</th><th>REF_EPOCH</th><th>PARALLAX</th><th>PMRA</th><th>PMDEC</th><th>TARGETID</th><th>SUBPRIORITY</th><th>OBSCONDITIONS</th><th>PRIORITY_INIT</th><th>NUMOBS_INIT</th><th>NUMOBS_MORE</th><th>NUMOBS</th><th>ZWARN_MTL</th><th>ZTILEID</th><th>TARGET_STATE</th><th>TIMESTAMP</th><th>VERSION</th><th>LOCATION</th><th>TILEID</th><th>TILELOCID</th><th>CHI2</th><th>COEFF [10]</th><th>Z</th><th>ZERR</th><th>ZWARN</th><th>NPIXELS</th><th>SPECTYPE</th><th>SUBTYPE</th><th>NCOEFF</th><th>DELTACHI2</th><th>FIBER</th><th>FIBERSTATUS</th><th>OBJTYPE</th><th>FIBERASSIGN_X</th><th>FIBERASSIGN_Y</th><th>PRIORITY</th><th>DELTA_X</th><th>DELTA_Y</th><th>EXPTIME</th><th>PSF_TO_FIBER_SPECFLUX</th><th>NIGHT</th><th>EXPID</th><th>MJD</th><th>INTEG_COADD_FLUX_B</th><th>MEDIAN_COADD_FLUX_B</th><th>MEDIAN_COADD_SNR_B</th><th>INTEG_COADD_FLUX_R</th><th>MEDIAN_COADD_FLUX_R</th><th>MEDIAN_COADD_SNR_R</th><th>INTEG_COADD_FLUX_Z</th><th>MEDIAN_COADD_FLUX_Z</th><th>MEDIAN_COADD_SNR_Z</th><th>TSNR2_ELG_B</th><th>TSNR2_LYA_B</th><th>TSNR2_BGS_B</th><th>TSNR2_QSO_B</th><th>TSNR2_LRG_B</th><th>TSNR2_ELG_R</th><th>TSNR2_LYA_R</th><th>TSNR2_BGS_R</th><th>TSNR2_QSO_R</th><th>TSNR2_LRG_R</th><th>TSNR2_ELG_Z</th><th>TSNR2_LYA_Z</th><th>TSNR2_BGS_Z</th><th>TSNR2_QSO_Z</th><th>TSNR2_LRG_Z</th><th>TSNR2_ELG</th><th>TSNR2_LYA</th><th>TSNR2_BGS</th><th>TSNR2_QSO</th><th>TSNR2_LRG</th><th>SV3_DESI_TARGET</th><th>SV3_BGS_TARGET</th><th>SV3_MWS_TARGET</th><th>FIBERFLUX_R</th><th>FLUX_G</th><th>FLUX_R</th><th>MW_TRANSMISSION_G</th><th>MW_TRANSMISSION_R</th><th>PHOTSYS</th><th>REF_CAT</th><th>BRICK_OBJID</th><th>BRICKID</th><th>CATAID</th><th>GAMA_NAME</th><th>IC_FLAG</th><th>N_SPEC</th><th>N_GAMA_SPEC</th><th>DIST</th><th>SPECID</th><th>SURVEY</th><th>SURVEY_CODE</th><th>WMIN</th><th>WMAX</th><th>NQ</th><th>PROB</th><th>FILENAME</th><th>URL</th><th>URL_IMG</th><th>ZGAMA</th><th>RELEASE</th><th>GMAG</th><th>GMAG_DRED</th><th>RMAG</th><th>RMAG_DRED</th><th>FIBER_RMAG</th><th>FIBER_RMAG_DRED</th><th>GMR</th><th>GMR_DRED</th><th>BGS_A_SUCCESS</th></tr></thead>\n",
       "<thead><tr><th>float64</th><th>float64</th><th>float32</th><th>float32</th><th>float32</th><th>float32</th><th>int64</th><th>float64</th><th>int32</th><th>int64</th><th>int64</th><th>int64</th><th>int64</th><th>int64</th><th>int32</th><th>bytes30</th><th>bytes25</th><th>bytes14</th><th>int64</th><th>int64</th><th>int64</th><th>float64</th><th>float64</th><th>float64</th><th>float64</th><th>int64</th><th>int64</th><th>bytes6</th><th>bytes20</th><th>int64</th><th>float64</th><th>int32</th><th>int32</th><th>bytes3</th><th>float32</th><th>float32</th><th>int32</th><th>float64</th><th>float64</th><th>float64</th><th>float64</th><th>int32</th><th>int32</th><th>float64</th><th>float32</th><th>float32</th><th>float32</th><th>float32</th><th>float32</th><th>float32</th><th>float32</th><th>float32</th><th>float32</th><th>float32</th><th>float32</th><th>float32</th><th>float32</th><th>float32</th><th>float32</th><th>float32</th><th>float32</th><th>float32</th><th>float32</th><th>float32</th><th>float32</th><th>float32</th><th>float32</th><th>float32</th><th>float32</th><th>float32</th><th>float32</th><th>float32</th><th>float32</th><th>int64</th><th>int64</th><th>int64</th><th>float32</th><th>float32</th><th>float32</th><th>float32</th><th>float32</th><th>bytes1</th><th>bytes2</th><th>int32</th><th>int32</th><th>int32</th><th>bytes23</th><th>int16</th><th>int16</th><th>int16</th><th>float32</th><th>bytes33</th><th>bytes9</th><th>int16</th><th>float32</th><th>float64</th><th>int16</th><th>float32</th><th>bytes67</th><th>bytes88</th><th>bytes92</th><th>float32</th><th>int16</th><th>float32</th><th>float32</th><th>float32</th><th>float32</th><th>float32</th><th>float32</th><th>float32</th><th>float32</th><th>bool</th></tr></thead>\n",
       "<tr><td>212.07182231138097</td><td>-2.1576366940231786</td><td>0.0</td><td>0.0</td><td>0.0</td><td>0.0</td><td>39627733927462346</td><td>0.7155266907459459</td><td>516</td><td>102100</td><td>9</td><td>9</td><td>0</td><td>-1</td><td>-1</td><td>BGS|UNOBS</td><td>2021-04-04T23:14:10</td><td>0.57.0</td><td>1463</td><td>532</td><td>5321463</td><td>8691.917048618197</td><td>110.1924173269175 .. -13.909760857702603</td><td>0.20831738790192758</td><td>3.870861964601318e-05</td><td>0</td><td>7886</td><td>GALAXY</td><td></td><td>10</td><td>300.0186497028917</td><td>523</td><td>0</td><td>TGT</td><td>175.50546</td><td>-366.08752</td><td>102100</td><td>-0.004</td><td>0.001</td><td>329.2138</td><td>0.7514636097863017</td><td>20210512</td><td>88162</td><td>59347.28192359</td><td>2494.5547</td><td>1.495369</td><td>1.2990925</td><td>4100.856</td><td>2.2913628</td><td>3.9154603</td><td>4768.7817</td><td>2.1793647</td><td>4.723067</td><td>0.013547539</td><td>7.073917</td><td>109.063484</td><td>0.39787793</td><td>0.16146766</td><td>5.505917</td><td>0.007272676</td><td>489.47827</td><td>0.8947302</td><td>7.7659473</td><td>18.000463</td><td>0.0</td><td>1035.9039</td><td>4.453982</td><td>9.583865</td><td>23.519928</td><td>7.0811896</td><td>1634.4458</td><td>5.74659</td><td>17.51128</td><td>1152921504606846976</td><td>131074</td><td>0</td><td>6.5144067</td><td>5.435668</td><td>15.029476</td><td>0.8395581</td><td>0.88887244</td><td>S</td><td></td><td>1482</td><td>318256</td><td>999999</td><td>N/A</td><td>16959</td><td>16959</td><td>16959</td><td>1e+20</td><td>N/A</td><td>N/A</td><td>16959</td><td>1e+20</td><td>1e+20</td><td>16959</td><td>1e+20</td><td>N/A</td><td>N/A</td><td>N/A</td><td>1e+20</td><td>16959</td><td>20.661867</td><td>20.471994</td><td>19.55764</td><td>19.429739</td><td>20.465313</td><td>20.337412</td><td>1.1042271</td><td>1.0422554</td><td>True</td></tr>\n",
       "<tr><td>212.13195284744052</td><td>-2.1397232701515705</td><td>0.0</td><td>0.0</td><td>0.0</td><td>0.0</td><td>39627733927463584</td><td>0.3064671342899772</td><td>516</td><td>102100</td><td>9</td><td>9</td><td>0</td><td>-1</td><td>-1</td><td>BGS|UNOBS</td><td>2021-04-04T23:14:10</td><td>0.57.0</td><td>1442</td><td>532</td><td>5321442</td><td>8181.238723360002</td><td>650.8494234496903 .. 26.321080977338845</td><td>0.18489118881349448</td><td>8.151114524677556e-05</td><td>0</td><td>7898</td><td>GALAXY</td><td></td><td>10</td><td>121.69535649672616</td><td>515</td><td>0</td><td>TGT</td><td>159.9167</td><td>-360.7208</td><td>102100</td><td>-0.003</td><td>-0.0</td><td>329.2138</td><td>0.7250493309558984</td><td>20210512</td><td>88162</td><td>59347.28192359</td><td>2839.2163</td><td>1.7219174</td><td>1.4668155</td><td>4295.8286</td><td>2.4269316</td><td>4.082689</td><td>5179.0156</td><td>2.3733006</td><td>4.9972258</td><td>0.013628212</td><td>7.094321</td><td>109.622696</td><td>0.40032744</td><td>0.16285975</td><td>5.484065</td><td>0.007271832</td><td>486.65622</td><td>0.8906726</td><td>7.714434</td><td>17.933203</td><td>0.0</td><td>1025.0463</td><td>4.4246182</td><td>9.502515</td><td>23.430895</td><td>7.1015925</td><td>1621.3252</td><td>5.7156186</td><td>17.379808</td><td>1152921504606846976</td><td>131074</td><td>0</td><td>6.960086</td><td>14.839426</td><td>41.38945</td><td>0.83804214</td><td>0.8877909</td><td>S</td><td></td><td>2720</td><td>318256</td><td>999999</td><td>N/A</td><td>16959</td><td>16959</td><td>16959</td><td>1e+20</td><td>N/A</td><td>N/A</td><td>16959</td><td>1e+20</td><td>1e+20</td><td>16959</td><td>1e+20</td><td>N/A</td><td>N/A</td><td>N/A</td><td>1e+20</td><td>16959</td><td>19.571457</td><td>19.379622</td><td>18.457775</td><td>18.328552</td><td>20.393463</td><td>20.26424</td><td>1.1136818</td><td>1.0510693</td><td>True</td></tr>\n",
       "<tr><td>212.14293772910978</td><td>-2.127708100431868</td><td>0.0</td><td>0.0</td><td>0.0</td><td>0.0</td><td>39627733927463809</td><td>0.9682231030567523</td><td>516</td><td>102100</td><td>9</td><td>9</td><td>0</td><td>-1</td><td>-1</td><td>BGS|UNOBS</td><td>2021-04-04T23:14:10</td><td>0.57.0</td><td>1464</td><td>529</td><td>5291464</td><td>8649.267828658223</td><td>482.3641546970651 .. 28.304609010743402</td><td>0.18572600120311122</td><td>5.0569333051126286e-05</td><td>0</td><td>7825</td><td>GALAXY</td><td></td><td>10</td><td>491.2810438387096</td><td>524</td><td>0</td><td>TGT</td><td>174.46136</td><td>-357.95212</td><td>102100</td><td>0.007</td><td>-0.013</td><td>836.0849</td><td>0.7045758604118871</td><td>20210507</td><td>87604</td><td>59342.33186133</td><td>5241.1284</td><td>3.161646</td><td>2.7221062</td><td>9271.688</td><td>5.1619253</td><td>7.320931</td><td>11833.8</td><td>5.418451</td><td>9.364234</td><td>0.014638815</td><td>7.937166</td><td>115.9185</td><td>0.43463737</td><td>0.16990733</td><td>4.3820224</td><td>0.005671774</td><td>385.05923</td><td>0.70937586</td><td>6.173186</td><td>13.938504</td><td>0.0</td><td>734.8787</td><td>3.2962127</td><td>7.0799737</td><td>18.335165</td><td>7.942838</td><td>1235.8564</td><td>4.440226</td><td>13.423067</td><td>1152921504606846976</td><td>131074</td><td>0</td><td>11.711209</td><td>18.459028</td><td>55.512775</td><td>0.8384417</td><td>0.888076</td><td>S</td><td></td><td>2945</td><td>318256</td><td>999999</td><td>N/A</td><td>16959</td><td>16959</td><td>16959</td><td>1e+20</td><td>N/A</td><td>N/A</td><td>16959</td><td>1e+20</td><td>1e+20</td><td>16959</td><td>1e+20</td><td>N/A</td><td>N/A</td><td>N/A</td><td>1e+20</td><td>16959</td><td>19.334478</td><td>19.14316</td><td>18.139017</td><td>18.010143</td><td>19.828495</td><td>19.699621</td><td>1.1954613</td><td>1.1330166</td><td>True</td></tr>\n",
       "<tr><td>212.1818402755797</td><td>-2.172762494351842</td><td>0.0</td><td>0.0</td><td>0.0</td><td>0.0</td><td>39627733927464616</td><td>0.03133156253842562</td><td>575</td><td>102100</td><td>9</td><td>9</td><td>0</td><td>-1</td><td>-1</td><td>BGS|UNOBS</td><td>2021-04-04T23:14:10</td><td>0.57.0</td><td>1416</td><td>526</td><td>5261416</td><td>10423.647739971057</td><td>1719.797108758068 .. 265.70607086328965</td><td>0.05428233407843518</td><td>1.4401072935827318e-05</td><td>0</td><td>7912</td><td>GALAXY</td><td></td><td>10</td><td>774.8451265450567</td><td>510</td><td>0</td><td>TGT</td><td>133.03877</td><td>-378.6486</td><td>102100</td><td>-0.001</td><td>0.004</td><td>313.4244</td><td>0.723340913414341</td><td>20210503</td><td>87113</td><td>59338.32136568</td><td>9620.827</td><td>5.7006416</td><td>4.6465826</td><td>13986.692</td><td>7.777828</td><td>10.051108</td><td>20526.885</td><td>9.291358</td><td>13.782961</td><td>0.014188077</td><td>7.3576527</td><td>113.20743</td><td>0.41628522</td><td>0.1687093</td><td>5.411773</td><td>0.0073473174</td><td>486.4256</td><td>0.88439983</td><td>7.6039705</td><td>17.413692</td><td>0.0</td><td>983.7626</td><td>4.2630653</td><td>9.18164</td><td>22.839655</td><td>7.365</td><td>1583.3955</td><td>5.5637503</td><td>16.95432</td><td>5764607523034234880</td><td>131074</td><td>0</td><td>27.623528</td><td>90.73072</td><td>226.42117</td><td>0.8382134</td><td>0.8879131</td><td>S</td><td>L3</td><td>3752</td><td>318256</td><td>999999</td><td>N/A</td><td>16959</td><td>16959</td><td>16959</td><td>1e+20</td><td>N/A</td><td>N/A</td><td>16959</td><td>1e+20</td><td>1e+20</td><td>16959</td><td>1e+20</td><td>N/A</td><td>N/A</td><td>N/A</td><td>1e+20</td><td>16959</td><td>17.605614</td><td>17.414001</td><td>16.612707</td><td>16.483633</td><td>18.896801</td><td>18.767729</td><td>0.9929066</td><td>0.9303684</td><td>True</td></tr>\n",
       "<tr><td>212.1896378780757</td><td>-2.21605466479506</td><td>0.0</td><td>0.0</td><td>0.0</td><td>0.0</td><td>39627733927464793</td><td>0.5037985287980364</td><td>516</td><td>102100</td><td>9</td><td>9</td><td>0</td><td>-1</td><td>-1</td><td>BGS|UNOBS</td><td>2021-04-04T23:14:10</td><td>0.57.0</td><td>1440</td><td>532</td><td>5321440</td><td>8672.444615222514</td><td>-285.62685246606566 .. -24.88227547980572</td><td>0.26621596221004523</td><td>6.655659864393685e-05</td><td>0</td><td>7892</td><td>GALAXY</td><td></td><td>10</td><td>159.036530084908</td><td>522</td><td>0</td><td>TGT</td><td>145.67825</td><td>-381.00446</td><td>102100</td><td>-0.004</td><td>0.001</td><td>329.2138</td><td>0.7422230155300532</td><td>20210512</td><td>88162</td><td>59347.28192359</td><td>1835.0637</td><td>1.1709971</td><td>0.9924728</td><td>4277.868</td><td>2.3835616</td><td>3.9826093</td><td>5857.964</td><td>2.640726</td><td>5.445065</td><td>0.012891966</td><td>6.6185737</td><td>103.800354</td><td>0.37703168</td><td>0.15484843</td><td>5.286113</td><td>0.006989476</td><td>469.0452</td><td>0.8593651</td><td>7.450601</td><td>17.405054</td><td>0.0</td><td>1005.6463</td><td>4.316401</td><td>9.283574</td><td>22.70406</td><td>6.625563</td><td>1578.4918</td><td>5.552798</td><td>16.889023</td><td>1152921504606846976</td><td>131074</td><td>0</td><td>7.0998735</td><td>4.871682</td><td>18.210466</td><td>0.8386037</td><td>0.8881916</td><td>S</td><td></td><td>3929</td><td>318256</td><td>999999</td><td>N/A</td><td>16959</td><td>16959</td><td>16959</td><td>1e+20</td><td>N/A</td><td>N/A</td><td>16959</td><td>1e+20</td><td>1e+20</td><td>16959</td><td>1e+20</td><td>N/A</td><td>N/A</td><td>N/A</td><td>1e+20</td><td>16959</td><td>20.780804</td><td>20.589695</td><td>19.349197</td><td>19.220465</td><td>20.371874</td><td>20.243141</td><td>1.4316063</td><td>1.3692303</td><td>True</td></tr>\n",
       "<tr><td>212.19086400924073</td><td>-2.1378687233392726</td><td>0.0</td><td>0.0</td><td>0.0</td><td>0.0</td><td>39627733927464814</td><td>0.2130330823886052</td><td>516</td><td>102100</td><td>9</td><td>9</td><td>0</td><td>-1</td><td>-1</td><td>BGS|UNOBS</td><td>2021-04-04T23:14:10</td><td>0.57.0</td><td>1394</td><td>526</td><td>5261394</td><td>8837.381222575903</td><td>267.81711548431184 .. 6.085892830981382</td><td>0.5381419561913213</td><td>6.126980231910109e-05</td><td>0</td><td>7899</td><td>GALAXY</td><td></td><td>10</td><td>149.2937500178814</td><td>503</td><td>0</td><td>TGT</td><td>130.51788</td><td>-369.10092</td><td>102100</td><td>0.005</td><td>0.0</td><td>313.4244</td><td>0.7451273001903959</td><td>20210503</td><td>87113</td><td>59338.32136568</td><td>1404.0635</td><td>0.80526584</td><td>0.76136124</td><td>2316.286</td><td>1.3090274</td><td>2.4552865</td><td>3341.5598</td><td>1.5260437</td><td>3.3530045</td><td>0.016516749</td><td>8.968997</td><td>129.75508</td><td>0.49080765</td><td>0.19070984</td><td>5.5857215</td><td>0.00785669</td><td>509.55792</td><td>0.92047894</td><td>7.8845816</td><td>17.62272</td><td>0.0</td><td>973.9153</td><td>4.2664137</td><td>9.177276</td><td>23.22496</td><td>8.976854</td><td>1613.2283</td><td>5.6777</td><td>17.252567</td><td>1152921504606846976</td><td>131074</td><td>0</td><td>3.9531827</td><td>4.4802074</td><td>14.420573</td><td>0.8396267</td><td>0.8889213</td><td>S</td><td></td><td>3950</td><td>318256</td><td>999999</td><td>N/A</td><td>16959</td><td>16959</td><td>16959</td><td>1e+20</td><td>N/A</td><td>N/A</td><td>16959</td><td>1e+20</td><td>1e+20</td><td>16959</td><td>1e+20</td><td>N/A</td><td>N/A</td><td>N/A</td><td>1e+20</td><td>16959</td><td>20.871756</td><td>20.68197</td><td>19.602543</td><td>19.4747</td><td>21.007633</td><td>20.879791</td><td>1.2692127</td><td>1.2072697</td><td>True</td></tr>\n",
       "<tr><td>212.22049043462837</td><td>-2.1925957102208287</td><td>0.0</td><td>0.0</td><td>0.0</td><td>0.0</td><td>39627733927465411</td><td>0.7474419264193058</td><td>516</td><td>102100</td><td>9</td><td>9</td><td>0</td><td>-1</td><td>-1</td><td>BGS|UNOBS</td><td>2021-04-04T23:14:10</td><td>0.57.0</td><td>1417</td><td>532</td><td>5321417</td><td>8447.7774318296</td><td>266.42861907844207 .. -6.30765922134408</td><td>0.25606023821531376</td><td>0.0001984896362406629</td><td>0</td><td>7884</td><td>GALAXY</td><td></td><td>10</td><td>213.25875378143974</td><td>500</td><td>0</td><td>TGT</td><td>137.62112</td><td>-374.37936</td><td>102100</td><td>-0.002</td><td>-0.0</td><td>329.2138</td><td>0.739646185281198</td><td>20210512</td><td>88162</td><td>59347.28192359</td><td>2150.5767</td><td>1.2611014</td><td>0.98098993</td><td>4582.5103</td><td>2.5799584</td><td>3.9709988</td><td>6279.011</td><td>2.86474</td><td>5.4153943</td><td>0.010693744</td><td>5.59007</td><td>86.00996</td><td>0.31459415</td><td>0.12728533</td><td>4.461305</td><td>0.0060118134</td><td>396.47223</td><td>0.7259013</td><td>6.282581</td><td>14.70453</td><td>0.0</td><td>852.19104</td><td>3.6451964</td><td>7.8750057</td><td>19.176529</td><td>5.5960817</td><td>1334.6732</td><td>4.685692</td><td>14.284872</td><td>1152921504606846976</td><td>131074</td><td>0</td><td>7.147874</td><td>5.088561</td><td>19.41448</td><td>0.8402888</td><td>0.88939345</td><td>S</td><td></td><td>4547</td><td>318256</td><td>999999</td><td>N/A</td><td>16959</td><td>16959</td><td>16959</td><td>1e+20</td><td>N/A</td><td>N/A</td><td>16959</td><td>1e+20</td><td>1e+20</td><td>16959</td><td>1e+20</td><td>N/A</td><td>N/A</td><td>N/A</td><td>1e+20</td><td>16959</td><td>20.733513</td><td>20.544584</td><td>19.279686</td><td>19.15242</td><td>20.364557</td><td>20.237293</td><td>1.4538269</td><td>1.3921642</td><td>True</td></tr>\n",
       "<tr><td>212.24237651229095</td><td>-2.1316196803977387</td><td>0.0</td><td>0.0</td><td>0.0</td><td>0.0</td><td>39627733927465840</td><td>0.5652576891172162</td><td>516</td><td>102100</td><td>9</td><td>9</td><td>0</td><td>-1</td><td>-1</td><td>BGS|UNOBS</td><td>2021-04-04T23:14:10</td><td>0.57.0</td><td>1419</td><td>529</td><td>5291419</td><td>9008.523128926754</td><td>-42.27987226044542 .. 3.073244706613617</td><td>0.31176299827893034</td><td>1.997557211541233e-05</td><td>0</td><td>7878</td><td>GALAXY</td><td></td><td>10</td><td>543.968504011631</td><td>529</td><td>0</td><td>TGT</td><td>149.00124</td><td>-358.20053</td><td>102100</td><td>0.012</td><td>-0.006</td><td>836.0849</td><td>0.7221747866649045</td><td>20210507</td><td>87604</td><td>59342.33186133</td><td>2371.115</td><td>1.376565</td><td>1.1957846</td><td>3946.3252</td><td>2.2258525</td><td>3.517265</td><td>5889.7485</td><td>2.6310945</td><td>5.138895</td><td>0.013996209</td><td>7.5667944</td><td>111.134514</td><td>0.4147663</td><td>0.16309981</td><td>4.089678</td><td>0.0052485415</td><td>359.0666</td><td>0.662487</td><td>5.781595</td><td>13.808033</td><td>0.0</td><td>721.4496</td><td>3.2424405</td><td>6.988662</td><td>17.911707</td><td>7.572043</td><td>1191.6506</td><td>4.3196936</td><td>12.933357</td><td>1152921504606846976</td><td>131074</td><td>0</td><td>4.8909235</td><td>4.9703403</td><td>16.130299</td><td>0.8421782</td><td>0.89074004</td><td>S</td><td></td><td>4976</td><td>318256</td><td>999999</td><td>N/A</td><td>16959</td><td>16959</td><td>16959</td><td>1e+20</td><td>N/A</td><td>N/A</td><td>16959</td><td>1e+20</td><td>1e+20</td><td>16959</td><td>1e+20</td><td>N/A</td><td>N/A</td><td>N/A</td><td>1e+20</td><td>16959</td><td>20.759035</td><td>20.572544</td><td>19.480894</td><td>19.35527</td><td>20.776524</td><td>20.6509</td><td>1.278141</td><td>1.2172737</td><td>True</td></tr>\n",
       "<tr><td>212.42975347528574</td><td>-2.1309385078258107</td><td>0.0</td><td>0.0</td><td>0.0</td><td>0.0</td><td>39627733931658393</td><td>0.27860060871978554</td><td>516</td><td>102100</td><td>9</td><td>9</td><td>0</td><td>-1</td><td>-1</td><td>BGS|UNOBS</td><td>2021-04-04T23:14:10</td><td>0.57.0</td><td>458</td><td>532</td><td>5320458</td><td>8309.601383626461</td><td>345.3634852559939 .. -4.073705948140487</td><td>0.12874607685370917</td><td>6.534033291820233e-06</td><td>0</td><td>7864</td><td>GALAXY</td><td></td><td>10</td><td>1470.827433168888</td><td>386</td><td>0</td><td>TGT</td><td>84.161415</td><td>-356.4995</td><td>102100</td><td>0.002</td><td>0.002</td><td>329.2138</td><td>0.7349863031185744</td><td>20210512</td><td>88162</td><td>59347.28192359</td><td>5555.3066</td><td>3.1460352</td><td>2.7863748</td><td>6427.199</td><td>3.4937193</td><td>5.733639</td><td>7102.85</td><td>3.2249668</td><td>6.4283867</td><td>0.022654027</td><td>19.514786</td><td>150.94539</td><td>0.7869941</td><td>0.17049083</td><td>5.699352</td><td>0.00950204</td><td>569.1863</td><td>0.9779092</td><td>8.2379055</td><td>20.282583</td><td>0.0</td><td>980.2081</td><td>4.6595097</td><td>9.829158</td><td>26.00459</td><td>19.524286</td><td>1700.3398</td><td>6.424413</td><td>18.237555</td><td>1152921504606846976</td><td>131074</td><td>0</td><td>10.739115</td><td>38.85395</td><td>70.79043</td><td>0.8438407</td><td>0.89192414</td><td>S</td><td></td><td>3225</td><td>318257</td><td>999999</td><td>N/A</td><td>16959</td><td>16959</td><td>16959</td><td>1e+20</td><td>N/A</td><td>N/A</td><td>16959</td><td>1e+20</td><td>1e+20</td><td>16959</td><td>1e+20</td><td>N/A</td><td>N/A</td><td>N/A</td><td>1e+20</td><td>16959</td><td>18.526413</td><td>18.342064</td><td>17.875065</td><td>17.750883</td><td>19.922579</td><td>19.798399</td><td>0.6513481</td><td>0.5911808</td><td>True</td></tr>\n",
       "<tr><td>212.52413506605672</td><td>-2.2007204191482628</td><td>0.0</td><td>0.0</td><td>0.0</td><td>0.0</td><td>39627733935850029</td><td>0.38070421688522116</td><td>516</td><td>102100</td><td>9</td><td>9</td><td>0</td><td>-1</td><td>-1</td><td>BGS|UNOBS</td><td>2021-04-04T23:14:10</td><td>0.57.0</td><td>510</td><td>526</td><td>5260510</td><td>8634.101640250534</td><td>-19.966690641972523 .. 5.4669188983264805</td><td>0.2918676322743275</td><td>6.467297688071684e-05</td><td>4</td><td>7911</td><td>GALAXY</td><td></td><td>10</td><td>4.779023069888353</td><td>397</td><td>0</td><td>TGT</td><td>46.229465</td><td>-384.58057</td><td>102100</td><td>-0.003</td><td>0.0</td><td>313.4244</td><td>0.7262822436909676</td><td>20210503</td><td>87113</td><td>59338.32136563</td><td>1006.6351</td><td>0.56709015</td><td>0.58884645</td><td>2008.7557</td><td>1.1269131</td><td>2.20818</td><td>2865.5752</td><td>1.3233781</td><td>3.014002</td><td>0.022930456</td><td>19.447886</td><td>153.7404</td><td>0.791258</td><td>0.17563576</td><td>5.767307</td><td>0.009665122</td><td>579.8787</td><td>0.99338806</td><td>8.331156</td><td>20.219374</td><td>0.0</td><td>960.12225</td><td>4.5960336</td><td>9.715344</td><td>26.009611</td><td>19.45755</td><td>1693.7413</td><td>6.3806796</td><td>18.222136</td><td>1152921504606846976</td><td>131074</td><td>0</td><td>3.661357</td><td>12.002755</td><td>40.56012</td><td>0.830787</td><td>0.88260627</td><td>S</td><td></td><td>557</td><td>318258</td><td>999999</td><td>N/A</td><td>16959</td><td>16959</td><td>16959</td><td>1e+20</td><td>N/A</td><td>N/A</td><td>16959</td><td>1e+20</td><td>1e+20</td><td>16959</td><td>1e+20</td><td>N/A</td><td>N/A</td><td>N/A</td><td>1e+20</td><td>16959</td><td>19.801798</td><td>19.600521</td><td>18.479752</td><td>18.34417</td><td>21.090895</td><td>20.955313</td><td>1.3220463</td><td>1.2563515</td><td>True</td></tr>\n",
       "<tr><td>...</td><td>...</td><td>...</td><td>...</td><td>...</td><td>...</td><td>...</td><td>...</td><td>...</td><td>...</td><td>...</td><td>...</td><td>...</td><td>...</td><td>...</td><td>...</td><td>...</td><td>...</td><td>...</td><td>...</td><td>...</td><td>...</td><td>...</td><td>...</td><td>...</td><td>...</td><td>...</td><td>...</td><td>...</td><td>...</td><td>...</td><td>...</td><td>...</td><td>...</td><td>...</td><td>...</td><td>...</td><td>...</td><td>...</td><td>...</td><td>...</td><td>...</td><td>...</td><td>...</td><td>...</td><td>...</td><td>...</td><td>...</td><td>...</td><td>...</td><td>...</td><td>...</td><td>...</td><td>...</td><td>...</td><td>...</td><td>...</td><td>...</td><td>...</td><td>...</td><td>...</td><td>...</td><td>...</td><td>...</td><td>...</td><td>...</td><td>...</td><td>...</td><td>...</td><td>...</td><td>...</td><td>...</td><td>...</td><td>...</td><td>...</td><td>...</td><td>...</td><td>...</td><td>...</td><td>...</td><td>...</td><td>...</td><td>...</td><td>...</td><td>...</td><td>...</td><td>...</td><td>...</td><td>...</td><td>...</td><td>...</td><td>...</td><td>...</td><td>...</td><td>...</td><td>...</td><td>...</td><td>...</td><td>...</td><td>...</td><td>...</td><td>...</td><td>...</td><td>...</td><td>...</td><td>...</td><td>...</td><td>...</td><td>...</td><td>...</td><td>...</td><td>...</td></tr>\n",
       "<tr><td>270.1865505816298</td><td>67.71500601802896</td><td>0.0</td><td>0.0</td><td>0.0</td><td>0.0</td><td>39633470518987433</td><td>0.3465509437428277</td><td>516</td><td>102100</td><td>9</td><td>9</td><td>0</td><td>-1</td><td>-1</td><td>BGS|UNOBS</td><td>2021-04-04T23:08:58</td><td>0.57.0</td><td>5523</td><td>426</td><td>4265523</td><td>8403.90295510739</td><td>310.5191283378874 .. 0.5186079963024833</td><td>0.3053837013855352</td><td>0.00012102372450165261</td><td>0</td><td>7906</td><td>GALAXY</td><td></td><td>10</td><td>278.4962598606944</td><td>2564</td><td>0</td><td>TGT</td><td>-45.9547</td><td>399.85223</td><td>102100</td><td>-0.005</td><td>0.013</td><td>499.002</td><td>0.7252997640412383</td><td>20210508</td><td>87723</td><td>59343.45624855</td><td>2129.5635</td><td>1.2605331</td><td>1.147601</td><td>5789.5176</td><td>3.226448</td><td>4.335151</td><td>7637.4526</td><td>3.5347848</td><td>6.5510273</td><td>0.0199078</td><td>11.3741</td><td>149.0061</td><td>0.5943998</td><td>0.22902383</td><td>3.3898692</td><td>0.007784253</td><td>327.17383</td><td>0.57485133</td><td>4.818199</td><td>18.296816</td><td>0.0</td><td>788.8093</td><td>3.9936612</td><td>8.355382</td><td>21.706593</td><td>11.381884</td><td>1264.9893</td><td>5.1629124</td><td>13.402605</td><td>1152921504606846976</td><td>514</td><td>0</td><td>8.341444</td><td>5.3744535</td><td>23.619314</td><td>0.861478</td><td>0.90443945</td><td>N</td><td></td><td>2729</td><td>637390</td><td>999999</td><td>N/A</td><td>16959</td><td>16959</td><td>16959</td><td>1e+20</td><td>N/A</td><td>N/A</td><td>16959</td><td>1e+20</td><td>1e+20</td><td>16959</td><td>1e+20</td><td>N/A</td><td>N/A</td><td>N/A</td><td>1e+20</td><td>16959</td><td>20.674164</td><td>20.512274</td><td>19.066832</td><td>18.95778</td><td>20.196898</td><td>20.087845</td><td>1.6073322</td><td>1.554493</td><td>True</td></tr>\n",
       "<tr><td>270.2266118967085</td><td>67.69993864416939</td><td>0.0</td><td>0.0</td><td>0.0</td><td>0.0</td><td>39633470518987665</td><td>0.6919804721219811</td><td>516</td><td>102100</td><td>9</td><td>9</td><td>0</td><td>-1</td><td>-1</td><td>BGS|UNOBS</td><td>2021-04-04T23:08:58</td><td>0.57.0</td><td>5522</td><td>420</td><td>4205522</td><td>8752.033475753851</td><td>444.00955018184067 .. 17.51398866815374</td><td>0.3050082158519796</td><td>0.00012982610317295348</td><td>0</td><td>7886</td><td>GALAXY</td><td></td><td>10</td><td>48.0309925256297</td><td>2667</td><td>0</td><td>TGT</td><td>-33.8629</td><td>398.19656</td><td>102100</td><td>0.003</td><td>-0.001</td><td>233.2401</td><td>0.7341123243661482</td><td>20210416</td><td>85106</td><td>59321.46741002</td><td>1445.6631</td><td>0.87263596</td><td>0.77302885</td><td>3774.4954</td><td>2.1206856</td><td>3.0864067</td><td>5448.9766</td><td>2.448776</td><td>5.1608253</td><td>0.017061481</td><td>8.933857</td><td>129.31885</td><td>0.49973997</td><td>0.205552</td><td>3.3944576</td><td>0.008426354</td><td>347.65</td><td>0.59501314</td><td>4.9156795</td><td>20.242905</td><td>0.0</td><td>919.9062</td><td>4.5554824</td><td>9.492189</td><td>23.654423</td><td>8.942284</td><td>1396.875</td><td>5.650235</td><td>14.613421</td><td>1152921504606846976</td><td>514</td><td>0</td><td>6.3824005</td><td>7.199135</td><td>26.498388</td><td>0.86131144</td><td>0.9043216</td><td>N</td><td></td><td>2961</td><td>637390</td><td>999999</td><td>N/A</td><td>16959</td><td>16959</td><td>16959</td><td>1e+20</td><td>N/A</td><td>N/A</td><td>16959</td><td>1e+20</td><td>1e+20</td><td>16959</td><td>1e+20</td><td>N/A</td><td>N/A</td><td>N/A</td><td>1e+20</td><td>16959</td><td>20.3568</td><td>20.1947</td><td>18.941952</td><td>18.832758</td><td>20.48754</td><td>20.378347</td><td>1.4148483</td><td>1.3619423</td><td>True</td></tr>\n",
       "<tr><td>270.2380455930642</td><td>67.65339741878913</td><td>0.0</td><td>0.0</td><td>0.0</td><td>0.0</td><td>39633470518987719</td><td>0.9871661702255219</td><td>516</td><td>102100</td><td>9</td><td>9</td><td>0</td><td>-1</td><td>-1</td><td>BGS|UNOBS</td><td>2021-04-04T23:08:58</td><td>0.57.0</td><td>5525</td><td>418</td><td>4185525</td><td>8.999999999999996e+99</td><td>0.0 .. 0.0</td><td>-0.0019957014509158224</td><td>4.131159871613317e-48</td><td>1570</td><td>0</td><td>STAR</td><td>CV</td><td>3</td><td>1.942668892225729e+84</td><td>2592</td><td>520</td><td>TGT</td><td>-65.568275</td><td>391.45782</td><td>102100</td><td>0.884</td><td>-1.012</td><td>304.1061</td><td>0.0</td><td>20210410</td><td>84245</td><td>59315.47042681</td><td>0.0</td><td>0.0</td><td>0.0</td><td>0.0</td><td>0.0</td><td>0.0</td><td>0.0</td><td>0.0</td><td>0.0</td><td>0.011917249</td><td>5.8550916</td><td>91.336975</td><td>0.34248182</td><td>0.14770764</td><td>2.7472756</td><td>0.0064644236</td><td>271.20428</td><td>0.47175646</td><td>3.9295988</td><td>14.977317</td><td>0.0</td><td>686.701</td><td>3.417926</td><td>7.085599</td><td>17.73651</td><td>5.861556</td><td>1049.2423</td><td>4.2321644</td><td>11.162906</td><td>1152921504606846976</td><td>514</td><td>0</td><td>2.8285973</td><td>21.298357</td><td>34.79996</td><td>0.86231655</td><td>0.90503234</td><td>N</td><td></td><td>3015</td><td>637390</td><td>999999</td><td>N/A</td><td>16959</td><td>16959</td><td>16959</td><td>1e+20</td><td>N/A</td><td>N/A</td><td>16959</td><td>1e+20</td><td>1e+20</td><td>16959</td><td>1e+20</td><td>N/A</td><td>N/A</td><td>N/A</td><td>1e+20</td><td>16959</td><td>19.179134</td><td>19.018301</td><td>18.646053</td><td>18.537714</td><td>21.371073</td><td>21.262732</td><td>0.53308105</td><td>0.480587</td><td>False</td></tr>\n",
       "<tr><td>270.2531847816681</td><td>67.6440121040494</td><td>0.0</td><td>0.0</td><td>0.0</td><td>0.0</td><td>39633470518987832</td><td>0.9903259212226763</td><td>516</td><td>102100</td><td>9</td><td>9</td><td>0</td><td>-1</td><td>-1</td><td>BGS|UNOBS</td><td>2021-04-04T23:08:58</td><td>0.57.0</td><td>5492</td><td>420</td><td>4205492</td><td>7549.837079323828</td><td>596.2002155182239 .. 60.22866651559524</td><td>0.07883927452868737</td><td>5.232534384476696e-05</td><td>0</td><td>7910</td><td>GALAXY</td><td></td><td>10</td><td>96.89683148264885</td><td>2586</td><td>0</td><td>TGT</td><td>-36.480095</td><td>382.96246</td><td>102100</td><td>0.006</td><td>-0.006</td><td>233.2401</td><td>0.7598332318100973</td><td>20210416</td><td>85106</td><td>59321.46741002</td><td>2873.5488</td><td>1.7130237</td><td>1.2998971</td><td>3657.3127</td><td>2.0102813</td><td>2.7472537</td><td>4361.0034</td><td>1.9588194</td><td>4.035277</td><td>0.0128675755</td><td>6.3950744</td><td>98.914856</td><td>0.3702795</td><td>0.15973891</td><td>2.8482735</td><td>0.00719741</td><td>290.76825</td><td>0.4977418</td><td>4.096942</td><td>18.431633</td><td>0.0</td><td>832.5508</td><td>4.1329837</td><td>8.616112</td><td>21.292774</td><td>6.4022717</td><td>1222.2339</td><td>5.001005</td><td>12.872792</td><td>1152921504606846976</td><td>514</td><td>0</td><td>6.639133</td><td>6.39708</td><td>14.435582</td><td>0.8628657</td><td>0.90542054</td><td>N</td><td></td><td>3128</td><td>637390</td><td>999999</td><td>N/A</td><td>16959</td><td>16959</td><td>16959</td><td>1e+20</td><td>N/A</td><td>N/A</td><td>16959</td><td>1e+20</td><td>1e+20</td><td>16959</td><td>1e+20</td><td>N/A</td><td>N/A</td><td>N/A</td><td>1e+20</td><td>16959</td><td>20.485046</td><td>20.324903</td><td>19.601414</td><td>19.49354</td><td>20.444721</td><td>20.336847</td><td>0.88363266</td><td>0.8313637</td><td>True</td></tr>\n",
       "<tr><td>270.4184989314244</td><td>67.65117146022656</td><td>0.0</td><td>0.0</td><td>0.0</td><td>0.0</td><td>39633470523179620</td><td>0.7232793565720292</td><td>516</td><td>102100</td><td>9</td><td>9</td><td>0</td><td>-1</td><td>-1</td><td>BGS|UNOBS</td><td>2021-04-04T23:08:58</td><td>0.57.0</td><td>5526</td><td>418</td><td>4185526</td><td>7736.376892697066</td><td>230.51782920684667 .. 41.395423132780664</td><td>0.233943764642148</td><td>6.61620529349339e-05</td><td>0</td><td>7915</td><td>GALAXY</td><td></td><td>10</td><td>203.6015363652259</td><td>2575</td><td>0</td><td>TGT</td><td>-82.99977</td><td>391.45544</td><td>102100</td><td>-0.005</td><td>0.005</td><td>304.1061</td><td>0.7453644322423469</td><td>20210410</td><td>84245</td><td>59315.47042681</td><td>3533.5933</td><td>2.1363482</td><td>1.4152524</td><td>7646.506</td><td>4.256499</td><td>4.683289</td><td>10907.982</td><td>4.9329724</td><td>7.260498</td><td>0.009800615</td><td>4.855921</td><td>74.946335</td><td>0.2820003</td><td>0.121074535</td><td>2.3136544</td><td>0.005582251</td><td>228.93</td><td>0.39765134</td><td>3.3021476</td><td>12.980296</td><td>0.0</td><td>601.1745</td><td>2.9701302</td><td>6.1684766</td><td>15.303751</td><td>4.861503</td><td>905.0508</td><td>3.6497817</td><td>9.591699</td><td>1152921504606846976</td><td>514</td><td>0</td><td>12.392887</td><td>8.84085</td><td>33.02542</td><td>0.8632359</td><td>0.9056822</td><td>N</td><td></td><td>612</td><td>637391</td><td>999999</td><td>N/A</td><td>16959</td><td>16959</td><td>16959</td><td>1e+20</td><td>N/A</td><td>N/A</td><td>16959</td><td>1e+20</td><td>1e+20</td><td>16959</td><td>1e+20</td><td>N/A</td><td>N/A</td><td>N/A</td><td>1e+20</td><td>16959</td><td>20.133764</td><td>19.974089</td><td>18.702879</td><td>18.595318</td><td>19.767069</td><td>19.659508</td><td>1.4308853</td><td>1.3787708</td><td>True</td></tr>\n",
       "<tr><td>270.4605247170981</td><td>67.63255236763067</td><td>0.0</td><td>0.0</td><td>0.0</td><td>0.0</td><td>39633470523179901</td><td>0.07186508317430107</td><td>516</td><td>102100</td><td>9</td><td>9</td><td>0</td><td>-1</td><td>-1</td><td>BGS|UNOBS</td><td>2021-04-04T23:08:58</td><td>0.57.0</td><td>5523</td><td>423</td><td>4235523</td><td>8625.901332667097</td><td>529.943447940575 .. 22.319733427757537</td><td>0.24453097282654018</td><td>6.610524359789589e-05</td><td>0</td><td>7856</td><td>GALAXY</td><td></td><td>10</td><td>147.38968257047236</td><td>2564</td><td>0</td><td>TGT</td><td>-44.35952</td><td>392.01233</td><td>102100</td><td>-0.003</td><td>0.004</td><td>701.9467</td><td>0.7582184273770664</td><td>20210428</td><td>86513</td><td>59333.42909254</td><td>2221.6445</td><td>1.3042009</td><td>1.0395907</td><td>3908.3818</td><td>2.1784167</td><td>3.603911</td><td>5195.198</td><td>2.5132732</td><td>6.6405473</td><td>0.020813756</td><td>14.113133</td><td>152.82855</td><td>0.6497329</td><td>0.22649072</td><td>4.721901</td><td>0.011061458</td><td>460.45053</td><td>0.80491024</td><td>6.8231764</td><td>30.81561</td><td>0.0</td><td>1199.144</td><td>6.603696</td><td>13.52421</td><td>35.558327</td><td>14.124195</td><td>1812.4231</td><td>8.058339</td><td>20.573877</td><td>1152921504606846976</td><td>514</td><td>0</td><td>6.796896</td><td>3.7984955</td><td>13.912463</td><td>0.8653754</td><td>0.90719366</td><td>N</td><td></td><td>893</td><td>637391</td><td>999999</td><td>N/A</td><td>16959</td><td>16959</td><td>16959</td><td>1e+20</td><td>N/A</td><td>N/A</td><td>16959</td><td>1e+20</td><td>1e+20</td><td>16959</td><td>1e+20</td><td>N/A</td><td>N/A</td><td>N/A</td><td>1e+20</td><td>16959</td><td>21.05097</td><td>20.893982</td><td>19.64149</td><td>19.53574</td><td>20.419224</td><td>20.313473</td><td>1.4094791</td><td>1.358242</td><td>True</td></tr>\n",
       "<tr><td>270.540951360059</td><td>67.63412950793015</td><td>0.0</td><td>0.0</td><td>0.0</td><td>0.0</td><td>39633470523180407</td><td>0.4639492946720575</td><td>517</td><td>102100</td><td>9</td><td>9</td><td>0</td><td>-1</td><td>-1</td><td>BGS|UNOBS</td><td>2021-04-04T23:08:58</td><td>0.57.0</td><td>5511</td><td>420</td><td>4205511</td><td>7475.415090315044</td><td>53.656140081340986 .. 48.7468759597759</td><td>0.24936172776322832</td><td>6.127681396914633e-05</td><td>0</td><td>7911</td><td>GALAXY</td><td></td><td>10</td><td>140.16061357408762</td><td>2576</td><td>0</td><td>TGT</td><td>-64.18598</td><td>380.97632</td><td>102100</td><td>0.006</td><td>-0.003</td><td>233.2401</td><td>0.7229420311208774</td><td>20210416</td><td>85106</td><td>59321.46741002</td><td>1605.1172</td><td>0.970394</td><td>0.8491802</td><td>4116.852</td><td>2.29848</td><td>3.2743354</td><td>6762.2524</td><td>3.0587764</td><td>5.942548</td><td>0.016446132</td><td>8.467237</td><td>124.78544</td><td>0.4774801</td><td>0.19987851</td><td>3.3467095</td><td>0.008527186</td><td>343.06827</td><td>0.5855539</td><td>4.8046627</td><td>19.917297</td><td>0.0</td><td>907.9607</td><td>4.4815974</td><td>9.35738</td><td>23.280453</td><td>8.475765</td><td>1375.8145</td><td>5.5446315</td><td>14.36192</td><td>1152921504606855433</td><td>514</td><td>0</td><td>7.3232183</td><td>17.483957</td><td>64.76216</td><td>0.8676891</td><td>0.9088268</td><td>N</td><td></td><td>1399</td><td>637391</td><td>999999</td><td>N/A</td><td>16959</td><td>16959</td><td>16959</td><td>1e+20</td><td>N/A</td><td>N/A</td><td>16959</td><td>1e+20</td><td>1e+20</td><td>16959</td><td>1e+20</td><td>N/A</td><td>N/A</td><td>N/A</td><td>1e+20</td><td>16959</td><td>19.3934</td><td>19.239311</td><td>17.971697</td><td>17.867899</td><td>20.338245</td><td>20.234447</td><td>1.4217033</td><td>1.3714123</td><td>True</td></tr>\n",
       "<tr><td>270.55016031932473</td><td>67.6372029279099</td><td>2015.5</td><td>0.0</td><td>0.0</td><td>0.0</td><td>39633470523180473</td><td>0.6369259545004605</td><td>516</td><td>102100</td><td>9</td><td>9</td><td>0</td><td>-1</td><td>-1</td><td>BGS|UNOBS</td><td>2021-04-04T23:08:58</td><td>0.57.0</td><td>5524</td><td>423</td><td>4235524</td><td>8525.829633053392</td><td>637.2310330537204 .. 23.25971962632182</td><td>0.2983809681081533</td><td>8.150975283448257e-05</td><td>0</td><td>7889</td><td>GALAXY</td><td></td><td>10</td><td>284.87849420309067</td><td>2568</td><td>0</td><td>TGT</td><td>-52.999775</td><td>393.50137</td><td>102100</td><td>-0.003</td><td>0.0</td><td>701.9467</td><td>0.7733097576797434</td><td>20210428</td><td>86513</td><td>59333.42909254</td><td>2620.621</td><td>1.5125022</td><td>1.2156981</td><td>4354.035</td><td>2.439923</td><td>3.982656</td><td>5819.5903</td><td>2.8180163</td><td>7.2459445</td><td>0.020513628</td><td>13.8317375</td><td>150.96257</td><td>0.639905</td><td>0.22362052</td><td>4.6357107</td><td>0.010867965</td><td>452.69702</td><td>0.7900086</td><td>6.699861</td><td>30.555784</td><td>0.0</td><td>1196.719</td><td>6.551435</td><td>13.425054</td><td>35.21201</td><td>13.842606</td><td>1800.3787</td><td>7.9813485</td><td>20.348536</td><td>1152921504606846976</td><td>514</td><td>0</td><td>8.151355</td><td>3.5647175</td><td>14.345921</td><td>0.86781085</td><td>0.9089127</td><td>N</td><td>G2</td><td>1465</td><td>637391</td><td>999999</td><td>N/A</td><td>16959</td><td>16959</td><td>16959</td><td>1e+20</td><td>N/A</td><td>N/A</td><td>16959</td><td>1e+20</td><td>1e+20</td><td>16959</td><td>1e+20</td><td>N/A</td><td>N/A</td><td>N/A</td><td>1e+20</td><td>16959</td><td>21.119938</td><td>20.966</td><td>19.60818</td><td>19.504484</td><td>20.221926</td><td>20.11823</td><td>1.5117588</td><td>1.4615154</td><td>True</td></tr>\n",
       "<tr><td>270.63685930580345</td><td>67.6276357043606</td><td>0.0</td><td>0.0</td><td>0.0</td><td>0.0</td><td>39633470523181032</td><td>0.23102125603511003</td><td>516</td><td>102100</td><td>9</td><td>9</td><td>0</td><td>-1</td><td>-1</td><td>BGS|UNOBS</td><td>2021-04-04T23:08:58</td><td>0.57.0</td><td>5512</td><td>420</td><td>4205512</td><td>7763.930891638622</td><td>435.4488552143963 .. 38.151387723127186</td><td>0.23414140354323584</td><td>7.623150982337691e-05</td><td>0</td><td>7888</td><td>GALAXY</td><td></td><td>10</td><td>416.13816931284964</td><td>2567</td><td>0</td><td>TGT</td><td>-73.43821</td><td>379.50925</td><td>102100</td><td>0.003</td><td>-0.002</td><td>233.2401</td><td>0.7463532188062694</td><td>20210416</td><td>85106</td><td>59321.46741002</td><td>3251.1091</td><td>1.9247123</td><td>1.6621683</td><td>7832.9326</td><td>4.3536453</td><td>5.7085514</td><td>10537.536</td><td>4.822685</td><td>8.515706</td><td>0.01791061</td><td>9.189398</td><td>136.01738</td><td>0.5194019</td><td>0.21788874</td><td>3.6597886</td><td>0.009469884</td><td>375.7759</td><td>0.64064246</td><td>5.257123</td><td>20.877073</td><td>0.0</td><td>957.4211</td><td>4.702141</td><td>9.838877</td><td>24.554771</td><td>9.198867</td><td>1469.2144</td><td>5.862185</td><td>15.313889</td><td>1152921504606846976</td><td>514</td><td>0</td><td>12.789884</td><td>8.034217</td><td>31.979706</td><td>0.8707691</td><td>0.91099864</td><td>N</td><td></td><td>2024</td><td>637391</td><td>999999</td><td>N/A</td><td>16959</td><td>16959</td><td>16959</td><td>1e+20</td><td>N/A</td><td>N/A</td><td>16959</td><td>1e+20</td><td>1e+20</td><td>16959</td><td>1e+20</td><td>N/A</td><td>N/A</td><td>N/A</td><td>1e+20</td><td>16959</td><td>20.23764</td><td>20.087399</td><td>18.737814</td><td>18.636608</td><td>19.732834</td><td>19.631628</td><td>1.4998264</td><td>1.4507904</td><td>True</td></tr>\n",
       "<tr><td>270.6559469306373</td><td>67.68230181231624</td><td>0.0</td><td>0.0</td><td>0.0</td><td>0.0</td><td>39633470523181151</td><td>0.9427837910966917</td><td>516</td><td>102100</td><td>9</td><td>9</td><td>0</td><td>-1</td><td>-1</td><td>BGS|UNOBS</td><td>2021-04-04T23:08:58</td><td>0.57.0</td><td>5526</td><td>420</td><td>4205526</td><td>7432.2398780584335</td><td>463.8292457218147 .. 13.531884950323901</td><td>0.17557415087299028</td><td>6.668159743727557e-06</td><td>0</td><td>7914</td><td>GALAXY</td><td></td><td>10</td><td>1018.3221868276596</td><td>2575</td><td>0</td><td>TGT</td><td>-75.23845</td><td>394.4938</td><td>102100</td><td>0.007</td><td>-0.004</td><td>233.2401</td><td>0.7522976064506606</td><td>20210416</td><td>85106</td><td>59321.46741002</td><td>3888.9329</td><td>2.2652824</td><td>1.5545214</td><td>4186.6924</td><td>2.3120441</td><td>2.8639715</td><td>5246.603</td><td>2.2806315</td><td>4.2706923</td><td>0.010565569</td><td>5.2725053</td><td>80.88468</td><td>0.30438188</td><td>0.13079628</td><td>2.3450072</td><td>0.005925172</td><td>238.38895</td><td>0.40903777</td><td>3.366687</td><td>15.208042</td><td>0.0</td><td>706.93866</td><td>3.4491637</td><td>7.2132063</td><td>17.563614</td><td>5.2784305</td><td>1026.2123</td><td>4.1625834</td><td>10.71069</td><td>1152921504606846976</td><td>514</td><td>0</td><td>8.508214</td><td>11.144629</td><td>22.607702</td><td>0.8675015</td><td>0.90869445</td><td>N</td><td></td><td>2143</td><td>637391</td><td>999999</td><td>N/A</td><td>16959</td><td>16959</td><td>16959</td><td>1e+20</td><td>N/A</td><td>N/A</td><td>16959</td><td>1e+20</td><td>1e+20</td><td>16959</td><td>1e+20</td><td>N/A</td><td>N/A</td><td>N/A</td><td>1e+20</td><td>16959</td><td>19.882336</td><td>19.728012</td><td>19.114359</td><td>19.010403</td><td>20.175404</td><td>20.07145</td><td>0.76797676</td><td>0.7176094</td><td>True</td></tr>\n",
       "</table>"
      ],
      "text/plain": [
       "<Table length=169336>\n",
       "        RA                 DEC         REF_EPOCH ...  GMR_DRED BGS_A_SUCCESS\n",
       "     float64             float64        float32  ...  float32       bool    \n",
       "------------------ ------------------- --------- ... --------- -------------\n",
       "212.07182231138097 -2.1576366940231786       0.0 ... 1.0422554          True\n",
       "212.13195284744052 -2.1397232701515705       0.0 ... 1.0510693          True\n",
       "212.14293772910978  -2.127708100431868       0.0 ... 1.1330166          True\n",
       " 212.1818402755797  -2.172762494351842       0.0 ... 0.9303684          True\n",
       " 212.1896378780757   -2.21605466479506       0.0 ... 1.3692303          True\n",
       "212.19086400924073 -2.1378687233392726       0.0 ... 1.2072697          True\n",
       "212.22049043462837 -2.1925957102208287       0.0 ... 1.3921642          True\n",
       "212.24237651229095 -2.1316196803977387       0.0 ... 1.2172737          True\n",
       "212.42975347528574 -2.1309385078258107       0.0 ... 0.5911808          True\n",
       "212.52413506605672 -2.2007204191482628       0.0 ... 1.2563515          True\n",
       "               ...                 ...       ... ...       ...           ...\n",
       " 270.1865505816298   67.71500601802896       0.0 ...  1.554493          True\n",
       " 270.2266118967085   67.69993864416939       0.0 ... 1.3619423          True\n",
       " 270.2380455930642   67.65339741878913       0.0 ...  0.480587         False\n",
       " 270.2531847816681    67.6440121040494       0.0 ... 0.8313637          True\n",
       " 270.4184989314244   67.65117146022656       0.0 ... 1.3787708          True\n",
       " 270.4605247170981   67.63255236763067       0.0 ...  1.358242          True\n",
       "  270.540951360059   67.63412950793015       0.0 ... 1.3714123          True\n",
       "270.55016031932473    67.6372029279099    2015.5 ... 1.4615154          True\n",
       "270.63685930580345    67.6276357043606       0.0 ... 1.4507904          True\n",
       " 270.6559469306373   67.68230181231624       0.0 ... 0.7176094          True"
      ]
     },
     "execution_count": 5,
     "metadata": {},
     "output_type": "execute_result"
    }
   ],
   "source": [
    "reachable = Table.read('/global/cscratch1/sd/mjwilson/desi/BGS/lumfn/bright_reachable_sv3_v{:.1f}.fits'.format(version))\n",
    "reachable"
   ]
  },
  {
   "cell_type": "code",
   "execution_count": 6,
   "id": "be657c42-ee46-4fc5-9ca8-6adcb7161738",
   "metadata": {},
   "outputs": [],
   "source": [
    "igama               = Table.read('/global/cfs/cdirs/desi/target/analysis/truth/dr9.0/south/matched/ls-dr9.0-GAMA-DR3-SpecObj-match.fits')"
   ]
  },
  {
   "cell_type": "code",
   "execution_count": 7,
   "id": "9d031cac-78bc-4df5-b9d9-e088e1a04c90",
   "metadata": {},
   "outputs": [
    {
     "data": {
      "text/plain": [
       "('RELEASE',\n",
       " 'BRICKID',\n",
       " 'BRICKNAME',\n",
       " 'OBJID',\n",
       " 'TYPE',\n",
       " 'RA',\n",
       " 'DEC',\n",
       " 'RA_IVAR',\n",
       " 'DEC_IVAR',\n",
       " 'DCHISQ',\n",
       " 'EBV',\n",
       " 'FLUX_G',\n",
       " 'FLUX_R',\n",
       " 'FLUX_Z',\n",
       " 'FLUX_W1',\n",
       " 'FLUX_W2',\n",
       " 'FLUX_W3',\n",
       " 'FLUX_W4',\n",
       " 'FLUX_IVAR_G',\n",
       " 'FLUX_IVAR_R',\n",
       " 'FLUX_IVAR_Z',\n",
       " 'FLUX_IVAR_W1',\n",
       " 'FLUX_IVAR_W2',\n",
       " 'FLUX_IVAR_W3',\n",
       " 'FLUX_IVAR_W4',\n",
       " 'MW_TRANSMISSION_G',\n",
       " 'MW_TRANSMISSION_R',\n",
       " 'MW_TRANSMISSION_Z',\n",
       " 'MW_TRANSMISSION_W1',\n",
       " 'MW_TRANSMISSION_W2',\n",
       " 'MW_TRANSMISSION_W3',\n",
       " 'MW_TRANSMISSION_W4',\n",
       " 'NOBS_G',\n",
       " 'NOBS_R',\n",
       " 'NOBS_Z',\n",
       " 'NOBS_W1',\n",
       " 'NOBS_W2',\n",
       " 'NOBS_W3',\n",
       " 'NOBS_W4',\n",
       " 'RCHISQ_G',\n",
       " 'RCHISQ_R',\n",
       " 'RCHISQ_Z',\n",
       " 'RCHISQ_W1',\n",
       " 'RCHISQ_W2',\n",
       " 'RCHISQ_W3',\n",
       " 'RCHISQ_W4',\n",
       " 'FRACFLUX_G',\n",
       " 'FRACFLUX_R',\n",
       " 'FRACFLUX_Z',\n",
       " 'FRACFLUX_W1',\n",
       " 'FRACFLUX_W2',\n",
       " 'FRACFLUX_W3',\n",
       " 'FRACFLUX_W4',\n",
       " 'FRACMASKED_G',\n",
       " 'FRACMASKED_R',\n",
       " 'FRACMASKED_Z',\n",
       " 'FRACIN_G',\n",
       " 'FRACIN_R',\n",
       " 'FRACIN_Z',\n",
       " 'ANYMASK_G',\n",
       " 'ANYMASK_R',\n",
       " 'ANYMASK_Z',\n",
       " 'ALLMASK_G',\n",
       " 'ALLMASK_R',\n",
       " 'ALLMASK_Z',\n",
       " 'WISEMASK_W1',\n",
       " 'WISEMASK_W2',\n",
       " 'PSFSIZE_G',\n",
       " 'PSFSIZE_R',\n",
       " 'PSFSIZE_Z',\n",
       " 'PSFDEPTH_G',\n",
       " 'PSFDEPTH_R',\n",
       " 'PSFDEPTH_Z',\n",
       " 'GALDEPTH_G',\n",
       " 'GALDEPTH_R',\n",
       " 'GALDEPTH_Z',\n",
       " 'PSFDEPTH_W1',\n",
       " 'PSFDEPTH_W2',\n",
       " 'WISE_COADD_ID',\n",
       " 'SHAPE_R',\n",
       " 'SHAPE_R_IVAR',\n",
       " 'SHAPE_E1',\n",
       " 'SHAPE_E1_IVAR',\n",
       " 'SHAPE_E2',\n",
       " 'SHAPE_E2_IVAR',\n",
       " 'FIBERFLUX_G',\n",
       " 'FIBERFLUX_R',\n",
       " 'FIBERFLUX_Z',\n",
       " 'FIBERTOTFLUX_G',\n",
       " 'FIBERTOTFLUX_R',\n",
       " 'FIBERTOTFLUX_Z',\n",
       " 'REF_CAT',\n",
       " 'REF_ID',\n",
       " 'REF_EPOCH',\n",
       " 'GAIA_PHOT_G_MEAN_MAG',\n",
       " 'GAIA_PHOT_G_MEAN_FLUX_OVER_ERROR',\n",
       " 'GAIA_PHOT_BP_MEAN_MAG',\n",
       " 'GAIA_PHOT_BP_MEAN_FLUX_OVER_ERROR',\n",
       " 'GAIA_PHOT_RP_MEAN_MAG',\n",
       " 'GAIA_PHOT_RP_MEAN_FLUX_OVER_ERROR',\n",
       " 'GAIA_ASTROMETRIC_EXCESS_NOISE',\n",
       " 'GAIA_DUPLICATED_SOURCE',\n",
       " 'GAIA_PHOT_BP_RP_EXCESS_FACTOR',\n",
       " 'GAIA_ASTROMETRIC_SIGMA5D_MAX',\n",
       " 'GAIA_ASTROMETRIC_PARAMS_SOLVED',\n",
       " 'PARALLAX',\n",
       " 'PARALLAX_IVAR',\n",
       " 'PMRA',\n",
       " 'PMRA_IVAR',\n",
       " 'PMDEC',\n",
       " 'PMDEC_IVAR',\n",
       " 'MASKBITS',\n",
       " 'FITBITS',\n",
       " 'SERSIC',\n",
       " 'SERSIC_IVAR')"
      ]
     },
     "execution_count": 7,
     "metadata": {},
     "output_type": "execute_result"
    }
   ],
   "source": [
    "igama.dtype.names"
   ]
  },
  {
   "cell_type": "code",
   "execution_count": 8,
   "id": "5c194a7e-fd2a-42cf-bb9f-1433298f2ef7",
   "metadata": {},
   "outputs": [
    {
     "data": {
      "text/plain": [
       "Text(0.5, 1.0, 'Comparison set of 36211 galaxies')"
      ]
     },
     "execution_count": 8,
     "metadata": {},
     "output_type": "execute_result"
    },
    {
     "data": {
      "image/png": "[encoded data removed]",
      "text/plain": [
       "<Figure size 432x288 with 1 Axes>"
      ]
     },
     "metadata": {
      "needs_background": "light"
     },
     "output_type": "display_data"
    }
   ],
   "source": [
    "isin   = (reachable['ZWARN'] == 0) & (reachable['Z'] < 1.e20) & (reachable['ZGAMA'] < 1.e20) & (reachable['DELTACHI2'] > 40.)\n",
    "\n",
    "sample = reachable[isin]\n",
    "\n",
    "xs     = np.arange(0.0, 1.75, 0.01)\n",
    "\n",
    "pl.plot(xs, xs, alpha=0.25)\n",
    "pl.plot(sample['Z'], sample['ZGAMA'], marker=',', lw=0.0)\n",
    "\n",
    "pl.xlabel('Z')\n",
    "pl.ylabel('ZGAMA')\n",
    "\n",
    "pl.title('Comparison set of {:d} galaxies'.format(np.count_nonzero(isin)))"
   ]
  },
  {
   "cell_type": "code",
   "execution_count": 9,
   "id": "f811ff15-cd15-4d44-b328-8d103f68fd71",
   "metadata": {},
   "outputs": [
    {
     "data": {
      "text/plain": [
       "array([-1.69e-03, -1.53e-03, -1.42e-03, ...,  1.00e+20,  1.00e+20,\n",
       "        1.00e+20], dtype=float32)"
      ]
     },
     "execution_count": 9,
     "metadata": {},
     "output_type": "execute_result"
    }
   ],
   "source": [
    "np.sort(reachable['ZGAMA'].data)"
   ]
  },
  {
   "cell_type": "code",
   "execution_count": 10,
   "id": "8cec7a45-aedd-43c7-ab1a-355fa71b5c02",
   "metadata": {},
   "outputs": [],
   "source": [
    "gama = Table.read('/global/cfs/cdirs/desi/target/analysis/truth/dr9.0/south/matched/GAMA-DR3-SpecObj-match.fits')"
   ]
  },
  {
   "cell_type": "code",
   "execution_count": 11,
   "id": "fd0f8626-f5f8-4c40-96a9-7616532f5ce3",
   "metadata": {},
   "outputs": [
    {
     "data": {
      "text/plain": [
       "[<matplotlib.lines.Line2D at 0x2aaae59a0f40>]"
      ]
     },
     "execution_count": 11,
     "metadata": {},
     "output_type": "execute_result"
    },
    {
     "data": {
      "image/png": "[encoded data removed]",
      "text/plain": [
       "<Figure size 432x288 with 1 Axes>"
      ]
     },
     "metadata": {
      "needs_background": "light"
     },
     "output_type": "display_data"
    }
   ],
   "source": [
    "pl.plot(gama['RA'], gama['DEC'], marker=',', lw=0.0)"
   ]
  },
  {
   "cell_type": "code",
   "execution_count": 12,
   "id": "558e270d-5a70-47f8-8b6a-8a66291c19ce",
   "metadata": {},
   "outputs": [
    {
     "data": {
      "text/plain": [
       "('RA',\n",
       " 'DEC',\n",
       " 'REF_EPOCH',\n",
       " 'PARALLAX',\n",
       " 'PMRA',\n",
       " 'PMDEC',\n",
       " 'TARGETID',\n",
       " 'SUBPRIORITY',\n",
       " 'OBSCONDITIONS',\n",
       " 'PRIORITY_INIT',\n",
       " 'NUMOBS_INIT',\n",
       " 'NUMOBS_MORE',\n",
       " 'NUMOBS',\n",
       " 'ZWARN_MTL',\n",
       " 'ZTILEID',\n",
       " 'TARGET_STATE',\n",
       " 'TIMESTAMP',\n",
       " 'VERSION',\n",
       " 'LOCATION',\n",
       " 'TILEID',\n",
       " 'TILELOCID',\n",
       " 'CHI2',\n",
       " 'COEFF',\n",
       " 'Z',\n",
       " 'ZERR',\n",
       " 'ZWARN',\n",
       " 'NPIXELS',\n",
       " 'SPECTYPE',\n",
       " 'SUBTYPE',\n",
       " 'NCOEFF',\n",
       " 'DELTACHI2',\n",
       " 'FIBER',\n",
       " 'FIBERSTATUS',\n",
       " 'OBJTYPE',\n",
       " 'FIBERASSIGN_X',\n",
       " 'FIBERASSIGN_Y',\n",
       " 'PRIORITY',\n",
       " 'DELTA_X',\n",
       " 'DELTA_Y',\n",
       " 'EXPTIME',\n",
       " 'PSF_TO_FIBER_SPECFLUX',\n",
       " 'NIGHT',\n",
       " 'EXPID',\n",
       " 'MJD',\n",
       " 'INTEG_COADD_FLUX_B',\n",
       " 'MEDIAN_COADD_FLUX_B',\n",
       " 'MEDIAN_COADD_SNR_B',\n",
       " 'INTEG_COADD_FLUX_R',\n",
       " 'MEDIAN_COADD_FLUX_R',\n",
       " 'MEDIAN_COADD_SNR_R',\n",
       " 'INTEG_COADD_FLUX_Z',\n",
       " 'MEDIAN_COADD_FLUX_Z',\n",
       " 'MEDIAN_COADD_SNR_Z',\n",
       " 'TSNR2_ELG_B',\n",
       " 'TSNR2_LYA_B',\n",
       " 'TSNR2_BGS_B',\n",
       " 'TSNR2_QSO_B',\n",
       " 'TSNR2_LRG_B',\n",
       " 'TSNR2_ELG_R',\n",
       " 'TSNR2_LYA_R',\n",
       " 'TSNR2_BGS_R',\n",
       " 'TSNR2_QSO_R',\n",
       " 'TSNR2_LRG_R',\n",
       " 'TSNR2_ELG_Z',\n",
       " 'TSNR2_LYA_Z',\n",
       " 'TSNR2_BGS_Z',\n",
       " 'TSNR2_QSO_Z',\n",
       " 'TSNR2_LRG_Z',\n",
       " 'TSNR2_ELG',\n",
       " 'TSNR2_LYA',\n",
       " 'TSNR2_BGS',\n",
       " 'TSNR2_QSO',\n",
       " 'TSNR2_LRG',\n",
       " 'SV3_DESI_TARGET',\n",
       " 'SV3_BGS_TARGET',\n",
       " 'SV3_MWS_TARGET',\n",
       " 'FIBERFLUX_R',\n",
       " 'FLUX_G',\n",
       " 'FLUX_R',\n",
       " 'MW_TRANSMISSION_G',\n",
       " 'MW_TRANSMISSION_R',\n",
       " 'PHOTSYS',\n",
       " 'REF_CAT',\n",
       " 'BRICK_OBJID',\n",
       " 'BRICKID',\n",
       " 'CATAID',\n",
       " 'GAMA_NAME',\n",
       " 'IC_FLAG',\n",
       " 'N_SPEC',\n",
       " 'N_GAMA_SPEC',\n",
       " 'DIST',\n",
       " 'SPECID',\n",
       " 'SURVEY',\n",
       " 'SURVEY_CODE',\n",
       " 'WMIN',\n",
       " 'WMAX',\n",
       " 'NQ',\n",
       " 'PROB',\n",
       " 'FILENAME',\n",
       " 'URL',\n",
       " 'URL_IMG',\n",
       " 'ZGAMA',\n",
       " 'RELEASE',\n",
       " 'GMAG',\n",
       " 'GMAG_DRED',\n",
       " 'RMAG',\n",
       " 'RMAG_DRED',\n",
       " 'FIBER_RMAG',\n",
       " 'FIBER_RMAG_DRED',\n",
       " 'GMR',\n",
       " 'GMR_DRED',\n",
       " 'BGS_A_SUCCESS')"
      ]
     },
     "execution_count": 12,
     "metadata": {},
     "output_type": "execute_result"
    }
   ],
   "source": [
    "reachable.dtype.names"
   ]
  },
  {
   "cell_type": "markdown",
   "id": "98f736a1-e911-41c9-b201-a680387cd6cd",
   "metadata": {},
   "source": [
    "# Done"
   ]
  }
 ],
 "metadata": {
  "kernelspec": {
   "display_name": "DESI master",
   "language": "python",
   "name": "desi-master"
  },
  "language_info": {
   "codemirror_mode": {
    "name": "ipython",
    "version": 3
   },
   "file_extension": ".py",
   "mimetype": "text/x-python",
   "name": "python",
   "nbconvert_exporter": "python",
   "pygments_lexer": "ipython3",
   "version": "3.8.3"
  }
 },
 "nbformat": 4,
 "nbformat_minor": 5
}
