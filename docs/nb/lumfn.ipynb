{
 "cells": [
  {
   "cell_type": "code",
   "execution_count": 4,
   "id": "7b026ffb-1798-4b0b-898e-27ba53564ade",
   "metadata": {},
   "outputs": [],
   "source": [
    "import sys\n",
    "import numpy             as     np\n",
    "import pylab             as     pl\n",
    "import astropy.io.fits   as     fits\n",
    "\n",
    "from   astropy.table     import Table\n",
    "from   matplotlib.pyplot import figure"
   ]
  },
  {
   "cell_type": "code",
   "execution_count": 5,
   "id": "631a5419-9c75-4f5b-9672-0601e9e777f2",
   "metadata": {},
   "outputs": [],
   "source": [
    "sys.path.append('/global/homes/m/mjwilson/desi/BGS/lumfn/py/lumfn/')\n",
    "sys.path.append('/global/homes/m/mjwilson/desi/BGS/lumfn/py/')"
   ]
  },
  {
   "cell_type": "code",
   "execution_count": 6,
   "id": "e69d6afe-3928-4b04-b3d2-98c096019d66",
   "metadata": {},
   "outputs": [],
   "source": [
    "from   schechter         import schechter"
   ]
  },
  {
   "cell_type": "code",
   "execution_count": 7,
   "id": "8582e513-3e7e-46a5-b239-763062c6c120",
   "metadata": {},
   "outputs": [
    {
     "data": {
      "text/html": [
       "<i>Table length=152805</i>\n",
       "<table id=\"table46913212492240\" class=\"table-striped table-bordered table-condensed\">\n",
       "<thead><tr><th>TARGETID</th><th>ROSETTE</th><th>BGSZWEIGHT</th><th>VOLUME</th><th>MRH</th><th>ZMAX</th><th>VMAX</th><th>VONVMAX</th></tr></thead>\n",
       "<thead><tr><th>float64</th><th>float64</th><th>float64</th><th>float64</th><th>float64</th><th>float64</th><th>float64</th><th>float64</th></tr></thead>\n",
       "<tr><td>3.9627733927462344e+16</td><td>-1.0</td><td>1.0120848417282104</td><td>1587205938.226813</td><td>-19.881173918302483</td><td>0.21445029728502413</td><td>1751150191.2628093</td><td>0.9063791022300772</td></tr>\n",
       "<tr><td>3.962773392746358e+16</td><td>-1.0</td><td>1.0099681615829468</td><td>1062135142.7444754</td><td>-20.70733488751636</td><td>0.29628868288639787</td><td>5323347915.829818</td><td>0.19952390103717407</td></tr>\n",
       "<tr><td>3.962773392746381e+16</td><td>-1.0</td><td>1.0021929740905762</td><td>1078294036.807503</td><td>-21.046547705446496</td><td>0.3332149454558418</td><td>8036253965.413615</td><td>0.13417869089855283</td></tr>\n",
       "<tr><td>3.9627733927464616e+16</td><td>-1.0</td><td>1.0001806020736694</td><td>20504846.539446913</td><td>-19.680466316967664</td><td>0.19446983251551314</td><td>1258452404.9120433</td><td>0.016293700468457566</td></tr>\n",
       "<tr><td>3.962773392746479e+16</td><td>-1.0</td><td>1.0094077587127686</td><td>3671183560.927993</td><td>-20.737353369447934</td><td>0.29644961910733025</td><td>5333441628.708148</td><td>0.688332940810157</td></tr>\n",
       "<tr><td>3.962773392746541e+16</td><td>-1.0</td><td>1.0092251300811768</td><td>3210213246.6705976</td><td>-20.714648935395925</td><td>0.29262655902175044</td><td>5097454651.457259</td><td>0.629767887342139</td></tr>\n",
       "<tr><td>3.962773392746584e+16</td><td>-1.0</td><td>1.0278266668319702</td><td>6360413115.181655</td><td>-20.92749320908252</td><td>0.32988940538656114</td><td>7757216253.891779</td><td>0.8199350007795192</td></tr>\n",
       "<tr><td>3.962773393165839e+16</td><td>-1.0</td><td>1.002821922302246</td><td>321068872.47894186</td><td>-20.376518938389612</td><td>0.2757939624700396</td><td>4148911106.5300975</td><td>0.07738629829248493</td></tr>\n",
       "<tr><td>3.962773393585003e+16</td><td>-1.0</td><td>1.0646191835403442</td><td>5051541687.274428</td><td>-21.800309591388178</td><td>0.44274519177708177</td><td>22158184559.31494</td><td>0.2279763341510233</td></tr>\n",
       "<tr><td>3.962773393585026e+16</td><td>-1.0</td><td>1.0269536972045898</td><td>5005379526.833531</td><td>-20.991229823210528</td><td>0.3329808850924181</td><td>8016374836.716715</td><td>0.6243943963183732</td></tr>\n",
       "<tr><td>...</td><td>...</td><td>...</td><td>...</td><td>...</td><td>...</td><td>...</td><td>...</td></tr>\n",
       "<tr><td>3.963347051898742e+16</td><td>-1.0</td><td>1.0055047273635864</td><td>1344108700.3092365</td><td>-20.01494102974851</td><td>0.2232116072688997</td><td>2006358373.4314263</td><td>0.6699245349725034</td></tr>\n",
       "<tr><td>3.963347051898743e+16</td><td>-1.0</td><td>1.0058860778808594</td><td>5916316447.166563</td><td>-21.37918396420544</td><td>0.3702582246073692</td><td>11672702747.37179</td><td>0.5068506048009038</td></tr>\n",
       "<tr><td>3.963347051898766e+16</td><td>-1.0</td><td>1.0128265619277954</td><td>5890912874.081965</td><td>-21.450968458460547</td><td>0.38916015100681045</td><td>13940066952.9221</td><td>0.4225885638839862</td></tr>\n",
       "<tr><td>3.963347051898783e+16</td><td>-1.0</td><td>1.0114359855651855</td><td>66345747.02451493</td><td>-17.530565030926002</td><td>0.07906007549237955</td><td>66937032.04014024</td><td>0.9911665486561947</td></tr>\n",
       "<tr><td>3.963347052317962e+16</td><td>-1.0</td><td>1.0018601417541504</td><td>2354821854.67985</td><td>-21.04876188867933</td><td>0.3294473452024118</td><td>7720672466.154501</td><td>0.30500216982429973</td></tr>\n",
       "<tr><td>3.96334705231799e+16</td><td>-1.0</td><td>1.0106806755065918</td><td>2740101124.637729</td><td>-20.21325261416125</td><td>0.24111721864109162</td><td>2611177984.971432</td><td>1.0493735549274354</td></tr>\n",
       "<tr><td>3.963347052318041e+16</td><td>-1.0</td><td>1.0085970163345337</td><td>2930440872.5261884</td><td>-21.93092143252822</td><td>0.44261799630117965</td><td>22135201619.116722</td><td>0.13238826205203202</td></tr>\n",
       "<tr><td>3.963347052318047e+16</td><td>-1.0</td><td>1.0062944889068604</td><td>5455679472.838845</td><td>-20.752474035412316</td><td>0.2978752802555328</td><td>5423475825.712224</td><td>1.0059378244066188</td></tr>\n",
       "<tr><td>3.963347052318103e+16</td><td>-1.0</td><td>1.001697063446045</td><td>2361626816.922837</td><td>-21.020076883312147</td><td>0.32369219972057095</td><td>7256461235.023324</td><td>0.3254515858948492</td></tr>\n",
       "<tr><td>3.963347052318115e+16</td><td>-1.0</td><td>1.0055567026138306</td><td>893478502.9773248</td><td>-19.838347589933466</td><td>0.21703500883401422</td><td>1823815229.2532809</td><td>0.4898952967637731</td></tr>\n",
       "</table>"
      ],
      "text/plain": [
       "<Table length=152805>\n",
       "       TARGETID        ROSETTE ...        VMAX              VONVMAX       \n",
       "       float64         float64 ...      float64             float64       \n",
       "---------------------- ------- ... ------------------ --------------------\n",
       "3.9627733927462344e+16    -1.0 ... 1751150191.2628093   0.9063791022300772\n",
       " 3.962773392746358e+16    -1.0 ...  5323347915.829818  0.19952390103717407\n",
       " 3.962773392746381e+16    -1.0 ...  8036253965.413615  0.13417869089855283\n",
       "3.9627733927464616e+16    -1.0 ... 1258452404.9120433 0.016293700468457566\n",
       " 3.962773392746479e+16    -1.0 ...  5333441628.708148    0.688332940810157\n",
       " 3.962773392746541e+16    -1.0 ...  5097454651.457259    0.629767887342139\n",
       " 3.962773392746584e+16    -1.0 ...  7757216253.891779   0.8199350007795192\n",
       " 3.962773393165839e+16    -1.0 ... 4148911106.5300975  0.07738629829248493\n",
       " 3.962773393585003e+16    -1.0 ...  22158184559.31494   0.2279763341510233\n",
       " 3.962773393585026e+16    -1.0 ...  8016374836.716715   0.6243943963183732\n",
       "                   ...     ... ...                ...                  ...\n",
       " 3.963347051898742e+16    -1.0 ... 2006358373.4314263   0.6699245349725034\n",
       " 3.963347051898743e+16    -1.0 ...  11672702747.37179   0.5068506048009038\n",
       " 3.963347051898766e+16    -1.0 ...   13940066952.9221   0.4225885638839862\n",
       " 3.963347051898783e+16    -1.0 ...  66937032.04014024   0.9911665486561947\n",
       " 3.963347052317962e+16    -1.0 ...  7720672466.154501  0.30500216982429973\n",
       "  3.96334705231799e+16    -1.0 ...  2611177984.971432   1.0493735549274354\n",
       " 3.963347052318041e+16    -1.0 ... 22135201619.116722  0.13238826205203202\n",
       " 3.963347052318047e+16    -1.0 ...  5423475825.712224   1.0059378244066188\n",
       " 3.963347052318103e+16    -1.0 ...  7256461235.023324   0.3254515858948492\n",
       " 3.963347052318115e+16    -1.0 ... 1823815229.2532809   0.4898952967637731"
      ]
     },
     "execution_count": 7,
     "metadata": {},
     "output_type": "execute_result"
    }
   ],
   "source": [
    "derived = Table.read('/global/cscratch1/sd/mjwilson/desi/BGS/lumfn/bright_sv3_derived.fits')\n",
    "derived"
   ]
  },
  {
   "cell_type": "code",
   "execution_count": 8,
   "id": "8a7ee063-b221-437b-978d-2e59981d7e69",
   "metadata": {},
   "outputs": [],
   "source": [
    "derived['PHIKERNEL']   = 1. / derived['VMAX']\n",
    "# derived['PHIKERNEL'] = derived['BGSZWEIGHT'] / derived['VMAX']"
   ]
  },
  {
   "cell_type": "code",
   "execution_count": 12,
   "id": "b325e714-0a07-4a96-b228-5fc7f5866c09",
   "metadata": {},
   "outputs": [],
   "source": [
    "derived['MRH_IDX']     = np.digitize(derived['MRH'], bins=np.arange(-24.0, -14.0, 0.5))\n",
    "\n",
    "derived_grouped        = derived.group_by(['MRH_IDX'])\n",
    "derived_addbinned      = derived_grouped['BGSZWEIGHT', 'MRH', 'PHIKERNEL'].groups.aggregate(np.add)\n",
    "derived_mnbinned       = derived_grouped['BGSZWEIGHT', 'MRH', 'PHIKERNEL'].groups.aggregate(np.mean)"
   ]
  },
  {
   "cell_type": "code",
   "execution_count": 17,
   "id": "15a8a95b-0ae0-45af-b14f-bd105428ad5d",
   "metadata": {},
   "outputs": [
    {
     "data": {
      "text/plain": [
       "Text(0, 0.5, '$\\\\Phi(M_r - 5\\\\log_{10}|h|)$')"
      ]
     },
     "execution_count": 17,
     "metadata": {},
     "output_type": "execute_result"
    },
    {
     "data": {
      "image/png": "[encoded data removed]",
      "text/plain": [
       "<Figure size 432x288 with 1 Axes>"
      ]
     },
     "metadata": {
      "needs_background": "light"
     },
     "output_type": "display_data"
    }
   ],
   "source": [
    "Ms                     = np.arange(-24., -13., 0.01)\n",
    "\n",
    "pl.plot(derived_mnbinned['MRH'], np.log10(derived_addbinned['PHIKERNEL']), marker='.', c='k', lw=0.1)\n",
    "pl.plot(Ms, np.log10(schechter(Ms)), c='c', lw=0.25)\n",
    "\n",
    "pl.xlabel(r'$M_r - 5\\log_{10}|h|$')\n",
    "pl.ylabel(r'$\\Phi(M_r - 5\\log_{10}|h|)$')"
   ]
  },
  {
   "cell_type": "markdown",
   "id": "f27440e5-ddbb-46ae-bc0d-592902c83b4b",
   "metadata": {},
   "source": [
    "# Done."
   ]
  }
 ],
 "metadata": {
  "kernelspec": {
   "display_name": "DESI master",
   "language": "python",
   "name": "desi-master"
  },
  "language_info": {
   "codemirror_mode": {
    "name": "ipython",
    "version": 3
   },
   "file_extension": ".py",
   "mimetype": "text/x-python",
   "name": "python",
   "nbconvert_exporter": "python",
   "pygments_lexer": "ipython3",
   "version": "3.8.3"
  }
 },
 "nbformat": 4,
 "nbformat_minor": 5
}
