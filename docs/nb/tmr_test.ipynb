{
 "cells": [
  {
   "cell_type": "code",
   "execution_count": 1,
   "id": "21fe3a15-271e-4845-b041-61f15c860eb7",
   "metadata": {},
   "outputs": [],
   "source": [
    "import sys\n",
    "import numpy                as     np\n",
    "import pylab                as     pl\n",
    "import astropy.io.fits      as     fits\n",
    "import matplotlib           as     mpl\n",
    "import matplotlib.pyplot    as     plt\n",
    "import astropy.io.fits      as     fits\n",
    "import scipy.integrate      as     integrate\n",
    "\n",
    "from   astropy.table        import Table\n",
    "from   matplotlib.pyplot    import figure"
   ]
  },
  {
   "cell_type": "code",
   "execution_count": 2,
   "id": "f0a7e927-5539-4c57-bee1-f0751055656b",
   "metadata": {},
   "outputs": [],
   "source": [
    "sys.path.append('/global/homes/m/mjwilson/desi/BGS/lumfn/py/lumfn/')\n",
    "sys.path.append('/global/homes/m/mjwilson/desi/BGS/lumfn/py/')"
   ]
  },
  {
   "cell_type": "code",
   "execution_count": 3,
   "id": "005f82e8-2ed1-4ea8-9cfb-946c807f6c16",
   "metadata": {},
   "outputs": [],
   "source": [
    "sys.path.append('/global/homes/m/mjwilson/desi/LSS/bin/')\n",
    "sys.path.append('/global/homes/m/mjwilson/desi/LSS/py/')"
   ]
  },
  {
   "cell_type": "code",
   "execution_count": 6,
   "id": "a71b6ad7-bfc7-4eb6-a5e5-01f6422cc60d",
   "metadata": {},
   "outputs": [],
   "source": [
    "from   SV3.define_sample    import define_sample\n",
    "from   params               import params\n",
    "from   LSS.SV3.cattools     import tile2rosette, calc_rosr\n",
    "from   numpy.random         import randint\n",
    "from   abs_mag              import abs_mag\n",
    "from   ajs_kcorr            import ajs_kcorr"
   ]
  },
  {
   "cell_type": "code",
   "execution_count": 7,
   "id": "f9d0795e-22b6-43ad-927d-829f9b8b3d30",
   "metadata": {},
   "outputs": [],
   "source": [
    "x = ajs_kcorr()"
   ]
  },
  {
   "cell_type": "code",
   "execution_count": 17,
   "id": "9ac9c477-14df-41dd-9b8b-b4c2c799f3e9",
   "metadata": {},
   "outputs": [],
   "source": [
    "rpetro  = 19.8"
   ]
  },
  {
   "cell_type": "code",
   "execution_count": 18,
   "id": "2b379675-ad73-4226-9c44-c74b40250b36",
   "metadata": {},
   "outputs": [],
   "source": [
    "obs_gmr = 1.00"
   ]
  },
  {
   "cell_type": "code",
   "execution_count": 21,
   "id": "e250cad3-334e-4853-a40f-927e7198cd9a",
   "metadata": {},
   "outputs": [
    {
     "data": {
      "text/plain": [
       "Text(0, 0.5, 'Absolute magnitude')"
      ]
     },
     "execution_count": 21,
     "metadata": {},
     "output_type": "execute_result"
    },
    {
     "data": {
      "image/png": "[encoded data removed]",
      "text/plain": [
       "<Figure size 432x288 with 1 Axes>"
      ]
     },
     "metadata": {
      "needs_background": "light"
     },
     "output_type": "display_data"
    }
   ],
   "source": [
    "for zz in np.arange(0.1, 0.5, 0.01):\n",
    "    MM     = abs_mag(x, rpetro, obs_gmr, zz, band='r', ref_gmr=None, tmr=False)\n",
    "    MM_TMR = abs_mag(x, rpetro, obs_gmr, zz, band='r', ref_gmr=None, tmr=True)\n",
    "    \n",
    "    pl.plot(zz, MM,     marker='.', c='c')\n",
    "    pl.plot(zz, MM_TMR, marker='.', c='magenta')\n",
    "\n",
    "pl.xlabel('z')\n",
    "pl.ylabel('Absolute magnitude')"
   ]
  },
  {
   "cell_type": "markdown",
   "id": "a0e135f9-94c4-4337-bd8c-d6a876f4a70c",
   "metadata": {},
   "source": [
    "# Done."
   ]
  }
 ],
 "metadata": {
  "kernelspec": {
   "display_name": "DESI master",
   "language": "python",
   "name": "desi-master"
  },
  "language_info": {
   "codemirror_mode": {
    "name": "ipython",
    "version": 3
   },
   "file_extension": ".py",
   "mimetype": "text/x-python",
   "name": "python",
   "nbconvert_exporter": "python",
   "pygments_lexer": "ipython3",
   "version": "3.8.3"
  }
 },
 "nbformat": 4,
 "nbformat_minor": 5
}
