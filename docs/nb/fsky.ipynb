{
 "cells": [
  {
   "cell_type": "code",
   "execution_count": 13,
   "id": "f6553c4d-1ce0-4b1a-aeb9-02d35def4db1",
   "metadata": {},
   "outputs": [],
   "source": [
    "import fitsio\n",
    "import matplotlib\n",
    "\n",
    "import pylab             as pl\n",
    "import numpy             as np\n",
    "\n",
    "import matplotlib        as mpl\n",
    "import matplotlib.pylab  as plt\n",
    "import astropy.io.fits   as fits\n",
    "\n",
    "from   matplotlib.pyplot import figure\n",
    "from   astropy.table     import Table, vstack"
   ]
  },
  {
   "cell_type": "code",
   "execution_count": 2,
   "id": "033782fb-01c8-4b6c-9939-709ec45eacf8",
   "metadata": {},
   "outputs": [],
   "source": [
    "# hdr  = fits.open('/project/projectdirs/desi/target/catalogs/dr9/0.49.0/randoms/resolve/randoms-1-3.fits')[1].header \n",
    "# hdr"
   ]
  },
  {
   "cell_type": "code",
   "execution_count": 3,
   "id": "b7ff357c-20a9-47a7-a8b9-64a4d2654769",
   "metadata": {},
   "outputs": [
    {
     "data": {
      "text/html": [
       "<i>Table length=6391665</i>\n",
       "<table id=\"table46912564310608\" class=\"table-striped table-bordered table-condensed\">\n",
       "<thead><tr><th>LOCATION</th><th>FIBER</th><th>TARGETID</th><th>RA</th><th>DEC</th><th>TILEID</th><th>ZWARN</th><th>FIBERSTATUS</th><th>FIBERASSIGN_X</th><th>FIBERASSIGN_Y</th><th>PRIORITY</th><th>DELTA_X</th><th>DELTA_Y</th><th>EXPTIME</th><th>PSF_TO_FIBER_SPECFLUX</th><th>TSNR2_ELG_B</th><th>TSNR2_LYA_B</th><th>TSNR2_BGS_B</th><th>TSNR2_QSO_B</th><th>TSNR2_LRG_B</th><th>TSNR2_ELG_R</th><th>TSNR2_LYA_R</th><th>TSNR2_BGS_R</th><th>TSNR2_QSO_R</th><th>TSNR2_LRG_R</th><th>TSNR2_ELG_Z</th><th>TSNR2_LYA_Z</th><th>TSNR2_BGS_Z</th><th>TSNR2_QSO_Z</th><th>TSNR2_LRG_Z</th><th>TSNR2_ELG</th><th>TSNR2_LYA</th><th>TSNR2_BGS</th><th>TSNR2_QSO</th><th>TSNR2_LRG</th><th>TILELOCID</th><th>NTILE</th><th>TILES</th><th>TILELOCIDS</th><th>RELEASE</th><th>BRICKID</th><th>BRICKNAME</th><th>BRICK_OBJID</th><th>NOBS_G</th><th>NOBS_R</th><th>NOBS_Z</th><th>PSFDEPTH_G</th><th>PSFDEPTH_R</th><th>PSFDEPTH_Z</th><th>GALDEPTH_G</th><th>GALDEPTH_R</th><th>GALDEPTH_Z</th><th>PSFDEPTH_W1</th><th>PSFDEPTH_W2</th><th>PSFSIZE_G</th><th>PSFSIZE_R</th><th>PSFSIZE_Z</th><th>APFLUX_G</th><th>APFLUX_R</th><th>APFLUX_Z</th><th>APFLUX_IVAR_G</th><th>APFLUX_IVAR_R</th><th>APFLUX_IVAR_Z</th><th>MASKBITS</th><th>WISEMASK_W1</th><th>WISEMASK_W2</th><th>EBV</th><th>PHOTSYS</th><th>HPXPIXEL</th><th>rosette_number</th></tr></thead>\n",
       "<thead><tr><th>int64</th><th>int32</th><th>int64</th><th>float64</th><th>float64</th><th>int64</th><th>int64</th><th>int32</th><th>float32</th><th>float32</th><th>int32</th><th>float64</th><th>float64</th><th>float64</th><th>float64</th><th>float32</th><th>float32</th><th>float32</th><th>float32</th><th>float32</th><th>float32</th><th>float32</th><th>float32</th><th>float32</th><th>float32</th><th>float32</th><th>float32</th><th>float32</th><th>float32</th><th>float32</th><th>float32</th><th>float32</th><th>float32</th><th>float32</th><th>float32</th><th>int64</th><th>int64</th><th>bytes43</th><th>bytes135</th><th>int16</th><th>int32</th><th>bytes8</th><th>int32</th><th>int16</th><th>int16</th><th>int16</th><th>float32</th><th>float32</th><th>float32</th><th>float32</th><th>float32</th><th>float32</th><th>float32</th><th>float32</th><th>float32</th><th>float32</th><th>float32</th><th>float32</th><th>float32</th><th>float32</th><th>float32</th><th>float32</th><th>float32</th><th>int16</th><th>uint8</th><th>uint8</th><th>float32</th><th>bytes1</th><th>int64</th><th>int64</th></tr></thead>\n",
       "<tr><td>1440</td><td>522</td><td>327858110079172735</td><td>212.1726654828246</td><td>-2.213858999176909</td><td>532</td><td>0</td><td>0</td><td>145.67825</td><td>-381.00446</td><td>102100</td><td>-0.004</td><td>0.001</td><td>329.2138</td><td>0.7422230155300532</td><td>0.012891966</td><td>6.6185737</td><td>103.800354</td><td>0.37703168</td><td>0.15484843</td><td>5.286113</td><td>0.006989476</td><td>469.0452</td><td>0.8593651</td><td>7.450601</td><td>17.405054</td><td>0.0</td><td>1005.6463</td><td>4.316401</td><td>9.283574</td><td>22.70406</td><td>6.625563</td><td>1578.4918</td><td>5.552798</td><td>16.889023</td><td>5321440</td><td>1</td><td>532</td><td>5321440</td><td>9010</td><td>318256</td><td>2121m022</td><td>127</td><td>3</td><td>3</td><td>3</td><td>1468.5903</td><td>653.20154</td><td>106.44258</td><td>969.49426</td><td>422.35315</td><td>60.554398</td><td>3.156148</td><td>0.8491655</td><td>1.5549871</td><td>1.5580441</td><td>1.3689809</td><td>-0.0033589373</td><td>0.003794812</td><td>-0.009939476</td><td>67243.69</td><td>29564.49</td><td>3732.8752</td><td>0</td><td>0</td><td>0</td><td>0.059691902</td><td>S</td><td>25915</td><td>17</td></tr>\n",
       "<tr><td>1395</td><td>528</td><td>327858110079172743</td><td>212.22945981442987</td><td>-2.14287284002992</td><td>532</td><td>0</td><td>0</td><td>137.10437</td><td>-361.0921</td><td>102000</td><td>0.001</td><td>-0.002</td><td>329.2138</td><td>0.7285334809892414</td><td>0.013086323</td><td>6.754296</td><td>105.515015</td><td>0.38317767</td><td>0.15764071</td><td>5.420089</td><td>0.0071150055</td><td>481.2664</td><td>0.8806911</td><td>7.6458187</td><td>18.33165</td><td>0.0</td><td>1053.8057</td><td>4.5340877</td><td>9.754057</td><td>23.764826</td><td>6.7614107</td><td>1640.587</td><td>5.7979565</td><td>17.557516</td><td>5321395</td><td>2</td><td>529-532</td><td>5291419-5321395</td><td>9010</td><td>318256</td><td>2121m022</td><td>135</td><td>3</td><td>3</td><td>2</td><td>1455.326</td><td>661.9058</td><td>61.81126</td><td>959.8502</td><td>428.235</td><td>36.68388</td><td>2.9221454</td><td>0.88620573</td><td>1.553982</td><td>1.558887</td><td>1.4705592</td><td>0.00070738554</td><td>-0.002099352</td><td>-0.0070164585</td><td>66027.24</td><td>30188.512</td><td>2505.3293</td><td>0</td><td>0</td><td>0</td><td>0.05842616</td><td>S</td><td>25915</td><td>17</td></tr>\n",
       "<tr><td>1442</td><td>515</td><td>327858110079172783</td><td>212.13874071814874</td><td>-2.1406283698205977</td><td>532</td><td>0</td><td>0</td><td>159.9167</td><td>-360.7208</td><td>102100</td><td>-0.003</td><td>-0.0</td><td>329.2138</td><td>0.7250493309558984</td><td>0.013628212</td><td>7.094321</td><td>109.622696</td><td>0.40032744</td><td>0.16285975</td><td>5.484065</td><td>0.007271832</td><td>486.65622</td><td>0.8906726</td><td>7.714434</td><td>17.933203</td><td>0.0</td><td>1025.0463</td><td>4.4246182</td><td>9.502515</td><td>23.430895</td><td>7.1015925</td><td>1621.3252</td><td>5.7156186</td><td>17.379808</td><td>5321442</td><td>2</td><td>529-532</td><td>5291463-5321442</td><td>9010</td><td>318256</td><td>2121m022</td><td>175</td><td>1</td><td>1</td><td>2</td><td>452.8856</td><td>229.84341</td><td>61.867813</td><td>318.3252</td><td>162.75418</td><td>36.682972</td><td>3.1257746</td><td>0.89180344</td><td>1.6538829</td><td>1.6974498</td><td>1.4723556</td><td>0.0034503394</td><td>-0.00030832939</td><td>-0.014237928</td><td>24112.143</td><td>13318.067</td><td>2530.6655</td><td>0</td><td>0</td><td>0</td><td>0.059723023</td><td>S</td><td>25915</td><td>17</td></tr>\n",
       "<tr><td>1416</td><td>510</td><td>327858110079172848</td><td>212.23929649651288</td><td>-2.2124549257477653</td><td>532</td><td>0</td><td>0</td><td>134.87805</td><td>-384.157</td><td>102000</td><td>-0.002</td><td>0.004</td><td>329.2138</td><td>0.7518539532647188</td><td>0.011317743</td><td>5.964634</td><td>90.639694</td><td>0.33353806</td><td>0.13393006</td><td>4.6476746</td><td>0.0062339627</td><td>412.05966</td><td>0.7552891</td><td>6.5286055</td><td>15.436826</td><td>0.0</td><td>900.34344</td><td>3.8471565</td><td>8.273834</td><td>20.09582</td><td>5.970868</td><td>1403.0428</td><td>4.9359837</td><td>14.93637</td><td>5321416</td><td>1</td><td>532</td><td>5321416</td><td>9010</td><td>318256</td><td>2121m022</td><td>240</td><td>3</td><td>3</td><td>3</td><td>1468.5903</td><td>653.20154</td><td>106.44258</td><td>969.49426</td><td>422.35315</td><td>60.554398</td><td>3.2958848</td><td>0.9645412</td><td>1.5549871</td><td>1.5580441</td><td>1.3689809</td><td>-0.0044644843</td><td>-0.007041763</td><td>0.026152426</td><td>68522.76</td><td>30044.086</td><td>3722.1548</td><td>0</td><td>0</td><td>0</td><td>0.05858564</td><td>S</td><td>25915</td><td>17</td></tr>\n",
       "<tr><td>1394</td><td>503</td><td>327858110079172907</td><td>212.1968655318662</td><td>-2.154741758342564</td><td>526</td><td>0</td><td>0</td><td>130.51788</td><td>-369.10092</td><td>102100</td><td>0.005</td><td>0.0</td><td>313.4244</td><td>0.7451273001903959</td><td>0.016516749</td><td>8.968997</td><td>129.75508</td><td>0.49080765</td><td>0.19070984</td><td>5.5857215</td><td>0.00785669</td><td>509.55792</td><td>0.92047894</td><td>7.8845816</td><td>17.62272</td><td>0.0</td><td>973.9153</td><td>4.2664137</td><td>9.177276</td><td>23.22496</td><td>8.976854</td><td>1613.2283</td><td>5.6777</td><td>17.252567</td><td>5261394</td><td>2</td><td>526-529</td><td>5261394-5291442</td><td>9010</td><td>318256</td><td>2121m022</td><td>299</td><td>2</td><td>2</td><td>3</td><td>1002.24347</td><td>417.94556</td><td>105.62699</td><td>651.71643</td><td>260.35422</td><td>60.032036</td><td>3.122884</td><td>0.8668179</td><td>1.5371926</td><td>1.5082215</td><td>1.3676476</td><td>0.004075009</td><td>0.0035345</td><td>0.0115297735</td><td>43525.746</td><td>17748.1</td><td>3722.0994</td><td>0</td><td>0</td><td>0</td><td>0.059153218</td><td>S</td><td>25915</td><td>17</td></tr>\n",
       "<tr><td>1463</td><td>523</td><td>327858110079172986</td><td>212.10797563190857</td><td>-2.145241938156949</td><td>532</td><td>0</td><td>0</td><td>175.50546</td><td>-366.08752</td><td>102100</td><td>-0.004</td><td>0.001</td><td>329.2138</td><td>0.7514636097863017</td><td>0.013547539</td><td>7.073917</td><td>109.063484</td><td>0.39787793</td><td>0.16146766</td><td>5.505917</td><td>0.007272676</td><td>489.47827</td><td>0.8947302</td><td>7.7659473</td><td>18.000463</td><td>0.0</td><td>1035.9039</td><td>4.453982</td><td>9.583865</td><td>23.519928</td><td>7.0811896</td><td>1634.4458</td><td>5.74659</td><td>17.51128</td><td>5321463</td><td>1</td><td>532</td><td>5321442-5321463</td><td>9010</td><td>318256</td><td>2121m022</td><td>378</td><td>3</td><td>3</td><td>2</td><td>1462.4911</td><td>668.6921</td><td>61.867813</td><td>965.37305</td><td>431.55347</td><td>36.682972</td><td>3.1653917</td><td>0.8811726</td><td>1.5552416</td><td>1.5542562</td><td>1.4723556</td><td>0.0019987815</td><td>0.0075585763</td><td>0.0076416745</td><td>64714.48</td><td>29365.85</td><td>2483.9692</td><td>0</td><td>0</td><td>0</td><td>0.059616234</td><td>S</td><td>25915</td><td>17</td></tr>\n",
       "<tr><td>1463</td><td>523</td><td>327858110079173235</td><td>212.08564870716407</td><td>-2.16440309169709</td><td>532</td><td>0</td><td>0</td><td>175.50546</td><td>-366.08752</td><td>102100</td><td>-0.004</td><td>0.001</td><td>329.2138</td><td>0.7514636097863017</td><td>0.013547539</td><td>7.073917</td><td>109.063484</td><td>0.39787793</td><td>0.16146766</td><td>5.505917</td><td>0.007272676</td><td>489.47827</td><td>0.8947302</td><td>7.7659473</td><td>18.000463</td><td>0.0</td><td>1035.9039</td><td>4.453982</td><td>9.583865</td><td>23.519928</td><td>7.0811896</td><td>1634.4458</td><td>5.74659</td><td>17.51128</td><td>5321463</td><td>1</td><td>532</td><td>5321463</td><td>9010</td><td>318256</td><td>2121m022</td><td>627</td><td>3</td><td>3</td><td>3</td><td>1477.6008</td><td>668.58185</td><td>106.70684</td><td>977.00604</td><td>431.93616</td><td>60.5422</td><td>3.3414521</td><td>0.91281265</td><td>1.558352</td><td>1.5556301</td><td>1.3675318</td><td>0.00054107816</td><td>-0.0005063181</td><td>0.0018825122</td><td>69890.14</td><td>31607.057</td><td>3726.474</td><td>0</td><td>0</td><td>0</td><td>0.05942284</td><td>S</td><td>25915</td><td>17</td></tr>\n",
       "<tr><td>1417</td><td>500</td><td>327858110079173308</td><td>212.21487306492872</td><td>-2.174558052141941</td><td>532</td><td>0</td><td>0</td><td>137.62112</td><td>-374.37936</td><td>102100</td><td>-0.002</td><td>-0.0</td><td>329.2138</td><td>0.739646185281198</td><td>0.010693744</td><td>5.59007</td><td>86.00996</td><td>0.31459415</td><td>0.12728533</td><td>4.461305</td><td>0.0060118134</td><td>396.47223</td><td>0.7259013</td><td>6.282581</td><td>14.70453</td><td>0.0</td><td>852.19104</td><td>3.6451964</td><td>7.8750057</td><td>19.176529</td><td>5.5960817</td><td>1334.6732</td><td>4.685692</td><td>14.284872</td><td>5321417</td><td>2</td><td>529-532</td><td>5291441-5321417</td><td>9010</td><td>318256</td><td>2121m022</td><td>700</td><td>3</td><td>3</td><td>2</td><td>1471.1139</td><td>659.4817</td><td>84.51169</td><td>970.9596</td><td>426.79453</td><td>44.652218</td><td>3.2559617</td><td>0.8922006</td><td>1.5539751</td><td>1.5591148</td><td>1.3676476</td><td>-0.0009512471</td><td>0.0027775408</td><td>-0.0071050613</td><td>66666.66</td><td>29779.564</td><td>2274.7375</td><td>0</td><td>0</td><td>0</td><td>0.058846246</td><td>S</td><td>25915</td><td>17</td></tr>\n",
       "<tr><td>1463</td><td>523</td><td>327858110079173407</td><td>212.1001513277745</td><td>-2.131925993903773</td><td>532</td><td>0</td><td>0</td><td>175.50546</td><td>-366.08752</td><td>102100</td><td>-0.004</td><td>0.001</td><td>329.2138</td><td>0.7514636097863017</td><td>0.013547539</td><td>7.073917</td><td>109.063484</td><td>0.39787793</td><td>0.16146766</td><td>5.505917</td><td>0.007272676</td><td>489.47827</td><td>0.8947302</td><td>7.7659473</td><td>18.000463</td><td>0.0</td><td>1035.9039</td><td>4.453982</td><td>9.583865</td><td>23.519928</td><td>7.0811896</td><td>1634.4458</td><td>5.74659</td><td>17.51128</td><td>5321463</td><td>1</td><td>532</td><td>5321443-5321463</td><td>9010</td><td>318256</td><td>2121m022</td><td>799</td><td>3</td><td>3</td><td>3</td><td>1462.4911</td><td>668.6921</td><td>105.995514</td><td>965.37305</td><td>431.55347</td><td>59.898125</td><td>3.268364</td><td>0.893195</td><td>1.5552416</td><td>1.5542562</td><td>1.3619357</td><td>0.004006578</td><td>-0.00929393</td><td>0.0071540796</td><td>65350.32</td><td>30815.277</td><td>3691.1514</td><td>0</td><td>0</td><td>0</td><td>0.05930652</td><td>S</td><td>25915</td><td>17</td></tr>\n",
       "<tr><td>1419</td><td>529</td><td>327858110079173471</td><td>212.17849861096568</td><td>-2.1367575207651583</td><td>532</td><td>0</td><td>0</td><td>148.20895</td><td>-359.23773</td><td>101400</td><td>0.0</td><td>0.001</td><td>329.2138</td><td>0.7889999999999997</td><td>0.01334705</td><td>6.911783</td><td>107.71143</td><td>0.39111602</td><td>0.15994567</td><td>5.382297</td><td>0.0071001705</td><td>478.08582</td><td>0.87425315</td><td>7.591208</td><td>18.264109</td><td>0.0</td><td>1051.6693</td><td>4.512307</td><td>9.733478</td><td>23.659754</td><td>6.9188833</td><td>1637.4666</td><td>5.7776766</td><td>17.48463</td><td>5321419</td><td>4</td><td>526-529-532-534</td><td>5261395-5291442-5321419-5341416</td><td>9010</td><td>318256</td><td>2121m022</td><td>863</td><td>3</td><td>3</td><td>3</td><td>1455.326</td><td>661.9058</td><td>105.93896</td><td>959.8502</td><td>428.235</td><td>59.899033</td><td>3.0227706</td><td>0.8811726</td><td>1.553982</td><td>1.558887</td><td>1.3607417</td><td>0.0006488589</td><td>0.0035876338</td><td>-0.010819012</td><td>66316.13</td><td>30247.201</td><td>3697.497</td><td>0</td><td>0</td><td>0</td><td>0.05922521</td><td>S</td><td>25915</td><td>17</td></tr>\n",
       "<tr><td>...</td><td>...</td><td>...</td><td>...</td><td>...</td><td>...</td><td>...</td><td>...</td><td>...</td><td>...</td><td>...</td><td>...</td><td>...</td><td>...</td><td>...</td><td>...</td><td>...</td><td>...</td><td>...</td><td>...</td><td>...</td><td>...</td><td>...</td><td>...</td><td>...</td><td>...</td><td>...</td><td>...</td><td>...</td><td>...</td><td>...</td><td>...</td><td>...</td><td>...</td><td>...</td><td>...</td><td>...</td><td>...</td><td>...</td><td>...</td><td>...</td><td>...</td><td>...</td><td>...</td><td>...</td><td>...</td><td>...</td><td>...</td><td>...</td><td>...</td><td>...</td><td>...</td><td>...</td><td>...</td><td>...</td><td>...</td><td>...</td><td>...</td><td>...</td><td>...</td><td>...</td><td>...</td><td>...</td><td>...</td><td>...</td><td>...</td><td>...</td><td>...</td><td>...</td><td>...</td></tr>\n",
       "<tr><td>5511</td><td>2576</td><td>327863846674892163</td><td>270.375679674178</td><td>67.6574255686648</td><td>426</td><td>0</td><td>0</td><td>-60.84797</td><td>386.0366</td><td>102000</td><td>-0.004</td><td>0.013</td><td>499.002</td><td>0.7192448243849214</td><td>0.02028265</td><td>11.497253</td><td>152.57999</td><td>0.60513544</td><td>0.23430422</td><td>3.4935868</td><td>0.007852176</td><td>336.16962</td><td>0.5924718</td><td>4.982177</td><td>18.98484</td><td>0.0</td><td>823.2413</td><td>4.162306</td><td>8.693466</td><td>22.49871</td><td>11.505105</td><td>1311.9908</td><td>5.359913</td><td>13.909947</td><td>4265511</td><td>2</td><td>418-426</td><td>4185526-4265511</td><td>9011</td><td>637391</td><td>2706p677</td><td>1411</td><td>3</td><td>3</td><td>5</td><td>628.1504</td><td>220.72115</td><td>114.771484</td><td>471.75735</td><td>163.51672</td><td>62.329018</td><td>14.191506</td><td>11.1071205</td><td>2.0035512</td><td>2.0138888</td><td>1.1763225</td><td>-0.0021243726</td><td>-0.00049187685</td><td>0.0055239284</td><td>131300.88</td><td>46993.543</td><td>2921.1118</td><td>0</td><td>0</td><td>0</td><td>0.050094347</td><td>N</td><td>16043</td><td>15</td></tr>\n",
       "<tr><td>5524</td><td>2568</td><td>327863846674892373</td><td>270.46692754429415</td><td>67.67204338076557</td><td>420</td><td>0</td><td>0</td><td>-57.024292</td><td>399.03305</td><td>101500</td><td>0.0</td><td>-0.004</td><td>233.2401</td><td>0.7889999999999998</td><td>0.015292788</td><td>7.867576</td><td>116.095764</td><td>0.44397068</td><td>0.18587169</td><td>3.1604717</td><td>0.008184469</td><td>324.1393</td><td>0.553769</td><td>4.5362744</td><td>18.431292</td><td>0.0</td><td>851.76965</td><td>4.1665106</td><td>8.722509</td><td>21.607056</td><td>7.8757606</td><td>1292.0048</td><td>5.1642504</td><td>13.444655</td><td>4205524</td><td>2</td><td>420-426</td><td>4205524-4265526</td><td>9011</td><td>637391</td><td>2706p677</td><td>1621</td><td>4</td><td>4</td><td>3</td><td>935.51154</td><td>309.41544</td><td>61.09208</td><td>691.9915</td><td>223.68893</td><td>34.419495</td><td>13.603879</td><td>10.823228</td><td>1.9353366</td><td>1.9045484</td><td>1.2235538</td><td>0.0020280827</td><td>0.008388027</td><td>0.029692868</td><td>187305.92</td><td>58771.02</td><td>1698.1774</td><td>0</td><td>0</td><td>0</td><td>0.049778987</td><td>N</td><td>16043</td><td>15</td></tr>\n",
       "<tr><td>5524</td><td>2568</td><td>327863846674892615</td><td>270.432077306415</td><td>67.69408232763578</td><td>420</td><td>0</td><td>0</td><td>-57.024292</td><td>399.03305</td><td>101500</td><td>0.0</td><td>-0.004</td><td>233.2401</td><td>0.7889999999999998</td><td>0.015292788</td><td>7.867576</td><td>116.095764</td><td>0.44397068</td><td>0.18587169</td><td>3.1604717</td><td>0.008184469</td><td>324.1393</td><td>0.553769</td><td>4.5362744</td><td>18.431292</td><td>0.0</td><td>851.76965</td><td>4.1665106</td><td>8.722509</td><td>21.607056</td><td>7.8757606</td><td>1292.0048</td><td>5.1642504</td><td>13.444655</td><td>4205524</td><td>1</td><td>420</td><td>4205524</td><td>9011</td><td>637391</td><td>2706p677</td><td>1863</td><td>4</td><td>4</td><td>4</td><td>935.51154</td><td>309.41544</td><td>80.26317</td><td>691.9915</td><td>223.68893</td><td>45.373104</td><td>11.329798</td><td>8.793872</td><td>1.9353366</td><td>1.9045484</td><td>1.2263232</td><td>0.004537956</td><td>0.0019717035</td><td>0.0072086835</td><td>184543.33</td><td>59527.59</td><td>2180.7917</td><td>0</td><td>0</td><td>0</td><td>0.05019596</td><td>N</td><td>16043</td><td>15</td></tr>\n",
       "<tr><td>5526</td><td>2575</td><td>327863846674892862</td><td>270.5645373130295</td><td>67.66307405890625</td><td>426</td><td>0</td><td>0</td><td>-81.37707</td><td>393.93796</td><td>101500</td><td>-0.004</td><td>0.014</td><td>499.002</td><td>0.7889999999999998</td><td>0.01309008</td><td>7.3248944</td><td>98.716675</td><td>0.38936505</td><td>0.15243946</td><td>2.3118105</td><td>0.0052149636</td><td>221.82384</td><td>0.3918102</td><td>3.2955284</td><td>13.483028</td><td>0.0</td><td>593.2674</td><td>2.9698908</td><td>6.215469</td><td>15.807929</td><td>7.330109</td><td>913.8079</td><td>3.7510662</td><td>9.663437</td><td>4265526</td><td>1</td><td>426</td><td>4265526</td><td>9011</td><td>637391</td><td>2706p677</td><td>2110</td><td>3</td><td>4</td><td>4</td><td>662.71954</td><td>309.41544</td><td>80.35229</td><td>492.3382</td><td>223.68893</td><td>45.000916</td><td>14.294225</td><td>11.64209</td><td>1.9666737</td><td>1.9045484</td><td>1.2187728</td><td>-0.0027475874</td><td>0.0040269927</td><td>-0.009296752</td><td>134394.69</td><td>58665.08</td><td>2219.0056</td><td>0</td><td>0</td><td>0</td><td>0.048493773</td><td>N</td><td>16043</td><td>15</td></tr>\n",
       "<tr><td>5526</td><td>2575</td><td>327863846674893097</td><td>270.53090331995634</td><td>67.67015298882335</td><td>426</td><td>0</td><td>0</td><td>-81.37707</td><td>393.93796</td><td>101500</td><td>-0.004</td><td>0.014</td><td>499.002</td><td>0.7889999999999998</td><td>0.01309008</td><td>7.3248944</td><td>98.716675</td><td>0.38936505</td><td>0.15243946</td><td>2.3118105</td><td>0.0052149636</td><td>221.82384</td><td>0.3918102</td><td>3.2955284</td><td>13.483028</td><td>0.0</td><td>593.2674</td><td>2.9698908</td><td>6.215469</td><td>15.807929</td><td>7.330109</td><td>913.8079</td><td>3.7510662</td><td>9.663437</td><td>4265526</td><td>1</td><td>426</td><td>4265526</td><td>9011</td><td>637391</td><td>2706p677</td><td>2345</td><td>4</td><td>4</td><td>4</td><td>935.51154</td><td>309.41544</td><td>80.35229</td><td>691.9915</td><td>223.68893</td><td>45.000916</td><td>14.903353</td><td>11.179255</td><td>1.9353366</td><td>1.9045484</td><td>1.2187728</td><td>0.0027615782</td><td>-0.002985507</td><td>-0.017662704</td><td>187797.39</td><td>59246.188</td><td>2250.1926</td><td>0</td><td>0</td><td>0</td><td>0.049114324</td><td>N</td><td>16043</td><td>15</td></tr>\n",
       "<tr><td>5526</td><td>2575</td><td>327863846674893109</td><td>270.39954108862196</td><td>67.66356148245342</td><td>418</td><td>0</td><td>0</td><td>-82.99977</td><td>391.45544</td><td>102100</td><td>-0.005</td><td>0.005</td><td>304.1061</td><td>0.7453644322423469</td><td>0.009800615</td><td>4.855921</td><td>74.946335</td><td>0.2820003</td><td>0.121074535</td><td>2.3136544</td><td>0.005582251</td><td>228.93</td><td>0.39765134</td><td>3.3021476</td><td>12.980296</td><td>0.0</td><td>601.1745</td><td>2.9701302</td><td>6.1684766</td><td>15.303751</td><td>4.861503</td><td>905.0508</td><td>3.6497817</td><td>9.591699</td><td>4185526</td><td>1</td><td>418</td><td>4185526</td><td>9011</td><td>637391</td><td>2706p677</td><td>2357</td><td>4</td><td>4</td><td>4</td><td>935.51154</td><td>309.41544</td><td>80.26317</td><td>691.9915</td><td>223.68893</td><td>45.373104</td><td>9.096325</td><td>7.084942</td><td>1.9353366</td><td>1.9045484</td><td>1.2263232</td><td>0.0030785562</td><td>0.0015001652</td><td>0.011876877</td><td>184815.94</td><td>58818.703</td><td>2179.985</td><td>0</td><td>0</td><td>0</td><td>0.05004341</td><td>N</td><td>16043</td><td>15</td></tr>\n",
       "<tr><td>5526</td><td>2575</td><td>327863846674893170</td><td>270.5419080957823</td><td>67.67573514575251</td><td>426</td><td>0</td><td>0</td><td>-81.37707</td><td>393.93796</td><td>101500</td><td>-0.004</td><td>0.014</td><td>499.002</td><td>0.7889999999999998</td><td>0.01309008</td><td>7.3248944</td><td>98.716675</td><td>0.38936505</td><td>0.15243946</td><td>2.3118105</td><td>0.0052149636</td><td>221.82384</td><td>0.3918102</td><td>3.2955284</td><td>13.483028</td><td>0.0</td><td>593.2674</td><td>2.9698908</td><td>6.215469</td><td>15.807929</td><td>7.330109</td><td>913.8079</td><td>3.7510662</td><td>9.663437</td><td>4265526</td><td>1</td><td>426</td><td>4265526</td><td>9011</td><td>637391</td><td>2706p677</td><td>2418</td><td>4</td><td>4</td><td>4</td><td>935.51154</td><td>309.41544</td><td>80.35229</td><td>691.9915</td><td>223.68893</td><td>45.000916</td><td>13.685096</td><td>10.965639</td><td>1.9353366</td><td>1.9045484</td><td>1.2187728</td><td>0.00030673118</td><td>-0.0020832622</td><td>-0.015114626</td><td>186599.12</td><td>59364.38</td><td>2250.9243</td><td>0</td><td>0</td><td>0</td><td>0.0491483</td><td>N</td><td>16043</td><td>15</td></tr>\n",
       "<tr><td>5523</td><td>2564</td><td>327863846674893263</td><td>270.51271805004853</td><td>67.64302060750838</td><td>423</td><td>0</td><td>0</td><td>-44.35952</td><td>392.01233</td><td>102100</td><td>-0.003</td><td>0.004</td><td>701.9467</td><td>0.7582184273770664</td><td>0.020813756</td><td>14.113133</td><td>152.82855</td><td>0.6497329</td><td>0.22649072</td><td>4.721901</td><td>0.011061458</td><td>460.45053</td><td>0.80491024</td><td>6.8231764</td><td>30.81561</td><td>0.0</td><td>1199.144</td><td>6.603696</td><td>13.52421</td><td>35.558327</td><td>14.124195</td><td>1812.4231</td><td>8.058339</td><td>20.573877</td><td>4235523</td><td>2</td><td>420-423</td><td>4205511-4235523</td><td>9011</td><td>637391</td><td>2706p677</td><td>2511</td><td>4</td><td>4</td><td>4</td><td>935.51154</td><td>309.41544</td><td>117.03321</td><td>691.9915</td><td>223.68893</td><td>60.879406</td><td>14.822137</td><td>11.392872</td><td>1.9353366</td><td>1.9045484</td><td>1.1087698</td><td>0.00024408472</td><td>0.0024424852</td><td>0.005823202</td><td>186466.38</td><td>60066.137</td><td>2710.674</td><td>0</td><td>0</td><td>0</td><td>0.048574094</td><td>N</td><td>16043</td><td>15</td></tr>\n",
       "<tr><td>5523</td><td>2564</td><td>327863846674893379</td><td>270.5088889635975</td><td>67.63274438051721</td><td>423</td><td>0</td><td>0</td><td>-44.35952</td><td>392.01233</td><td>102100</td><td>-0.003</td><td>0.004</td><td>701.9467</td><td>0.7582184273770664</td><td>0.020813756</td><td>14.113133</td><td>152.82855</td><td>0.6497329</td><td>0.22649072</td><td>4.721901</td><td>0.011061458</td><td>460.45053</td><td>0.80491024</td><td>6.8231764</td><td>30.81561</td><td>0.0</td><td>1199.144</td><td>6.603696</td><td>13.52421</td><td>35.558327</td><td>14.124195</td><td>1812.4231</td><td>8.058339</td><td>20.573877</td><td>4235523</td><td>2</td><td>420-423</td><td>4205511-4235523</td><td>9011</td><td>637391</td><td>2706p677</td><td>2627</td><td>4</td><td>4</td><td>4</td><td>935.51154</td><td>309.41544</td><td>117.03321</td><td>691.9915</td><td>223.68893</td><td>60.879406</td><td>12.304403</td><td>9.1499</td><td>1.9353366</td><td>1.9045484</td><td>1.1087698</td><td>-0.00039352465</td><td>0.00298977</td><td>-0.005306934</td><td>185463.47</td><td>59016.375</td><td>2735.371</td><td>0</td><td>0</td><td>0</td><td>0.048325744</td><td>N</td><td>16043</td><td>15</td></tr>\n",
       "<tr><td>5494</td><td>2560</td><td>327863846674893676</td><td>270.3951965631577</td><td>67.63001532734114</td><td>420</td><td>0</td><td>0</td><td>-56.64707</td><td>376.37155</td><td>102998</td><td>0.005</td><td>-0.005</td><td>233.2401</td><td>0.7889999999999998</td><td>0.015005058</td><td>7.5220547</td><td>114.58117</td><td>0.4323405</td><td>0.18489787</td><td>3.2760832</td><td>0.00821832</td><td>332.15668</td><td>0.570332</td><td>4.694772</td><td>19.618237</td><td>0.0</td><td>906.602</td><td>4.4350224</td><td>9.281441</td><td>22.909325</td><td>7.530273</td><td>1353.3398</td><td>5.437695</td><td>14.161111</td><td>4205494</td><td>3</td><td>418-420-426</td><td>4185526-4205494-4265495</td><td>9011</td><td>637391</td><td>2706p677</td><td>2924</td><td>3</td><td>3</td><td>3</td><td>628.1504</td><td>220.72115</td><td>87.38435</td><td>471.75735</td><td>163.51672</td><td>45.921326</td><td>14.7815275</td><td>11.713296</td><td>2.0035512</td><td>2.0138888</td><td>1.1248785</td><td>-0.0007908983</td><td>-0.004151091</td><td>0.020974152</td><td>134593.28</td><td>46951.137</td><td>2077.9812</td><td>0</td><td>0</td><td>0</td><td>0.049124047</td><td>N</td><td>16043</td><td>15</td></tr>\n",
       "</table>"
      ],
      "text/plain": [
       "<Table length=6391665>\n",
       "LOCATION FIBER      TARGETID      ... PHOTSYS HPXPIXEL rosette_number\n",
       " int64   int32       int64        ...  bytes1  int64       int64     \n",
       "-------- ----- ------------------ ... ------- -------- --------------\n",
       "    1440   522 327858110079172735 ...       S    25915             17\n",
       "    1395   528 327858110079172743 ...       S    25915             17\n",
       "    1442   515 327858110079172783 ...       S    25915             17\n",
       "    1416   510 327858110079172848 ...       S    25915             17\n",
       "    1394   503 327858110079172907 ...       S    25915             17\n",
       "    1463   523 327858110079172986 ...       S    25915             17\n",
       "    1463   523 327858110079173235 ...       S    25915             17\n",
       "    1417   500 327858110079173308 ...       S    25915             17\n",
       "    1463   523 327858110079173407 ...       S    25915             17\n",
       "    1419   529 327858110079173471 ...       S    25915             17\n",
       "     ...   ...                ... ...     ...      ...            ...\n",
       "    5511  2576 327863846674892163 ...       N    16043             15\n",
       "    5524  2568 327863846674892373 ...       N    16043             15\n",
       "    5524  2568 327863846674892615 ...       N    16043             15\n",
       "    5526  2575 327863846674892862 ...       N    16043             15\n",
       "    5526  2575 327863846674893097 ...       N    16043             15\n",
       "    5526  2575 327863846674893109 ...       N    16043             15\n",
       "    5526  2575 327863846674893170 ...       N    16043             15\n",
       "    5523  2564 327863846674893263 ...       N    16043             15\n",
       "    5523  2564 327863846674893379 ...       N    16043             15\n",
       "    5494  2560 327863846674893676 ...       N    16043             15"
      ]
     },
     "execution_count": 3,
     "metadata": {},
     "output_type": "execute_result"
    }
   ],
   "source": [
    "rands = []\n",
    "\n",
    "for ii in np.arange(15):\n",
    "    rand = Table.read('/global/cfs/cdirs/desi/survey/catalogs/SV3/LSS/LSScats/v0.1/BGS_BRIGHTAlltiles_8_full.ran.fits')\n",
    "    \n",
    "    rands.append(rand)\n",
    "\n",
    "nrandf = len(rands)\n",
    "    \n",
    "rands = vstack(rands)\n",
    "rands"
   ]
  },
  {
   "cell_type": "code",
   "execution_count": 4,
   "id": "fc5425fd-624f-4c31-9631-8154a90d90a4",
   "metadata": {},
   "outputs": [
    {
     "data": {
      "text/html": [
       "<i>Table length=212655</i>\n",
       "<table id=\"table46912564372960\" class=\"table-striped table-bordered table-condensed\">\n",
       "<thead><tr><th>LOCATION</th><th>FIBER</th><th>TARGETID</th><th>RA</th><th>DEC</th><th>TILEID</th><th>ZWARN</th><th>FIBERSTATUS</th><th>FIBERASSIGN_X</th><th>FIBERASSIGN_Y</th><th>PRIORITY</th><th>DELTA_X</th><th>DELTA_Y</th><th>EXPTIME</th><th>PSF_TO_FIBER_SPECFLUX</th><th>TSNR2_ELG_B</th><th>TSNR2_LYA_B</th><th>TSNR2_BGS_B</th><th>TSNR2_QSO_B</th><th>TSNR2_LRG_B</th><th>TSNR2_ELG_R</th><th>TSNR2_LYA_R</th><th>TSNR2_BGS_R</th><th>TSNR2_QSO_R</th><th>TSNR2_LRG_R</th><th>TSNR2_ELG_Z</th><th>TSNR2_LYA_Z</th><th>TSNR2_BGS_Z</th><th>TSNR2_QSO_Z</th><th>TSNR2_LRG_Z</th><th>TSNR2_ELG</th><th>TSNR2_LYA</th><th>TSNR2_BGS</th><th>TSNR2_QSO</th><th>TSNR2_LRG</th><th>TILELOCID</th><th>NTILE</th><th>TILES</th><th>TILELOCIDS</th><th>RELEASE</th><th>BRICKID</th><th>BRICKNAME</th><th>BRICK_OBJID</th><th>NOBS_G</th><th>NOBS_R</th><th>NOBS_Z</th><th>PSFDEPTH_G</th><th>PSFDEPTH_R</th><th>PSFDEPTH_Z</th><th>GALDEPTH_G</th><th>GALDEPTH_R</th><th>GALDEPTH_Z</th><th>PSFDEPTH_W1</th><th>PSFDEPTH_W2</th><th>PSFSIZE_G</th><th>PSFSIZE_R</th><th>PSFSIZE_Z</th><th>APFLUX_G</th><th>APFLUX_R</th><th>APFLUX_Z</th><th>APFLUX_IVAR_G</th><th>APFLUX_IVAR_R</th><th>APFLUX_IVAR_Z</th><th>MASKBITS</th><th>WISEMASK_W1</th><th>WISEMASK_W2</th><th>EBV</th><th>PHOTSYS</th><th>HPXPIXEL</th><th>rosette_number</th></tr></thead>\n",
       "<thead><tr><th>int64</th><th>int32</th><th>int64</th><th>float64</th><th>float64</th><th>int64</th><th>int64</th><th>int32</th><th>float32</th><th>float32</th><th>int32</th><th>float64</th><th>float64</th><th>float64</th><th>float64</th><th>float32</th><th>float32</th><th>float32</th><th>float32</th><th>float32</th><th>float32</th><th>float32</th><th>float32</th><th>float32</th><th>float32</th><th>float32</th><th>float32</th><th>float32</th><th>float32</th><th>float32</th><th>float32</th><th>float32</th><th>float32</th><th>float32</th><th>float32</th><th>int64</th><th>int64</th><th>bytes43</th><th>bytes135</th><th>int16</th><th>int32</th><th>bytes8</th><th>int32</th><th>int16</th><th>int16</th><th>int16</th><th>float32</th><th>float32</th><th>float32</th><th>float32</th><th>float32</th><th>float32</th><th>float32</th><th>float32</th><th>float32</th><th>float32</th><th>float32</th><th>float32</th><th>float32</th><th>float32</th><th>float32</th><th>float32</th><th>float32</th><th>int16</th><th>uint8</th><th>uint8</th><th>float32</th><th>bytes1</th><th>int64</th><th>int64</th></tr></thead>\n",
       "<tr><td>1443</td><td>516</td><td>327863814756237591</td><td>268.46124780684715</td><td>64.6192418283046</td><td>417</td><td>4</td><td>0</td><td>170.42838</td><td>-351.1017</td><td>-1</td><td>-0.005</td><td>-0.01</td><td>285.8591</td><td>0.7930729986371428</td><td>0.019374097</td><td>11.379617</td><td>147.0943</td><td>0.58935845</td><td>0.21243444</td><td>6.436895</td><td>0.011284481</td><td>670.1015</td><td>1.1266845</td><td>9.240528</td><td>23.222788</td><td>0.0</td><td>1197.8673</td><td>5.442774</td><td>11.571498</td><td>29.679058</td><td>11.390902</td><td>2015.0632</td><td>7.1588173</td><td>21.024462</td><td>4171443</td><td>4</td><td>417-419-425-426</td><td>4171443-4191314-4251356-4261416</td><td>9011</td><td>629781</td><td>2685p645</td><td>279</td><td>3</td><td>3</td><td>2</td><td>770.25946</td><td>259.23047</td><td>66.5375</td><td>558.1928</td><td>177.16576</td><td>33.822964</td><td>14.032853</td><td>9.6769</td><td>1.8376515</td><td>1.6330456</td><td>1.0938863</td><td>0.0005417129</td><td>-0.00058424094</td><td>0.0033534765</td><td>129870.86</td><td>34380.36</td><td>1526.2657</td><td>0</td><td>0</td><td>0</td><td>0.034978837</td><td>N</td><td>10237</td><td>15</td></tr>\n",
       "<tr><td>1443</td><td>516</td><td>327863814756238022</td><td>268.4387019758132</td><td>64.62020415400211</td><td>417</td><td>4</td><td>0</td><td>170.42838</td><td>-351.1017</td><td>-1</td><td>-0.005</td><td>-0.01</td><td>285.8591</td><td>0.7930729986371428</td><td>0.019374097</td><td>11.379617</td><td>147.0943</td><td>0.58935845</td><td>0.21243444</td><td>6.436895</td><td>0.011284481</td><td>670.1015</td><td>1.1266845</td><td>9.240528</td><td>23.222788</td><td>0.0</td><td>1197.8673</td><td>5.442774</td><td>11.571498</td><td>29.679058</td><td>11.390902</td><td>2015.0632</td><td>7.1588173</td><td>21.024462</td><td>4171443</td><td>4</td><td>417-419-425-426</td><td>4171443-4191335-4251356-4261416</td><td>9011</td><td>629781</td><td>2685p645</td><td>710</td><td>3</td><td>3</td><td>2</td><td>770.25946</td><td>259.23047</td><td>66.5375</td><td>558.1928</td><td>177.16576</td><td>33.822964</td><td>11.071146</td><td>6.847967</td><td>1.8376515</td><td>1.6330456</td><td>1.0938863</td><td>-0.0010365323</td><td>-0.008580978</td><td>0.005084631</td><td>128735.39</td><td>33698.44</td><td>1507.2966</td><td>0</td><td>0</td><td>0</td><td>0.03495363</td><td>N</td><td>10237</td><td>15</td></tr>\n",
       "<tr><td>1443</td><td>516</td><td>327863814756239311</td><td>268.48255172001257</td><td>64.61445146766258</td><td>417</td><td>4</td><td>0</td><td>170.42838</td><td>-351.1017</td><td>-1</td><td>-0.005</td><td>-0.01</td><td>285.8591</td><td>0.7930729986371428</td><td>0.019374097</td><td>11.379617</td><td>147.0943</td><td>0.58935845</td><td>0.21243444</td><td>6.436895</td><td>0.011284481</td><td>670.1015</td><td>1.1266845</td><td>9.240528</td><td>23.222788</td><td>0.0</td><td>1197.8673</td><td>5.442774</td><td>11.571498</td><td>29.679058</td><td>11.390902</td><td>2015.0632</td><td>7.1588173</td><td>21.024462</td><td>4171443</td><td>4</td><td>417-419-425-426</td><td>4171443-4191314-4251356-4261416</td><td>9011</td><td>629781</td><td>2685p645</td><td>1999</td><td>3</td><td>3</td><td>3</td><td>770.25946</td><td>259.23047</td><td>86.76084</td><td>558.1928</td><td>177.16576</td><td>47.80028</td><td>13.163147</td><td>9.345231</td><td>1.8376515</td><td>1.6330456</td><td>1.2334075</td><td>0.004360339</td><td>0.0016717005</td><td>-0.013046518</td><td>124486.19</td><td>34199.73</td><td>2361.1484</td><td>0</td><td>0</td><td>0</td><td>0.035198376</td><td>N</td><td>10237</td><td>15</td></tr>\n",
       "<tr><td>1443</td><td>516</td><td>327863814756239664</td><td>268.5020234733493</td><td>64.61539340592809</td><td>417</td><td>4</td><td>0</td><td>170.42838</td><td>-351.1017</td><td>-1</td><td>-0.005</td><td>-0.01</td><td>285.8591</td><td>0.7930729986371428</td><td>0.019374097</td><td>11.379617</td><td>147.0943</td><td>0.58935845</td><td>0.21243444</td><td>6.436895</td><td>0.011284481</td><td>670.1015</td><td>1.1266845</td><td>9.240528</td><td>23.222788</td><td>0.0</td><td>1197.8673</td><td>5.442774</td><td>11.571498</td><td>29.679058</td><td>11.390902</td><td>2015.0632</td><td>7.1588173</td><td>21.024462</td><td>4171443</td><td>4</td><td>417-419-425-426</td><td>4171443-4191314-4251355-4251356-4261416</td><td>9011</td><td>629781</td><td>2685p645</td><td>2352</td><td>3</td><td>3</td><td>3</td><td>770.25946</td><td>259.23047</td><td>86.76084</td><td>558.1928</td><td>177.16576</td><td>47.80028</td><td>11.282697</td><td>7.9405203</td><td>1.8376515</td><td>1.6330456</td><td>1.2334075</td><td>0.00062636356</td><td>-0.0020718472</td><td>-0.006197844</td><td>123348.02</td><td>33807.605</td><td>2320.5884</td><td>0</td><td>0</td><td>0</td><td>0.03534732</td><td>N</td><td>10237</td><td>15</td></tr>\n",
       "<tr><td>474</td><td>372</td><td>327863814760431946</td><td>269.13827776881067</td><td>64.58166221944256</td><td>424</td><td>0</td><td>0</td><td>38.43675</td><td>-365.0429</td><td>101500</td><td>-0.0</td><td>0.007</td><td>524.0326</td><td>0.7889999999999998</td><td>0.017702736</td><td>15.091351</td><td>120.52307</td><td>0.60373354</td><td>0.1459378</td><td>6.1398735</td><td>0.0089939665</td><td>587.10535</td><td>1.0287236</td><td>8.872849</td><td>28.55866</td><td>0.0</td><td>1310.5292</td><td>6.487334</td><td>13.517086</td><td>34.716236</td><td>15.100345</td><td>2018.1576</td><td>8.119791</td><td>22.535873</td><td>4240474</td><td>6</td><td>418-419-422-424-425-426</td><td>4180509-4190390-4220436-4240473-4240474-4250413-4260524</td><td>9011</td><td>629782</td><td>2691p645</td><td>330</td><td>3</td><td>3</td><td>3</td><td>789.1659</td><td>273.62057</td><td>97.50814</td><td>576.29675</td><td>186.8959</td><td>50.61039</td><td>12.574426</td><td>8.736521</td><td>1.8662643</td><td>1.6289057</td><td>1.1551428</td><td>-0.0057444656</td><td>0.0040798555</td><td>0.011023012</td><td>134204.02</td><td>36858.5</td><td>2364.0872</td><td>0</td><td>0</td><td>0</td><td>0.038384855</td><td>N</td><td>10231</td><td>15</td></tr>\n",
       "<tr><td>494</td><td>358</td><td>327863814760432052</td><td>269.05854161329387</td><td>64.61249085528704</td><td>418</td><td>0</td><td>0</td><td>56.277714</td><td>-377.35187</td><td>102000</td><td>0.004</td><td>0.002</td><td>304.1061</td><td>0.752736710249869</td><td>0.02273554</td><td>22.043524</td><td>143.2678</td><td>0.8303625</td><td>0.13864289</td><td>6.6596274</td><td>0.010126209</td><td>647.40485</td><td>1.1275998</td><td>9.56355</td><td>22.460611</td><td>0.0</td><td>1121.6653</td><td>5.2766023</td><td>11.116244</td><td>29.142975</td><td>22.05365</td><td>1912.338</td><td>7.234565</td><td>20.818438</td><td>4180494</td><td>4</td><td>418-419-425-426</td><td>4180493-4180494-4190369-4250392-4260511</td><td>9011</td><td>629782</td><td>2691p645</td><td>436</td><td>3</td><td>3</td><td>3</td><td>789.1659</td><td>273.62057</td><td>97.50814</td><td>576.29675</td><td>186.8959</td><td>50.61039</td><td>13.155738</td><td>8.86037</td><td>1.8662643</td><td>1.6289057</td><td>1.1551428</td><td>-0.0027795844</td><td>-0.0005491311</td><td>-0.0056456467</td><td>138613.31</td><td>37132.33</td><td>2365.1526</td><td>0</td><td>0</td><td>0</td><td>0.038014024</td><td>N</td><td>10231</td><td>15</td></tr>\n",
       "<tr><td>492</td><td>387</td><td>327863814760432080</td><td>269.12099952602404</td><td>64.56527596358532</td><td>424</td><td>0</td><td>0</td><td>34.873077</td><td>-384.96957</td><td>102000</td><td>-0.001</td><td>0.008</td><td>524.0326</td><td>0.7654016076458163</td><td>0.016309867</td><td>13.95047</td><td>110.624825</td><td>0.55826205</td><td>0.13310142</td><td>5.6786046</td><td>0.008768821</td><td>541.0105</td><td>0.9535205</td><td>8.226485</td><td>26.39303</td><td>0.0</td><td>1209.8796</td><td>5.981474</td><td>12.470092</td><td>32.087944</td><td>13.959238</td><td>1861.5149</td><td>7.4932566</td><td>20.82968</td><td>4240492</td><td>5</td><td>418-419-424-425-426</td><td>4180509-4190411-4240492-4250413-4260524</td><td>9011</td><td>629782</td><td>2691p645</td><td>464</td><td>3</td><td>3</td><td>3</td><td>789.1659</td><td>273.62057</td><td>97.50814</td><td>576.29675</td><td>186.8959</td><td>50.61039</td><td>10.802478</td><td>7.9929867</td><td>1.8662643</td><td>1.6289057</td><td>1.1551428</td><td>0.0015040995</td><td>0.0036902933</td><td>-0.008254172</td><td>141716.55</td><td>38417.85</td><td>2374.45</td><td>0</td><td>0</td><td>0</td><td>0.03868926</td><td>N</td><td>10231</td><td>15</td></tr>\n",
       "<tr><td>473</td><td>169</td><td>327863814760432087</td><td>269.1611071435776</td><td>64.57149546867716</td><td>424</td><td>0</td><td>0</td><td>30.054249</td><td>-369.18683</td><td>101500</td><td>-0.004</td><td>-0.001</td><td>524.0326</td><td>0.7889999999999998</td><td>0.016758831</td><td>11.789054</td><td>123.1588</td><td>0.53181535</td><td>0.17056479</td><td>5.7682967</td><td>0.009404129</td><td>572.98737</td><td>0.9858357</td><td>8.3812475</td><td>26.226894</td><td>0.0</td><td>1218.5325</td><td>5.997926</td><td>12.481208</td><td>32.011948</td><td>11.798458</td><td>1914.6786</td><td>7.5155773</td><td>21.03302</td><td>4240473</td><td>6</td><td>418-419-420-424-425-426</td><td>4180509-4190389-4190411-4200525-4240473-4250412-4250413-4260524</td><td>9011</td><td>629782</td><td>2691p645</td><td>471</td><td>3</td><td>3</td><td>3</td><td>789.1659</td><td>273.62057</td><td>97.50814</td><td>576.29675</td><td>186.8959</td><td>50.61039</td><td>11.46429</td><td>7.869065</td><td>1.8662643</td><td>1.6289057</td><td>1.1551428</td><td>0.0013442278</td><td>-0.0003840295</td><td>-0.041826107</td><td>139538.95</td><td>38243.188</td><td>2352.7202</td><td>0</td><td>0</td><td>0</td><td>0.03840273</td><td>N</td><td>10231</td><td>15</td></tr>\n",
       "<tr><td>495</td><td>391</td><td>327863814760432202</td><td>269.37452564759616</td><td>64.61783068759577</td><td>423</td><td>0</td><td>0</td><td>66.054276</td><td>-372.9339</td><td>2</td><td>-0.007</td><td>-0.007</td><td>701.9467</td><td>0.7889999999999998</td><td>0.024863927</td><td>22.238686</td><td>163.2562</td><td>0.85035986</td><td>0.20495105</td><td>7.144981</td><td>0.011052328</td><td>673.0816</td><td>1.1863886</td><td>10.329786</td><td>35.16785</td><td>0.0</td><td>1523.1376</td><td>7.785855</td><td>16.195625</td><td>42.337696</td><td>22.249737</td><td>2359.4753</td><td>9.822603</td><td>26.730364</td><td>4230495</td><td>10</td><td>417-418-419-420-421-422-423-424-425-426</td><td>4170457-4180472-4190366-4200510-4210385-4220412-4230495-4240428-4250368-4260492</td><td>9011</td><td>629782</td><td>2691p645</td><td>586</td><td>3</td><td>3</td><td>1</td><td>789.1659</td><td>273.62057</td><td>34.007534</td><td>576.29675</td><td>186.8959</td><td>17.382048</td><td>12.331407</td><td>8.874994</td><td>1.8662643</td><td>1.6289057</td><td>1.0987467</td><td>-0.0014081429</td><td>-0.001716901</td><td>-0.010595755</td><td>139331.19</td><td>37832.715</td><td>753.1451</td><td>0</td><td>0</td><td>0</td><td>0.036377516</td><td>N</td><td>10231</td><td>15</td></tr>\n",
       "<tr><td>494</td><td>358</td><td>327863814760432213</td><td>268.9830386808842</td><td>64.61841435232571</td><td>418</td><td>0</td><td>0</td><td>56.277714</td><td>-377.35187</td><td>102000</td><td>0.004</td><td>0.002</td><td>304.1061</td><td>0.752736710249869</td><td>0.02273554</td><td>22.043524</td><td>143.2678</td><td>0.8303625</td><td>0.13864289</td><td>6.6596274</td><td>0.010126209</td><td>647.40485</td><td>1.1275998</td><td>9.56355</td><td>22.460611</td><td>0.0</td><td>1121.6653</td><td>5.2766023</td><td>11.116244</td><td>29.142975</td><td>22.05365</td><td>1912.338</td><td>7.234565</td><td>20.818438</td><td>4180494</td><td>4</td><td>418-419-425-426</td><td>4180494-4190370-4250393-4260512</td><td>9011</td><td>629782</td><td>2691p645</td><td>597</td><td>2</td><td>2</td><td>2</td><td>554.6418</td><td>173.83331</td><td>77.02038</td><td>397.11465</td><td>119.101456</td><td>36.74911</td><td>11.242177</td><td>7.804803</td><td>1.777743</td><td>1.6403415</td><td>1.0179802</td><td>0.0022254132</td><td>0.0057693133</td><td>-0.00083146145</td><td>92319.94</td><td>24491.986</td><td>1480.574</td><td>0</td><td>0</td><td>0</td><td>0.037742734</td><td>N</td><td>10231</td><td>15</td></tr>\n",
       "<tr><td>...</td><td>...</td><td>...</td><td>...</td><td>...</td><td>...</td><td>...</td><td>...</td><td>...</td><td>...</td><td>...</td><td>...</td><td>...</td><td>...</td><td>...</td><td>...</td><td>...</td><td>...</td><td>...</td><td>...</td><td>...</td><td>...</td><td>...</td><td>...</td><td>...</td><td>...</td><td>...</td><td>...</td><td>...</td><td>...</td><td>...</td><td>...</td><td>...</td><td>...</td><td>...</td><td>...</td><td>...</td><td>...</td><td>...</td><td>...</td><td>...</td><td>...</td><td>...</td><td>...</td><td>...</td><td>...</td><td>...</td><td>...</td><td>...</td><td>...</td><td>...</td><td>...</td><td>...</td><td>...</td><td>...</td><td>...</td><td>...</td><td>...</td><td>...</td><td>...</td><td>...</td><td>...</td><td>...</td><td>...</td><td>...</td><td>...</td><td>...</td><td>...</td><td>...</td><td>...</td></tr>\n",
       "<tr><td>5526</td><td>2575</td><td>327863846674891024</td><td>270.5408485400144</td><td>67.69223188522062</td><td>426</td><td>0</td><td>0</td><td>-81.37707</td><td>393.93796</td><td>101500</td><td>-0.004</td><td>0.014</td><td>499.002</td><td>0.7889999999999998</td><td>0.01309008</td><td>7.3248944</td><td>98.716675</td><td>0.38936505</td><td>0.15243946</td><td>2.3118105</td><td>0.0052149636</td><td>221.82384</td><td>0.3918102</td><td>3.2955284</td><td>13.483028</td><td>0.0</td><td>593.2674</td><td>2.9698908</td><td>6.215469</td><td>15.807929</td><td>7.330109</td><td>913.8079</td><td>3.7510662</td><td>9.663437</td><td>4265526</td><td>1</td><td>426</td><td>4265526</td><td>9011</td><td>637391</td><td>2706p677</td><td>272</td><td>4</td><td>4</td><td>4</td><td>935.51154</td><td>309.41544</td><td>80.35229</td><td>691.9915</td><td>223.68893</td><td>45.000916</td><td>14.13179</td><td>10.930037</td><td>1.9353366</td><td>1.9045484</td><td>1.2187728</td><td>-0.0016419626</td><td>-0.0044138306</td><td>-0.00044682593</td><td>186130.72</td><td>58268.094</td><td>2237.364</td><td>0</td><td>0</td><td>0</td><td>0.049389675</td><td>N</td><td>16043</td><td>15</td></tr>\n",
       "<tr><td>5526</td><td>2575</td><td>327863846674891130</td><td>270.530466776299</td><td>67.6909743270483</td><td>426</td><td>0</td><td>0</td><td>-81.37707</td><td>393.93796</td><td>101500</td><td>-0.004</td><td>0.014</td><td>499.002</td><td>0.7889999999999998</td><td>0.01309008</td><td>7.3248944</td><td>98.716675</td><td>0.38936505</td><td>0.15243946</td><td>2.3118105</td><td>0.0052149636</td><td>221.82384</td><td>0.3918102</td><td>3.2955284</td><td>13.483028</td><td>0.0</td><td>593.2674</td><td>2.9698908</td><td>6.215469</td><td>15.807929</td><td>7.330109</td><td>913.8079</td><td>3.7510662</td><td>9.663437</td><td>4265526</td><td>1</td><td>426</td><td>4265526</td><td>9011</td><td>637391</td><td>2706p677</td><td>378</td><td>4</td><td>4</td><td>4</td><td>935.51154</td><td>309.41544</td><td>80.35229</td><td>691.9915</td><td>223.68893</td><td>45.000916</td><td>14.943962</td><td>11.357269</td><td>1.9353366</td><td>1.9045484</td><td>1.2187728</td><td>-0.001169194</td><td>-0.004123723</td><td>-0.016034378</td><td>186828.14</td><td>58954.426</td><td>2229.1692</td><td>0</td><td>0</td><td>0</td><td>0.04948373</td><td>N</td><td>16043</td><td>15</td></tr>\n",
       "<tr><td>5524</td><td>2568</td><td>327863846674891258</td><td>270.5249587755133</td><td>67.68478970190418</td><td>420</td><td>0</td><td>0</td><td>-57.024292</td><td>399.03305</td><td>101500</td><td>0.0</td><td>-0.004</td><td>233.2401</td><td>0.7889999999999998</td><td>0.015292788</td><td>7.867576</td><td>116.095764</td><td>0.44397068</td><td>0.18587169</td><td>3.1604717</td><td>0.008184469</td><td>324.1393</td><td>0.553769</td><td>4.5362744</td><td>18.431292</td><td>0.0</td><td>851.76965</td><td>4.1665106</td><td>8.722509</td><td>21.607056</td><td>7.8757606</td><td>1292.0048</td><td>5.1642504</td><td>13.444655</td><td>4205524</td><td>2</td><td>420-426</td><td>4205524-4265526</td><td>9011</td><td>637391</td><td>2706p677</td><td>506</td><td>4</td><td>4</td><td>4</td><td>935.51154</td><td>309.41544</td><td>80.35229</td><td>691.9915</td><td>223.68893</td><td>45.000916</td><td>8.202936</td><td>6.515299</td><td>1.9353366</td><td>1.9045484</td><td>1.2187728</td><td>-0.002479472</td><td>0.0009942224</td><td>-0.0044098026</td><td>186164.31</td><td>59088.426</td><td>2231.5054</td><td>0</td><td>0</td><td>0</td><td>0.0494963</td><td>N</td><td>16043</td><td>15</td></tr>\n",
       "<tr><td>5526</td><td>2575</td><td>327863846674892032</td><td>270.5776127484614</td><td>67.67710803443354</td><td>426</td><td>0</td><td>0</td><td>-81.37707</td><td>393.93796</td><td>101500</td><td>-0.004</td><td>0.014</td><td>499.002</td><td>0.7889999999999998</td><td>0.01309008</td><td>7.3248944</td><td>98.716675</td><td>0.38936505</td><td>0.15243946</td><td>2.3118105</td><td>0.0052149636</td><td>221.82384</td><td>0.3918102</td><td>3.2955284</td><td>13.483028</td><td>0.0</td><td>593.2674</td><td>2.9698908</td><td>6.215469</td><td>15.807929</td><td>7.330109</td><td>913.8079</td><td>3.7510662</td><td>9.663437</td><td>4265526</td><td>1</td><td>426</td><td>4265526</td><td>9011</td><td>637391</td><td>2706p677</td><td>1280</td><td>3</td><td>2</td><td>3</td><td>662.71954</td><td>175.73366</td><td>59.94768</td><td>492.3382</td><td>125.7377</td><td>33.664772</td><td>12.994749</td><td>10.289187</td><td>1.9666737</td><td>1.9987533</td><td>1.2187728</td><td>-0.0012455267</td><td>-0.00060669135</td><td>0.019415308</td><td>129896.664</td><td>32054.662</td><td>1719.345</td><td>0</td><td>0</td><td>0</td><td>0.048801683</td><td>N</td><td>16043</td><td>15</td></tr>\n",
       "<tr><td>5511</td><td>2576</td><td>327863846674892163</td><td>270.375679674178</td><td>67.6574255686648</td><td>426</td><td>0</td><td>0</td><td>-60.84797</td><td>386.0366</td><td>102000</td><td>-0.004</td><td>0.013</td><td>499.002</td><td>0.7192448243849214</td><td>0.02028265</td><td>11.497253</td><td>152.57999</td><td>0.60513544</td><td>0.23430422</td><td>3.4935868</td><td>0.007852176</td><td>336.16962</td><td>0.5924718</td><td>4.982177</td><td>18.98484</td><td>0.0</td><td>823.2413</td><td>4.162306</td><td>8.693466</td><td>22.49871</td><td>11.505105</td><td>1311.9908</td><td>5.359913</td><td>13.909947</td><td>4265511</td><td>2</td><td>418-426</td><td>4185526-4265511</td><td>9011</td><td>637391</td><td>2706p677</td><td>1411</td><td>3</td><td>3</td><td>5</td><td>628.1504</td><td>220.72115</td><td>114.771484</td><td>471.75735</td><td>163.51672</td><td>62.329018</td><td>14.191506</td><td>11.1071205</td><td>2.0035512</td><td>2.0138888</td><td>1.1763225</td><td>-0.0021243726</td><td>-0.00049187685</td><td>0.0055239284</td><td>131300.88</td><td>46993.543</td><td>2921.1118</td><td>0</td><td>0</td><td>0</td><td>0.050094347</td><td>N</td><td>16043</td><td>15</td></tr>\n",
       "<tr><td>5524</td><td>2568</td><td>327863846674892373</td><td>270.46692754429415</td><td>67.67204338076557</td><td>420</td><td>0</td><td>0</td><td>-57.024292</td><td>399.03305</td><td>101500</td><td>0.0</td><td>-0.004</td><td>233.2401</td><td>0.7889999999999998</td><td>0.015292788</td><td>7.867576</td><td>116.095764</td><td>0.44397068</td><td>0.18587169</td><td>3.1604717</td><td>0.008184469</td><td>324.1393</td><td>0.553769</td><td>4.5362744</td><td>18.431292</td><td>0.0</td><td>851.76965</td><td>4.1665106</td><td>8.722509</td><td>21.607056</td><td>7.8757606</td><td>1292.0048</td><td>5.1642504</td><td>13.444655</td><td>4205524</td><td>2</td><td>420-426</td><td>4205524-4265526</td><td>9011</td><td>637391</td><td>2706p677</td><td>1621</td><td>4</td><td>4</td><td>3</td><td>935.51154</td><td>309.41544</td><td>61.09208</td><td>691.9915</td><td>223.68893</td><td>34.419495</td><td>13.603879</td><td>10.823228</td><td>1.9353366</td><td>1.9045484</td><td>1.2235538</td><td>0.0020280827</td><td>0.008388027</td><td>0.029692868</td><td>187305.92</td><td>58771.02</td><td>1698.1774</td><td>0</td><td>0</td><td>0</td><td>0.049778987</td><td>N</td><td>16043</td><td>15</td></tr>\n",
       "<tr><td>5526</td><td>2575</td><td>327863846674892862</td><td>270.5645373130295</td><td>67.66307405890625</td><td>426</td><td>0</td><td>0</td><td>-81.37707</td><td>393.93796</td><td>101500</td><td>-0.004</td><td>0.014</td><td>499.002</td><td>0.7889999999999998</td><td>0.01309008</td><td>7.3248944</td><td>98.716675</td><td>0.38936505</td><td>0.15243946</td><td>2.3118105</td><td>0.0052149636</td><td>221.82384</td><td>0.3918102</td><td>3.2955284</td><td>13.483028</td><td>0.0</td><td>593.2674</td><td>2.9698908</td><td>6.215469</td><td>15.807929</td><td>7.330109</td><td>913.8079</td><td>3.7510662</td><td>9.663437</td><td>4265526</td><td>1</td><td>426</td><td>4265526</td><td>9011</td><td>637391</td><td>2706p677</td><td>2110</td><td>3</td><td>4</td><td>4</td><td>662.71954</td><td>309.41544</td><td>80.35229</td><td>492.3382</td><td>223.68893</td><td>45.000916</td><td>14.294225</td><td>11.64209</td><td>1.9666737</td><td>1.9045484</td><td>1.2187728</td><td>-0.0027475874</td><td>0.0040269927</td><td>-0.009296752</td><td>134394.69</td><td>58665.08</td><td>2219.0056</td><td>0</td><td>0</td><td>0</td><td>0.048493773</td><td>N</td><td>16043</td><td>15</td></tr>\n",
       "<tr><td>5526</td><td>2575</td><td>327863846674893097</td><td>270.53090331995634</td><td>67.67015298882335</td><td>426</td><td>0</td><td>0</td><td>-81.37707</td><td>393.93796</td><td>101500</td><td>-0.004</td><td>0.014</td><td>499.002</td><td>0.7889999999999998</td><td>0.01309008</td><td>7.3248944</td><td>98.716675</td><td>0.38936505</td><td>0.15243946</td><td>2.3118105</td><td>0.0052149636</td><td>221.82384</td><td>0.3918102</td><td>3.2955284</td><td>13.483028</td><td>0.0</td><td>593.2674</td><td>2.9698908</td><td>6.215469</td><td>15.807929</td><td>7.330109</td><td>913.8079</td><td>3.7510662</td><td>9.663437</td><td>4265526</td><td>1</td><td>426</td><td>4265526</td><td>9011</td><td>637391</td><td>2706p677</td><td>2345</td><td>4</td><td>4</td><td>4</td><td>935.51154</td><td>309.41544</td><td>80.35229</td><td>691.9915</td><td>223.68893</td><td>45.000916</td><td>14.903353</td><td>11.179255</td><td>1.9353366</td><td>1.9045484</td><td>1.2187728</td><td>0.0027615782</td><td>-0.002985507</td><td>-0.017662704</td><td>187797.39</td><td>59246.188</td><td>2250.1926</td><td>0</td><td>0</td><td>0</td><td>0.049114324</td><td>N</td><td>16043</td><td>15</td></tr>\n",
       "<tr><td>5526</td><td>2575</td><td>327863846674893170</td><td>270.5419080957823</td><td>67.67573514575251</td><td>426</td><td>0</td><td>0</td><td>-81.37707</td><td>393.93796</td><td>101500</td><td>-0.004</td><td>0.014</td><td>499.002</td><td>0.7889999999999998</td><td>0.01309008</td><td>7.3248944</td><td>98.716675</td><td>0.38936505</td><td>0.15243946</td><td>2.3118105</td><td>0.0052149636</td><td>221.82384</td><td>0.3918102</td><td>3.2955284</td><td>13.483028</td><td>0.0</td><td>593.2674</td><td>2.9698908</td><td>6.215469</td><td>15.807929</td><td>7.330109</td><td>913.8079</td><td>3.7510662</td><td>9.663437</td><td>4265526</td><td>1</td><td>426</td><td>4265526</td><td>9011</td><td>637391</td><td>2706p677</td><td>2418</td><td>4</td><td>4</td><td>4</td><td>935.51154</td><td>309.41544</td><td>80.35229</td><td>691.9915</td><td>223.68893</td><td>45.000916</td><td>13.685096</td><td>10.965639</td><td>1.9353366</td><td>1.9045484</td><td>1.2187728</td><td>0.00030673118</td><td>-0.0020832622</td><td>-0.015114626</td><td>186599.12</td><td>59364.38</td><td>2250.9243</td><td>0</td><td>0</td><td>0</td><td>0.0491483</td><td>N</td><td>16043</td><td>15</td></tr>\n",
       "<tr><td>5494</td><td>2560</td><td>327863846674893676</td><td>270.3951965631577</td><td>67.63001532734114</td><td>420</td><td>0</td><td>0</td><td>-56.64707</td><td>376.37155</td><td>102998</td><td>0.005</td><td>-0.005</td><td>233.2401</td><td>0.7889999999999998</td><td>0.015005058</td><td>7.5220547</td><td>114.58117</td><td>0.4323405</td><td>0.18489787</td><td>3.2760832</td><td>0.00821832</td><td>332.15668</td><td>0.570332</td><td>4.694772</td><td>19.618237</td><td>0.0</td><td>906.602</td><td>4.4350224</td><td>9.281441</td><td>22.909325</td><td>7.530273</td><td>1353.3398</td><td>5.437695</td><td>14.161111</td><td>4205494</td><td>3</td><td>418-420-426</td><td>4185526-4205494-4265495</td><td>9011</td><td>637391</td><td>2706p677</td><td>2924</td><td>3</td><td>3</td><td>3</td><td>628.1504</td><td>220.72115</td><td>87.38435</td><td>471.75735</td><td>163.51672</td><td>45.921326</td><td>14.7815275</td><td>11.713296</td><td>2.0035512</td><td>2.0138888</td><td>1.1248785</td><td>-0.0007908983</td><td>-0.004151091</td><td>0.020974152</td><td>134593.28</td><td>46951.137</td><td>2077.9812</td><td>0</td><td>0</td><td>0</td><td>0.049124047</td><td>N</td><td>16043</td><td>15</td></tr>\n",
       "</table>"
      ],
      "text/plain": [
       "<Table length=212655>\n",
       "LOCATION FIBER      TARGETID      ... PHOTSYS HPXPIXEL rosette_number\n",
       " int64   int32       int64        ...  bytes1  int64       int64     \n",
       "-------- ----- ------------------ ... ------- -------- --------------\n",
       "    1443   516 327863814756237591 ...       N    10237             15\n",
       "    1443   516 327863814756238022 ...       N    10237             15\n",
       "    1443   516 327863814756239311 ...       N    10237             15\n",
       "    1443   516 327863814756239664 ...       N    10237             15\n",
       "     474   372 327863814760431946 ...       N    10231             15\n",
       "     494   358 327863814760432052 ...       N    10231             15\n",
       "     492   387 327863814760432080 ...       N    10231             15\n",
       "     473   169 327863814760432087 ...       N    10231             15\n",
       "     495   391 327863814760432202 ...       N    10231             15\n",
       "     494   358 327863814760432213 ...       N    10231             15\n",
       "     ...   ...                ... ...     ...      ...            ...\n",
       "    5526  2575 327863846674891024 ...       N    16043             15\n",
       "    5526  2575 327863846674891130 ...       N    16043             15\n",
       "    5524  2568 327863846674891258 ...       N    16043             15\n",
       "    5526  2575 327863846674892032 ...       N    16043             15\n",
       "    5511  2576 327863846674892163 ...       N    16043             15\n",
       "    5524  2568 327863846674892373 ...       N    16043             15\n",
       "    5526  2575 327863846674892862 ...       N    16043             15\n",
       "    5526  2575 327863846674893097 ...       N    16043             15\n",
       "    5526  2575 327863846674893170 ...       N    16043             15\n",
       "    5494  2560 327863846674893676 ...       N    16043             15"
      ]
     },
     "execution_count": 4,
     "metadata": {},
     "output_type": "execute_result"
    }
   ],
   "source": [
    "one_tile = rands[['426' in x for x in rands['TILES']]]\n",
    "one_tile"
   ]
  },
  {
   "cell_type": "code",
   "execution_count": 5,
   "id": "33bc47d9-d64b-4f1a-bd0e-32f9a46ac93b",
   "metadata": {},
   "outputs": [
    {
     "data": {
      "text/plain": [
       "[<matplotlib.lines.Line2D at 0x2aaad5cfa0d0>]"
      ]
     },
     "execution_count": 5,
     "metadata": {},
     "output_type": "execute_result"
    },
    {
     "data": {
      "image/png": "[encoded data removed]",
      "text/plain": [
       "<Figure size 432x288 with 1 Axes>"
      ]
     },
     "metadata": {
      "needs_background": "light"
     },
     "output_type": "display_data"
    }
   ],
   "source": [
    "pl.plot(one_tile['RA'], one_tile['DEC'], marker=',', lw=0.0)"
   ]
  },
  {
   "cell_type": "code",
   "execution_count": 6,
   "id": "09b8c74e-e5a5-449a-b0d0-4acde2315a5c",
   "metadata": {},
   "outputs": [
    {
     "data": {
      "text/plain": [
       "5.6708"
      ]
     },
     "execution_count": 6,
     "metadata": {},
     "output_type": "execute_result"
    }
   ],
   "source": [
    "len(one_tile) / 2500. / nrandf"
   ]
  },
  {
   "cell_type": "code",
   "execution_count": 7,
   "id": "cf160e5e-5797-4a3a-978d-b9614f111a08",
   "metadata": {},
   "outputs": [
    {
     "data": {
      "text/plain": [
       "170.4444"
      ]
     },
     "execution_count": 7,
     "metadata": {},
     "output_type": "execute_result"
    }
   ],
   "source": [
    "len(rands) / 2500. / nrandf"
   ]
  },
  {
   "cell_type": "code",
   "execution_count": 8,
   "id": "21b6ecfa-b8c7-4696-b15f-71449d8ae63c",
   "metadata": {},
   "outputs": [
    {
     "data": {
      "text/plain": [
       "41252.96124941928"
      ]
     },
     "execution_count": 8,
     "metadata": {},
     "output_type": "execute_result"
    }
   ],
   "source": [
    "all_sky_deg2 = 4. * np.pi * (180. / np.pi)**2.\n",
    "all_sky_deg2"
   ]
  },
  {
   "cell_type": "code",
   "execution_count": 9,
   "id": "f43f2818-5149-478e-a258-a4ad22a91024",
   "metadata": {},
   "outputs": [
    {
     "data": {
      "text/plain": [
       "0.004131688849425309"
      ]
     },
     "execution_count": 9,
     "metadata": {},
     "output_type": "execute_result"
    }
   ],
   "source": [
    "fsky = len(rands) / 2500. / nrandf / all_sky_deg2\n",
    "fsky"
   ]
  },
  {
   "cell_type": "code",
   "execution_count": 10,
   "id": "d2bc88e4-59a6-4f39-9031-6bdb0bd725c2",
   "metadata": {},
   "outputs": [],
   "source": [
    "cmap = plt.cm.plasma\n",
    "\n",
    "cmaplist = [cmap(i) for i in range(cmap.N)]\n",
    "\n",
    "cmaplist[0] = (.5, .5, .5, 1.0)\n",
    "\n",
    "cmap = mpl.colors.LinearSegmentedColormap.from_list(\n",
    "    'Custom cmap', cmaplist, cmap.N)\n",
    "\n",
    "# define the bins and normalize\n",
    "bounds = np.linspace(0, 20, 21)\n",
    "norm = mpl.colors.BoundaryNorm(bounds, cmap.N)"
   ]
  },
  {
   "cell_type": "code",
   "execution_count": 14,
   "id": "11b61254-f502-4202-a5cc-8da74978797e",
   "metadata": {},
   "outputs": [
    {
     "data": {
      "text/plain": [
       "Text(0.5, 1.0, '$f_{\\\\rm{sky}}=$0.004132')"
      ]
     },
     "execution_count": 14,
     "metadata": {},
     "output_type": "execute_result"
    },
    {
     "data": {
      "image/png": "[encoded data removed]",
      "text/plain": [
       "<Figure size 1332x756 with 2 Axes>"
      ]
     },
     "metadata": {
      "needs_background": "light"
     },
     "output_type": "display_data"
    }
   ],
   "source": [
    "pl.scatter(rand['RA'], rand['DEC'], c=rand['rosette_number'], marker=',', lw=0.0, vmin=0, vmax=19, cmap=cmap, norm=norm)\n",
    "pl.colorbar(label='Rosette #')\n",
    "\n",
    "fig = matplotlib.pyplot.gcf()\n",
    "fig.set_size_inches(18.5, 10.5)\n",
    "\n",
    "pl.xlim(300., 140.)\n",
    "\n",
    "pl.xlabel('RA', fontsize=12)\n",
    "pl.ylabel('DEC', fontsize=12)\n",
    "\n",
    "pl.title(r'$f_{\\rm{sky}}=$' + '{:.6f}'.format(fsky), fontsize=12)"
   ]
  },
  {
   "cell_type": "code",
   "execution_count": 26,
   "id": "9be06c01-a2d3-4155-af55-82e3b9465b30",
   "metadata": {},
   "outputs": [],
   "source": [
    "utids  = np.unique(rand['TILEID'].data)"
   ]
  },
  {
   "cell_type": "code",
   "execution_count": 16,
   "id": "45aaf08e-0315-4bb1-a901-4f2d0968b44e",
   "metadata": {},
   "outputs": [
    {
     "data": {
      "text/html": [
       "<i>Table length=220</i>\n",
       "<table id=\"table46913244284960\" class=\"table-striped table-bordered table-condensed\">\n",
       "<thead><tr><th>TILEID</th><th>PASS</th><th>RA</th><th>DEC</th><th>PROGRAM</th><th>IN_DESI</th><th>PRIORITY</th><th>STATUS</th><th>EBV_MED</th><th>DESIGNHA</th><th>DONEFRAC</th><th>AVAILABLE</th></tr></thead>\n",
       "<thead><tr><th>int64</th><th>int32</th><th>float64</th><th>float64</th><th>str6</th><th>bool</th><th>float64</th><th>str8</th><th>float32</th><th>float32</th><th>float32</th><th>bool</th></tr></thead>\n",
       "<tr><td>12</td><td>0</td><td>150.04</td><td>2.286</td><td>BRIGHT</td><td>True</td><td>0.000e+00</td><td>done</td><td>0.022782475</td><td>0.00</td><td>1.0455</td><td>False</td></tr>\n",
       "<tr><td>13</td><td>1</td><td>150.061</td><td>2.069</td><td>BRIGHT</td><td>True</td><td>0.000e+00</td><td>done</td><td>0.023243327</td><td>0.00</td><td>1.1505</td><td>False</td></tr>\n",
       "<tr><td>14</td><td>2</td><td>150.212</td><td>2.226</td><td>BRIGHT</td><td>True</td><td>0.000e+00</td><td>done</td><td>0.022683823</td><td>0.00</td><td>1.0456</td><td>False</td></tr>\n",
       "<tr><td>15</td><td>3</td><td>149.98</td><td>2.171</td><td>BRIGHT</td><td>True</td><td>0.000e+00</td><td>done</td><td>0.023039486</td><td>0.00</td><td>1.1052</td><td>False</td></tr>\n",
       "<tr><td>16</td><td>4</td><td>150.187</td><td>2.099</td><td>BRIGHT</td><td>True</td><td>0.000e+00</td><td>done</td><td>0.023041949</td><td>0.00</td><td>1.0776</td><td>False</td></tr>\n",
       "<tr><td>17</td><td>5</td><td>150.106</td><td>2.302</td><td>BRIGHT</td><td>True</td><td>0.000e+00</td><td>done</td><td>0.022638734</td><td>0.00</td><td>1.1865</td><td>False</td></tr>\n",
       "<tr><td>18</td><td>6</td><td>149.993</td><td>2.237</td><td>BRIGHT</td><td>True</td><td>0.000e+00</td><td>done</td><td>0.022844847</td><td>0.00</td><td>1.4589</td><td>False</td></tr>\n",
       "<tr><td>19</td><td>7</td><td>150.128</td><td>2.065</td><td>BRIGHT</td><td>True</td><td>0.000e+00</td><td>done</td><td>0.023041053</td><td>0.00</td><td>1.3565</td><td>False</td></tr>\n",
       "<tr><td>20</td><td>8</td><td>150.17</td><td>2.28</td><td>BRIGHT</td><td>True</td><td>0.000e+00</td><td>done</td><td>0.02263027</td><td>0.00</td><td>1.1368</td><td>False</td></tr>\n",
       "<tr><td>21</td><td>9</td><td>150.005</td><td>2.108</td><td>BRIGHT</td><td>True</td><td>0.000e+00</td><td>done</td><td>0.023014165</td><td>21.81</td><td>1.1007</td><td>False</td></tr>\n",
       "<tr><td>...</td><td>...</td><td>...</td><td>...</td><td>...</td><td>...</td><td>...</td><td>...</td><td>...</td><td>...</td><td>...</td><td>...</td></tr>\n",
       "<tr><td>586</td><td>1</td><td>235.975</td><td>43.371</td><td>BRIGHT</td><td>True</td><td>1.350e+00</td><td>done</td><td>0.021532</td><td>21.63</td><td>2.3564</td><td>True</td></tr>\n",
       "<tr><td>587</td><td>2</td><td>236.264</td><td>43.433</td><td>BRIGHT</td><td>True</td><td>1.312e+00</td><td>done</td><td>0.020589</td><td>26.92</td><td>0.9812</td><td>True</td></tr>\n",
       "<tr><td>588</td><td>3</td><td>235.95</td><td>43.5</td><td>BRIGHT</td><td>True</td><td>1.181e+00</td><td>done</td><td>0.020734</td><td>23.36</td><td>1.0621</td><td>True</td></tr>\n",
       "<tr><td>589</td><td>4</td><td>236.146</td><td>43.335</td><td>BRIGHT</td><td>True</td><td>1.063e+00</td><td>done</td><td>0.021181</td><td>25.44</td><td>0.9214</td><td>True</td></tr>\n",
       "<tr><td>590</td><td>5</td><td>236.19</td><td>43.551</td><td>BRIGHT</td><td>True</td><td>9.566e-01</td><td>done</td><td>0.02021</td><td>25.61</td><td>1.1957</td><td>True</td></tr>\n",
       "<tr><td>591</td><td>6</td><td>236.01</td><td>43.551</td><td>BRIGHT</td><td>True</td><td>8.609e-01</td><td>done</td><td>0.020392</td><td>23.47</td><td>1.8217</td><td>True</td></tr>\n",
       "<tr><td>592</td><td>7</td><td>236.054</td><td>43.335</td><td>BRIGHT</td><td>True</td><td>7.748e-01</td><td>done</td><td>0.021404</td><td>20.12</td><td>1.0076</td><td>True</td></tr>\n",
       "<tr><td>593</td><td>8</td><td>236.25</td><td>43.5</td><td>BRIGHT</td><td>True</td><td>6.974e-01</td><td>done</td><td>0.020235</td><td>25.58</td><td>1.1524</td><td>True</td></tr>\n",
       "<tr><td>594</td><td>9</td><td>235.936</td><td>43.433</td><td>BRIGHT</td><td>True</td><td>6.276e-01</td><td>done</td><td>0.02112</td><td>19.39</td><td>1.2491</td><td>True</td></tr>\n",
       "<tr><td>595</td><td>10</td><td>236.225</td><td>43.371</td><td>BRIGHT</td><td>True</td><td>5.649e-01</td><td>done</td><td>0.020935</td><td>22.97</td><td>1.4720</td><td>True</td></tr>\n",
       "</table>"
      ],
      "text/plain": [
       "<Table length=220>\n",
       "TILEID  PASS    RA     DEC   PROGRAM ...   EBV_MED   DESIGNHA DONEFRAC AVAILABLE\n",
       "int64  int32 float64 float64   str6  ...   float32   float32  float32     bool  \n",
       "------ ----- ------- ------- ------- ... ----------- -------- -------- ---------\n",
       "    12     0  150.04   2.286  BRIGHT ... 0.022782475     0.00   1.0455     False\n",
       "    13     1 150.061   2.069  BRIGHT ... 0.023243327     0.00   1.1505     False\n",
       "    14     2 150.212   2.226  BRIGHT ... 0.022683823     0.00   1.0456     False\n",
       "    15     3  149.98   2.171  BRIGHT ... 0.023039486     0.00   1.1052     False\n",
       "    16     4 150.187   2.099  BRIGHT ... 0.023041949     0.00   1.0776     False\n",
       "    17     5 150.106   2.302  BRIGHT ... 0.022638734     0.00   1.1865     False\n",
       "    18     6 149.993   2.237  BRIGHT ... 0.022844847     0.00   1.4589     False\n",
       "    19     7 150.128   2.065  BRIGHT ... 0.023041053     0.00   1.3565     False\n",
       "    20     8  150.17    2.28  BRIGHT ...  0.02263027     0.00   1.1368     False\n",
       "    21     9 150.005   2.108  BRIGHT ... 0.023014165    21.81   1.1007     False\n",
       "   ...   ...     ...     ...     ... ...         ...      ...      ...       ...\n",
       "   586     1 235.975  43.371  BRIGHT ...    0.021532    21.63   2.3564      True\n",
       "   587     2 236.264  43.433  BRIGHT ...    0.020589    26.92   0.9812      True\n",
       "   588     3  235.95    43.5  BRIGHT ...    0.020734    23.36   1.0621      True\n",
       "   589     4 236.146  43.335  BRIGHT ...    0.021181    25.44   0.9214      True\n",
       "   590     5  236.19  43.551  BRIGHT ...     0.02021    25.61   1.1957      True\n",
       "   591     6  236.01  43.551  BRIGHT ...    0.020392    23.47   1.8217      True\n",
       "   592     7 236.054  43.335  BRIGHT ...    0.021404    20.12   1.0076      True\n",
       "   593     8  236.25    43.5  BRIGHT ...    0.020235    25.58   1.1524      True\n",
       "   594     9 235.936  43.433  BRIGHT ...     0.02112    19.39   1.2491      True\n",
       "   595    10 236.225  43.371  BRIGHT ...    0.020935    22.97   1.4720      True"
      ]
     },
     "execution_count": 16,
     "metadata": {},
     "output_type": "execute_result"
    }
   ],
   "source": [
    "tiles  = Table.read('/global/cfs/cdirs/desi/survey/ops/surveyops/trunk/ops/tiles-sv3.ecsv')\n",
    "btiles = tiles[tiles['PROGRAM'] == 'BRIGHT']\n",
    "btiles"
   ]
  },
  {
   "cell_type": "code",
   "execution_count": 42,
   "id": "83df09c4-4f4b-4b24-835a-eb19a287e7b8",
   "metadata": {},
   "outputs": [
    {
     "data": {
      "text/plain": [
       "(array(['done', 'unobs'], dtype='<U8'), array([214,   6]))"
      ]
     },
     "execution_count": 42,
     "metadata": {},
     "output_type": "execute_result"
    }
   ],
   "source": [
    "np.unique(btiles['STATUS'].data, return_counts=True)"
   ]
  },
  {
   "cell_type": "code",
   "execution_count": 34,
   "id": "025997bc-fd1e-45cc-84a7-858a827197d6",
   "metadata": {},
   "outputs": [
    {
     "data": {
      "text/html": [
       "<i>Table length=214</i>\n",
       "<table id=\"table46913248884048\" class=\"table-striped table-bordered table-condensed\">\n",
       "<thead><tr><th>TILEID</th><th>PASS</th><th>RA</th><th>DEC</th><th>PROGRAM</th><th>IN_DESI</th><th>PRIORITY</th><th>STATUS</th><th>EBV_MED</th><th>DESIGNHA</th><th>DONEFRAC</th><th>AVAILABLE</th></tr></thead>\n",
       "<thead><tr><th>int64</th><th>int32</th><th>float64</th><th>float64</th><th>str6</th><th>bool</th><th>float64</th><th>str8</th><th>float32</th><th>float32</th><th>float32</th><th>bool</th></tr></thead>\n",
       "<tr><td>12</td><td>0</td><td>150.04</td><td>2.286</td><td>BRIGHT</td><td>True</td><td>0.000e+00</td><td>done</td><td>0.022782475</td><td>0.00</td><td>1.0455</td><td>False</td></tr>\n",
       "<tr><td>13</td><td>1</td><td>150.061</td><td>2.069</td><td>BRIGHT</td><td>True</td><td>0.000e+00</td><td>done</td><td>0.023243327</td><td>0.00</td><td>1.1505</td><td>False</td></tr>\n",
       "<tr><td>14</td><td>2</td><td>150.212</td><td>2.226</td><td>BRIGHT</td><td>True</td><td>0.000e+00</td><td>done</td><td>0.022683823</td><td>0.00</td><td>1.0456</td><td>False</td></tr>\n",
       "<tr><td>15</td><td>3</td><td>149.98</td><td>2.171</td><td>BRIGHT</td><td>True</td><td>0.000e+00</td><td>done</td><td>0.023039486</td><td>0.00</td><td>1.1052</td><td>False</td></tr>\n",
       "<tr><td>16</td><td>4</td><td>150.187</td><td>2.099</td><td>BRIGHT</td><td>True</td><td>0.000e+00</td><td>done</td><td>0.023041949</td><td>0.00</td><td>1.0776</td><td>False</td></tr>\n",
       "<tr><td>17</td><td>5</td><td>150.106</td><td>2.302</td><td>BRIGHT</td><td>True</td><td>0.000e+00</td><td>done</td><td>0.022638734</td><td>0.00</td><td>1.1865</td><td>False</td></tr>\n",
       "<tr><td>18</td><td>6</td><td>149.993</td><td>2.237</td><td>BRIGHT</td><td>True</td><td>0.000e+00</td><td>done</td><td>0.022844847</td><td>0.00</td><td>1.4589</td><td>False</td></tr>\n",
       "<tr><td>19</td><td>7</td><td>150.128</td><td>2.065</td><td>BRIGHT</td><td>True</td><td>0.000e+00</td><td>done</td><td>0.023041053</td><td>0.00</td><td>1.3565</td><td>False</td></tr>\n",
       "<tr><td>20</td><td>8</td><td>150.17</td><td>2.28</td><td>BRIGHT</td><td>True</td><td>0.000e+00</td><td>done</td><td>0.02263027</td><td>0.00</td><td>1.1368</td><td>False</td></tr>\n",
       "<tr><td>21</td><td>9</td><td>150.005</td><td>2.108</td><td>BRIGHT</td><td>True</td><td>0.000e+00</td><td>done</td><td>0.023014165</td><td>21.81</td><td>1.1007</td><td>False</td></tr>\n",
       "<tr><td>...</td><td>...</td><td>...</td><td>...</td><td>...</td><td>...</td><td>...</td><td>...</td><td>...</td><td>...</td><td>...</td><td>...</td></tr>\n",
       "<tr><td>586</td><td>1</td><td>235.975</td><td>43.371</td><td>BRIGHT</td><td>True</td><td>1.350e+00</td><td>done</td><td>0.021532</td><td>21.63</td><td>2.3564</td><td>True</td></tr>\n",
       "<tr><td>587</td><td>2</td><td>236.264</td><td>43.433</td><td>BRIGHT</td><td>True</td><td>1.312e+00</td><td>done</td><td>0.020589</td><td>26.92</td><td>0.9812</td><td>True</td></tr>\n",
       "<tr><td>588</td><td>3</td><td>235.95</td><td>43.5</td><td>BRIGHT</td><td>True</td><td>1.181e+00</td><td>done</td><td>0.020734</td><td>23.36</td><td>1.0621</td><td>True</td></tr>\n",
       "<tr><td>589</td><td>4</td><td>236.146</td><td>43.335</td><td>BRIGHT</td><td>True</td><td>1.063e+00</td><td>done</td><td>0.021181</td><td>25.44</td><td>0.9214</td><td>True</td></tr>\n",
       "<tr><td>590</td><td>5</td><td>236.19</td><td>43.551</td><td>BRIGHT</td><td>True</td><td>9.566e-01</td><td>done</td><td>0.02021</td><td>25.61</td><td>1.1957</td><td>True</td></tr>\n",
       "<tr><td>591</td><td>6</td><td>236.01</td><td>43.551</td><td>BRIGHT</td><td>True</td><td>8.609e-01</td><td>done</td><td>0.020392</td><td>23.47</td><td>1.8217</td><td>True</td></tr>\n",
       "<tr><td>592</td><td>7</td><td>236.054</td><td>43.335</td><td>BRIGHT</td><td>True</td><td>7.748e-01</td><td>done</td><td>0.021404</td><td>20.12</td><td>1.0076</td><td>True</td></tr>\n",
       "<tr><td>593</td><td>8</td><td>236.25</td><td>43.5</td><td>BRIGHT</td><td>True</td><td>6.974e-01</td><td>done</td><td>0.020235</td><td>25.58</td><td>1.1524</td><td>True</td></tr>\n",
       "<tr><td>594</td><td>9</td><td>235.936</td><td>43.433</td><td>BRIGHT</td><td>True</td><td>6.276e-01</td><td>done</td><td>0.02112</td><td>19.39</td><td>1.2491</td><td>True</td></tr>\n",
       "<tr><td>595</td><td>10</td><td>236.225</td><td>43.371</td><td>BRIGHT</td><td>True</td><td>5.649e-01</td><td>done</td><td>0.020935</td><td>22.97</td><td>1.4720</td><td>True</td></tr>\n",
       "</table>"
      ],
      "text/plain": [
       "<Table length=214>\n",
       "TILEID  PASS    RA     DEC   PROGRAM ...   EBV_MED   DESIGNHA DONEFRAC AVAILABLE\n",
       "int64  int32 float64 float64   str6  ...   float32   float32  float32     bool  \n",
       "------ ----- ------- ------- ------- ... ----------- -------- -------- ---------\n",
       "    12     0  150.04   2.286  BRIGHT ... 0.022782475     0.00   1.0455     False\n",
       "    13     1 150.061   2.069  BRIGHT ... 0.023243327     0.00   1.1505     False\n",
       "    14     2 150.212   2.226  BRIGHT ... 0.022683823     0.00   1.0456     False\n",
       "    15     3  149.98   2.171  BRIGHT ... 0.023039486     0.00   1.1052     False\n",
       "    16     4 150.187   2.099  BRIGHT ... 0.023041949     0.00   1.0776     False\n",
       "    17     5 150.106   2.302  BRIGHT ... 0.022638734     0.00   1.1865     False\n",
       "    18     6 149.993   2.237  BRIGHT ... 0.022844847     0.00   1.4589     False\n",
       "    19     7 150.128   2.065  BRIGHT ... 0.023041053     0.00   1.3565     False\n",
       "    20     8  150.17    2.28  BRIGHT ...  0.02263027     0.00   1.1368     False\n",
       "    21     9 150.005   2.108  BRIGHT ... 0.023014165    21.81   1.1007     False\n",
       "   ...   ...     ...     ...     ... ...         ...      ...      ...       ...\n",
       "   586     1 235.975  43.371  BRIGHT ...    0.021532    21.63   2.3564      True\n",
       "   587     2 236.264  43.433  BRIGHT ...    0.020589    26.92   0.9812      True\n",
       "   588     3  235.95    43.5  BRIGHT ...    0.020734    23.36   1.0621      True\n",
       "   589     4 236.146  43.335  BRIGHT ...    0.021181    25.44   0.9214      True\n",
       "   590     5  236.19  43.551  BRIGHT ...     0.02021    25.61   1.1957      True\n",
       "   591     6  236.01  43.551  BRIGHT ...    0.020392    23.47   1.8217      True\n",
       "   592     7 236.054  43.335  BRIGHT ...    0.021404    20.12   1.0076      True\n",
       "   593     8  236.25    43.5  BRIGHT ...    0.020235    25.58   1.1524      True\n",
       "   594     9 235.936  43.433  BRIGHT ...     0.02112    19.39   1.2491      True\n",
       "   595    10 236.225  43.371  BRIGHT ...    0.020935    22.97   1.4720      True"
      ]
     },
     "execution_count": 34,
     "metadata": {},
     "output_type": "execute_result"
    }
   ],
   "source": [
    "done_btiles = btiles[btiles['STATUS'] == 'done']\n",
    "done_btiles"
   ]
  },
  {
   "cell_type": "code",
   "execution_count": 104,
   "id": "7d852f8b-fa13-4369-a751-ff0acdfa4b91",
   "metadata": {},
   "outputs": [
    {
     "data": {
      "text/plain": [
       "1.0"
      ]
     },
     "execution_count": 104,
     "metadata": {},
     "output_type": "execute_result"
    }
   ],
   "source": [
    "# All the randoms are in a done-bright tile. \n",
    "np.mean(np.isin(utids, done_btiles['TILEID'].data))"
   ]
  },
  {
   "cell_type": "code",
   "execution_count": 87,
   "id": "2aa5d9eb-7af5-4f44-a2ec-a10696f7a427",
   "metadata": {},
   "outputs": [
    {
     "data": {
      "text/plain": [
       "12"
      ]
     },
     "execution_count": 87,
     "metadata": {},
     "output_type": "execute_result"
    }
   ],
   "source": [
    "# some done bright tiles are missing randoms. almost\n",
    "# certainly last sv3 bright tiles. \n",
    "np.count_nonzero(~np.isin(done_btiles['TILEID'].data, utids))"
   ]
  },
  {
   "cell_type": "code",
   "execution_count": 88,
   "id": "1e9d8d2f-6e15-4584-8211-384e8cb7bc25",
   "metadata": {},
   "outputs": [
    {
     "data": {
      "text/html": [
       "<i>Table length=176</i>\n",
       "<table id=\"table46913248338272\" class=\"table-striped table-bordered table-condensed\">\n",
       "<thead><tr><th>TILEID</th><th>PASS</th><th>RA</th><th>DEC</th><th>PROGRAM</th><th>IN_DESI</th><th>PRIORITY</th><th>STATUS</th><th>EBV_MED</th><th>DESIGNHA</th><th>DONEFRAC</th><th>AVAILABLE</th></tr></thead>\n",
       "<thead><tr><th>int64</th><th>int32</th><th>float64</th><th>float64</th><th>str6</th><th>bool</th><th>float64</th><th>str8</th><th>float32</th><th>float32</th><th>float32</th><th>bool</th></tr></thead>\n",
       "<tr><td>12</td><td>0</td><td>150.04</td><td>2.286</td><td>BRIGHT</td><td>True</td><td>2.000e+00</td><td>done</td><td>0.022782475</td><td>-1.44</td><td>1.0455</td><td>False</td></tr>\n",
       "<tr><td>13</td><td>1</td><td>150.061</td><td>2.069</td><td>BRIGHT</td><td>True</td><td>1.800e+00</td><td>done</td><td>0.023243327</td><td>0.89</td><td>1.1505</td><td>False</td></tr>\n",
       "<tr><td>14</td><td>2</td><td>150.212</td><td>2.226</td><td>BRIGHT</td><td>True</td><td>1.620e+00</td><td>done</td><td>0.022683823</td><td>3.89</td><td>1.0456</td><td>False</td></tr>\n",
       "<tr><td>15</td><td>3</td><td>149.98</td><td>2.171</td><td>BRIGHT</td><td>True</td><td>7.290e-01</td><td>unobs</td><td>0.023039486</td><td>-1.33</td><td>0.0000</td><td>True</td></tr>\n",
       "<tr><td>16</td><td>4</td><td>150.187</td><td>2.099</td><td>BRIGHT</td><td>True</td><td>6.561e-01</td><td>unobs</td><td>0.023041949</td><td>6.34</td><td>0.0000</td><td>False</td></tr>\n",
       "<tr><td>17</td><td>5</td><td>150.106</td><td>2.302</td><td>BRIGHT</td><td>True</td><td>5.905e-01</td><td>unobs</td><td>0.022638734</td><td>1.16</td><td>0.0000</td><td>False</td></tr>\n",
       "<tr><td>18</td><td>6</td><td>149.993</td><td>2.237</td><td>BRIGHT</td><td>True</td><td>5.314e-01</td><td>unobs</td><td>0.022844847</td><td>-0.84</td><td>0.0000</td><td>False</td></tr>\n",
       "<tr><td>19</td><td>7</td><td>150.128</td><td>2.065</td><td>BRIGHT</td><td>True</td><td>4.783e-01</td><td>unobs</td><td>0.023041053</td><td>1.72</td><td>0.0000</td><td>False</td></tr>\n",
       "<tr><td>20</td><td>8</td><td>150.17</td><td>2.28</td><td>BRIGHT</td><td>True</td><td>4.305e-01</td><td>unobs</td><td>0.02263027</td><td>5.29</td><td>0.0000</td><td>False</td></tr>\n",
       "<tr><td>21</td><td>9</td><td>150.005</td><td>2.108</td><td>BRIGHT</td><td>True</td><td>3.874e-01</td><td>unobs</td><td>0.023014165</td><td>-1.71</td><td>0.0000</td><td>False</td></tr>\n",
       "<tr><td>...</td><td>...</td><td>...</td><td>...</td><td>...</td><td>...</td><td>...</td><td>...</td><td>...</td><td>...</td><td>...</td><td>...</td></tr>\n",
       "<tr><td>418</td><td>1</td><td>269.535</td><td>66.11</td><td>BRIGHT</td><td>True</td><td>9.000e-01</td><td>unobs</td><td>0.043825243</td><td>-1.78</td><td>0.0000</td><td>True</td></tr>\n",
       "<tr><td>419</td><td>2</td><td>269.69</td><td>65.901</td><td>BRIGHT</td><td>True</td><td>8.100e-01</td><td>unobs</td><td>0.043328945</td><td>5.64</td><td>0.0000</td><td>False</td></tr>\n",
       "<tr><td>420</td><td>3</td><td>269.852</td><td>66.129</td><td>BRIGHT</td><td>True</td><td>7.290e-01</td><td>unobs</td><td>0.043979287</td><td>3.40</td><td>0.0000</td><td>False</td></tr>\n",
       "<tr><td>421</td><td>4</td><td>269.447</td><td>65.985</td><td>BRIGHT</td><td>True</td><td>6.561e-01</td><td>unobs</td><td>0.043485764</td><td>-1.63</td><td>0.0000</td><td>False</td></tr>\n",
       "<tr><td>422</td><td>5</td><td>269.979</td><td>65.955</td><td>BRIGHT</td><td>True</td><td>5.905e-01</td><td>unobs</td><td>0.043406114</td><td>5.38</td><td>0.0000</td><td>False</td></tr>\n",
       "<tr><td>423</td><td>6</td><td>269.978</td><td>66.085</td><td>BRIGHT</td><td>True</td><td>5.314e-01</td><td>unobs</td><td>0.04372995</td><td>5.51</td><td>0.0000</td><td>False</td></tr>\n",
       "<tr><td>424</td><td>7</td><td>269.446</td><td>66.053</td><td>BRIGHT</td><td>True</td><td>4.783e-01</td><td>unobs</td><td>0.043469608</td><td>-1.70</td><td>0.0000</td><td>False</td></tr>\n",
       "<tr><td>425</td><td>8</td><td>269.853</td><td>65.911</td><td>BRIGHT</td><td>True</td><td>4.305e-01</td><td>unobs</td><td>0.043227986</td><td>5.59</td><td>0.0000</td><td>False</td></tr>\n",
       "<tr><td>426</td><td>9</td><td>269.686</td><td>66.139</td><td>BRIGHT</td><td>True</td><td>3.874e-01</td><td>unobs</td><td>0.04376335</td><td>0.37</td><td>0.0000</td><td>False</td></tr>\n",
       "<tr><td>427</td><td>10</td><td>269.538</td><td>65.929</td><td>BRIGHT</td><td>True</td><td>3.487e-01</td><td>unobs</td><td>0.043359235</td><td>-1.76</td><td>0.0000</td><td>False</td></tr>\n",
       "</table>"
      ],
      "text/plain": [
       "<Table length=176>\n",
       "TILEID  PASS    RA     DEC   PROGRAM ...   EBV_MED   DESIGNHA DONEFRAC AVAILABLE\n",
       "int64  int32 float64 float64   str6  ...   float32   float32  float32     bool  \n",
       "------ ----- ------- ------- ------- ... ----------- -------- -------- ---------\n",
       "    12     0  150.04   2.286  BRIGHT ... 0.022782475    -1.44   1.0455     False\n",
       "    13     1 150.061   2.069  BRIGHT ... 0.023243327     0.89   1.1505     False\n",
       "    14     2 150.212   2.226  BRIGHT ... 0.022683823     3.89   1.0456     False\n",
       "    15     3  149.98   2.171  BRIGHT ... 0.023039486    -1.33   0.0000      True\n",
       "    16     4 150.187   2.099  BRIGHT ... 0.023041949     6.34   0.0000     False\n",
       "    17     5 150.106   2.302  BRIGHT ... 0.022638734     1.16   0.0000     False\n",
       "    18     6 149.993   2.237  BRIGHT ... 0.022844847    -0.84   0.0000     False\n",
       "    19     7 150.128   2.065  BRIGHT ... 0.023041053     1.72   0.0000     False\n",
       "    20     8  150.17    2.28  BRIGHT ...  0.02263027     5.29   0.0000     False\n",
       "    21     9 150.005   2.108  BRIGHT ... 0.023014165    -1.71   0.0000     False\n",
       "   ...   ...     ...     ...     ... ...         ...      ...      ...       ...\n",
       "   418     1 269.535   66.11  BRIGHT ... 0.043825243    -1.78   0.0000      True\n",
       "   419     2  269.69  65.901  BRIGHT ... 0.043328945     5.64   0.0000     False\n",
       "   420     3 269.852  66.129  BRIGHT ... 0.043979287     3.40   0.0000     False\n",
       "   421     4 269.447  65.985  BRIGHT ... 0.043485764    -1.63   0.0000     False\n",
       "   422     5 269.979  65.955  BRIGHT ... 0.043406114     5.38   0.0000     False\n",
       "   423     6 269.978  66.085  BRIGHT ...  0.04372995     5.51   0.0000     False\n",
       "   424     7 269.446  66.053  BRIGHT ... 0.043469608    -1.70   0.0000     False\n",
       "   425     8 269.853  65.911  BRIGHT ... 0.043227986     5.59   0.0000     False\n",
       "   426     9 269.686  66.139  BRIGHT ...  0.04376335     0.37   0.0000     False\n",
       "   427    10 269.538  65.929  BRIGHT ... 0.043359235    -1.76   0.0000     False"
      ]
     },
     "execution_count": 88,
     "metadata": {},
     "output_type": "execute_result"
    }
   ],
   "source": [
    "ajs_tiles  = Table.read('/global/project/projectdirs/desi/mocks/bgs/MXXL/one_percent/tiles/v2/tiles-sv3.ecsv')\n",
    "ajs_btiles = ajs_tiles[ajs_tiles['PROGRAM'] == 'BRIGHT']\n",
    "ajs_btiles"
   ]
  },
  {
   "cell_type": "code",
   "execution_count": 89,
   "id": "cb403eb8-1c9e-48de-bb85-6695ab354046",
   "metadata": {},
   "outputs": [
    {
     "data": {
      "text/plain": [
       "(array(['done', 'obsstart', 'unobs'], dtype='<U8'), array([ 21,   2, 153]))"
      ]
     },
     "execution_count": 89,
     "metadata": {},
     "output_type": "execute_result"
    }
   ],
   "source": [
    "np.unique(ajs_btiles['STATUS'].data, return_counts=True)"
   ]
  },
  {
   "cell_type": "code",
   "execution_count": 90,
   "id": "f1cb8cc1-dbc4-47d0-8ed7-b29c5cce0d29",
   "metadata": {},
   "outputs": [],
   "source": [
    "ajs_done_btiles = ajs_btiles[ajs_btiles['STATUS'] == 'done']"
   ]
  },
  {
   "cell_type": "code",
   "execution_count": 91,
   "id": "ce3e3ec9-a90c-4353-b5b1-71be0b4a22fa",
   "metadata": {},
   "outputs": [
    {
     "data": {
      "text/plain": [
       "(300.0, 140.0)"
      ]
     },
     "execution_count": 91,
     "metadata": {},
     "output_type": "execute_result"
    },
    {
     "data": {
      "image/png": "[encoded data removed]",
      "text/plain": [
       "<Figure size 432x288 with 1 Axes>"
      ]
     },
     "metadata": {
      "needs_background": "light"
     },
     "output_type": "display_data"
    }
   ],
   "source": [
    "pl.plot(ajs_btiles['RA'],      ajs_btiles['DEC'], marker='.', lw=0.0)\n",
    "pl.plot(ajs_done_btiles['RA'], ajs_done_btiles['DEC'], marker='.', lw=0.0)\n",
    "\n",
    "pl.xlim(300., 140.)"
   ]
  },
  {
   "cell_type": "code",
   "execution_count": 92,
   "id": "9d0a0df9-26d9-4191-b710-90516a896a3b",
   "metadata": {},
   "outputs": [
    {
     "data": {
      "text/plain": [
       "0.9772727272727273"
      ]
     },
     "execution_count": 92,
     "metadata": {},
     "output_type": "execute_result"
    }
   ],
   "source": [
    "np.mean(np.isin(ajs_btiles['TILEID'].data, done_btiles['TILEID'].data))"
   ]
  },
  {
   "cell_type": "code",
   "execution_count": 93,
   "id": "9f41ff36-fcfd-4fd9-b7d6-8be084bef6c6",
   "metadata": {},
   "outputs": [],
   "source": [
    "ajr_btiles = btiles[np.isin(btiles['TILEID'], utids)]"
   ]
  },
  {
   "cell_type": "code",
   "execution_count": 94,
   "id": "239ee7ad-d0d0-4f9f-94e2-2a3866e21220",
   "metadata": {},
   "outputs": [
    {
     "data": {
      "text/plain": [
       "(214, 202)"
      ]
     },
     "execution_count": 94,
     "metadata": {},
     "output_type": "execute_result"
    }
   ],
   "source": [
    "len(done_btiles), len(ajr_btiles)"
   ]
  },
  {
   "cell_type": "code",
   "execution_count": 95,
   "id": "510e68e5-bd74-46c9-bb21-1002695d87d4",
   "metadata": {},
   "outputs": [
    {
     "data": {
      "text/html": [
       "<i>Table length=12</i>\n",
       "<table id=\"table46913256380160\" class=\"table-striped table-bordered table-condensed\">\n",
       "<thead><tr><th>TILEID</th><th>PASS</th><th>RA</th><th>DEC</th><th>PROGRAM</th><th>IN_DESI</th><th>PRIORITY</th><th>STATUS</th><th>EBV_MED</th><th>DESIGNHA</th><th>DONEFRAC</th><th>AVAILABLE</th></tr></thead>\n",
       "<thead><tr><th>int64</th><th>int32</th><th>float64</th><th>float64</th><th>str6</th><th>bool</th><th>float64</th><th>str8</th><th>float32</th><th>float32</th><th>float32</th><th>bool</th></tr></thead>\n",
       "<tr><td>49</td><td>10</td><td>179.691</td><td>-0.078</td><td>BRIGHT</td><td>True</td><td>5.230e-01</td><td>done</td><td>0.023374699</td><td>-0.23</td><td>1.1282</td><td>True</td></tr>\n",
       "<tr><td>76</td><td>10</td><td>183.186</td><td>-0.083</td><td>BRIGHT</td><td>True</td><td>5.649e-01</td><td>done</td><td>0.022645656</td><td>2.70</td><td>1.2449</td><td>True</td></tr>\n",
       "<tr><td>184</td><td>10</td><td>215.546</td><td>52.383</td><td>BRIGHT</td><td>True</td><td>5.230e-01</td><td>done</td><td>0.010210465</td><td>18.04</td><td>1.3376</td><td>True</td></tr>\n",
       "<tr><td>238</td><td>10</td><td>216.327</td><td>-0.717</td><td>BRIGHT</td><td>True</td><td>5.649e-01</td><td>done</td><td>0.043274514</td><td>18.89</td><td>1.3501</td><td>True</td></tr>\n",
       "<tr><td>265</td><td>10</td><td>219.819</td><td>-0.718</td><td>BRIGHT</td><td>True</td><td>5.509e-01</td><td>done</td><td>0.042082004</td><td>26.26</td><td>1.3888</td><td>True</td></tr>\n",
       "<tr><td>346</td><td>10</td><td>241.016</td><td>43.333</td><td>BRIGHT</td><td>True</td><td>5.649e-01</td><td>done</td><td>0.0134814745</td><td>26.84</td><td>1.4217</td><td>True</td></tr>\n",
       "<tr><td>373</td><td>10</td><td>245.832</td><td>43.335</td><td>BRIGHT</td><td>True</td><td>5.649e-01</td><td>done</td><td>0.01068321</td><td>25.77</td><td>1.4116</td><td>True</td></tr>\n",
       "<tr><td>400</td><td>10</td><td>252.442</td><td>34.39</td><td>BRIGHT</td><td>True</td><td>5.649e-01</td><td>done</td><td>0.021205533</td><td>24.21</td><td>1.4210</td><td>True</td></tr>\n",
       "<tr><td>427</td><td>10</td><td>269.538</td><td>65.929</td><td>BRIGHT</td><td>True</td><td>5.649e-01</td><td>done</td><td>0.043359235</td><td>12.22</td><td>1.5445</td><td>True</td></tr>\n",
       "<tr><td>504</td><td>9</td><td>194.619</td><td>24.683</td><td>BRIGHT</td><td>True</td><td>0.000e+00</td><td>done</td><td>0.013845</td><td>4.43</td><td>1.3325</td><td>False</td></tr>\n",
       "<tr><td>565</td><td>10</td><td>269.926</td><td>62.441</td><td>BRIGHT</td><td>True</td><td>5.649e-01</td><td>done</td><td>0.033343</td><td>15.57</td><td>1.5834</td><td>True</td></tr>\n",
       "<tr><td>595</td><td>10</td><td>236.225</td><td>43.371</td><td>BRIGHT</td><td>True</td><td>5.649e-01</td><td>done</td><td>0.020935</td><td>22.97</td><td>1.4720</td><td>True</td></tr>\n",
       "</table>"
      ],
      "text/plain": [
       "<Table length=12>\n",
       "TILEID  PASS    RA     DEC   ...   EBV_MED    DESIGNHA DONEFRAC AVAILABLE\n",
       "int64  int32 float64 float64 ...   float32    float32  float32     bool  \n",
       "------ ----- ------- ------- ... ------------ -------- -------- ---------\n",
       "    49    10 179.691  -0.078 ...  0.023374699    -0.23   1.1282      True\n",
       "    76    10 183.186  -0.083 ...  0.022645656     2.70   1.2449      True\n",
       "   184    10 215.546  52.383 ...  0.010210465    18.04   1.3376      True\n",
       "   238    10 216.327  -0.717 ...  0.043274514    18.89   1.3501      True\n",
       "   265    10 219.819  -0.718 ...  0.042082004    26.26   1.3888      True\n",
       "   346    10 241.016  43.333 ... 0.0134814745    26.84   1.4217      True\n",
       "   373    10 245.832  43.335 ...   0.01068321    25.77   1.4116      True\n",
       "   400    10 252.442   34.39 ...  0.021205533    24.21   1.4210      True\n",
       "   427    10 269.538  65.929 ...  0.043359235    12.22   1.5445      True\n",
       "   504     9 194.619  24.683 ...     0.013845     4.43   1.3325     False\n",
       "   565    10 269.926  62.441 ...     0.033343    15.57   1.5834      True\n",
       "   595    10 236.225  43.371 ...     0.020935    22.97   1.4720      True"
      ]
     },
     "execution_count": 95,
     "metadata": {},
     "output_type": "execute_result"
    }
   ],
   "source": [
    "diff = done_btiles[~np.isin(done_btiles['TILEID'], ajr_btiles['TILEID'])]\n",
    "diff"
   ]
  },
  {
   "cell_type": "code",
   "execution_count": 105,
   "id": "9aeda42b-0b25-44b8-ad05-82e836e191e7",
   "metadata": {},
   "outputs": [
    {
     "data": {
      "text/plain": [
       "(<Column name='STATUS' dtype='str8' description='unobs, obsstart, obsend, done' length=1>\n",
       " done,\n",
       " array([202]))"
      ]
     },
     "execution_count": 105,
     "metadata": {},
     "output_type": "execute_result"
    }
   ],
   "source": [
    "np.unique(ajr_btiles['STATUS'], return_counts=True)"
   ]
  },
  {
   "cell_type": "code",
   "execution_count": 107,
   "id": "f07703f9-5313-4f11-b2db-f4ac9ba36b0c",
   "metadata": {},
   "outputs": [
    {
     "data": {
      "image/png": "[encoded data removed]",
      "text/plain": [
       "<Figure size 468x468 with 1 Axes>"
      ]
     },
     "metadata": {
      "needs_background": "light"
     },
     "output_type": "display_data"
    }
   ],
   "source": [
    "pl.plot(done_btiles['RA'], done_btiles['DEC'], marker='.', lw=0.0, label='Done bright')\n",
    "pl.plot( ajs_btiles['RA'],  ajs_btiles['DEC'], marker='.', lw=0.0, label='AJS')\n",
    "\n",
    "pl.xlim(300., 130.)\n",
    "\n",
    "pl.xlabel('RA')\n",
    "pl.ylabel('DEC')\n",
    "\n",
    "pl.legend()\n",
    "\n",
    "fig = matplotlib.pyplot.gcf()\n",
    "fig.set_size_inches(6.5, 6.5)"
   ]
  },
  {
   "cell_type": "code",
   "execution_count": 108,
   "id": "ee83afd5-3618-40da-8b84-6714d0a6802f",
   "metadata": {},
   "outputs": [
    {
     "data": {
      "image/png": "[encoded data removed]",
      "text/plain": [
       "<Figure size 468x468 with 1 Axes>"
      ]
     },
     "metadata": {
      "needs_background": "light"
     },
     "output_type": "display_data"
    }
   ],
   "source": [
    "pl.plot(done_btiles['RA'], done_btiles['DEC'], marker='.', lw=0.0, label='Done bright')\n",
    "pl.plot( diff['RA'],  diff['DEC'], marker='.', lw=0.0, label='AJR DIFF', color='magenta')\n",
    "\n",
    "pl.xlim(300., 130.)\n",
    "\n",
    "pl.xlabel('RA')\n",
    "pl.ylabel('DEC')\n",
    "\n",
    "pl.legend()\n",
    "\n",
    "fig = matplotlib.pyplot.gcf()\n",
    "fig.set_size_inches(6.5, 6.5)"
   ]
  },
  {
   "cell_type": "markdown",
   "id": "d06b60f7-de64-44f6-a5bd-3491e97b06c1",
   "metadata": {},
   "source": [
    "# Done."
   ]
  }
 ],
 "metadata": {
  "kernelspec": {
   "display_name": "DESI master",
   "language": "python",
   "name": "desi-master"
  },
  "language_info": {
   "codemirror_mode": {
    "name": "ipython",
    "version": 3
   },
   "file_extension": ".py",
   "mimetype": "text/x-python",
   "name": "python",
   "nbconvert_exporter": "python",
   "pygments_lexer": "ipython3",
   "version": "3.8.3"
  }
 },
 "nbformat": 4,
 "nbformat_minor": 5
}
