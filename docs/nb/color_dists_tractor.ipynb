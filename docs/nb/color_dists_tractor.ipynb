{
 "cells": [
  {
   "cell_type": "code",
   "execution_count": 1,
   "id": "9456eb5c-bc13-45d9-afb9-8b75ba9a66f0",
   "metadata": {},
   "outputs": [
    {
     "name": "stderr",
     "output_type": "stream",
     "text": [
      "WARNING: leap-second auto-update failed due to the following exception: RuntimeError('Cache is locked after 5.03 s. This may indicate an astropy bug or that kill -9 was used. If you want to unlock the cache remove the directory /global/homes/m/mjwilson/.astropy/cache/download/py3/lock. Lock claims to be held by process .') [astropy.time.core]\n"
     ]
    }
   ],
   "source": [
    "import os \n",
    "import healpy as hp\n",
    "import numpy as np\n",
    "import pylab as pl\n",
    "import desitarget\n",
    "import astropy.table as atable\n",
    "import astropy.io.fits as fits\n",
    "import matplotlib.pyplot as plt\n",
    "\n",
    "from   desitarget.cuts import isBGS as official_isBGS\n",
    "from   desitarget.targets import desi_mask, bgs_mask, mws_mask\n",
    "from   astropy.table import Table, vstack, join\n",
    "from   desitarget.mtl import inflate_ledger\n",
    "from   desitarget.targetmask import bgs_mask"
   ]
  },
  {
   "cell_type": "code",
   "execution_count": 2,
   "id": "598a4e57-935d-4002-9fea-79ade0de0bd3",
   "metadata": {},
   "outputs": [],
   "source": [
    "fpath = '/global/cfs/cdirs/cosmo/data/legacysurvey/dr9/north/sweep/9.0/sweep-110p040-120p045.fits'"
   ]
  },
  {
   "cell_type": "code",
   "execution_count": 3,
   "id": "819485df-80c4-4b26-be91-69cc31a75e88",
   "metadata": {},
   "outputs": [
    {
     "data": {
      "text/plain": [
       "SIMPLE  =                    T / file does conform to FITS standard             \n",
       "BITPIX  =                   16 / number of bits per data pixel                  \n",
       "NAXIS   =                    0 / number of data axes                            \n",
       "EXTEND  =                    T / FITS dataset may contain extensions            \n",
       "COMMENT   FITS (Flexible Image Transport System) format is defined in 'Astronomy\n",
       "COMMENT   and Astrophysics', volume 376, page 359; bibcode: 2001A&A...376..359H \n",
       "ABIT_0  = 'badpix  '                                                            \n",
       "ABIT_1  = 'satur   '                                                            \n",
       "ABIT_11 = 'outlier '                                                            \n",
       "ABIT_2  = 'interp  '                                                            \n",
       "ABIT_4  = 'cr      '                                                            \n",
       "ABIT_6  = 'bleed   '                                                            \n",
       "ABIT_7  = 'trans   '                                                            \n",
       "ABIT_8  = 'edge    '                                                            \n",
       "ABIT_9  = 'edge2   '                                                            \n",
       "AM_BADPI=                    1                                                  \n",
       "AM_BLEED=                   64                                                  \n",
       "AM_CR   =                   16                                                  \n",
       "AM_EDGE =                  256                                                  \n",
       "AM_EDGE2=                  512                                                  \n",
       "AM_INTER=                    4                                                  \n",
       "AM_OUTLI=                 2048                                                  \n",
       "AM_SATUR=                    2                                                  \n",
       "AM_TRANS=                  128                                                  \n",
       "APRAD0  =                  0.5                                                  \n",
       "APRAD1  =                 0.75                                                  \n",
       "APRAD2  =                   1.                                                  \n",
       "APRAD3  =                  1.5                                                  \n",
       "APRAD4  =                   2.                                                  \n",
       "APRAD5  =                  3.5                                                  \n",
       "APRAD6  =                   5.                                                  \n",
       "APRAD7  =                   7.                                                  \n",
       "ARRAY_ID= 'none    '                                                            \n",
       "BAND0   = 'g       '                                                            \n",
       "BAND1   = 'r       '                                                            \n",
       "BAND2   = 'z       '                                                            \n",
       "BANDS   = 'grz     '                                                            \n",
       "BRICK_G =                    T                                                  \n",
       "BRICK_R =                    T                                                  \n",
       "BRICK_Z =                    T                                                  \n",
       "CAMS_G  = '90prime '                                                            \n",
       "CAMS_R  = '90prime '                                                            \n",
       "CAMS_Z  = 'mosaic  '                                                            \n",
       "COMMENT   FITS (Flexible Image Transport System) format is defined in 'Astronomy\n",
       "DCHISQ_0= 'PSF     '                                                            \n",
       "DCHISQ_1= 'REX     '                                                            \n",
       "DCHISQ_2= 'DEV     '                                                            \n",
       "DCHISQ_3= 'EXP     '                                                            \n",
       "DCHISQ_4= 'SER     '                                                            \n",
       "DECMAX  =                  45.                                                  \n",
       "DECMIN  =                  40.                                                  \n",
       "DEPNAM00= 'astrometry'                                                          \n",
       "DEPNAM01= 'astropy '                                                            \n",
       "DEPNAM02= 'fitsio  '                                                            \n",
       "DEPNAM03= 'matplotlib'                                                          \n",
       "DEPNAM04= 'mkl_fft '                                                            \n",
       "DEPNAM05= 'numpy   '                                                            \n",
       "DEPNAM06= 'photutils'                                                           \n",
       "DEPNAM07= 'scipy   '                                                            \n",
       "DEPNAM08= 'tractor '                                                            \n",
       "DEPNAM09= 'unwise_psf'                                                          \n",
       "DEPNAM10= 'LARGEGALAXIES_CAT'                                                   \n",
       "DEPNAM11= 'LARGEGALAXIES_VER'                                                   \n",
       "DEPNAM12= 'LARGEGALAXIES_PREBURN'                                               \n",
       "DEPNAM13= 'TYCHO2_KD'                                                           \n",
       "DEPNAM14= 'GAIA_CAT'                                                            \n",
       "DEPNAM15= 'SKY_TEMPLATE'                                                        \n",
       "DEPNAM16= 'unwise  '                                                            \n",
       "DEPNAM17= 'unwise_tr'                                                           \n",
       "DEPNAM18= 'unwise_modelsky'                                                     \n",
       "DEPNAM19= 'gen_sweep'                                                           \n",
       "DEPVER02= '1.1.2   '                                                            \n",
       "DEPVER04= '1.0.15  '                                                            \n",
       "DEPVER05= '1.17.5  '                                                            \n",
       "DEPVER07= '1.3.3   '                                                            \n",
       "DEPVER08= 'dr9.4   '                                                            \n",
       "DEPVER09= 'dr9.3   '                                                            \n",
       "DEPVER10= '/global/cfs/cdirs/cosmo/staging/largegalaxies/v3.0/SGA-ellipse-v3.0&'\n",
       "CONTINUE  '.kd.fits'                                                            \n",
       "DEPVER11= 'L3      '                                                            \n",
       "DEPVER12=                    T                                                  \n",
       "DEPVER13= '/global/cfs/cdirs/cosmo/staging/tycho2'                              \n",
       "DEPVER14= '/global/cfs/cdirs/cosmo/work/gaia/chunks-gaia-dr2-astrom-2'          \n",
       "DEPVER16= '/global/cfs/cdirs/cosmo/data/unwise/neo6/unwise-coadds/fulldepth:/g&'\n",
       "CONTINUE  'lobal/cfs/cdirs/cosmo/data/unwise/allwise/unwise-coadds/fulldepth'   \n",
       "DEPVER17= '/global/cfs/cdirs/cosmo/work/wise/outputs/merge/neo6'                \n",
       "DEPVER18= '/global/cfs/cdirs/cosmo/data/unwise/neo6/unwise-catalog/mod'         \n",
       "DEPVER19= 'DR9.6.7 '                                                            \n",
       "DRVERSIO=                 9011                                                  \n",
       "FBIT_0  = 'FORCED_POINTSOURCE'                                                  \n",
       "FBIT_1  = 'FIT_BACKGROUND'                                                      \n",
       "FBIT_10 = 'WALKER  '                                                            \n",
       "FBIT_11 = 'RUNNER  '                                                            \n",
       "FBIT_12 = 'GAIA_POINTSOURCE'                                                    \n",
       "FBIT_13 = 'ITERATIVE'                                                           \n",
       "FBIT_2  = 'HIT_RADIUS_LIMIT'                                                    \n",
       "FBIT_3  = 'HIT_SERSIC_LIMIT'                                                    \n",
       "FBIT_4  = 'FROZEN  '                                                            \n",
       "FBIT_5  = 'BRIGHT  '                                                            \n",
       "FBIT_6  = 'MEDIUM  '                                                            \n",
       "FBIT_7  = 'GAIA    '                                                            \n",
       "FBIT_8  = 'TYCHO2  '                                                            \n",
       "FBIT_9  = 'LARGEGALAXY'                                                         \n",
       "FB_BRITE=                   32                                                  \n",
       "FB_FITBG=                    2                                                  \n",
       "FB_FPSF =                    1                                                  \n",
       "FB_FROZE=                   16                                                  \n",
       "FB_GAIA =                  128                                                  \n",
       "FB_GPSF =                 4096                                                  \n",
       "FB_ITER =                 8192                                                  \n",
       "FB_LGAL =                  512                                                  \n",
       "FB_MED  =                   64                                                  \n",
       "FB_RLIM =                    4                                                  \n",
       "FB_RUN  =                 2048                                                  \n",
       "FB_SLIM =                    8                                                  \n",
       "FB_TYCHO=                  256                                                  \n",
       "FB_WALK =                 1024                                                  \n",
       "GALFRPSF=                    T                                                  \n",
       "HOSTNAME= 'cori    '                                                            \n",
       "LESSMASK=                    F                                                  \n",
       "LSDR    = 'DR9     '                                                            \n",
       "MBIT_0  = 'NPRIMARY'                                                            \n",
       "MBIT_1  = 'BRIGHT  '                                                            \n",
       "MBIT_10 = 'BAILOUT '                                                            \n",
       "MBIT_11 = 'MEDIUM  '                                                            \n",
       "MBIT_12 = 'GALAXY  '                                                            \n",
       "MBIT_13 = 'CLUSTER '                                                            \n",
       "MBIT_2  = 'SATUR_G '                                                            \n",
       "MBIT_3  = 'SATUR_R '                                                            \n",
       "MBIT_4  = 'SATUR_Z '                                                            \n",
       "MBIT_5  = 'ALLMASK_G'                                                           \n",
       "MBIT_6  = 'ALLMASK_R'                                                           \n",
       "MBIT_7  = 'ALLMASK_Z'                                                           \n",
       "MBIT_8  = 'WISEM1  '                                                            \n",
       "MBIT_9  = 'WISEM2  '                                                            \n",
       "MB_ALL_G=                   32                                                  \n",
       "MB_ALL_R=                   64                                                  \n",
       "MB_ALL_Z=                  128                                                  \n",
       "MB_BAIL =                 1024                                                  \n",
       "MB_BRIGH=                    2                                                  \n",
       "MB_CLUST=                 8192                                                  \n",
       "MB_GAL  =                 4096                                                  \n",
       "MB_MED  =                 2048                                                  \n",
       "MB_NPRIM=                    1                                                  \n",
       "MB_SAT_G=                    4                                                  \n",
       "MB_SAT_R=                    8                                                  \n",
       "MB_SAT_Z=                   16                                                  \n",
       "MB_WISE1=                  256                                                  \n",
       "MB_WISE2=                  512                                                  \n",
       "NBANDS  =                    3                                                  \n",
       "OBSTYPE = 'object  '                                                            \n",
       "OUTLIER =                    T                                                  \n",
       "PROCTYPE= 'tile    '                                                            \n",
       "PRODTYPE= 'catalog '                                                            \n",
       "RAMAX   =                 120.                                                  \n",
       "RAMIN   =                 110.                                                  \n",
       "SURVEY  = 'DECaLS+BASS+MzLS'                                                    \n",
       "SURVEYID= 'DECaLS BASS MzLS'                                                    \n",
       "UNWISD1 = '/global/cfs/cdirs/cosmo/data/unwise/neo6/unwise-coadds/fulldepth'    \n",
       "UNWISD2 = '/global/cfs/cdirs/cosmo/data/unwise/allwise/unwise-coadds/fulldepth' \n",
       "UNWISSKY= '/global/cfs/cdirs/cosmo/data/unwise/neo6/unwise-catalog/mod'         \n",
       "UNWISTD = '/global/cfs/cdirs/cosmo/work/wise/outputs/merge/neo6'                \n",
       "VER_TIMS= 'DR9.6.7 '                                                            \n",
       "WAPRAD0 =                   3.                                                  \n",
       "WAPRAD1 =                   5.                                                  \n",
       "WAPRAD2 =                   7.                                                  \n",
       "WAPRAD3 =                   9.                                                  \n",
       "WAPRAD4 =                  11.                                                  \n",
       "WBIT_0  = 'BRIGHT  '                                                            \n",
       "WBIT_1  = 'SPIKE   '                                                            \n",
       "WBIT_2  = 'GHOST   '                                                            \n",
       "WBIT_3  = 'LATENT  '                                                            \n",
       "WBIT_4  = 'LATENT2 '                                                            \n",
       "WBIT_5  = 'HALO    '                                                            \n",
       "WBIT_6  = 'SATUR   '                                                            \n",
       "WBIT_7  = 'SPIKE2  '                                                            \n",
       "WB_BRIGH=                    1                                                  \n",
       "WB_GHOST=                    4                                                  \n",
       "WB_HALO =                   32                                                  \n",
       "WB_LATN2=                   16                                                  \n",
       "WB_LATNT=                    8                                                  \n",
       "WB_SATUR=                   64                                                  \n",
       "WB_SPIK2=                  128                                                  \n",
       "WB_SPIKE=                    2                                                  \n",
       "WISEAB1 =                2.699                                                  \n",
       "WISEAB2 =                3.339                                                  \n",
       "WISEAB3 =                5.174                                                  \n",
       "WISEAB4 =                 6.62                                                  "
      ]
     },
     "execution_count": 3,
     "metadata": {},
     "output_type": "execute_result"
    }
   ],
   "source": [
    "hdr   = fits.open(fpath)[0].header\n",
    "hdr"
   ]
  },
  {
   "cell_type": "markdown",
   "id": "14395d84-eaee-485f-a5a6-e7a9ea5fb789",
   "metadata": {},
   "source": [
    "#####  A sweep file contains the targets identified with high significance in the legacy imaging.  We then apply color/quality cuts to these to define the desi target classes."
   ]
  },
  {
   "cell_type": "code",
   "execution_count": 6,
   "id": "07f948c2-20cf-430a-9e5f-893427e771af",
   "metadata": {},
   "outputs": [
    {
     "data": {
      "text/html": [
       "<i>Table length=2592942</i>\n",
       "<table id=\"table46914470222432\" class=\"table-striped table-bordered table-condensed\">\n",
       "<thead><tr><th>RELEASE</th><th>BRICKID</th><th>BRICKNAME</th><th>OBJID</th><th>TYPE</th><th>RA</th><th>DEC</th><th>RA_IVAR</th><th>DEC_IVAR</th><th>DCHISQ [5]</th><th>EBV</th><th>FLUX_G</th><th>FLUX_R</th><th>FLUX_Z</th><th>FLUX_W1</th><th>FLUX_W2</th><th>FLUX_W3</th><th>FLUX_W4</th><th>FLUX_IVAR_G</th><th>FLUX_IVAR_R</th><th>FLUX_IVAR_Z</th><th>FLUX_IVAR_W1</th><th>FLUX_IVAR_W2</th><th>FLUX_IVAR_W3</th><th>FLUX_IVAR_W4</th><th>MW_TRANSMISSION_G</th><th>MW_TRANSMISSION_R</th><th>MW_TRANSMISSION_Z</th><th>MW_TRANSMISSION_W1</th><th>MW_TRANSMISSION_W2</th><th>MW_TRANSMISSION_W3</th><th>MW_TRANSMISSION_W4</th><th>NOBS_G</th><th>NOBS_R</th><th>NOBS_Z</th><th>NOBS_W1</th><th>NOBS_W2</th><th>NOBS_W3</th><th>NOBS_W4</th><th>RCHISQ_G</th><th>RCHISQ_R</th><th>RCHISQ_Z</th><th>RCHISQ_W1</th><th>RCHISQ_W2</th><th>RCHISQ_W3</th><th>RCHISQ_W4</th><th>FRACFLUX_G</th><th>FRACFLUX_R</th><th>FRACFLUX_Z</th><th>FRACFLUX_W1</th><th>FRACFLUX_W2</th><th>FRACFLUX_W3</th><th>FRACFLUX_W4</th><th>FRACMASKED_G</th><th>FRACMASKED_R</th><th>FRACMASKED_Z</th><th>FRACIN_G</th><th>FRACIN_R</th><th>FRACIN_Z</th><th>ANYMASK_G</th><th>ANYMASK_R</th><th>ANYMASK_Z</th><th>ALLMASK_G</th><th>ALLMASK_R</th><th>ALLMASK_Z</th><th>WISEMASK_W1</th><th>WISEMASK_W2</th><th>PSFSIZE_G</th><th>PSFSIZE_R</th><th>PSFSIZE_Z</th><th>PSFDEPTH_G</th><th>PSFDEPTH_R</th><th>PSFDEPTH_Z</th><th>GALDEPTH_G</th><th>GALDEPTH_R</th><th>GALDEPTH_Z</th><th>PSFDEPTH_W1</th><th>PSFDEPTH_W2</th><th>WISE_COADD_ID</th><th>SHAPE_R</th><th>SHAPE_R_IVAR</th><th>SHAPE_E1</th><th>SHAPE_E1_IVAR</th><th>SHAPE_E2</th><th>SHAPE_E2_IVAR</th><th>FIBERFLUX_G</th><th>FIBERFLUX_R</th><th>FIBERFLUX_Z</th><th>FIBERTOTFLUX_G</th><th>FIBERTOTFLUX_R</th><th>FIBERTOTFLUX_Z</th><th>REF_CAT</th><th>REF_ID</th><th>REF_EPOCH</th><th>GAIA_PHOT_G_MEAN_MAG</th><th>GAIA_PHOT_G_MEAN_FLUX_OVER_ERROR</th><th>GAIA_PHOT_BP_MEAN_MAG</th><th>GAIA_PHOT_BP_MEAN_FLUX_OVER_ERROR</th><th>GAIA_PHOT_RP_MEAN_MAG</th><th>GAIA_PHOT_RP_MEAN_FLUX_OVER_ERROR</th><th>GAIA_ASTROMETRIC_EXCESS_NOISE</th><th>GAIA_DUPLICATED_SOURCE</th><th>GAIA_PHOT_BP_RP_EXCESS_FACTOR</th><th>GAIA_ASTROMETRIC_SIGMA5D_MAX</th><th>GAIA_ASTROMETRIC_PARAMS_SOLVED</th><th>PARALLAX</th><th>PARALLAX_IVAR</th><th>PMRA</th><th>PMRA_IVAR</th><th>PMDEC</th><th>PMDEC_IVAR</th><th>MASKBITS</th><th>FITBITS</th><th>SERSIC</th><th>SERSIC_IVAR</th></tr></thead>\n",
       "<thead><tr><th></th><th></th><th></th><th></th><th></th><th>deg</th><th>deg</th><th>1/deg^2</th><th>1/deg^2</th><th></th><th>mag</th><th>nanomaggy</th><th>nanomaggy</th><th>nanomaggy</th><th>nanomaggy</th><th>nanomaggy</th><th>nanomaggy</th><th>nanomaggy</th><th>1/nanomaggy^2</th><th>1/nanomaggy^2</th><th>1/nanomaggy^2</th><th>1/nanomaggy^2</th><th>1/nanomaggy^2</th><th>1/nanomaggy^2</th><th>1/nanomaggy^2</th><th></th><th></th><th></th><th></th><th></th><th></th><th></th><th></th><th></th><th></th><th></th><th></th><th></th><th></th><th></th><th></th><th></th><th></th><th></th><th></th><th></th><th></th><th></th><th></th><th></th><th></th><th></th><th></th><th></th><th></th><th></th><th></th><th></th><th></th><th></th><th></th><th></th><th></th><th></th><th></th><th></th><th></th><th>arcsec</th><th>arcsec</th><th>arcsec</th><th>1/nanomaggy^2</th><th>1/nanomaggy^2</th><th>1/nanomaggy^2</th><th>1/nanomaggy^2</th><th>1/nanomaggy^2</th><th>1/nanomaggy^2</th><th>1/nanomaggy^2</th><th>1/nanomaggy^2</th><th></th><th>arcsec</th><th>1/arcsec^2</th><th></th><th></th><th></th><th></th><th>nanomaggy</th><th>nanomaggy</th><th>nanomaggy</th><th>nanomaggy</th><th>nanomaggy</th><th>nanomaggy</th><th></th><th></th><th></th><th>mag</th><th></th><th>mag</th><th></th><th>mag</th><th></th><th></th><th></th><th></th><th></th><th></th><th>mas</th><th>1/mas^2</th><th>mas / yr</th><th>1/(mas/yr)^2</th><th>mas / yr</th><th>1/(mas/yr)^2</th><th></th><th></th><th></th><th></th></tr></thead>\n",
       "<thead><tr><th>int16</th><th>int32</th><th>bytes8</th><th>int32</th><th>bytes3</th><th>float64</th><th>float64</th><th>float32</th><th>float32</th><th>float32</th><th>float32</th><th>float32</th><th>float32</th><th>float32</th><th>float32</th><th>float32</th><th>float32</th><th>float32</th><th>float32</th><th>float32</th><th>float32</th><th>float32</th><th>float32</th><th>float32</th><th>float32</th><th>float32</th><th>float32</th><th>float32</th><th>float32</th><th>float32</th><th>float32</th><th>float32</th><th>int16</th><th>int16</th><th>int16</th><th>int16</th><th>int16</th><th>int16</th><th>int16</th><th>float32</th><th>float32</th><th>float32</th><th>float32</th><th>float32</th><th>float32</th><th>float32</th><th>float32</th><th>float32</th><th>float32</th><th>float32</th><th>float32</th><th>float32</th><th>float32</th><th>float32</th><th>float32</th><th>float32</th><th>float32</th><th>float32</th><th>float32</th><th>int16</th><th>int16</th><th>int16</th><th>int16</th><th>int16</th><th>int16</th><th>uint8</th><th>uint8</th><th>float32</th><th>float32</th><th>float32</th><th>float32</th><th>float32</th><th>float32</th><th>float32</th><th>float32</th><th>float32</th><th>float32</th><th>float32</th><th>bytes8</th><th>float32</th><th>float32</th><th>float32</th><th>float32</th><th>float32</th><th>float32</th><th>float32</th><th>float32</th><th>float32</th><th>float32</th><th>float32</th><th>float32</th><th>bytes2</th><th>int64</th><th>float32</th><th>float32</th><th>float32</th><th>float32</th><th>float32</th><th>float32</th><th>float32</th><th>float32</th><th>bool</th><th>float32</th><th>float32</th><th>uint8</th><th>float32</th><th>float32</th><th>float32</th><th>float32</th><th>float32</th><th>float32</th><th>int16</th><th>int16</th><th>float32</th><th>float32</th></tr></thead>\n",
       "<tr><td>9011</td><td>552082</td><td>1194p420</td><td>42</td><td>EXP</td><td>119.32969576972934</td><td>42.05642654051471</td><td>26915970000.0</td><td>37931594000.0</td><td>2384.4014 .. 2915.4683</td><td>0.041119073</td><td>1.164664</td><td>2.5052507</td><td>4.068865</td><td>-2.1098313</td><td>-11.168235</td><td>405.74197</td><td>6125.4565</td><td>451.39877</td><td>163.5678</td><td>77.68543</td><td>2.6957834</td><td>0.6716624</td><td>0.0008356708</td><td>1.1643888e-05</td><td>0.8853955</td><td>0.92127836</td><td>0.9551727</td><td>0.99305576</td><td>0.9957296</td><td>0.9990877</td><td>0.9996554</td><td>4</td><td>4</td><td>5</td><td>172</td><td>173</td><td>13</td><td>14</td><td>0.8612448</td><td>1.1506696</td><td>1.0679998</td><td>1.0555483</td><td>0.35786352</td><td>0.518118</td><td>0.08051461</td><td>0.06831313</td><td>0.038865436</td><td>0.08412386</td><td>18.60791</td><td>3.455831</td><td>0.9046269</td><td>1.1013702</td><td>0.016013531</td><td>0.008529627</td><td>0.0063300547</td><td>1.0</td><td>1.0</td><td>0.84500825</td><td>0</td><td>0</td><td>0</td><td>0</td><td>0</td><td>0</td><td>0</td><td>0</td><td>1.6437201</td><td>1.600499</td><td>1.2021023</td><td>1045.176</td><td>368.83905</td><td>217.22148</td><td>670.59424</td><td>244.37717</td><td>118.24639</td><td>4.1833167</td><td>0.8064833</td><td>1193p424</td><td>1.0403793</td><td>1471.652</td><td>-0.16867258</td><td>1216.3748</td><td>-0.4610675</td><td>1348.9606</td><td>0.46434033</td><td>0.99881923</td><td>1.6222173</td><td>0.46580964</td><td>1.00081</td><td>1.6342223</td><td></td><td>0</td><td>0.0</td><td>0.0</td><td>0.0</td><td>0.0</td><td>0.0</td><td>0.0</td><td>0.0</td><td>0.0</td><td>False</td><td>0.0</td><td>0.0</td><td>0</td><td>0.0</td><td>0.0</td><td>0.0</td><td>0.0</td><td>0.0</td><td>0.0</td><td>0</td><td>0</td><td>1.0</td><td>0.0</td></tr>\n",
       "<tr><td>9011</td><td>552082</td><td>1194p420</td><td>43</td><td>REX</td><td>119.32974956872292</td><td>42.0195958754015</td><td>8298380300.0</td><td>8465178000.0</td><td>531.8265 .. 0.0</td><td>0.04068635</td><td>0.49322224</td><td>0.71428263</td><td>1.6946769</td><td>5.122245</td><td>2.896884</td><td>1.1909451</td><td>12.165278</td><td>659.883</td><td>245.6051</td><td>104.670555</td><td>3.206695</td><td>0.7351345</td><td>0.0008655035</td><td>1.13853675e-05</td><td>0.8865304</td><td>0.92207366</td><td>0.9556339</td><td>0.9931286</td><td>0.99577445</td><td>0.9990973</td><td>0.99965906</td><td>4</td><td>4</td><td>4</td><td>173</td><td>173</td><td>13</td><td>13</td><td>0.90195864</td><td>0.93241525</td><td>0.9199401</td><td>2.0293489</td><td>0.7532023</td><td>0.48178196</td><td>0.17429644</td><td>0.0</td><td>0.0</td><td>0.0</td><td>0.0081590945</td><td>0.011151486</td><td>1.2792735</td><td>2.5802865</td><td>0.031152958</td><td>0.021476243</td><td>0.010492028</td><td>0.9830105</td><td>0.9887301</td><td>0.9926154</td><td>0</td><td>0</td><td>0</td><td>0</td><td>0</td><td>0</td><td>0</td><td>0</td><td>1.6437201</td><td>1.600499</td><td>1.1605089</td><td>1045.176</td><td>368.83905</td><td>196.0764</td><td>670.59424</td><td>244.37717</td><td>103.55161</td><td>4.1833167</td><td>0.8064833</td><td>1193p424</td><td>0.46794015</td><td>717.8635</td><td>0.0</td><td>0.0</td><td>0.0</td><td>0.0</td><td>0.26296625</td><td>0.38082674</td><td>0.9035335</td><td>0.26296625</td><td>0.38082674</td><td>0.9035335</td><td></td><td>0</td><td>0.0</td><td>0.0</td><td>0.0</td><td>0.0</td><td>0.0</td><td>0.0</td><td>0.0</td><td>0.0</td><td>False</td><td>0.0</td><td>0.0</td><td>0</td><td>0.0</td><td>0.0</td><td>0.0</td><td>0.0</td><td>0.0</td><td>0.0</td><td>0</td><td>0</td><td>1.0</td><td>0.0</td></tr>\n",
       "<tr><td>9011</td><td>552082</td><td>1194p420</td><td>44</td><td>PSF</td><td>119.32984015906263</td><td>42.0940914144724</td><td>1259715600.0</td><td>1393033100.0</td><td>45.836926 .. 0.0</td><td>0.041517895</td><td>0.036355678</td><td>0.2083362</td><td>0.39765432</td><td>4.5797305</td><td>5.883317</td><td>30.885992</td><td>-58.628834</td><td>1071.4021</td><td>388.6383</td><td>184.19</td><td>3.3778415</td><td>0.75693053</td><td>0.000877285</td><td>1.1408627e-05</td><td>0.88435084</td><td>0.920546</td><td>0.954748</td><td>0.99298865</td><td>0.99568826</td><td>0.99907887</td><td>0.9996521</td><td>4</td><td>4</td><td>4</td><td>175</td><td>174</td><td>13</td><td>13</td><td>1.1288383</td><td>0.9771399</td><td>0.9139543</td><td>5.8252087</td><td>1.874515</td><td>0.7423237</td><td>0.132865</td><td>0.0</td><td>0.0</td><td>0.0</td><td>0.04236993</td><td>0.043923948</td><td>0.17837419</td><td>4.760999</td><td>0.083694994</td><td>0.060764723</td><td>0.026039667</td><td>0.95906395</td><td>0.9717033</td><td>0.9850029</td><td>0</td><td>0</td><td>0</td><td>0</td><td>0</td><td>0</td><td>0</td><td>0</td><td>1.6437201</td><td>1.600499</td><td>1.1695663</td><td>1045.176</td><td>368.83905</td><td>181.02022</td><td>670.59424</td><td>244.37717</td><td>96.75225</td><td>4.1833167</td><td>0.8064833</td><td>1193p424</td><td>0.0</td><td>0.0</td><td>0.0</td><td>0.0</td><td>0.0</td><td>0.0</td><td>0.028325163</td><td>0.16231734</td><td>0.30981743</td><td>0.028325163</td><td>0.16231734</td><td>0.30981743</td><td></td><td>0</td><td>0.0</td><td>0.0</td><td>0.0</td><td>0.0</td><td>0.0</td><td>0.0</td><td>0.0</td><td>0.0</td><td>False</td><td>0.0</td><td>0.0</td><td>0</td><td>0.0</td><td>0.0</td><td>0.0</td><td>0.0</td><td>0.0</td><td>0.0</td><td>0</td><td>0</td><td>0.0</td><td>0.0</td></tr>\n",
       "<tr><td>9011</td><td>552082</td><td>1194p420</td><td>45</td><td>PSF</td><td>119.32987228314286</td><td>42.00039448165475</td><td>2808046800.0</td><td>3116705500.0</td><td>125.163925 .. 0.0</td><td>0.04045096</td><td>0.328361</td><td>0.4716232</td><td>0.5623896</td><td>0.10465692</td><td>-1.0323817</td><td>-5.2764764</td><td>696.2285</td><td>298.08307</td><td>141.9932</td><td>202.80023</td><td>3.3855522</td><td>0.7546611</td><td>0.00088234915</td><td>1.1466596e-05</td><td>0.8871483</td><td>0.9225066</td><td>0.9558848</td><td>0.99316823</td><td>0.9957988</td><td>0.99910253</td><td>0.999661</td><td>2</td><td>2</td><td>4</td><td>170</td><td>169</td><td>13</td><td>13</td><td>1.0333024</td><td>1.0191829</td><td>0.7525111</td><td>0.632693</td><td>0.52537763</td><td>0.48461416</td><td>0.10652945</td><td>0.020616058</td><td>0.00998968</td><td>0.0013834041</td><td>3.3865645</td><td>0.33483112</td><td>2.991295</td><td>0.6665597</td><td>0.0613242</td><td>0.033693142</td><td>0.017933493</td><td>0.9731918</td><td>0.9829151</td><td>0.99554545</td><td>0</td><td>0</td><td>0</td><td>0</td><td>0</td><td>0</td><td>0</td><td>0</td><td>2.2492878</td><td>1.8683462</td><td>1.1605089</td><td>332.00745</td><td>159.19061</td><td>196.0764</td><td>254.8406</td><td>115.38287</td><td>103.55161</td><td>4.1833167</td><td>0.8064833</td><td>1193p424</td><td>0.0</td><td>0.0</td><td>0.0</td><td>0.0</td><td>0.0</td><td>0.0</td><td>0.25538102</td><td>0.36680242</td><td>0.4373955</td><td>0.25566638</td><td>0.36703876</td><td>0.4373955</td><td></td><td>0</td><td>0.0</td><td>0.0</td><td>0.0</td><td>0.0</td><td>0.0</td><td>0.0</td><td>0.0</td><td>0.0</td><td>False</td><td>0.0</td><td>0.0</td><td>0</td><td>0.0</td><td>0.0</td><td>0.0</td><td>0.0</td><td>0.0</td><td>0.0</td><td>0</td><td>0</td><td>0.0</td><td>0.0</td></tr>\n",
       "<tr><td>9011</td><td>552082</td><td>1194p420</td><td>46</td><td>REX</td><td>119.32988781233986</td><td>41.9393606128252</td><td>9816318000.0</td><td>9857830000.0</td><td>431.5133 .. 0.0</td><td>0.039093595</td><td>0.38676304</td><td>0.5947497</td><td>1.0333043</td><td>2.5377316</td><td>2.0442188</td><td>-155.28645</td><td>-461.79434</td><td>984.2977</td><td>332.9331</td><td>161.90646</td><td>3.309733</td><td>0.742717</td><td>0.00087877084</td><td>1.1343092e-05</td><td>0.8907201</td><td>0.92500687</td><td>0.9573331</td><td>0.9933967</td><td>0.99593955</td><td>0.99913263</td><td>0.9996724</td><td>4</td><td>4</td><td>4</td><td>172</td><td>172</td><td>13</td><td>13</td><td>0.91862285</td><td>0.8344704</td><td>0.87505543</td><td>2.3229365</td><td>0.9635899</td><td>0.7028936</td><td>0.18299258</td><td>0.019871663</td><td>0.009446471</td><td>0.002397643</td><td>0.7192309</td><td>1.2967025</td><td>0.66298807</td><td>2.151599</td><td>0.026813721</td><td>0.018789615</td><td>0.0097191185</td><td>0.9954587</td><td>0.9958121</td><td>0.9961824</td><td>0</td><td>0</td><td>0</td><td>0</td><td>0</td><td>0</td><td>0</td><td>0</td><td>1.5170727</td><td>1.5603529</td><td>1.1615853</td><td>1227.6904</td><td>396.45273</td><td>191.19635</td><td>728.93494</td><td>257.17264</td><td>100.976654</td><td>4.1833167</td><td>0.8064833</td><td>1193p424</td><td>0.21064265</td><td>467.92184</td><td>0.0</td><td>0.0</td><td>0.0</td><td>0.0</td><td>0.27426308</td><td>0.4217515</td><td>0.7327413</td><td>0.27426308</td><td>0.4217515</td><td>0.7327413</td><td></td><td>0</td><td>0.0</td><td>0.0</td><td>0.0</td><td>0.0</td><td>0.0</td><td>0.0</td><td>0.0</td><td>0.0</td><td>False</td><td>0.0</td><td>0.0</td><td>0</td><td>0.0</td><td>0.0</td><td>0.0</td><td>0.0</td><td>0.0</td><td>0.0</td><td>0</td><td>0</td><td>1.0</td><td>0.0</td></tr>\n",
       "<tr><td>9011</td><td>552082</td><td>1194p420</td><td>47</td><td>REX</td><td>119.33014662540461</td><td>42.05564741112179</td><td>808186240.0</td><td>855840400.0</td><td>50.80265 .. 0.0</td><td>0.041112784</td><td>0.053371657</td><td>0.1907024</td><td>0.6293927</td><td>2.682601</td><td>-7.892712</td><td>61.014046</td><td>15116.507</td><td>614.939</td><td>225.16447</td><td>125.71349</td><td>2.6452973</td><td>0.66862565</td><td>0.00085636065</td><td>1.1563925e-05</td><td>0.88541204</td><td>0.9212899</td><td>0.95517945</td><td>0.99305683</td><td>0.9957303</td><td>0.9990878</td><td>0.9996555</td><td>4</td><td>4</td><td>6</td><td>172</td><td>173</td><td>13</td><td>13</td><td>0.82250416</td><td>0.9581783</td><td>1.0381553</td><td>1.2369201</td><td>0.37055695</td><td>0.43783498</td><td>0.07764597</td><td>3.4130838</td><td>1.4427931</td><td>0.30944628</td><td>17.510078</td><td>5.468881</td><td>1.4869684</td><td>1.0322573</td><td>0.029922979</td><td>0.0099052</td><td>0.006319277</td><td>0.99999994</td><td>1.0000004</td><td>0.9957035</td><td>0</td><td>0</td><td>0</td><td>0</td><td>0</td><td>0</td><td>0</td><td>0</td><td>1.6437201</td><td>1.600499</td><td>1.1887925</td><td>1045.176</td><td>368.83905</td><td>268.64078</td><td>670.59424</td><td>244.37717</td><td>145.3673</td><td>4.1833167</td><td>0.8064833</td><td>1193p424</td><td>0.5304075</td><td>76.32564</td><td>0.0</td><td>0.0</td><td>0.0</td><td>0.0</td><td>0.026333941</td><td>0.09409387</td><td>0.31054667</td><td>0.030251686</td><td>0.10557029</td><td>0.31964135</td><td></td><td>0</td><td>0.0</td><td>0.0</td><td>0.0</td><td>0.0</td><td>0.0</td><td>0.0</td><td>0.0</td><td>0.0</td><td>False</td><td>0.0</td><td>0.0</td><td>0</td><td>0.0</td><td>0.0</td><td>0.0</td><td>0.0</td><td>0.0</td><td>0.0</td><td>0</td><td>8192</td><td>1.0</td><td>0.0</td></tr>\n",
       "<tr><td>9011</td><td>552082</td><td>1194p420</td><td>48</td><td>PSF</td><td>119.33015525634849</td><td>42.05618957430395</td><td>1245799700.0</td><td>1422213200.0</td><td>43.596 .. 0.0</td><td>0.041123584</td><td>0.047672335</td><td>0.052489985</td><td>0.42880976</td><td>16.201445</td><td>31.076563</td><td>-297.4373</td><td>-16028.598</td><td>1042.5488</td><td>370.92905</td><td>214.86298</td><td>2.772635</td><td>0.70000595</td><td>0.0008808259</td><td>1.18466305e-05</td><td>0.8853837</td><td>0.92127013</td><td>0.95516795</td><td>0.993055</td><td>0.99572915</td><td>0.9990876</td><td>0.99965537</td><td>4</td><td>4</td><td>5</td><td>172</td><td>173</td><td>13</td><td>14</td><td>0.87625647</td><td>0.9680959</td><td>0.94530153</td><td>1.2985438</td><td>0.35263857</td><td>0.434339</td><td>0.0776863</td><td>9.565405</td><td>16.209106</td><td>2.1821387</td><td>1.73355</td><td>0.77738684</td><td>1.110349</td><td>0.9656904</td><td>0.016352637</td><td>0.0031870424</td><td>0.01121555</td><td>1.0000011</td><td>1.0000013</td><td>0.8673256</td><td>0</td><td>0</td><td>0</td><td>0</td><td>0</td><td>0</td><td>0</td><td>0</td><td>1.6437201</td><td>1.600499</td><td>1.2021023</td><td>1045.176</td><td>368.83905</td><td>217.22148</td><td>670.59424</td><td>244.37717</td><td>118.24639</td><td>4.1833167</td><td>0.8064833</td><td>1193p424</td><td>0.0</td><td>0.0</td><td>0.0</td><td>0.0</td><td>0.0</td><td>0.0</td><td>0.03712532</td><td>0.040877115</td><td>0.33394</td><td>0.19596809</td><td>0.38477486</td><td>0.8952793</td><td></td><td>0</td><td>0.0</td><td>0.0</td><td>0.0</td><td>0.0</td><td>0.0</td><td>0.0</td><td>0.0</td><td>0.0</td><td>False</td><td>0.0</td><td>0.0</td><td>0</td><td>0.0</td><td>0.0</td><td>0.0</td><td>0.0</td><td>0.0</td><td>0.0</td><td>0</td><td>8192</td><td>0.0</td><td>0.0</td></tr>\n",
       "<tr><td>9011</td><td>552082</td><td>1194p420</td><td>49</td><td>PSF</td><td>119.33015726851539</td><td>41.92097795975279</td><td>1062477370000.0</td><td>1210612700000.0</td><td>31538.242 .. 0.0</td><td>0.038733732</td><td>0.4995721</td><td>2.1677227</td><td>14.132705</td><td>10.310616</td><td>6.6398935</td><td>21.97383</td><td>15.251518</td><td>1108.7018</td><td>268.20685</td><td>150.22195</td><td>3.168952</td><td>0.7474217</td><td>0.0008173966</td><td>1.1377619e-05</td><td>0.8916695</td><td>0.92567086</td><td>0.9577174</td><td>0.99345726</td><td>0.9959768</td><td>0.9991406</td><td>0.9996754</td><td>4</td><td>4</td><td>4</td><td>174</td><td>173</td><td>12</td><td>13</td><td>0.95334876</td><td>0.8631621</td><td>0.947953</td><td>1.3397039</td><td>0.65938526</td><td>0.5132775</td><td>0.1613234</td><td>0.0018794289</td><td>0.00017273652</td><td>5.838665e-05</td><td>0.094356515</td><td>0.121683076</td><td>1.301148</td><td>36.242336</td><td>0.019260174</td><td>0.13053675</td><td>0.016004529</td><td>0.99766874</td><td>0.9973999</td><td>0.9988948</td><td>0</td><td>1</td><td>0</td><td>0</td><td>0</td><td>0</td><td>0</td><td>0</td><td>1.5170727</td><td>1.5603529</td><td>1.1615853</td><td>1227.6904</td><td>275.2646</td><td>191.19635</td><td>728.93494</td><td>185.48851</td><td>100.976654</td><td>4.1833167</td><td>0.8064833</td><td>1193p424</td><td>0.0</td><td>0.0</td><td>0.0</td><td>0.0</td><td>0.0</td><td>0.0</td><td>0.38841814</td><td>1.685408</td><td>10.9882</td><td>0.38841814</td><td>1.685408</td><td>10.9882</td><td></td><td>0</td><td>0.0</td><td>0.0</td><td>0.0</td><td>0.0</td><td>0.0</td><td>0.0</td><td>0.0</td><td>0.0</td><td>False</td><td>0.0</td><td>0.0</td><td>0</td><td>0.0</td><td>0.0</td><td>0.0</td><td>0.0</td><td>0.0</td><td>0.0</td><td>0</td><td>0</td><td>0.0</td><td>0.0</td></tr>\n",
       "<tr><td>9011</td><td>552082</td><td>1194p420</td><td>50</td><td>REX</td><td>119.33018681835196</td><td>41.91652161662554</td><td>3194204400.0</td><td>3176834800.0</td><td>206.19983 .. 0.0</td><td>0.03864514</td><td>0.22532265</td><td>0.64314103</td><td>0.9028996</td><td>0.93513507</td><td>-2.2602665</td><td>-58.25603</td><td>-100.728676</td><td>711.8547</td><td>248.93706</td><td>105.082756</td><td>3.323727</td><td>0.75238335</td><td>0.00078553427</td><td>1.06596435e-05</td><td>0.8919034</td><td>0.9258344</td><td>0.9578121</td><td>0.9934722</td><td>0.995986</td><td>0.9991426</td><td>0.99967617</td><td>4</td><td>4</td><td>4</td><td>174</td><td>173</td><td>12</td><td>12</td><td>0.7575956</td><td>0.9100894</td><td>0.8134319</td><td>0.6981086</td><td>0.2999177</td><td>0.4037947</td><td>0.19435345</td><td>0.0</td><td>0.0</td><td>0.0</td><td>0.6361601</td><td>0.2232866</td><td>0.26790512</td><td>4.4343925</td><td>0.07103353</td><td>0.028757766</td><td>0.013440955</td><td>0.979968</td><td>0.9845003</td><td>0.9903726</td><td>0</td><td>0</td><td>0</td><td>0</td><td>0</td><td>0</td><td>0</td><td>0</td><td>1.5170727</td><td>1.5603529</td><td>1.1615853</td><td>1227.6904</td><td>396.45273</td><td>191.19635</td><td>728.93494</td><td>257.17264</td><td>100.976654</td><td>4.1833167</td><td>0.8064833</td><td>1193p424</td><td>0.4470333</td><td>270.28635</td><td>0.0</td><td>0.0</td><td>0.0</td><td>0.0</td><td>0.12340762</td><td>0.35224378</td><td>0.4945117</td><td>0.12340762</td><td>0.35224378</td><td>0.4945117</td><td></td><td>0</td><td>0.0</td><td>0.0</td><td>0.0</td><td>0.0</td><td>0.0</td><td>0.0</td><td>0.0</td><td>0.0</td><td>False</td><td>0.0</td><td>0.0</td><td>0</td><td>0.0</td><td>0.0</td><td>0.0</td><td>0.0</td><td>0.0</td><td>0.0</td><td>0</td><td>0</td><td>1.0</td><td>0.0</td></tr>\n",
       "<tr><td>...</td><td>...</td><td>...</td><td>...</td><td>...</td><td>...</td><td>...</td><td>...</td><td>...</td><td>...</td><td>...</td><td>...</td><td>...</td><td>...</td><td>...</td><td>...</td><td>...</td><td>...</td><td>...</td><td>...</td><td>...</td><td>...</td><td>...</td><td>...</td><td>...</td><td>...</td><td>...</td><td>...</td><td>...</td><td>...</td><td>...</td><td>...</td><td>...</td><td>...</td><td>...</td><td>...</td><td>...</td><td>...</td><td>...</td><td>...</td><td>...</td><td>...</td><td>...</td><td>...</td><td>...</td><td>...</td><td>...</td><td>...</td><td>...</td><td>...</td><td>...</td><td>...</td><td>...</td><td>...</td><td>...</td><td>...</td><td>...</td><td>...</td><td>...</td><td>...</td><td>...</td><td>...</td><td>...</td><td>...</td><td>...</td><td>...</td><td>...</td><td>...</td><td>...</td><td>...</td><td>...</td><td>...</td><td>...</td><td>...</td><td>...</td><td>...</td><td>...</td><td>...</td><td>...</td><td>...</td><td>...</td><td>...</td><td>...</td><td>...</td><td>...</td><td>...</td><td>...</td><td>...</td><td>...</td><td>...</td><td>...</td><td>...</td><td>...</td><td>...</td><td>...</td><td>...</td><td>...</td><td>...</td><td>...</td><td>...</td><td>...</td><td>...</td><td>...</td><td>...</td><td>...</td><td>...</td><td>...</td><td>...</td><td>...</td><td>...</td><td>...</td><td>...</td><td>...</td><td>...</td><td>...</td></tr>\n",
       "<tr><td>9011</td><td>551007</td><td>1200p417</td><td>1722</td><td>REX</td><td>119.99888131443616</td><td>41.71701010888203</td><td>1262042100.0</td><td>1408664600.0</td><td>58.31405 .. 0.0</td><td>0.03950214</td><td>0.06366233</td><td>0.14887214</td><td>0.6758538</td><td>0.8189364</td><td>-1.5295303</td><td>75.44484</td><td>-762.3859</td><td>406.2474</td><td>160.3737</td><td>127.53423</td><td>3.2192087</td><td>0.75769645</td><td>0.0008718771</td><td>1.1321935e-05</td><td>0.88964355</td><td>0.9242536</td><td>0.95689696</td><td>0.9933279</td><td>0.9958972</td><td>0.9991236</td><td>0.99966896</td><td>2</td><td>3</td><td>4</td><td>171</td><td>172</td><td>13</td><td>13</td><td>0.59272504</td><td>0.8035409</td><td>0.9552649</td><td>0.72480905</td><td>0.48524907</td><td>0.53750527</td><td>0.090918705</td><td>0.0</td><td>0.0</td><td>0.0</td><td>2.03124</td><td>0.73619103</td><td>0.33847946</td><td>0.70524174</td><td>0.1126528</td><td>0.08021339</td><td>0.028970592</td><td>0.94246465</td><td>0.9657185</td><td>0.9839897</td><td>0</td><td>0</td><td>0</td><td>0</td><td>0</td><td>0</td><td>0</td><td>0</td><td>1.8020073</td><td>1.7350675</td><td>1.1854625</td><td>617.0841</td><td>215.79068</td><td>176.39272</td><td>408.67938</td><td>148.20956</td><td>94.64344</td><td>4.118059</td><td>0.7913447</td><td>1193p424</td><td>0.3117437</td><td>98.742935</td><td>0.0</td><td>0.0</td><td>0.0</td><td>0.0</td><td>0.040876288</td><td>0.095587775</td><td>0.43395197</td><td>0.040876288</td><td>0.095587775</td><td>0.43395197</td><td></td><td>0</td><td>0.0</td><td>0.0</td><td>0.0</td><td>0.0</td><td>0.0</td><td>0.0</td><td>0.0</td><td>0.0</td><td>False</td><td>0.0</td><td>0.0</td><td>0</td><td>0.0</td><td>0.0</td><td>0.0</td><td>0.0</td><td>0.0</td><td>0.0</td><td>0</td><td>0</td><td>1.0</td><td>0.0</td></tr>\n",
       "<tr><td>9011</td><td>551007</td><td>1200p417</td><td>1723</td><td>SER</td><td>119.99897234817132</td><td>41.791549506910414</td><td>877709750000.0</td><td>743803450000.0</td><td>63408.062 .. 85963.49</td><td>0.038187496</td><td>7.640366</td><td>24.734306</td><td>48.614086</td><td>49.004574</td><td>35.344646</td><td>-34.615044</td><td>1783.2621</td><td>89.547264</td><td>41.00215</td><td>23.420286</td><td>1.8255982</td><td>0.49719056</td><td>0.00075765606</td><td>1.085148e-05</td><td>0.8931125</td><td>0.9266797</td><td>0.95830107</td><td>0.9935492</td><td>0.99603343</td><td>0.9991527</td><td>0.99968</td><td>2</td><td>3</td><td>4</td><td>173</td><td>174</td><td>14</td><td>14</td><td>1.0537056</td><td>0.96765625</td><td>1.1320709</td><td>1.7815921</td><td>0.9366988</td><td>0.4568764</td><td>0.1443701</td><td>0.006826251</td><td>0.0020336292</td><td>0.0018779014</td><td>0.03886009</td><td>0.057352617</td><td>0.56512374</td><td>1.3686635</td><td>0.0325699</td><td>0.02906943</td><td>0.023878425</td><td>0.99281824</td><td>0.99162</td><td>0.9894571</td><td>0</td><td>0</td><td>0</td><td>0</td><td>0</td><td>0</td><td>0</td><td>0</td><td>2.25806</td><td>1.7127303</td><td>1.1730932</td><td>352.97794</td><td>254.64941</td><td>182.21574</td><td>265.27258</td><td>175.37813</td><td>97.09071</td><td>4.118059</td><td>0.7913447</td><td>1193p424</td><td>1.567574</td><td>12571.281</td><td>0.11413013</td><td>31512.154</td><td>-0.13569832</td><td>34243.188</td><td>2.0221314</td><td>6.5462856</td><td>12.866408</td><td>2.0221355</td><td>6.5462914</td><td>12.866418</td><td></td><td>0</td><td>0.0</td><td>0.0</td><td>0.0</td><td>0.0</td><td>0.0</td><td>0.0</td><td>0.0</td><td>0.0</td><td>False</td><td>0.0</td><td>0.0</td><td>0</td><td>0.0</td><td>0.0</td><td>0.0</td><td>0.0</td><td>0.0</td><td>0.0</td><td>0</td><td>0</td><td>3.2274957</td><td>507.05252</td></tr>\n",
       "<tr><td>9011</td><td>551007</td><td>1200p417</td><td>1724</td><td>EXP</td><td>119.99900255020056</td><td>41.76330662677482</td><td>115712490000.0</td><td>212422840000.0</td><td>19865.615 .. 30853.188</td><td>0.038618498</td><td>7.5294423</td><td>14.161538</td><td>19.976835</td><td>17.22463</td><td>14.869913</td><td>64.244514</td><td>-269.5971</td><td>106.89666</td><td>62.266365</td><td>28.659395</td><td>2.4658024</td><td>0.59340113</td><td>0.00082476815</td><td>1.170626e-05</td><td>0.89197373</td><td>0.9258836</td><td>0.9578405</td><td>0.9934767</td><td>0.9959888</td><td>0.9991432</td><td>0.99967635</td><td>2</td><td>4</td><td>4</td><td>173</td><td>172</td><td>14</td><td>14</td><td>1.0472689</td><td>1.0463822</td><td>1.0943415</td><td>0.7384293</td><td>0.5989937</td><td>0.8471483</td><td>0.14782071</td><td>0.0005979513</td><td>0.00018681303</td><td>9.8809716e-05</td><td>0.049433943</td><td>0.06628992</td><td>0.5665165</td><td>1.6093236</td><td>0.013500778</td><td>0.004672171</td><td>0.0018382441</td><td>0.6699208</td><td>0.99850327</td><td>0.9976569</td><td>0</td><td>0</td><td>0</td><td>0</td><td>0</td><td>0</td><td>0</td><td>0</td><td>2.25806</td><td>1.7803365</td><td>1.1730932</td><td>352.97794</td><td>284.29193</td><td>182.21574</td><td>265.27258</td><td>199.13388</td><td>97.09071</td><td>4.118059</td><td>0.7913447</td><td>1193p424</td><td>1.7485939</td><td>6273.6357</td><td>-0.23190503</td><td>18263.379</td><td>-0.30813175</td><td>21317.418</td><td>1.6694093</td><td>3.139861</td><td>4.4292145</td><td>1.6694093</td><td>3.139861</td><td>4.4292145</td><td></td><td>0</td><td>0.0</td><td>0.0</td><td>0.0</td><td>0.0</td><td>0.0</td><td>0.0</td><td>0.0</td><td>0.0</td><td>False</td><td>0.0</td><td>0.0</td><td>0</td><td>0.0</td><td>0.0</td><td>0.0</td><td>0.0</td><td>0.0</td><td>0.0</td><td>0</td><td>0</td><td>1.0</td><td>0.0</td></tr>\n",
       "<tr><td>9011</td><td>551007</td><td>1200p417</td><td>1725</td><td>PSF</td><td>119.99925221482012</td><td>41.7993394992006</td><td>2918878500.0</td><td>3496358400.0</td><td>97.67386 .. 0.0</td><td>0.038075883</td><td>0.106538266</td><td>0.080387205</td><td>0.71669966</td><td>4.318893</td><td>1.9837836</td><td>19.72383</td><td>-732.6931</td><td>355.57214</td><td>251.02287</td><td>179.36307</td><td>3.2286592</td><td>0.73685455</td><td>0.00090706075</td><td>1.157485e-05</td><td>0.8934076</td><td>0.9268859</td><td>0.9584204</td><td>0.99356806</td><td>0.99604505</td><td>0.99915516</td><td>0.99968094</td><td>2</td><td>3</td><td>4</td><td>172</td><td>173</td><td>14</td><td>13</td><td>0.69288415</td><td>0.9570672</td><td>0.8727663</td><td>0.5463864</td><td>0.5982948</td><td>0.41434535</td><td>0.12686266</td><td>0.0</td><td>0.0</td><td>0.0</td><td>0.4764541</td><td>0.707281</td><td>1.0361152</td><td>0.8094475</td><td>0.0929541</td><td>0.04414853</td><td>0.019351462</td><td>0.94807124</td><td>0.9773029</td><td>0.9885981</td><td>0</td><td>0</td><td>0</td><td>0</td><td>0</td><td>0</td><td>0</td><td>0</td><td>2.25806</td><td>1.7127303</td><td>1.1730932</td><td>352.97794</td><td>254.64941</td><td>182.21574</td><td>265.27258</td><td>175.37813</td><td>97.09071</td><td>4.118059</td><td>0.7913447</td><td>1193p424</td><td>0.0</td><td>0.0</td><td>0.0</td><td>0.0</td><td>0.0</td><td>0.0</td><td>0.08290991</td><td>0.06255871</td><td>0.557748</td><td>0.08290991</td><td>0.06255871</td><td>0.557748</td><td></td><td>0</td><td>0.0</td><td>0.0</td><td>0.0</td><td>0.0</td><td>0.0</td><td>0.0</td><td>0.0</td><td>0.0</td><td>False</td><td>0.0</td><td>0.0</td><td>0</td><td>0.0</td><td>0.0</td><td>0.0</td><td>0.0</td><td>0.0</td><td>0.0</td><td>0</td><td>0</td><td>0.0</td><td>0.0</td></tr>\n",
       "<tr><td>9011</td><td>551007</td><td>1200p417</td><td>1726</td><td>REX</td><td>119.99925488725069</td><td>41.86543988393511</td><td>110290160.0</td><td>103091330.0</td><td>28.74826 .. 0.0</td><td>0.03786117</td><td>2.5480847</td><td>1.656041</td><td>2.6324415</td><td>65.98765</td><td>43.693417</td><td>58.737823</td><td>224.47124</td><td>18.55705</td><td>9.08166</td><td>3.161854</td><td>0.94251364</td><td>0.27141827</td><td>0.00047649365</td><td>9.3090175e-06</td><td>0.8939756</td><td>0.92728287</td><td>0.95864993</td><td>0.9936042</td><td>0.9960673</td><td>0.99915993</td><td>0.9996827</td><td>2</td><td>3</td><td>4</td><td>170</td><td>174</td><td>14</td><td>15</td><td>1.0168619</td><td>0.9932932</td><td>0.9426971</td><td>60.297215</td><td>10.958951</td><td>0.666646</td><td>0.14628215</td><td>0.0088102715</td><td>0.0036250108</td><td>0.0032273969</td><td>1.3038554</td><td>0.95060205</td><td>0.6329101</td><td>1.5876371</td><td>0.20794684</td><td>0.053005334</td><td>0.010564211</td><td>0.66844183</td><td>0.9805478</td><td>0.8000043</td><td>0</td><td>0</td><td>0</td><td>0</td><td>0</td><td>0</td><td>32</td><td>0</td><td>2.25806</td><td>1.7127303</td><td>1.1649567</td><td>352.97794</td><td>254.64941</td><td>180.35919</td><td>265.27258</td><td>175.37813</td><td>95.23803</td><td>4.118059</td><td>0.7913447</td><td>1193p424</td><td>4.2417717</td><td>10.918576</td><td>0.0</td><td>0.0</td><td>0.0</td><td>0.0</td><td>0.08636557</td><td>0.056130365</td><td>0.08922479</td><td>0.086382985</td><td>0.056163386</td><td>0.0893021</td><td></td><td>0</td><td>0.0</td><td>0.0</td><td>0.0</td><td>0.0</td><td>0.0</td><td>0.0</td><td>0.0</td><td>0.0</td><td>False</td><td>0.0</td><td>0.0</td><td>0</td><td>0.0</td><td>0.0</td><td>0.0</td><td>0.0</td><td>0.0</td><td>0.0</td><td>2304</td><td>1026</td><td>1.0</td><td>0.0</td></tr>\n",
       "<tr><td>9011</td><td>551007</td><td>1200p417</td><td>1727</td><td>REX</td><td>119.99933137320072</td><td>41.68077789188418</td><td>7052850700.0</td><td>7537411000.0</td><td>552.85406 .. 0.0</td><td>0.040205743</td><td>0.68187386</td><td>1.4086655</td><td>1.9289043</td><td>0.852199</td><td>0.90493554</td><td>-138.2934</td><td>531.4025</td><td>300.68793</td><td>114.72391</td><td>78.41935</td><td>3.0239725</td><td>0.70466644</td><td>0.0009198701</td><td>1.2116385e-05</td><td>0.8877925</td><td>0.9229578</td><td>0.9561463</td><td>0.9932095</td><td>0.9958243</td><td>0.99910796</td><td>0.99966305</td><td>2</td><td>3</td><td>4</td><td>169</td><td>170</td><td>14</td><td>14</td><td>0.86615574</td><td>0.88088626</td><td>0.92368835</td><td>1.0949209</td><td>0.48231775</td><td>0.53975034</td><td>0.19845891</td><td>0.070701554</td><td>0.049759585</td><td>0.025594218</td><td>11.548022</td><td>7.5954394</td><td>0.6920857</td><td>1.8013487</td><td>0.029615311</td><td>0.017637372</td><td>0.008869621</td><td>0.994023</td><td>0.9947788</td><td>0.9989456</td><td>0</td><td>0</td><td>0</td><td>0</td><td>0</td><td>0</td><td>0</td><td>0</td><td>1.8020073</td><td>1.7350675</td><td>1.1854625</td><td>617.0841</td><td>215.79068</td><td>176.39272</td><td>408.67938</td><td>148.20956</td><td>94.64344</td><td>4.118059</td><td>0.7913447</td><td>1193p424</td><td>0.5778191</td><td>661.72473</td><td>0.0</td><td>0.0</td><td>0.0</td><td>0.0</td><td>0.3164676</td><td>0.6537822</td><td>0.8952326</td><td>0.31682953</td><td>0.6547992</td><td>0.8974797</td><td></td><td>0</td><td>0.0</td><td>0.0</td><td>0.0</td><td>0.0</td><td>0.0</td><td>0.0</td><td>0.0</td><td>0.0</td><td>False</td><td>0.0</td><td>0.0</td><td>0</td><td>0.0</td><td>0.0</td><td>0.0</td><td>0.0</td><td>0.0</td><td>0.0</td><td>0</td><td>0</td><td>1.0</td><td>0.0</td></tr>\n",
       "<tr><td>9011</td><td>551007</td><td>1200p417</td><td>1729</td><td>EXP</td><td>119.99958244562</td><td>41.75215370006309</td><td>70133770000.0</td><td>52852646000.0</td><td>3763.814 .. 4135.1133</td><td>0.03880354</td><td>2.0801709</td><td>3.7041576</td><td>4.561805</td><td>4.074437</td><td>2.4288685</td><td>-41.43421</td><td>870.78015</td><td>303.4192</td><td>114.90961</td><td>60.158905</td><td>3.205901</td><td>0.73688644</td><td>0.0009977827</td><td>1.3105129e-05</td><td>0.8914853</td><td>0.925542</td><td>0.95764285</td><td>0.9934455</td><td>0.9959696</td><td>0.9991391</td><td>0.9996748</td><td>2</td><td>3</td><td>2</td><td>174</td><td>173</td><td>15</td><td>15</td><td>0.83416426</td><td>1.0470432</td><td>0.870458</td><td>0.81522703</td><td>0.61661166</td><td>0.5091765</td><td>0.19659588</td><td>0.00012222395</td><td>0.00030175826</td><td>3.1425323e-05</td><td>0.23869212</td><td>0.22580169</td><td>0.5591342</td><td>1.0031412</td><td>0.006334096</td><td>0.012825737</td><td>0.0067024245</td><td>0.9976317</td><td>0.99538183</td><td>0.9980044</td><td>0</td><td>0</td><td>0</td><td>0</td><td>0</td><td>0</td><td>0</td><td>0</td><td>1.4092703</td><td>1.681596</td><td>1.0952994</td><td>692.6236</td><td>211.0245</td><td>111.67675</td><td>434.41333</td><td>143.0258</td><td>56.13547</td><td>4.118059</td><td>0.7913447</td><td>1193p424</td><td>0.5528544</td><td>2787.7776</td><td>0.28210494</td><td>573.83734</td><td>0.11522536</td><td>497.2997</td><td>1.1622566</td><td>2.0696287</td><td>2.5488229</td><td>1.1622566</td><td>2.0696287</td><td>2.5488229</td><td></td><td>0</td><td>0.0</td><td>0.0</td><td>0.0</td><td>0.0</td><td>0.0</td><td>0.0</td><td>0.0</td><td>0.0</td><td>False</td><td>0.0</td><td>0.0</td><td>0</td><td>0.0</td><td>0.0</td><td>0.0</td><td>0.0</td><td>0.0</td><td>0.0</td><td>0</td><td>0</td><td>1.0</td><td>0.0</td></tr>\n",
       "<tr><td>9011</td><td>551007</td><td>1200p417</td><td>1730</td><td>REX</td><td>119.99987020201874</td><td>41.7741614113629</td><td>17755398000.0</td><td>19582720000.0</td><td>913.8829 .. 0.0</td><td>0.038453963</td><td>0.4864688</td><td>1.2170751</td><td>1.9588183</td><td>1.9959832</td><td>0.6997894</td><td>72.22484</td><td>-350.90607</td><td>320.6898</td><td>209.98735</td><td>141.15074</td><td>3.302108</td><td>0.73888165</td><td>0.00094009255</td><td>1.2006518e-05</td><td>0.89240825</td><td>0.9261874</td><td>0.9580163</td><td>0.9935044</td><td>0.99600583</td><td>0.9991468</td><td>0.9996778</td><td>2</td><td>3</td><td>4</td><td>173</td><td>172</td><td>14</td><td>14</td><td>0.8225892</td><td>0.8031141</td><td>0.8483064</td><td>0.6771764</td><td>0.6830581</td><td>0.5834726</td><td>0.106958434</td><td>0.008636314</td><td>0.0016499956</td><td>0.00024137864</td><td>0.37814754</td><td>0.72104204</td><td>1.2365079</td><td>1.6974452</td><td>0.04638346</td><td>0.018823124</td><td>0.009195535</td><td>0.9927676</td><td>0.9954849</td><td>0.99619716</td><td>0</td><td>0</td><td>0</td><td>0</td><td>0</td><td>0</td><td>0</td><td>0</td><td>2.25806</td><td>1.7127303</td><td>1.1730932</td><td>352.97794</td><td>254.64941</td><td>182.21574</td><td>265.27258</td><td>175.37813</td><td>97.09071</td><td>4.118059</td><td>0.7913447</td><td>1193p424</td><td>0.24323739</td><td>1015.5952</td><td>0.0</td><td>0.0</td><td>0.0</td><td>0.0</td><td>0.33519572</td><td>0.83861166</td><td>1.3497013</td><td>0.33519572</td><td>0.83861166</td><td>1.3497013</td><td></td><td>0</td><td>0.0</td><td>0.0</td><td>0.0</td><td>0.0</td><td>0.0</td><td>0.0</td><td>0.0</td><td>0.0</td><td>False</td><td>0.0</td><td>0.0</td><td>0</td><td>0.0</td><td>0.0</td><td>0.0</td><td>0.0</td><td>0.0</td><td>0.0</td><td>0</td><td>0</td><td>1.0</td><td>0.0</td></tr>\n",
       "<tr><td>9011</td><td>551007</td><td>1200p417</td><td>1731</td><td>REX</td><td>119.99988385814042</td><td>41.6396312195176</td><td>930263230.0</td><td>1004016960.0</td><td>57.203926 .. 0.0</td><td>0.04082063</td><td>0.08384676</td><td>0.32082477</td><td>0.66494244</td><td>2.75681</td><td>1.472052</td><td>-4.405437</td><td>123.9633</td><td>358.18536</td><td>140.61119</td><td>102.31336</td><td>3.0861547</td><td>0.7063473</td><td>0.0008668757</td><td>1.1222927e-05</td><td>0.8861781</td><td>0.92182684</td><td>0.95549077</td><td>0.993106</td><td>0.9957605</td><td>0.9990943</td><td>0.9996579</td><td>2</td><td>3</td><td>4</td><td>164</td><td>165</td><td>13</td><td>13</td><td>0.6231318</td><td>0.81617355</td><td>0.8780267</td><td>1.0762529</td><td>0.8419912</td><td>0.67854565</td><td>0.15280211</td><td>0.045261882</td><td>0.02082114</td><td>0.017751709</td><td>2958.193</td><td>5297.754</td><td>4355.0903</td><td>491.6617</td><td>0.1348616</td><td>0.09796713</td><td>0.03896442</td><td>0.97663635</td><td>0.97197276</td><td>0.9892495</td><td>0</td><td>0</td><td>0</td><td>0</td><td>0</td><td>0</td><td>0</td><td>0</td><td>1.8020073</td><td>1.7350675</td><td>1.2053399</td><td>617.0841</td><td>215.79068</td><td>174.00261</td><td>408.67938</td><td>148.20956</td><td>94.37821</td><td>4.0627675</td><td>0.7946235</td><td>1206p408</td><td>0.42764297</td><td>81.22433</td><td>0.0</td><td>0.0</td><td>0.0</td><td>0.0</td><td>0.047037043</td><td>0.1799789</td><td>0.37302485</td><td>0.047037043</td><td>0.1799789</td><td>0.37302485</td><td></td><td>0</td><td>0.0</td><td>0.0</td><td>0.0</td><td>0.0</td><td>0.0</td><td>0.0</td><td>0.0</td><td>0.0</td><td>False</td><td>0.0</td><td>0.0</td><td>0</td><td>0.0</td><td>0.0</td><td>0.0</td><td>0.0</td><td>0.0</td><td>0.0</td><td>0</td><td>0</td><td>1.0</td><td>0.0</td></tr>\n",
       "<tr><td>9011</td><td>551007</td><td>1200p417</td><td>4691</td><td>DUP</td><td>119.90368389308811</td><td>41.836961974766076</td><td>1217851400000.0</td><td>1074740700000.0</td><td>0.0 .. 0.0</td><td>0.037920374</td><td>0.0</td><td>0.0</td><td>0.0</td><td>0.0</td><td>0.0</td><td>0.0</td><td>0.0</td><td>0.0</td><td>0.0</td><td>0.0</td><td>0.0</td><td>0.0</td><td>0.0</td><td>0.0</td><td>0.893819</td><td>0.9271734</td><td>0.95858663</td><td>0.9935942</td><td>0.99606115</td><td>0.9991586</td><td>0.99968225</td><td>3</td><td>3</td><td>4</td><td>0</td><td>0</td><td>0</td><td>0</td><td>0.0</td><td>0.0</td><td>0.0</td><td>0.0</td><td>0.0</td><td>0.0</td><td>0.0</td><td>0.0</td><td>0.0</td><td>0.0</td><td>0.0</td><td>0.0</td><td>0.0</td><td>0.0</td><td>0.0</td><td>0.0</td><td>0.0</td><td>0.0</td><td>0.0</td><td>0.0</td><td>0</td><td>0</td><td>0</td><td>0</td><td>0</td><td>0</td><td>0</td><td>0</td><td>1.7190642</td><td>1.7127303</td><td>1.1730932</td><td>804.46826</td><td>254.64941</td><td>182.21574</td><td>505.1676</td><td>175.37813</td><td>97.09071</td><td>0.0</td><td>0.0</td><td></td><td>0.0</td><td>0.0</td><td>0.0</td><td>0.0</td><td>0.0</td><td>0.0</td><td>0.0</td><td>0.0</td><td>0.0</td><td>5.4235835</td><td>15.220326</td><td>26.262661</td><td>G2</td><td>922337908920667392</td><td>2015.5</td><td>20.41929</td><td>56.113914</td><td>19.914917</td><td>7.8426642</td><td>18.35755</td><td>26.372719</td><td>18.783848</td><td>True</td><td>4.0119267</td><td>6.1891317</td><td>3</td><td>0.0</td><td>0.0</td><td>0.0</td><td>0.0</td><td>0.0</td><td>0.0</td><td>4096</td><td>128</td><td>0.0</td><td>0.0</td></tr>\n",
       "</table>"
      ],
      "text/plain": [
       "<Table length=2592942>\n",
       "RELEASE BRICKID BRICKNAME OBJID ... MASKBITS FITBITS   SERSIC  SERSIC_IVAR\n",
       "                                ...                                       \n",
       " int16   int32    bytes8  int32 ...  int16    int16   float32    float32  \n",
       "------- ------- --------- ----- ... -------- ------- --------- -----------\n",
       "   9011  552082  1194p420    42 ...        0       0       1.0         0.0\n",
       "   9011  552082  1194p420    43 ...        0       0       1.0         0.0\n",
       "   9011  552082  1194p420    44 ...        0       0       0.0         0.0\n",
       "   9011  552082  1194p420    45 ...        0       0       0.0         0.0\n",
       "   9011  552082  1194p420    46 ...        0       0       1.0         0.0\n",
       "   9011  552082  1194p420    47 ...        0    8192       1.0         0.0\n",
       "   9011  552082  1194p420    48 ...        0    8192       0.0         0.0\n",
       "   9011  552082  1194p420    49 ...        0       0       0.0         0.0\n",
       "   9011  552082  1194p420    50 ...        0       0       1.0         0.0\n",
       "    ...     ...       ...   ... ...      ...     ...       ...         ...\n",
       "   9011  551007  1200p417  1722 ...        0       0       1.0         0.0\n",
       "   9011  551007  1200p417  1723 ...        0       0 3.2274957   507.05252\n",
       "   9011  551007  1200p417  1724 ...        0       0       1.0         0.0\n",
       "   9011  551007  1200p417  1725 ...        0       0       0.0         0.0\n",
       "   9011  551007  1200p417  1726 ...     2304    1026       1.0         0.0\n",
       "   9011  551007  1200p417  1727 ...        0       0       1.0         0.0\n",
       "   9011  551007  1200p417  1729 ...        0       0       1.0         0.0\n",
       "   9011  551007  1200p417  1730 ...        0       0       1.0         0.0\n",
       "   9011  551007  1200p417  1731 ...        0       0       1.0         0.0\n",
       "   9011  551007  1200p417  4691 ...     4096     128       0.0         0.0"
      ]
     },
     "execution_count": 6,
     "metadata": {},
     "output_type": "execute_result"
    }
   ],
   "source": [
    "sweep = Table.read(fpath)\n",
    "sweep"
   ]
  },
  {
   "cell_type": "code",
   "execution_count": 7,
   "id": "93ebf175-40f4-4910-91c4-905cea5e315e",
   "metadata": {},
   "outputs": [
    {
     "data": {
      "text/plain": [
       "[<matplotlib.lines.Line2D at 0x2aab204fdc10>]"
      ]
     },
     "execution_count": 7,
     "metadata": {},
     "output_type": "execute_result"
    },
    {
     "data": {
      "image/png": "[encoded data removed]",
      "text/plain": [
       "<Figure size 432x288 with 1 Axes>"
      ]
     },
     "metadata": {
      "needs_background": "light"
     },
     "output_type": "display_data"
    }
   ],
   "source": [
    "pl.plot(sweep['RA'].data, sweep['DEC'].data, marker=',', lw=0.0)"
   ]
  },
  {
   "cell_type": "code",
   "execution_count": 8,
   "id": "b3d99959-d0c8-41b9-b4cd-2d580e286ad2",
   "metadata": {},
   "outputs": [
    {
     "data": {
      "text/plain": [
       "('RELEASE',\n",
       " 'BRICKID',\n",
       " 'BRICKNAME',\n",
       " 'OBJID',\n",
       " 'TYPE',\n",
       " 'RA',\n",
       " 'DEC',\n",
       " 'RA_IVAR',\n",
       " 'DEC_IVAR',\n",
       " 'DCHISQ',\n",
       " 'EBV',\n",
       " 'FLUX_G',\n",
       " 'FLUX_R',\n",
       " 'FLUX_Z',\n",
       " 'FLUX_W1',\n",
       " 'FLUX_W2',\n",
       " 'FLUX_W3',\n",
       " 'FLUX_W4',\n",
       " 'FLUX_IVAR_G',\n",
       " 'FLUX_IVAR_R',\n",
       " 'FLUX_IVAR_Z',\n",
       " 'FLUX_IVAR_W1',\n",
       " 'FLUX_IVAR_W2',\n",
       " 'FLUX_IVAR_W3',\n",
       " 'FLUX_IVAR_W4',\n",
       " 'MW_TRANSMISSION_G',\n",
       " 'MW_TRANSMISSION_R',\n",
       " 'MW_TRANSMISSION_Z',\n",
       " 'MW_TRANSMISSION_W1',\n",
       " 'MW_TRANSMISSION_W2',\n",
       " 'MW_TRANSMISSION_W3',\n",
       " 'MW_TRANSMISSION_W4',\n",
       " 'NOBS_G',\n",
       " 'NOBS_R',\n",
       " 'NOBS_Z',\n",
       " 'NOBS_W1',\n",
       " 'NOBS_W2',\n",
       " 'NOBS_W3',\n",
       " 'NOBS_W4',\n",
       " 'RCHISQ_G',\n",
       " 'RCHISQ_R',\n",
       " 'RCHISQ_Z',\n",
       " 'RCHISQ_W1',\n",
       " 'RCHISQ_W2',\n",
       " 'RCHISQ_W3',\n",
       " 'RCHISQ_W4',\n",
       " 'FRACFLUX_G',\n",
       " 'FRACFLUX_R',\n",
       " 'FRACFLUX_Z',\n",
       " 'FRACFLUX_W1',\n",
       " 'FRACFLUX_W2',\n",
       " 'FRACFLUX_W3',\n",
       " 'FRACFLUX_W4',\n",
       " 'FRACMASKED_G',\n",
       " 'FRACMASKED_R',\n",
       " 'FRACMASKED_Z',\n",
       " 'FRACIN_G',\n",
       " 'FRACIN_R',\n",
       " 'FRACIN_Z',\n",
       " 'ANYMASK_G',\n",
       " 'ANYMASK_R',\n",
       " 'ANYMASK_Z',\n",
       " 'ALLMASK_G',\n",
       " 'ALLMASK_R',\n",
       " 'ALLMASK_Z',\n",
       " 'WISEMASK_W1',\n",
       " 'WISEMASK_W2',\n",
       " 'PSFSIZE_G',\n",
       " 'PSFSIZE_R',\n",
       " 'PSFSIZE_Z',\n",
       " 'PSFDEPTH_G',\n",
       " 'PSFDEPTH_R',\n",
       " 'PSFDEPTH_Z',\n",
       " 'GALDEPTH_G',\n",
       " 'GALDEPTH_R',\n",
       " 'GALDEPTH_Z',\n",
       " 'PSFDEPTH_W1',\n",
       " 'PSFDEPTH_W2',\n",
       " 'WISE_COADD_ID',\n",
       " 'SHAPE_R',\n",
       " 'SHAPE_R_IVAR',\n",
       " 'SHAPE_E1',\n",
       " 'SHAPE_E1_IVAR',\n",
       " 'SHAPE_E2',\n",
       " 'SHAPE_E2_IVAR',\n",
       " 'FIBERFLUX_G',\n",
       " 'FIBERFLUX_R',\n",
       " 'FIBERFLUX_Z',\n",
       " 'FIBERTOTFLUX_G',\n",
       " 'FIBERTOTFLUX_R',\n",
       " 'FIBERTOTFLUX_Z',\n",
       " 'REF_CAT',\n",
       " 'REF_ID',\n",
       " 'REF_EPOCH',\n",
       " 'GAIA_PHOT_G_MEAN_MAG',\n",
       " 'GAIA_PHOT_G_MEAN_FLUX_OVER_ERROR',\n",
       " 'GAIA_PHOT_BP_MEAN_MAG',\n",
       " 'GAIA_PHOT_BP_MEAN_FLUX_OVER_ERROR',\n",
       " 'GAIA_PHOT_RP_MEAN_MAG',\n",
       " 'GAIA_PHOT_RP_MEAN_FLUX_OVER_ERROR',\n",
       " 'GAIA_ASTROMETRIC_EXCESS_NOISE',\n",
       " 'GAIA_DUPLICATED_SOURCE',\n",
       " 'GAIA_PHOT_BP_RP_EXCESS_FACTOR',\n",
       " 'GAIA_ASTROMETRIC_SIGMA5D_MAX',\n",
       " 'GAIA_ASTROMETRIC_PARAMS_SOLVED',\n",
       " 'PARALLAX',\n",
       " 'PARALLAX_IVAR',\n",
       " 'PMRA',\n",
       " 'PMRA_IVAR',\n",
       " 'PMDEC',\n",
       " 'PMDEC_IVAR',\n",
       " 'MASKBITS',\n",
       " 'FITBITS',\n",
       " 'SERSIC',\n",
       " 'SERSIC_IVAR')"
      ]
     },
     "execution_count": 8,
     "metadata": {},
     "output_type": "execute_result"
    }
   ],
   "source": [
    "sweep.dtype.names"
   ]
  },
  {
   "cell_type": "code",
   "execution_count": 9,
   "id": "4f9504ef-06b7-4e26-a8c5-c8b006a07c24",
   "metadata": {},
   "outputs": [
    {
     "data": {
      "text/plain": [
       "array([b'DEV', b'DUP', b'EXP', b'PSF', b'REX', b'SER'], dtype='|S3')"
      ]
     },
     "execution_count": 9,
     "metadata": {},
     "output_type": "execute_result"
    }
   ],
   "source": [
    "np.unique(sweep['TYPE'].data)"
   ]
  },
  {
   "cell_type": "code",
   "execution_count": 11,
   "id": "7bab382a-1bf5-4557-aa8f-a8dae2fc9ca1",
   "metadata": {},
   "outputs": [
    {
     "data": {
      "text/plain": [
       "\u001b[0;31mSignature:\u001b[0m\n",
       "\u001b[0mofficial_isBGS\u001b[0m\u001b[0;34m(\u001b[0m\u001b[0;34m\u001b[0m\n",
       "\u001b[0;34m\u001b[0m    \u001b[0mrfiberflux\u001b[0m\u001b[0;34m=\u001b[0m\u001b[0;32mNone\u001b[0m\u001b[0;34m,\u001b[0m\u001b[0;34m\u001b[0m\n",
       "\u001b[0;34m\u001b[0m    \u001b[0mgflux\u001b[0m\u001b[0;34m=\u001b[0m\u001b[0;32mNone\u001b[0m\u001b[0;34m,\u001b[0m\u001b[0;34m\u001b[0m\n",
       "\u001b[0;34m\u001b[0m    \u001b[0mrflux\u001b[0m\u001b[0;34m=\u001b[0m\u001b[0;32mNone\u001b[0m\u001b[0;34m,\u001b[0m\u001b[0;34m\u001b[0m\n",
       "\u001b[0;34m\u001b[0m    \u001b[0mzflux\u001b[0m\u001b[0;34m=\u001b[0m\u001b[0;32mNone\u001b[0m\u001b[0;34m,\u001b[0m\u001b[0;34m\u001b[0m\n",
       "\u001b[0;34m\u001b[0m    \u001b[0mrfibertotflux\u001b[0m\u001b[0;34m=\u001b[0m\u001b[0;32mNone\u001b[0m\u001b[0;34m,\u001b[0m\u001b[0;34m\u001b[0m\n",
       "\u001b[0;34m\u001b[0m    \u001b[0mw1flux\u001b[0m\u001b[0;34m=\u001b[0m\u001b[0;32mNone\u001b[0m\u001b[0;34m,\u001b[0m\u001b[0;34m\u001b[0m\n",
       "\u001b[0;34m\u001b[0m    \u001b[0mw2flux\u001b[0m\u001b[0;34m=\u001b[0m\u001b[0;32mNone\u001b[0m\u001b[0;34m,\u001b[0m\u001b[0;34m\u001b[0m\n",
       "\u001b[0;34m\u001b[0m    \u001b[0mgnobs\u001b[0m\u001b[0;34m=\u001b[0m\u001b[0;32mNone\u001b[0m\u001b[0;34m,\u001b[0m\u001b[0;34m\u001b[0m\n",
       "\u001b[0;34m\u001b[0m    \u001b[0mrnobs\u001b[0m\u001b[0;34m=\u001b[0m\u001b[0;32mNone\u001b[0m\u001b[0;34m,\u001b[0m\u001b[0;34m\u001b[0m\n",
       "\u001b[0;34m\u001b[0m    \u001b[0mznobs\u001b[0m\u001b[0;34m=\u001b[0m\u001b[0;32mNone\u001b[0m\u001b[0;34m,\u001b[0m\u001b[0;34m\u001b[0m\n",
       "\u001b[0;34m\u001b[0m    \u001b[0mgfluxivar\u001b[0m\u001b[0;34m=\u001b[0m\u001b[0;32mNone\u001b[0m\u001b[0;34m,\u001b[0m\u001b[0;34m\u001b[0m\n",
       "\u001b[0;34m\u001b[0m    \u001b[0mrfluxivar\u001b[0m\u001b[0;34m=\u001b[0m\u001b[0;32mNone\u001b[0m\u001b[0;34m,\u001b[0m\u001b[0;34m\u001b[0m\n",
       "\u001b[0;34m\u001b[0m    \u001b[0mzfluxivar\u001b[0m\u001b[0;34m=\u001b[0m\u001b[0;32mNone\u001b[0m\u001b[0;34m,\u001b[0m\u001b[0;34m\u001b[0m\n",
       "\u001b[0;34m\u001b[0m    \u001b[0mmaskbits\u001b[0m\u001b[0;34m=\u001b[0m\u001b[0;32mNone\u001b[0m\u001b[0;34m,\u001b[0m\u001b[0;34m\u001b[0m\n",
       "\u001b[0;34m\u001b[0m    \u001b[0mGrr\u001b[0m\u001b[0;34m=\u001b[0m\u001b[0;32mNone\u001b[0m\u001b[0;34m,\u001b[0m\u001b[0;34m\u001b[0m\n",
       "\u001b[0;34m\u001b[0m    \u001b[0mrefcat\u001b[0m\u001b[0;34m=\u001b[0m\u001b[0;32mNone\u001b[0m\u001b[0;34m,\u001b[0m\u001b[0;34m\u001b[0m\n",
       "\u001b[0;34m\u001b[0m    \u001b[0mw1snr\u001b[0m\u001b[0;34m=\u001b[0m\u001b[0;32mNone\u001b[0m\u001b[0;34m,\u001b[0m\u001b[0;34m\u001b[0m\n",
       "\u001b[0;34m\u001b[0m    \u001b[0mw2snr\u001b[0m\u001b[0;34m=\u001b[0m\u001b[0;32mNone\u001b[0m\u001b[0;34m,\u001b[0m\u001b[0;34m\u001b[0m\n",
       "\u001b[0;34m\u001b[0m    \u001b[0mgaiagmag\u001b[0m\u001b[0;34m=\u001b[0m\u001b[0;32mNone\u001b[0m\u001b[0;34m,\u001b[0m\u001b[0;34m\u001b[0m\n",
       "\u001b[0;34m\u001b[0m    \u001b[0mobjtype\u001b[0m\u001b[0;34m=\u001b[0m\u001b[0;32mNone\u001b[0m\u001b[0;34m,\u001b[0m\u001b[0;34m\u001b[0m\n",
       "\u001b[0;34m\u001b[0m    \u001b[0mprimary\u001b[0m\u001b[0;34m=\u001b[0m\u001b[0;32mNone\u001b[0m\u001b[0;34m,\u001b[0m\u001b[0;34m\u001b[0m\n",
       "\u001b[0;34m\u001b[0m    \u001b[0msouth\u001b[0m\u001b[0;34m=\u001b[0m\u001b[0;32mTrue\u001b[0m\u001b[0;34m,\u001b[0m\u001b[0;34m\u001b[0m\n",
       "\u001b[0;34m\u001b[0m    \u001b[0mtargtype\u001b[0m\u001b[0;34m=\u001b[0m\u001b[0;32mNone\u001b[0m\u001b[0;34m,\u001b[0m\u001b[0;34m\u001b[0m\n",
       "\u001b[0;34m\u001b[0m\u001b[0;34m)\u001b[0m\u001b[0;34m\u001b[0m\u001b[0;34m\u001b[0m\u001b[0m\n",
       "\u001b[0;31mDocstring:\u001b[0m\n",
       "Definition of BGS target classes. Returns a boolean array.\n",
       "\n",
       "Args\n",
       "----\n",
       "targtype: str, optional, defaults to ``faint``\n",
       "    Pass ``bright`` for the ``BGS_BRIGHT`` selection.\n",
       "    or ``faint`` for the ``BGS_FAINT`` selection\n",
       "    or ``wise`` for the ``BGS_WISE`` (AGN-like) selection.\n",
       "\n",
       "Returns\n",
       "-------\n",
       ":class:`array_like`\n",
       "    ``True`` if the object is a BGS target of type ``targtype``.\n",
       "\n",
       "Notes\n",
       "-----\n",
       "- Current version (05/11/21) is version 264 on `the wiki`_.\n",
       "- See :func:`~desitarget.cuts.set_target_bits` for other parameters.\n",
       "\u001b[0;31mFile:\u001b[0m      /global/common/software/desi/cori/desiconda/20200801-1.4.0-spec/code/desitarget/master/py/desitarget/cuts.py\n",
       "\u001b[0;31mType:\u001b[0m      function\n"
      ]
     },
     "metadata": {},
     "output_type": "display_data"
    }
   ],
   "source": [
    "official_isBGS?"
   ]
  },
  {
   "cell_type": "code",
   "execution_count": 12,
   "id": "1d553698-9964-4b4b-9c0e-11837dfb4216",
   "metadata": {},
   "outputs": [],
   "source": [
    "rfiberflux=sweep['FIBERFLUX_R'].data.clip(1e-16) / sweep['MW_TRANSMISSION_R'].data\n",
    "\n",
    "rfibertotflux=sweep['FIBERTOTFLUX_R'].data.clip(1e-16) / sweep['MW_TRANSMISSION_R'].data\n",
    "\n",
    "gflux=sweep['FLUX_G'].data.clip(1e-16) / sweep['MW_TRANSMISSION_G'].data\n",
    "rflux=sweep['FLUX_R'].data.clip(1e-16) / sweep['MW_TRANSMISSION_R'].data\n",
    "zflux=sweep['FLUX_Z'].data.clip(1e-16) / sweep['MW_TRANSMISSION_Z'].data\n",
    "\n",
    "w1flux=sweep['FLUX_W1'].data.clip(1e-16) / sweep['MW_TRANSMISSION_W1'].data\n",
    "w2flux=sweep['FLUX_W2'].data.clip(1e-16) / sweep['MW_TRANSMISSION_W2'].data\n",
    "\n",
    "gnobs=sweep['NOBS_G'].data\n",
    "rnobs=sweep['NOBS_R'].data\n",
    "znobs=sweep['NOBS_Z'].data\n",
    "    \n",
    "# EBV correction makes no difference to 0.0 for >0.0 cut.\n",
    "gfluxivar=sweep['FLUX_IVAR_G'].data\n",
    "rfluxivar=sweep['FLUX_IVAR_R'].data\n",
    "zfluxivar=sweep['FLUX_IVAR_Z'].data\n",
    "\n",
    "maskbits=sweep['MASKBITS'].data\n",
    "\n",
    "# https://github.com/desihub/desitarget/blob/cba082b3b73bc0dfc0e8a790d50a8d5151ba1753/py/desitarget/cuts.py#L2179\n",
    "gaiagmag = sweep['GAIA_PHOT_G_MEAN_MAG'].data\n",
    "\n",
    "Grr = gaiagmag - 22.5 + 2.5*np.log10(1e-16)\n",
    "\n",
    "ii = sweep['FLUX_R'] > 0\n",
    "\n",
    "Grr[ii] = gaiagmag[ii] - 22.5 + 2.5*np.log10(sweep['FLUX_R'][ii])\n",
    "\n",
    "refcat=sweep['REF_CAT'].data\n",
    "\n",
    "w1snr=None\n",
    "w2snr=None\n",
    "\n",
    "gaiagmag=sweep['GAIA_PHOT_G_MEAN_MAG'].data\n",
    "\n",
    "objtype=sweep['TYPE'].data\n",
    "\n",
    "primary=None"
   ]
  },
  {
   "cell_type": "code",
   "execution_count": 13,
   "id": "3bf75db1-8373-499a-9c7f-6b538e72c622",
   "metadata": {},
   "outputs": [
    {
     "data": {
      "text/plain": [
       "array([ 0.      ,  0.      ,  0.      , ..., 21.433966, 21.449362,\n",
       "       21.46798 ], dtype=float32)"
      ]
     },
     "execution_count": 13,
     "metadata": {},
     "output_type": "execute_result"
    }
   ],
   "source": [
    "np.sort(sweep['GAIA_PHOT_G_MEAN_MAG'].data)"
   ]
  },
  {
   "cell_type": "code",
   "execution_count": 15,
   "id": "02a5983f-1271-4b49-bd3b-b4f60e35e782",
   "metadata": {},
   "outputs": [],
   "source": [
    "in_north = sweep['DEC'] > 32.375\n",
    "in_south = ~in_north"
   ]
  },
  {
   "cell_type": "code",
   "execution_count": 16,
   "id": "f43bcae5-2fcc-409e-8b63-23937a8be2f5",
   "metadata": {},
   "outputs": [
    {
     "data": {
      "text/plain": [
       "(1.0, 0.0)"
      ]
     },
     "execution_count": 16,
     "metadata": {},
     "output_type": "execute_result"
    }
   ],
   "source": [
    "np.mean(in_north), np.mean(in_south)"
   ]
  },
  {
   "cell_type": "markdown",
   "id": "4c9ca2fe-d853-4ce5-859d-1209b33abde1",
   "metadata": {},
   "source": [
    "##### If you were to look at other sweep files containing bricks/targets below 32.375 in declination this would be True.  I assume there is no sweep file that crosses the boundary."
   ]
  },
  {
   "cell_type": "code",
   "execution_count": 19,
   "id": "9c076231-b505-4a44-a621-5c9b983ca4f7",
   "metadata": {},
   "outputs": [],
   "source": [
    "south=False"
   ]
  },
  {
   "cell_type": "code",
   "execution_count": 20,
   "id": "c5947c8c-0809-481b-a7d5-6f34ce1f4635",
   "metadata": {},
   "outputs": [
    {
     "name": "stdout",
     "output_type": "stream",
     "text": [
      "bright 1.2857210072573935 666.76\n",
      "faint 0.7222683731452535 374.56\n"
     ]
    }
   ],
   "source": [
    "sweep_targets = {}\n",
    "\n",
    "# targposs = ['faint', 'bright', 'faint_ext', 'lowq', 'fibmag']\n",
    "for targtype in ['bright', 'faint']:\n",
    "    isin_BGS =        official_isBGS(rfiberflux=rfiberflux,\\\n",
    "                                     gflux=gflux, rflux=rflux, zflux=zflux,\\\n",
    "                                     rfibertotflux=rfibertotflux,\\\n",
    "                                     w1flux=w1flux, w2flux=w2flux,\\\n",
    "                                     gnobs=gnobs, rnobs=rnobs, znobs=znobs,\\\n",
    "                                     gfluxivar=gfluxivar, rfluxivar=rfluxivar, zfluxivar=zfluxivar, \n",
    "                                     maskbits=maskbits,\\\n",
    "                                     Grr=Grr,\\\n",
    "                                     refcat=refcat,\\\n",
    "                                     w1snr=w1snr,\\\n",
    "                                     w2snr=w2snr,\\\n",
    "                                     gaiagmag=gaiagmag,\\\n",
    "                                     objtype=objtype,\\\n",
    "                                     primary=primary,\\\n",
    "                                     south=south,\\\n",
    "                                     targtype=targtype)\n",
    "\n",
    "    sweep_targets[targtype] = sweep[isin_BGS]\n",
    "    \n",
    "    sweep_targets[targtype]['BRICK_OBJID'] = sweep_targets[targtype]['OBJID'] \n",
    "\n",
    "    del sweep_targets[targtype]['OBJID'] \n",
    "    \n",
    "    print(targtype, 100. * np.mean(isin_BGS), np.count_nonzero(isin_BGS) / 50.)"
   ]
  },
  {
   "cell_type": "code",
   "execution_count": 21,
   "id": "dde75001-64f4-44bb-bb2e-bad9a2af15a6",
   "metadata": {},
   "outputs": [
    {
     "data": {
      "text/plain": [
       "array([ 99, 102, 103, 105, 108])"
      ]
     },
     "execution_count": 21,
     "metadata": {},
     "output_type": "execute_result"
    }
   ],
   "source": [
    "nside=8\n",
    "\n",
    "# Note: unbelievably, theta = ra when lonlat=True.\n",
    "theta=sweep['RA'].data\n",
    "phi=sweep['DEC'].data\n",
    "lonlat=True, \n",
    "nest=True\n",
    "\n",
    "idxs = hp.ang2pix(nside, theta, phi, lonlat=True, nest=nest)\n",
    "idxs = np.unique(idxs)\n",
    "idxs"
   ]
  },
  {
   "cell_type": "code",
   "execution_count": 22,
   "id": "203e8586-4ad4-4909-830a-e334186fb530",
   "metadata": {},
   "outputs": [],
   "source": [
    "# theta, phi = hp.pixelfunc.lonlat2thetaphi(phi, theta)"
   ]
  },
  {
   "cell_type": "code",
   "execution_count": 23,
   "id": "72a5a921-4f02-48aa-8848-26443db4d04e",
   "metadata": {},
   "outputs": [],
   "source": [
    "# hp.ang2pix?"
   ]
  },
  {
   "cell_type": "code",
   "execution_count": 24,
   "id": "939e62da-2a33-4834-9b4a-15c01ea36d0a",
   "metadata": {},
   "outputs": [],
   "source": [
    "# idxs = [99]"
   ]
  },
  {
   "cell_type": "code",
   "execution_count": 26,
   "id": "8d86335b-0f14-4988-83ca-50a3d9cd80b2",
   "metadata": {},
   "outputs": [
    {
     "name": "stdout",
     "output_type": "stream",
     "text": [
      "99 9703\n",
      "102 85747\n",
      "103 0\n",
      "105 19542\n",
      "108 25918\n"
     ]
    }
   ],
   "source": [
    "btargets = []\n",
    "\n",
    "for idx in idxs:\n",
    "    btarget  = Table.read('/global/cfs/cdirs/desi/target/catalogs/dr9/1.1.1/targets/main/resolve/bright/targets-bright-hp-{:d}.fits'.format(idx), hdu=1)\n",
    "    \n",
    "    in_sweep = (btarget['DEC'].data > 40.) & (btarget['DEC'].data < 45.) & (btarget['RA'].data > 110.) & (btarget['RA'].data < 120.)\n",
    "\n",
    "    btarget  = btarget[in_sweep] \n",
    "    \n",
    "    btargets.append(btarget)\n",
    "    \n",
    "    # btargets = [Table.read('/global/cfs/cdirs/desi/target/catalogs/dr9/1.1.1/targets/main/resolve/bright/targets-bright-hp-{:d}.fits'.format(x), hdu=1) for x in idxs]\n",
    "    # btargets = vstack(btargets)\n",
    "    # btargets\n",
    "    \n",
    "    # btargets.pprint()\n",
    "    \n",
    "    print(idx, len(btarget))\n",
    "    \n",
    "btargets = vstack(btargets)"
   ]
  },
  {
   "cell_type": "code",
   "execution_count": 27,
   "id": "897c6d76-a9c7-4776-9db2-97037f5a97bd",
   "metadata": {},
   "outputs": [],
   "source": [
    "brights = btargets[(btargets['BGS_TARGET'].data & bgs_mask['BGS_BRIGHT']) != 0]\n",
    "faints  = btargets[(btargets['BGS_TARGET'].data & bgs_mask['BGS_FAINT'])  != 0]"
   ]
  },
  {
   "cell_type": "code",
   "execution_count": 28,
   "id": "b1f11d23-e57c-4600-a2e0-94333766e775",
   "metadata": {},
   "outputs": [
    {
     "data": {
      "text/plain": [
       "<matplotlib.lines.Line2D at 0x2aab205c04c0>"
      ]
     },
     "execution_count": 28,
     "metadata": {},
     "output_type": "execute_result"
    },
    {
     "data": {
      "image/png": "[encoded data removed]",
      "text/plain": [
       "<Figure size 432x288 with 1 Axes>"
      ]
     },
     "metadata": {
      "needs_background": "light"
     },
     "output_type": "display_data"
    }
   ],
   "source": [
    "_ = pl.hist(22.5 - 2.5 * np.log10(sweep_targets['bright']['FLUX_R'].data / sweep_targets['bright']['MW_TRANSMISSION_R'].data), bins=np.arange(12., 21., 0.25), histtype='step')\n",
    "_ = pl.hist(22.5 - 2.5 * np.log10(brights['FLUX_R'].data / brights['MW_TRANSMISSION_R'].data), bins=np.arange(12., 21., 0.25), histtype='step')\n",
    "\n",
    "pl.axvline(19.5, c='k', lw=0.75)"
   ]
  },
  {
   "cell_type": "code",
   "execution_count": 29,
   "id": "fe968938-c497-4da2-bd6e-3c866ecc5068",
   "metadata": {},
   "outputs": [
    {
     "data": {
      "text/plain": [
       "[<matplotlib.lines.Line2D at 0x2aab206f9400>]"
      ]
     },
     "execution_count": 29,
     "metadata": {},
     "output_type": "execute_result"
    },
    {
     "data": {
      "image/png": "[encoded data removed]",
      "text/plain": [
       "<Figure size 432x288 with 1 Axes>"
      ]
     },
     "metadata": {
      "needs_background": "light"
     },
     "output_type": "display_data"
    }
   ],
   "source": [
    "pl.plot(sweep_targets['bright']['RA'].data, sweep_targets['bright']['DEC'].data, marker=',', lw=0.0)\n",
    "pl.plot(brights['RA'].data, brights['DEC'].data, marker=',', lw=0.0)"
   ]
  },
  {
   "cell_type": "code",
   "execution_count": 30,
   "id": "694284d1-08f4-49be-9561-f7d4b6a11ca8",
   "metadata": {},
   "outputs": [],
   "source": [
    "sweep_brickids = np.unique(sweep_targets['bright']['BRICKID'].data)"
   ]
  },
  {
   "cell_type": "code",
   "execution_count": 31,
   "id": "1b2b4d5b-8108-40b8-a025-d47898236049",
   "metadata": {},
   "outputs": [],
   "source": [
    "hp_brickids    = np.unique(brights['BRICKID'].data)"
   ]
  },
  {
   "cell_type": "code",
   "execution_count": 32,
   "id": "d3933b7c-8f99-422c-8fad-b7dcd1f887d5",
   "metadata": {},
   "outputs": [
    {
     "data": {
      "text/plain": [
       "array([543327, 543328, 543329, 543330, 543331, 543332, 543333, 543334,\n",
       "       543335, 543336, 543337, 543338, 543339, 543340, 543341, 543342,\n",
       "       543343, 543344, 543345, 543346, 543347, 543348, 543349, 543350,\n",
       "       543351, 543352, 543353, 543354, 543355, 543356, 543357, 543358,\n",
       "       544432, 544433, 544434, 544435, 544436, 544437, 544438, 544439,\n",
       "       544440, 544441, 544442, 544443, 544444, 544445, 544446, 544447,\n",
       "       544448, 544449, 544450, 544451, 544452, 544453, 544454, 544455,\n",
       "       544456, 544457, 544458, 544459, 544460, 544461, 544462, 544463,\n",
       "       545533, 545534, 545535, 545536, 545537, 545538, 545539, 545540,\n",
       "       545541, 545542, 545543, 545544, 545545, 545546, 545547, 545548,\n",
       "       545549, 545550, 545551, 545552, 545553, 545554, 545555, 545556,\n",
       "       545557, 545558, 545559, 545560, 545561, 545562, 545563, 546630,\n",
       "       546631, 546632, 546633, 546634, 546635, 546636, 546637, 546638,\n",
       "       546639, 546640, 546641, 546642, 546643, 546644, 546645, 546646,\n",
       "       546647, 546648, 546649, 546650, 546651, 546652, 546653, 546654,\n",
       "       546655, 546656, 546657, 546658, 546659, 546660, 547723, 547724,\n",
       "       547725, 547726, 547727, 547728, 547729, 547730, 547731, 547732,\n",
       "       547733, 547734, 547735, 547736, 547737, 547738, 547739, 547740,\n",
       "       547741, 547742, 547743, 547744, 547745, 547746, 547747, 547748,\n",
       "       547749, 547750, 547751, 547752, 547753, 548811, 548812, 548813,\n",
       "       548814, 548815, 548816, 548817, 548818, 548819, 548820, 548821,\n",
       "       548822, 548823, 548824, 548825, 548826, 548827, 548828, 548829,\n",
       "       548830, 548831, 548832, 548833, 548834, 548835, 548836, 548837,\n",
       "       548838, 548839, 548840, 548841, 549896, 549897, 549898, 549899,\n",
       "       549900, 549901, 549902, 549903, 549904, 549905, 549906, 549907,\n",
       "       549908, 549909, 549910, 549911, 549912, 549913, 549914, 549915,\n",
       "       549916, 549917, 549918, 549919, 549920, 549921, 549922, 549923,\n",
       "       549924, 549925, 549926, 550977, 550978, 550979, 550980, 550981,\n",
       "       550982, 550983, 550984, 550985, 550986, 550987, 550988, 550989,\n",
       "       550990, 550991, 550992, 550993, 550994, 550995, 550996, 550997,\n",
       "       550998, 550999, 551000, 551001, 551002, 551003, 551004, 551005,\n",
       "       551006, 551007, 552054, 552055, 552056, 552057, 552058, 552059,\n",
       "       552060, 552061, 552062, 552063, 552064, 552065, 552066, 552067,\n",
       "       552068, 552069, 552070, 552071, 552072, 552073, 552074, 552075,\n",
       "       552076, 552077, 552078, 552079, 552080, 552081, 552082, 552083,\n",
       "       553126, 553127, 553128, 553129, 553130, 553131, 553132, 553133,\n",
       "       553134, 553135, 553136, 553137, 553138, 553139, 553140, 553141,\n",
       "       553142, 553143, 553144, 553145, 553146, 553147, 553148, 553149,\n",
       "       553150, 553151, 553152, 553153, 553154, 553155, 553156, 554195,\n",
       "       554196, 554197, 554198, 554199, 554200, 554201, 554202, 554203,\n",
       "       554204, 554205, 554206, 554207, 554208, 554209, 554210, 554211,\n",
       "       554212, 554213, 554214, 554215, 554216, 554217, 554218, 554219,\n",
       "       554220, 554221, 554222, 554223, 554224, 555257, 555258, 555259,\n",
       "       555260, 555261, 555262, 555263, 555264, 555265, 555266, 555267,\n",
       "       555268, 555269, 555270, 555271, 555272, 555273, 555274, 555275,\n",
       "       555276, 555277, 555278, 555279, 555280, 555281, 555282, 555283,\n",
       "       555284, 555285, 555286, 555287, 556316, 556317, 556318, 556319,\n",
       "       556320, 556321, 556322, 556323, 556324, 556325, 556326, 556327,\n",
       "       556328, 556329, 556330, 556331, 556332, 556333, 556334, 556335,\n",
       "       556336, 556337, 556338, 556339, 556340, 556341, 556342, 556343,\n",
       "       556344, 556345, 557371, 557372, 557373, 557374, 557375, 557376,\n",
       "       557377, 557378, 557379, 557380, 557381, 557382, 557383, 557384,\n",
       "       557385, 557386, 557387, 557388, 557389, 557390, 557391, 557392,\n",
       "       557393, 557394, 557395, 557396, 557397, 557398, 557399, 557400,\n",
       "       558422, 558423, 558424, 558425, 558426, 558427, 558428, 558429,\n",
       "       558430, 558431, 558432, 558433, 558434, 558435, 558436, 558437,\n",
       "       558438, 558439, 558440, 558441, 558442, 558443, 558444, 558445,\n",
       "       558446, 558447, 558448, 558449, 558450, 558451, 559469, 559470,\n",
       "       559471, 559472, 559473, 559474, 559475, 559476, 559477, 559478,\n",
       "       559479, 559480, 559481, 559482, 559483, 559484, 559485, 559486,\n",
       "       559487, 559488, 559489, 559490, 559491, 559492, 559493, 559494,\n",
       "       559495, 559496, 559497, 560511, 560512, 560513, 560514, 560515,\n",
       "       560516, 560517, 560518, 560519, 560520, 560521, 560522, 560523,\n",
       "       560524, 560525, 560526, 560527, 560528, 560529, 560530, 560531,\n",
       "       560532, 560533, 560534, 560535, 560536, 560537, 560538, 560539,\n",
       "       560540, 561549, 561550, 561551, 561552, 561553, 561554, 561555,\n",
       "       561556, 561557, 561558, 561559, 561560, 561561, 561562, 561563,\n",
       "       561564, 561565, 561566, 561567, 561568, 561569, 561570, 561571,\n",
       "       561572, 561573, 561574, 561575, 561576, 561577, 561578, 562582,\n",
       "       562583, 562584, 562585, 562586, 562587, 562588, 562589, 562590,\n",
       "       562591, 562592, 562593, 562594, 562595, 562596, 562597, 562598,\n",
       "       562599, 562600, 562601, 562602, 562603, 562604, 562605, 562606,\n",
       "       562607, 562608, 562609, 562610, 562611, 563611, 563612, 563613,\n",
       "       563614, 563615, 563616, 563617, 563618, 563619, 563620, 563621,\n",
       "       563622, 563623, 563624, 563625, 563626, 563627, 563628, 563629,\n",
       "       563630, 563631, 563632, 563633, 563634, 563635, 563636, 563637,\n",
       "       563638, 563639, 564636, 564637, 564638, 564639, 564640, 564641,\n",
       "       564642, 564643, 564644, 564645, 564646, 564647, 564648, 564649,\n",
       "       564650, 564651, 564652, 564653, 564654, 564655, 564656, 564657,\n",
       "       564658, 564659, 564660, 564661, 564662, 564663, 564664],\n",
       "      dtype=int32)"
      ]
     },
     "execution_count": 32,
     "metadata": {},
     "output_type": "execute_result"
    }
   ],
   "source": [
    "incommon_brickids = sweep_brickids[np.isin(sweep_brickids, hp_brickids)]\n",
    "incommon_brickids"
   ]
  },
  {
   "cell_type": "code",
   "execution_count": 33,
   "id": "2638c89a-4b8c-4ab2-a5d0-6dff04220968",
   "metadata": {},
   "outputs": [
    {
     "name": "stderr",
     "output_type": "stream",
     "text": [
      "WARNING: MergeConflictWarning: Cannot merge meta key 'EXTNAME' types <class 'str'> and <class 'str'>, choosing EXTNAME='TARGETS' [astropy.utils.metadata]\n"
     ]
    }
   ],
   "source": [
    "sweep_targets['bright'] = join(sweep_targets['bright'], brights['BRICKID', 'BRICK_OBJID', 'TARGETID'], join_type='left', keys=['BRICKID', 'BRICK_OBJID'])\n",
    "sweep_targets['faint']  = join(sweep_targets['faint'],   faints['BRICKID', 'BRICK_OBJID', 'TARGETID'], join_type='left', keys=['BRICKID', 'BRICK_OBJID'])"
   ]
  },
  {
   "cell_type": "code",
   "execution_count": 34,
   "id": "ae78bd88-8f3f-4ed9-b1fa-fc1d430f09f5",
   "metadata": {},
   "outputs": [
    {
     "data": {
      "text/plain": [
       "array([39633075990172430, 39633075994361925, 39633075994362030, ...,\n",
       "       39633165484034426, 39633165484034676, 39633165484034700])"
      ]
     },
     "execution_count": 34,
     "metadata": {},
     "output_type": "execute_result"
    }
   ],
   "source": [
    "np.sort(sweep_targets['bright']['TARGETID'].data)"
   ]
  },
  {
   "cell_type": "code",
   "execution_count": 35,
   "id": "6e701c33-d082-4799-b2f9-55c2526cc0d6",
   "metadata": {},
   "outputs": [
    {
     "data": {
      "text/plain": [
       "array([39633075990172264, 39633075990172293, 39633075990172493, ...,\n",
       "       39633165484034367, 39633165484034679, 39633165484034714])"
      ]
     },
     "execution_count": 35,
     "metadata": {},
     "output_type": "execute_result"
    }
   ],
   "source": [
    "np.sort(sweep_targets['faint']['TARGETID'].data)"
   ]
  },
  {
   "cell_type": "code",
   "execution_count": 36,
   "id": "36cfae28-31ce-40a1-abf2-57ae5d6d5457",
   "metadata": {},
   "outputs": [
    {
     "data": {
      "text/plain": [
       "[<matplotlib.lines.Line2D at 0x2aab207670a0>]"
      ]
     },
     "execution_count": 36,
     "metadata": {},
     "output_type": "execute_result"
    },
    {
     "data": {
      "image/png": "[encoded data removed]",
      "text/plain": [
       "<Figure size 432x288 with 1 Axes>"
      ]
     },
     "metadata": {
      "needs_background": "light"
     },
     "output_type": "display_data"
    }
   ],
   "source": [
    "match = sweep_targets['bright']['TARGETID'].data >= 39633075990172430\n",
    "\n",
    "pl.plot(sweep_targets['bright']['RA'].data, sweep_targets['bright']['DEC'].data, marker=',', lw=0.0)\n",
    "pl.plot(brights['RA'].data, brights['DEC'].data, marker=',', lw=0.0)\n",
    "pl.plot(sweep_targets['bright']['RA'].data[match], sweep_targets['bright']['DEC'].data[match], marker=',', lw=0.0)"
   ]
  },
  {
   "cell_type": "code",
   "execution_count": 37,
   "id": "ec28cca6-8b73-4adb-b479-1c18057f23f7",
   "metadata": {},
   "outputs": [],
   "source": [
    "brights = brights[brights['DEC'].data > 40.]\n",
    "btids   = brights['TARGETID'].data"
   ]
  },
  {
   "cell_type": "code",
   "execution_count": 38,
   "id": "af6d63a7-f736-4adf-ab02-54671a32c372",
   "metadata": {},
   "outputs": [
    {
     "data": {
      "text/plain": [
       "0.9991907687696688"
      ]
     },
     "execution_count": 38,
     "metadata": {},
     "output_type": "execute_result"
    }
   ],
   "source": [
    "np.mean(np.isin(btids, sweep_targets['bright']['TARGETID'].data))"
   ]
  },
  {
   "cell_type": "code",
   "execution_count": 39,
   "id": "6a6a4080-7d97-428a-b34b-a664029aee42",
   "metadata": {},
   "outputs": [],
   "source": [
    "faints  = faints[faints['DEC'].data > 40.]\n",
    "ftids   = faints['TARGETID'].data"
   ]
  },
  {
   "cell_type": "code",
   "execution_count": 40,
   "id": "14fe6787-f8a6-439d-8637-7d7f545388be",
   "metadata": {},
   "outputs": [
    {
     "data": {
      "text/plain": [
       "1.0"
      ]
     },
     "execution_count": 40,
     "metadata": {},
     "output_type": "execute_result"
    }
   ],
   "source": [
    "np.mean(np.isin(ftids, sweep_targets['faint']['TARGETID'].data))"
   ]
  },
  {
   "cell_type": "code",
   "execution_count": 41,
   "id": "bb44a8ac-f4fc-4a56-873e-033603c5f9f4",
   "metadata": {},
   "outputs": [
    {
     "data": {
      "image/png": "[encoded data removed]",
      "text/plain": [
       "<Figure size 432x288 with 1 Axes>"
      ]
     },
     "metadata": {
      "needs_background": "light"
     },
     "output_type": "display_data"
    },
    {
     "data": {
      "image/png": "[encoded data removed]",
      "text/plain": [
       "<Figure size 432x288 with 1 Axes>"
      ]
     },
     "metadata": {
      "needs_background": "light"
     },
     "output_type": "display_data"
    }
   ],
   "source": [
    "all_unmatched  = {} \n",
    "\n",
    "all_unmatched['bright'] = []\n",
    "all_unmatched['faint']  = []\n",
    "\n",
    "for targtype, tids in zip(['bright', 'faint'], [btids, ftids]):\n",
    "    unmatched = ~np.isin(sweep_targets[targtype]['TARGETID'].data, tids)\n",
    "    unmatched = sweep_targets[targtype][unmatched]\n",
    "    \n",
    "    all_unmatched[targtype].append(unmatched)\n",
    "    \n",
    "    pl.plot(unmatched['RA'].data, unmatched['DEC'].data, marker=',', lw=0.0)\n",
    "    pl.title(targtype.upper() + '  {:d}'.format(len(unmatched)))\n",
    "    pl.show()\n",
    "    \n",
    "all_unmatched['bright'] = vstack(all_unmatched['bright'])\n",
    "all_unmatched['faint']  = vstack(all_unmatched['faint'])"
   ]
  },
  {
   "cell_type": "markdown",
   "id": "ee26165e-9ca7-4f5c-aca7-68a5622c58cb",
   "metadata": {},
   "source": [
    "#####  Here, we reproduce the main survey desitarget selection code and comment the (2) lines that impose a color-cut on BGS Faint.\n",
    "https://github.com/desihub/desitarget/blob/cba082b3b73bc0dfc0e8a790d50a8d5151ba1753/py/desitarget/cuts.py#L2179"
   ]
  },
  {
   "cell_type": "code",
   "execution_count": 45,
   "id": "a102e02c-66c2-48dd-af46-79884f52a5e3",
   "metadata": {},
   "outputs": [],
   "source": [
    "def _check_BGS_targtype(targtype):\n",
    "    \"\"\"Fail if `targtype` is not one 'bright', 'faint' or 'wise'.\n",
    "    \"\"\"\n",
    "    targposs = ['faint', 'bright', 'wise']\n",
    "\n",
    "    if targtype not in targposs:\n",
    "        msg = 'targtype must be one of {} not {}'.format(targposs, targtype)\n",
    "        log.critical(msg)\n",
    "        raise ValueError(msg)"
   ]
  },
  {
   "cell_type": "code",
   "execution_count": 46,
   "id": "a8be69bf-d8d1-4fe2-a34e-52e96612dc83",
   "metadata": {},
   "outputs": [],
   "source": [
    "def isBGS_colors(rfiberflux=None, gflux=None, rflux=None, zflux=None,\n",
    "                 w1flux=None, rfibertotflux=None, maskbits=None,\n",
    "                 south=True, targtype=None, primary=None):\n",
    "    \"\"\"Standard color-based cuts used by all BGS target selection classes\n",
    "    (see, e.g., :func:`~desitarget.cuts.isBGS` for parameters).\n",
    "    \"\"\"\n",
    "    _check_BGS_targtype(targtype)\n",
    "\n",
    "    # ADM to maintain backwards-compatibility with mocks.\n",
    "    if rfiberflux is None:\n",
    "        log.warning('Setting rfiberflux to rflux!!!')\n",
    "        rfiberflux = rflux.copy()\n",
    "\n",
    "    if primary is None:\n",
    "        primary = np.ones_like(rflux, dtype='?')\n",
    "    bgs = primary.copy()\n",
    "    fmc = np.zeros_like(rflux, dtype='?')\n",
    "\n",
    "    if south:\n",
    "        bgs &= rflux > gflux * 10**(-1.0/2.5)\n",
    "        bgs &= rflux < gflux * 10**(4.0/2.5)\n",
    "        bgs &= zflux > rflux * 10**(-1.0/2.5)\n",
    "        bgs &= zflux < rflux * 10**(4.0/2.5)\n",
    "    else:\n",
    "        bgs &= rflux > gflux * 10**(-1.0/2.5)\n",
    "        bgs &= rflux < gflux * 10**(4.0/2.5)\n",
    "        bgs &= zflux > rflux * 10**(-1.0/2.5)\n",
    "        bgs &= zflux < rflux * 10**(4.0/2.5)\n",
    "\n",
    "    g = 22.5 - 2.5*np.log10(gflux.clip(1e-16))\n",
    "    r = 22.5 - 2.5*np.log10(rflux.clip(1e-16))\n",
    "    z = 22.5 - 2.5*np.log10(zflux.clip(1e-16))\n",
    "    w1 = 22.5 - 2.5*np.log10(w1flux.clip(1e-16))\n",
    "    rfib = 22.5 - 2.5*np.log10(rfiberflux.clip(1e-16))\n",
    "\n",
    "    # Fibre Magnitude Cut (FMC) -- This is a low surface brightness cut\n",
    "    # with the aim of increase the redshift success rate.\n",
    "    fmc |= ((rfib < (2.9 + 1.2 + 1.0) + r) & (r < 17.8))\n",
    "    fmc |= ((rfib < 22.9) & (r < 20.0) & (r > 17.8))\n",
    "    # ?????????????????????????????????????????????????????\n",
    "    # Remove next line for the Main Survey?????????????????\n",
    "    # ?????????????????????????????????????????????????????\n",
    "    fmc |= ((rfib < 2.9 + r) & (r > 20))\n",
    "\n",
    "    bgs &= fmc\n",
    "\n",
    "    # BASS r-mag offset with DECaLS.\n",
    "    offset = 0.04\n",
    "\n",
    "    # D. Schlegel - ChangHoon H. color selection to get a high redshift\n",
    "    # success rate.\n",
    "    if south:\n",
    "        schlegel_color = (z - w1) - 3/2.5 * (g - r) + 1.2\n",
    "        rfibcol = (rfib < 20.75) | ((rfib < 21.5) & (schlegel_color > 0.))\n",
    "    else:\n",
    "        schlegel_color = (z - w1) - 3/2.5 * (g - (r-offset)) + 1.2\n",
    "        rfibcol = (rfib < 20.75+offset) | ((rfib < 21.5+offset) &\n",
    "                                           (schlegel_color > 0.))\n",
    "\n",
    "    if targtype == 'bright':\n",
    "        if south:\n",
    "            bgs &= rflux > 10**((22.5-19.5)/2.5)\n",
    "            bgs &= rflux <= 10**((22.5-12.0)/2.5)\n",
    "            bgs &= rfibertotflux <= 10**((22.5-15.0)/2.5)\n",
    "        else:\n",
    "            bgs &= rflux > 10**((22.5-(19.5+offset))/2.5)\n",
    "            bgs &= rflux <= 10**((22.5-12.0)/2.5)\n",
    "            bgs &= rfibertotflux <= 10**((22.5-15.0)/2.5)\n",
    "\n",
    "    elif targtype == 'faint':\n",
    "        if south:\n",
    "            bgs &= rflux > 10**((22.5-20.175)/2.5)\n",
    "            bgs &= rflux <= 10**((22.5-19.5)/2.5)\n",
    "            \n",
    "            # Here we switch off the BGS Faint color selection.\n",
    "            # bgs &= (rfibcol)\n",
    "            \n",
    "        else:\n",
    "            bgs &= rflux > 10**((22.5-(20.220))/2.5)\n",
    "            bgs &= rflux <= 10**((22.5-(19.5+offset))/2.5)\n",
    "            \n",
    "            # Here we switch off the BGS Faint color selection.\n",
    "            # bgs &= (rfibcol)\n",
    "\n",
    "    return bgs"
   ]
  },
  {
   "cell_type": "code",
   "execution_count": 47,
   "id": "528e50f6-9ffb-4c0a-8709-16daf6442ff5",
   "metadata": {},
   "outputs": [],
   "source": [
    "def isBGS(rfiberflux=None, gflux=None, rflux=None, zflux=None, rfibertotflux=None,\n",
    "          w1flux=None, w2flux=None, gnobs=None, rnobs=None, znobs=None,\n",
    "          gfluxivar=None, rfluxivar=None, zfluxivar=None, maskbits=None,\n",
    "          Grr=None, refcat=None, w1snr=None, w2snr=None, gaiagmag=None,\n",
    "          objtype=None, primary=None, south=True, targtype=None):\n",
    "    \"\"\"Definition of BGS target classes. Returns a boolean array.\n",
    "    Args\n",
    "    ----\n",
    "    targtype: str, optional, defaults to ``faint``\n",
    "        Pass ``bright`` for the ``BGS_BRIGHT`` selection.\n",
    "        or ``faint`` for the ``BGS_FAINT`` selection\n",
    "        or ``wise`` for the ``BGS_WISE`` (AGN-like) selection.\n",
    "    Returns\n",
    "    -------\n",
    "    :class:`array_like`\n",
    "        ``True`` if the object is a BGS target of type ``targtype``.\n",
    "    Notes\n",
    "    -----\n",
    "    - Current version (05/11/21) is version 264 on `the wiki`_.\n",
    "    - See :func:`~desitarget.cuts.set_target_bits` for other parameters.\n",
    "    \"\"\"\n",
    "    _check_BGS_targtype(targtype)\n",
    "\n",
    "    # ADM to maintain backwards-compatibility with mocks.\n",
    "    if rfiberflux is None:\n",
    "        log.warning('Setting rfiberflux to rflux!!!')\n",
    "        rfiberflux = rflux.copy()\n",
    "\n",
    "    # ------ Bright Galaxy Survey\n",
    "    if primary is None:\n",
    "        primary = np.ones_like(rflux, dtype='?')\n",
    "    bgs = primary.copy()\n",
    "\n",
    "    if targtype == 'wise':\n",
    "        bgs &= destarget.cuts.isBGS_wise(\n",
    "            rfiberflux=rfiberflux, gflux=gflux, rflux=rflux, zflux=zflux,\n",
    "            rfibertotflux=rfibertotflux, w1flux=w1flux, w2flux=w2flux,\n",
    "            refcat=refcat, maskbits=maskbits,\n",
    "            w1snr=w1snr, w2snr=w2snr, Grr=Grr, gaiagmag=gaiagmag,\n",
    "            gfluxivar=gfluxivar, rfluxivar=rfluxivar, zfluxivar=zfluxivar,\n",
    "            gnobs=gnobs, rnobs=rnobs, znobs=znobs, south=south,\n",
    "            targtype=targtype, objtype=objtype, primary=primary\n",
    "        )\n",
    "    else:\n",
    "        bgs &= desitarget.cuts.notinBGS_mask(\n",
    "            gnobs=gnobs, rnobs=rnobs, znobs=znobs, primary=primary,\n",
    "            gfluxivar=gfluxivar, rfluxivar=rfluxivar, zfluxivar=zfluxivar,\n",
    "            Grr=Grr, gaiagmag=gaiagmag, maskbits=maskbits, targtype=targtype\n",
    "        )\n",
    "        bgs &= isBGS_colors(\n",
    "            rfiberflux=rfiberflux, gflux=gflux, rflux=rflux, zflux=zflux,\n",
    "            rfibertotflux=rfibertotflux, w1flux=w1flux, maskbits=maskbits,\n",
    "            south=south, targtype=targtype, primary=primary\n",
    "        )\n",
    "        bgs |= desitarget.cuts.isBGS_sga(\n",
    "            rfiberflux=rfiberflux, gflux=gflux, rflux=rflux, zflux=zflux,\n",
    "            rfibertotflux=rfibertotflux, w1flux=w1flux, refcat=refcat,\n",
    "            maskbits=maskbits, south=south, targtype=targtype\n",
    "        )\n",
    "\n",
    "    return bgs"
   ]
  },
  {
   "cell_type": "code",
   "execution_count": 48,
   "id": "e43ea842-7ada-45bc-a79c-ce6e987c07a7",
   "metadata": {},
   "outputs": [
    {
     "name": "stdout",
     "output_type": "stream",
     "text": [
      "mjw_bright 1.2857210072573935 666.76\n",
      "mjw_faint 1.2395957950467076 642.84\n"
     ]
    }
   ],
   "source": [
    "# targposs = ['faint', 'bright', 'faint_ext', 'lowq', 'fibmag']\n",
    "for targtype in ['bright', 'faint']:\n",
    "    isin_BGS = isBGS(rfiberflux=rfiberflux,\\\n",
    "                     gflux=gflux, rflux=rflux, zflux=zflux,\\\n",
    "                     rfibertotflux=rfibertotflux,\\\n",
    "                     w1flux=w1flux, w2flux=w2flux,\\\n",
    "                     gnobs=gnobs, rnobs=rnobs, znobs=znobs,\\\n",
    "                     gfluxivar=gfluxivar, rfluxivar=rfluxivar, zfluxivar=zfluxivar, \n",
    "                     maskbits=maskbits,\\\n",
    "                     Grr=Grr,\\\n",
    "                     refcat=refcat,\\\n",
    "                     w1snr=w1snr,\\\n",
    "                     w2snr=w2snr,\\\n",
    "                     gaiagmag=gaiagmag,\\\n",
    "                     objtype=objtype,\\\n",
    "                     primary=primary,\\\n",
    "                     south=south,\\\n",
    "                     targtype=targtype)\n",
    "\n",
    "    targtype = 'mjw_{}'.format(targtype)\n",
    "    \n",
    "    sweep_targets[targtype] = sweep[isin_BGS]    \n",
    "    sweep_targets[targtype]['BRICK_OBJID'] = sweep_targets[targtype]['OBJID'] \n",
    "\n",
    "    del sweep_targets[targtype]['OBJID'] \n",
    "    \n",
    "    print(targtype, 100. * np.mean(isin_BGS), np.count_nonzero(isin_BGS) / 50.)"
   ]
  },
  {
   "cell_type": "code",
   "execution_count": 49,
   "id": "d55b4069-45f5-4fe2-80ea-c1d4fb67cdab",
   "metadata": {},
   "outputs": [
    {
     "data": {
      "text/plain": [
       "dict_keys(['bright', 'faint', 'mjw_bright', 'mjw_faint'])"
      ]
     },
     "execution_count": 49,
     "metadata": {},
     "output_type": "execute_result"
    }
   ],
   "source": [
    "sweep_targets.keys()"
   ]
  },
  {
   "cell_type": "code",
   "execution_count": 50,
   "id": "08151a38-6680-4c4a-a068-76f364cc32c6",
   "metadata": {},
   "outputs": [],
   "source": [
    "colors = plt.rcParams['axes.prop_cycle'].by_key()['color']"
   ]
  },
  {
   "cell_type": "code",
   "execution_count": 51,
   "id": "47c63719-1eb7-4c7a-be42-ab950dc13384",
   "metadata": {},
   "outputs": [
    {
     "data": {
      "text/plain": [
       "Text(0, 0.5, '$(z-W1)-1.2(g-r)+1.2$')"
      ]
     },
     "execution_count": 51,
     "metadata": {},
     "output_type": "execute_result"
    },
    {
     "data": {
      "image/png": "[encoded data removed]",
      "text/plain": [
       "<Figure size 432x288 with 1 Axes>"
      ]
     },
     "metadata": {
      "needs_background": "light"
     },
     "output_type": "display_data"
    }
   ],
   "source": [
    "offset = 0.04\n",
    "\n",
    "for i, targtype in enumerate(['mjw_faint', 'faint']):\n",
    "    sample = sweep_targets[targtype]\n",
    "    \n",
    "    rfiberflux=sample['FIBERFLUX_R'].data.clip(1e-16) / sample['MW_TRANSMISSION_R'].data\n",
    "    rfibertotflux=sample['FIBERTOTFLUX_R'].data.clip(1e-16) / sample['MW_TRANSMISSION_R'].data\n",
    "\n",
    "    gflux=sample['FLUX_G'].data.clip(1e-16) / sample['MW_TRANSMISSION_G'].data\n",
    "    rflux=sample['FLUX_R'].data.clip(1e-16) / sample['MW_TRANSMISSION_R'].data\n",
    "    zflux=sample['FLUX_Z'].data.clip(1e-16) / sample['MW_TRANSMISSION_Z'].data\n",
    "\n",
    "    w1flux=sample['FLUX_W1'].data.clip(1e-16) / sample['MW_TRANSMISSION_W1'].data\n",
    "    w2flux=sample['FLUX_W2'].data.clip(1e-16) / sample['MW_TRANSMISSION_W2'].data\n",
    "    \n",
    "    rmag    = 22.5 - 2.5 * np.log10(rflux)\n",
    "    rfibmag = 22.5 - 2.5 * np.log10(rfiberflux)\n",
    "    \n",
    "    gmag = 22.5 - 2.5*np.log10(gflux)\n",
    "    zmag = 22.5 - 2.5*np.log10(zflux)\n",
    "    w1mag = 22.5 - 2.5*np.log10(w1flux)\n",
    "\n",
    "    # Assumes North\n",
    "    schlegel_color = (zmag - w1mag) - 3/2.5 * (gmag - (rmag-offset)) + 1.2\n",
    "            \n",
    "    pl.plot(rfibmag, schlegel_color, marker=',', lw=0.0, label=targtype, color=colors[i])\n",
    "    pl.ylim(-1.0, 2.0)\n",
    "    \n",
    "pl.legend(frameon=False)    \n",
    "pl.xlabel('$r_{fiber}$')\n",
    "pl.ylabel('$(z-W1)-1.2(g-r)+1.2$')"
   ]
  },
  {
   "cell_type": "code",
   "execution_count": 52,
   "id": "84830d47-a5b2-45bf-b80d-87572ccfdbc7",
   "metadata": {},
   "outputs": [
    {
     "data": {
      "text/plain": [
       "Text(0.5, 0, '$r$')"
      ]
     },
     "execution_count": 52,
     "metadata": {},
     "output_type": "execute_result"
    },
    {
     "data": {
      "image/png": "[encoded data removed]",
      "text/plain": [
       "<Figure size 432x288 with 1 Axes>"
      ]
     },
     "metadata": {
      "needs_background": "light"
     },
     "output_type": "display_data"
    }
   ],
   "source": [
    "offset = 0.04\n",
    "\n",
    "for i, targtype in enumerate(['mjw_bright', 'mjw_faint', 'faint', 'bright']):\n",
    "    sample = sweep_targets[targtype]\n",
    "    \n",
    "    rfiberflux=sample['FIBERFLUX_R'].data.clip(1e-16) / sample['MW_TRANSMISSION_R'].data\n",
    "    rfibertotflux=sample['FIBERTOTFLUX_R'].data.clip(1e-16) / sample['MW_TRANSMISSION_R'].data\n",
    "\n",
    "    gflux=sample['FLUX_G'].data.clip(1e-16) / sample['MW_TRANSMISSION_G'].data\n",
    "    rflux=sample['FLUX_R'].data.clip(1e-16) / sample['MW_TRANSMISSION_R'].data\n",
    "    zflux=sample['FLUX_Z'].data.clip(1e-16) / sample['MW_TRANSMISSION_Z'].data\n",
    "\n",
    "    w1flux=sample['FLUX_W1'].data.clip(1e-16) / sample['MW_TRANSMISSION_W1'].data\n",
    "    w2flux=sample['FLUX_W2'].data.clip(1e-16) / sample['MW_TRANSMISSION_W2'].data\n",
    "    \n",
    "    rmag    = 22.5 - 2.5 * np.log10(rflux)\n",
    "    rfibmag = 22.5 - 2.5 * np.log10(rfiberflux)\n",
    "    \n",
    "    gmag = 22.5 - 2.5*np.log10(gflux)\n",
    "    zmag = 22.5 - 2.5*np.log10(zflux)\n",
    "    w1mag = 22.5 - 2.5*np.log10(w1flux)\n",
    "\n",
    "    # Assumes North\n",
    "    schlegel_color = (zmag - w1mag) - 3/2.5 * (gmag - (rmag-offset)) + 1.2\n",
    "            \n",
    "    pl.hist(rmag, bins=np.arange(12., 21., 0.25), histtype='step', label=targtype)\n",
    "        \n",
    "pl.legend(frameon=False, loc=2)    \n",
    "pl.xlabel('$r$')"
   ]
  },
  {
   "cell_type": "code",
   "execution_count": 53,
   "id": "756400b7-502f-4650-9ecb-48697aa17074",
   "metadata": {},
   "outputs": [
    {
     "data": {
      "text/plain": [
       "Text(0.5, 0, '$(g-r)$')"
      ]
     },
     "execution_count": 53,
     "metadata": {},
     "output_type": "execute_result"
    },
    {
     "data": {
      "image/png": "[encoded data removed]",
      "text/plain": [
       "<Figure size 432x288 with 1 Axes>"
      ]
     },
     "metadata": {
      "needs_background": "light"
     },
     "output_type": "display_data"
    }
   ],
   "source": [
    "offset = 0.04\n",
    "\n",
    "for i, targtype in enumerate(['mjw_bright', 'bright', 'mjw_faint', 'faint']):\n",
    "    sample = sweep_targets[targtype]\n",
    "    \n",
    "    rfiberflux=sample['FIBERFLUX_R'].data.clip(1e-16) / sample['MW_TRANSMISSION_R'].data\n",
    "    rfibertotflux=sample['FIBERTOTFLUX_R'].data.clip(1e-16) / sample['MW_TRANSMISSION_R'].data\n",
    "\n",
    "    gflux=sample['FLUX_G'].data.clip(1e-16) / sample['MW_TRANSMISSION_G'].data\n",
    "    rflux=sample['FLUX_R'].data.clip(1e-16) / sample['MW_TRANSMISSION_R'].data\n",
    "    zflux=sample['FLUX_Z'].data.clip(1e-16) / sample['MW_TRANSMISSION_Z'].data\n",
    "\n",
    "    w1flux=sample['FLUX_W1'].data.clip(1e-16) / sample['MW_TRANSMISSION_W1'].data\n",
    "    w2flux=sample['FLUX_W2'].data.clip(1e-16) / sample['MW_TRANSMISSION_W2'].data\n",
    "    \n",
    "    rmag    = 22.5 - 2.5 * np.log10(rflux)\n",
    "    rfibmag = 22.5 - 2.5 * np.log10(rfiberflux)\n",
    "    \n",
    "    gmag = 22.5 - 2.5*np.log10(gflux)\n",
    "    zmag = 22.5 - 2.5*np.log10(zflux)\n",
    "    w1mag = 22.5 - 2.5*np.log10(w1flux)\n",
    "\n",
    "    gmr = gmag - rmag\n",
    "    \n",
    "    # Assumes North\n",
    "    schlegel_color = (zmag - w1mag) - 3/2.5 * (gmag - (rmag-offset)) + 1.2\n",
    "            \n",
    "    pl.hist(gmr, bins=np.arange(0.0, 2.0, 0.1), histtype='step', label=targtype, density=True)\n",
    "        \n",
    "pl.xlim(0.0, 2.0)\n",
    "pl.legend(frameon=False, loc=2)    \n",
    "pl.xlabel('$(g-r)$')"
   ]
  },
  {
   "cell_type": "markdown",
   "id": "861a1e1b-9467-40b6-97c7-719695bf9a84",
   "metadata": {},
   "source": [
    "# Done."
   ]
  }
 ],
 "metadata": {
  "kernelspec": {
   "display_name": "DESI master",
   "language": "python",
   "name": "desi-master"
  },
  "language_info": {
   "codemirror_mode": {
    "name": "ipython",
    "version": 3
   },
   "file_extension": ".py",
   "mimetype": "text/x-python",
   "name": "python",
   "nbconvert_exporter": "python",
   "pygments_lexer": "ipython3",
   "version": "3.8.3"
  }
 },
 "nbformat": 4,
 "nbformat_minor": 5
}
