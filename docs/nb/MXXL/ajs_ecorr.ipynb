{
 "cells": [
  {
   "cell_type": "code",
   "execution_count": 1,
   "id": "ac489151-4b1b-4291-b6e1-11f9351997b5",
   "metadata": {},
   "outputs": [],
   "source": [
    "import sys\n",
    "import numpy             as     np\n",
    "import pylab             as     pl\n",
    "import astropy.io.fits   as     fits\n",
    "\n",
    "from   astropy.table     import Table, join, unique\n",
    "from   matplotlib.pyplot import figure"
   ]
  },
  {
   "cell_type": "code",
   "execution_count": 2,
   "id": "b7f23b8a-59e4-4190-9e43-2e246be39654",
   "metadata": {},
   "outputs": [],
   "source": [
    "sys.path.append('/global/homes/m/mjwilson/desi/BGS/lumfn/py/lumfn/')\n",
    "sys.path.append('/global/homes/m/mjwilson/desi/BGS/lumfn/py/')"
   ]
  },
  {
   "cell_type": "code",
   "execution_count": 3,
   "id": "93e57709-3ad7-4bb5-b593-f7def1da6684",
   "metadata": {},
   "outputs": [],
   "source": [
    "from   schechter         import schechter\n",
    "from   SV3.define_sample import define_sample\n",
    "from   ajs_kcorr         import ajs_kcorr\n",
    "from   mxxl_ecorr        import mxxl_ecorr\n",
    "from   ref_gmr           import ajs_reference_gmr\n",
    "from   params            import params\n",
    "from   zlimits           import zmin, zmax\n",
    "from   ddps              import set_ddps\n",
    "from   vmax              import vmax\n",
    "from   distances         import dist_mod\n",
    "from   scipy             import stats"
   ]
  },
  {
   "cell_type": "code",
   "execution_count": 4,
   "id": "73af9abb-d3cc-4d74-ba8a-ff94bac613ce",
   "metadata": {},
   "outputs": [],
   "source": [
    "version = 0.6"
   ]
  },
  {
   "cell_type": "code",
   "execution_count": 5,
   "id": "58fe190a-9763-4328-a6b9-5c01b00c02a4",
   "metadata": {},
   "outputs": [
    {
     "data": {
      "text/html": [
       "<i>Table length=580649</i>\n",
       "<table id=\"table46912564352336\" class=\"table-striped table-bordered table-condensed\">\n",
       "<thead><tr><th>MOCKRA</th><th>MOCKDEC</th><th>Z</th><th>ZOBS</th><th>MRH</th><th>RMAG_DRED</th><th>REFGMR0P1</th><th>GTYPE</th><th>HMASS</th><th>NMOCK</th><th>RA</th><th>DEC</th><th>TARGETID</th></tr></thead>\n",
       "<thead><tr><th>float64</th><th>float64</th><th>float64</th><th>float64</th><th>float64</th><th>float64</th><th>float64</th><th>float64</th><th>float64</th><th>int64</th><th>float64</th><th>float64</th><th>int64</th></tr></thead>\n",
       "<tr><td>70.3273696899414</td><td>25.89268684387207</td><td>0.12769781053066254</td><td>0.1271754950284958</td><td>-19.007604598999023</td><td>19.0389404296875</td><td>0.7329427003860474</td><td>0.0</td><td>24.694326400756836</td><td>4</td><td>151.05778431871462</td><td>2.3529754106175886</td><td>0</td></tr>\n",
       "<tr><td>68.56790924072266</td><td>25.862361907958984</td><td>0.13574250042438507</td><td>0.13657332956790924</td><td>-20.306686401367188</td><td>17.900495529174805</td><td>0.86435866355896</td><td>0.0</td><td>75.93505096435547</td><td>4</td><td>149.48766725657433</td><td>2.1398708806658533</td><td>1</td></tr>\n",
       "<tr><td>80.89179992675781</td><td>26.706283569335938</td><td>0.33277422189712524</td><td>0.3358469009399414</td><td>-21.43029022216797</td><td>19.260910034179688</td><td>0.905381441116333</td><td>0.0</td><td>376.99798583984375</td><td>3</td><td>151.45973775436238</td><td>3.222913875547519</td><td>2</td></tr>\n",
       "<tr><td>81.11534881591797</td><td>26.14855194091797</td><td>0.22037920355796814</td><td>0.22072993218898773</td><td>-20.052936553955078</td><td>19.431758880615234</td><td>0.8909478187561035</td><td>0.0</td><td>52.295162200927734</td><td>3</td><td>151.72919659282448</td><td>2.6949696711554765</td><td>3</td></tr>\n",
       "<tr><td>78.56082916259766</td><td>24.647912979125977</td><td>0.11645698547363281</td><td>0.11806387454271317</td><td>-19.001338958740234</td><td>18.81563377380371</td><td>0.6731806397438049</td><td>0.0</td><td>25.76713752746582</td><td>3</td><td>149.61420930044986</td><td>0.9320106194848705</td><td>4</td></tr>\n",
       "<tr><td>78.57237243652344</td><td>24.67148780822754</td><td>0.11663307249546051</td><td>0.11768244951963425</td><td>-21.514705657958984</td><td>16.31368064880371</td><td>0.9457125663757324</td><td>0.0</td><td>366.99139404296875</td><td>3</td><td>149.62205916724903</td><td>0.9565915167126775</td><td>5</td></tr>\n",
       "<tr><td>78.15650939941406</td><td>25.19784164428711</td><td>0.0684894323348999</td><td>0.06795936077833176</td><td>-19.52063751220703</td><td>17.037307739257812</td><td>0.4790876507759094</td><td>0.0</td><td>39.510921478271484</td><td>3</td><td>149.19023150375648</td><td>1.4391456959625657</td><td>6</td></tr>\n",
       "<tr><td>70.76897430419922</td><td>26.040807723999023</td><td>0.2862575054168701</td><td>0.2878228724002838</td><td>-21.3984317779541</td><td>18.863229751586914</td><td>0.9986308217048645</td><td>0.0</td><td>380.79949951171875</td><td>4</td><td>151.43387107002738</td><td>2.548896348870784</td><td>7</td></tr>\n",
       "<tr><td>80.83235168457031</td><td>26.091585159301758</td><td>0.27930906414985657</td><td>0.27769073843955994</td><td>-21.707773208618164</td><td>18.49768829345703</td><td>1.0659780502319336</td><td>0.0</td><td>390.31024169921875</td><td>3</td><td>151.4840594038347</td><td>2.606391747377657</td><td>8</td></tr>\n",
       "<tr><td>80.40493774414062</td><td>25.1796875</td><td>0.2580597996711731</td><td>0.25754791498184204</td><td>-20.43096160888672</td><td>19.438066482543945</td><td>0.7376079559326172</td><td>0.0</td><td>97.11851501464844</td><td>3</td><td>151.2142959518752</td><td>1.6538323614001769</td><td>9</td></tr>\n",
       "<tr><td>...</td><td>...</td><td>...</td><td>...</td><td>...</td><td>...</td><td>...</td><td>...</td><td>...</td><td>...</td><td>...</td><td>...</td><td>...</td></tr>\n",
       "<tr><td>273.3227844238281</td><td>46.399688720703125</td><td>0.06775073707103729</td><td>0.06771653145551682</td><td>-17.991256713867188</td><td>18.54900360107422</td><td>0.38218194246292114</td><td>1.0</td><td>137.18167114257812</td><td>0</td><td>268.5100234860389</td><td>66.66267818250647</td><td>580639</td></tr>\n",
       "<tr><td>272.2230224609375</td><td>44.21946334838867</td><td>0.30462920665740967</td><td>0.30699947476387024</td><td>-21.118213653564453</td><td>19.300540924072266</td><td>0.9063657522201538</td><td>1.0</td><td>3178.885009765625</td><td>0</td><td>269.0917477339581</td><td>64.36196871217388</td><td>580640</td></tr>\n",
       "<tr><td>273.0779113769531</td><td>44.27556610107422</td><td>0.1742393672466278</td><td>0.17449361085891724</td><td>-20.386077880859375</td><td>18.484649658203125</td><td>1.0349950790405273</td><td>1.0</td><td>165.24655151367188</td><td>0</td><td>270.33154037841405</td><td>64.66791922740717</td><td>580641</td></tr>\n",
       "<tr><td>273.0690002441406</td><td>44.285736083984375</td><td>0.1741858571767807</td><td>0.17452305555343628</td><td>-19.428544998168945</td><td>19.430456161499023</td><td>0.9341182112693787</td><td>1.0</td><td>165.24655151367188</td><td>0</td><td>270.3081539918126</td><td>64.67455474998981</td><td>580642</td></tr>\n",
       "<tr><td>273.07940673828125</td><td>44.279666900634766</td><td>0.17417380213737488</td><td>0.17402447760105133</td><td>-20.21814727783203</td><td>18.550365447998047</td><td>0.4326609969139099</td><td>1.0</td><td>165.24655151367188</td><td>0</td><td>270.3298698840317</td><td>64.67209678873544</td><td>580643</td></tr>\n",
       "<tr><td>274.93890380859375</td><td>46.78234100341797</td><td>0.3481524586677551</td><td>0.35284343361854553</td><td>-21.46451759338379</td><td>19.276540756225586</td><td>0.755773663520813</td><td>1.0</td><td>2422.686279296875</td><td>0</td><td>270.6505919228571</td><td>67.490280535658</td><td>580644</td></tr>\n",
       "<tr><td>271.6817932128906</td><td>44.567935943603516</td><td>0.06262041628360748</td><td>0.06286761164665222</td><td>-20.350521087646484</td><td>15.966163635253906</td><td>1.0680359601974487</td><td>1.0</td><td>167.30406188964844</td><td>0</td><td>267.9369623635194</td><td>64.51267709871755</td><td>580645</td></tr>\n",
       "<tr><td>271.70989990234375</td><td>44.55325698852539</td><td>0.06254037469625473</td><td>0.0615675188601017</td><td>-20.07826805114746</td><td>16.23992919921875</td><td>0.9756894707679749</td><td>1.0</td><td>167.30406188964844</td><td>0</td><td>267.9936504195669</td><td>64.50805339917942</td><td>580646</td></tr>\n",
       "<tr><td>272.9175109863281</td><td>45.18880081176758</td><td>0.05986946076154709</td><td>0.06073014438152313</td><td>-16.843175888061523</td><td>19.42349624633789</td><td>0.2464953064918518</td><td>1.0</td><td>13.584855079650879</td><td>0</td><td>269.1776711507298</td><td>65.44912606084287</td><td>580647</td></tr>\n",
       "<tr><td>273.8691101074219</td><td>46.51631546020508</td><td>0.21364378929138184</td><td>0.21312928199768066</td><td>-20.21426773071289</td><td>19.18193817138672</td><td>0.8758482336997986</td><td>1.0</td><td>82.72599029541016</td><td>0</td><td>269.23841557380115</td><td>66.93267079299234</td><td>580648</td></tr>\n",
       "</table>"
      ],
      "text/plain": [
       "<Table length=580649>\n",
       "      MOCKRA            MOCKDEC       ...        DEC         TARGETID\n",
       "     float64            float64       ...      float64        int64  \n",
       "------------------ ------------------ ... ------------------ --------\n",
       "  70.3273696899414  25.89268684387207 ... 2.3529754106175886        0\n",
       " 68.56790924072266 25.862361907958984 ... 2.1398708806658533        1\n",
       " 80.89179992675781 26.706283569335938 ...  3.222913875547519        2\n",
       " 81.11534881591797  26.14855194091797 ... 2.6949696711554765        3\n",
       " 78.56082916259766 24.647912979125977 ... 0.9320106194848705        4\n",
       " 78.57237243652344  24.67148780822754 ... 0.9565915167126775        5\n",
       " 78.15650939941406  25.19784164428711 ... 1.4391456959625657        6\n",
       " 70.76897430419922 26.040807723999023 ...  2.548896348870784        7\n",
       " 80.83235168457031 26.091585159301758 ...  2.606391747377657        8\n",
       " 80.40493774414062         25.1796875 ... 1.6538323614001769        9\n",
       "               ...                ... ...                ...      ...\n",
       " 273.3227844238281 46.399688720703125 ...  66.66267818250647   580639\n",
       " 272.2230224609375  44.21946334838867 ...  64.36196871217388   580640\n",
       " 273.0779113769531  44.27556610107422 ...  64.66791922740717   580641\n",
       " 273.0690002441406 44.285736083984375 ...  64.67455474998981   580642\n",
       "273.07940673828125 44.279666900634766 ...  64.67209678873544   580643\n",
       "274.93890380859375  46.78234100341797 ...    67.490280535658   580644\n",
       " 271.6817932128906 44.567935943603516 ...  64.51267709871755   580645\n",
       "271.70989990234375  44.55325698852539 ...  64.50805339917942   580646\n",
       " 272.9175109863281  45.18880081176758 ...  65.44912606084287   580647\n",
       " 273.8691101074219  46.51631546020508 ...  66.93267079299234   580648"
      ]
     },
     "execution_count": 5,
     "metadata": {},
     "output_type": "execute_result"
    }
   ],
   "source": [
    "bright_merge_obs = Table.read('/global/cscratch1/sd/mjwilson/desi/BGS/lumfn/MXXL/bright_v{:.1f}.fits'.format(version))\n",
    "bright_merge_obs"
   ]
  },
  {
   "cell_type": "code",
   "execution_count": 6,
   "id": "cea99d85-5eaf-4c64-aaeb-74bc190c1aa3",
   "metadata": {},
   "outputs": [],
   "source": [
    "x = ajs_kcorr()"
   ]
  },
  {
   "cell_type": "code",
   "execution_count": 7,
   "id": "efb06c6a-8bf0-4c87-9c7e-1d02e74d8dcb",
   "metadata": {},
   "outputs": [],
   "source": [
    "sample = bright_merge_obs[:5000]"
   ]
  },
  {
   "cell_type": "code",
   "execution_count": 8,
   "id": "deae89f3-ac27-4317-9fc4-91b004871dda",
   "metadata": {},
   "outputs": [],
   "source": [
    "sample['Es'] = sample['RMAG_DRED'].data - (sample['MRH'].data + x.eval(sample['REFGMR0P1'].data, sample['Z'].data, band='r') + dist_mod(sample['Z'].data))"
   ]
  },
  {
   "cell_type": "code",
   "execution_count": 9,
   "id": "de5aef57-f9bf-4b60-ad8b-72c7f7c405e5",
   "metadata": {},
   "outputs": [
    {
     "data": {
      "text/plain": [
       "array([0.00150307, 0.00150379, 0.00150477, ..., 0.001599  , 0.00159937,\n",
       "       0.00159938])"
      ]
     },
     "execution_count": 9,
     "metadata": {},
     "output_type": "execute_result"
    }
   ],
   "source": [
    "np.sort(sample['Es'].data)"
   ]
  },
  {
   "cell_type": "code",
   "execution_count": 10,
   "id": "6c72f7b3-c3fe-49b3-a18f-20c89fb2f27a",
   "metadata": {},
   "outputs": [],
   "source": [
    "res = stats.linregress(sample['Z'].data - 0.1, sample['Es'].data)"
   ]
  },
  {
   "cell_type": "code",
   "execution_count": 11,
   "id": "46227505-d53b-4724-a988-c2a202dc624b",
   "metadata": {},
   "outputs": [
    {
     "data": {
      "text/plain": [
       "(0.00019416851801997505, 0.0015204769643633737)"
      ]
     },
     "execution_count": 11,
     "metadata": {},
     "output_type": "execute_result"
    }
   ],
   "source": [
    "res.slope, res.intercept"
   ]
  },
  {
   "cell_type": "code",
   "execution_count": 12,
   "id": "eb76c182-49e7-42e7-8cac-595d7a46af1d",
   "metadata": {},
   "outputs": [
    {
     "data": {
      "text/plain": [
       "<matplotlib.legend.Legend at 0x2aaad7841460>"
      ]
     },
     "execution_count": 12,
     "metadata": {},
     "output_type": "execute_result"
    },
    {
     "data": {
      "image/png": "[encoded data removed]",
      "text/plain": [
       "<Figure size 432x288 with 1 Axes>"
      ]
     },
     "metadata": {
      "needs_background": "light"
     },
     "output_type": "display_data"
    }
   ],
   "source": [
    "zs = np.arange(0.0, 0.5, 0.01)\n",
    "\n",
    "pl.plot(zs, zs * res.slope + res.intercept, lw=0.5, c='k')\n",
    "\n",
    "pl.scatter(sample['Z'].data - 0.1, sample['Es'].data, marker='.', lw=0.0, s=1, c=sample['REFGMR0P1'].data, label='E(z)={:.6e}(z-z0) + {:.6e}'.format(res.slope, res.intercept))\n",
    "\n",
    "pl.xlabel('(Z - Z0)')\n",
    "pl.ylabel('MXXL ECORR')\n",
    "\n",
    "pl.legend(frameon=False)"
   ]
  },
  {
   "cell_type": "markdown",
   "id": "c55d82cd-1589-458a-9a6f-c457191139f3",
   "metadata": {},
   "source": [
    "# Done."
   ]
  }
 ],
 "metadata": {
  "kernelspec": {
   "display_name": "DESI master",
   "language": "python",
   "name": "desi-master"
  },
  "language_info": {
   "codemirror_mode": {
    "name": "ipython",
    "version": 3
   },
   "file_extension": ".py",
   "mimetype": "text/x-python",
   "name": "python",
   "nbconvert_exporter": "python",
   "pygments_lexer": "ipython3",
   "version": "3.8.3"
  }
 },
 "nbformat": 4,
 "nbformat_minor": 5
}
