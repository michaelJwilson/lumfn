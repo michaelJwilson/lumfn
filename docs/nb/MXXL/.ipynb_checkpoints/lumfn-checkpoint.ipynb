{
 "cells": [
  {
   "cell_type": "code",
   "execution_count": 1,
   "id": "7b026ffb-1798-4b0b-898e-27ba53564ade",
   "metadata": {},
   "outputs": [],
   "source": [
    "import sys\n",
    "import numpy             as     np\n",
    "import pylab             as     pl\n",
    "import astropy.io.fits   as     fits\n",
    "\n",
    "from   astropy.table     import Table\n",
    "from   matplotlib.pyplot import figure"
   ]
  },
  {
   "cell_type": "code",
   "execution_count": 2,
   "id": "631a5419-9c75-4f5b-9672-0601e9e777f2",
   "metadata": {},
   "outputs": [],
   "source": [
    "sys.path.append('/global/homes/m/mjwilson/desi/BGS/lumfn/py/lumfn/')\n",
    "sys.path.append('/global/homes/m/mjwilson/desi/BGS/lumfn/py/')"
   ]
  },
  {
   "cell_type": "code",
   "execution_count": 3,
   "id": "e69d6afe-3928-4b04-b3d2-98c096019d66",
   "metadata": {},
   "outputs": [],
   "source": [
    "from   schechter         import schechter\n",
    "from   SV3.define_sample import define_sample"
   ]
  },
  {
   "cell_type": "code",
   "execution_count": 4,
   "id": "f9d4eae5-1756-4308-8e28-45cb30e6a219",
   "metadata": {},
   "outputs": [],
   "source": [
    "version = 0.0"
   ]
  },
  {
   "cell_type": "code",
   "execution_count": 5,
   "id": "d997afe3-9201-411f-ae4c-90cfc927bd39",
   "metadata": {},
   "outputs": [
    {
     "data": {
      "text/html": [
       "<i>Table length=80502</i>\n",
       "<table id=\"table46912564323616\" class=\"table-striped table-bordered table-condensed\">\n",
       "<thead><tr><th>RA</th><th>DEC</th><th>Z</th><th>RMAG_DRED</th><th>MRH</th><th>REFGMR0P1</th></tr></thead>\n",
       "<thead><tr><th>float64</th><th>float64</th><th>float64</th><th>float64</th><th>float64</th><th>float64</th></tr></thead>\n",
       "<tr><td>3.7721402325126423</td><td>4.986124929665064</td><td>0.33743800813349156</td><td>18.87912014731125</td><td>-21.60017018500573</td><td>0.5029794807690177</td></tr>\n",
       "<tr><td>7.291777572226474</td><td>5.216303136427634</td><td>0.3358367990279134</td><td>19.164485916386255</td><td>-21.501643485972103</td><td>0.8556049162235593</td></tr>\n",
       "<tr><td>7.271421307032053</td><td>5.216813907554459</td><td>0.33204277967971185</td><td>18.6560738852402</td><td>-21.86481444281342</td><td>0.6210244102305459</td></tr>\n",
       "<tr><td>7.294683707223873</td><td>5.194670649537063</td><td>0.3352653718478176</td><td>18.923197975657814</td><td>-21.416994113457505</td><td>0.3562284861943139</td></tr>\n",
       "<tr><td>7.285466104202744</td><td>5.2123990016212325</td><td>0.3354775369684668</td><td>18.197760241964705</td><td>-22.500363698331853</td><td>0.9118769578721373</td></tr>\n",
       "<tr><td>7.278751592950828</td><td>5.213135659398867</td><td>0.3395093738207222</td><td>19.456602708279306</td><td>-21.076593269699252</td><td>0.6392363346086005</td></tr>\n",
       "<tr><td>7.385632448576024</td><td>5.219834477698842</td><td>0.3348199547546389</td><td>18.848583906783773</td><td>-21.87497619154432</td><td>0.9558292991507985</td></tr>\n",
       "<tr><td>7.379988039301598</td><td>5.228525331786011</td><td>0.3361835673008482</td><td>19.387139224724134</td><td>-21.37391087548854</td><td>1.1065703757197651</td></tr>\n",
       "<tr><td>3.722997589545035</td><td>5.043528437008822</td><td>0.33876649152353333</td><td>18.87975957082224</td><td>-21.892940844505468</td><td>0.97098179347477</td></tr>\n",
       "<tr><td>7.437490673414952</td><td>5.077321812825907</td><td>0.33518376431920793</td><td>18.49440565388107</td><td>-22.25390046736168</td><td>1.0546783446252512</td></tr>\n",
       "<tr><td>...</td><td>...</td><td>...</td><td>...</td><td>...</td><td>...</td></tr>\n",
       "<tr><td>4.7922953390880245</td><td>2.573133674393481</td><td>0.22321051066918685</td><td>19.49120216958104</td><td>-19.954183088628305</td><td>0.6866070088133114</td></tr>\n",
       "<tr><td>5.365702904658263</td><td>4.411309559705123</td><td>0.19931814003481718</td><td>19.258464508940985</td><td>-19.836274971305976</td><td>0.4573712123772795</td></tr>\n",
       "<tr><td>5.363135638754216</td><td>4.408906200924054</td><td>0.19930426891783948</td><td>19.431312195064255</td><td>-19.741178270732846</td><td>0.7451563588650051</td></tr>\n",
       "<tr><td>3.1403886384984556</td><td>7.975560752485588</td><td>0.1897324709771102</td><td>18.570949808547716</td><td>-20.443803273905573</td><td>0.6050633537016941</td></tr>\n",
       "<tr><td>4.554618358962954</td><td>8.306629124182514</td><td>0.18493695365907592</td><td>19.427745430086272</td><td>-19.611470342447326</td><td>1.0647775383468168</td></tr>\n",
       "<tr><td>3.1403662184235808</td><td>7.941683727898936</td><td>0.1894805873271701</td><td>19.187573575807328</td><td>-19.89709732574147</td><td>0.9820428492608958</td></tr>\n",
       "<tr><td>3.6680703528085212</td><td>8.701960484255514</td><td>0.16000897997332664</td><td>19.370130052920672</td><td>-19.190866304353648</td><td>0.48116903204029343</td></tr>\n",
       "<tr><td>2.818039583937656</td><td>6.082642697537477</td><td>0.1354207384267072</td><td>18.930003391487332</td><td>-19.23887375491067</td><td>0.39850067862641325</td></tr>\n",
       "<tr><td>5.90626935040164</td><td>9.163786603220768</td><td>0.12531616174066684</td><td>17.705170607875115</td><td>-20.35199964123229</td><td>1.0178545595337154</td></tr>\n",
       "<tr><td>0.9948912762953012</td><td>3.6895476697631024</td><td>0.058522797287803074</td><td>17.793604180033856</td><td>-18.390099069679017</td><td>0.4136948306944042</td></tr>\n",
       "</table>"
      ],
      "text/plain": [
       "<Table length=80502>\n",
       "        RA                DEC         ...      REFGMR0P1     \n",
       "     float64            float64       ...       float64      \n",
       "------------------ ------------------ ... -------------------\n",
       "3.7721402325126423  4.986124929665064 ...  0.5029794807690177\n",
       " 7.291777572226474  5.216303136427634 ...  0.8556049162235593\n",
       " 7.271421307032053  5.216813907554459 ...  0.6210244102305459\n",
       " 7.294683707223873  5.194670649537063 ...  0.3562284861943139\n",
       " 7.285466104202744 5.2123990016212325 ...  0.9118769578721373\n",
       " 7.278751592950828  5.213135659398867 ...  0.6392363346086005\n",
       " 7.385632448576024  5.219834477698842 ...  0.9558292991507985\n",
       " 7.379988039301598  5.228525331786011 ...  1.1065703757197651\n",
       " 3.722997589545035  5.043528437008822 ...    0.97098179347477\n",
       " 7.437490673414952  5.077321812825907 ...  1.0546783446252512\n",
       "               ...                ... ...                 ...\n",
       "4.7922953390880245  2.573133674393481 ...  0.6866070088133114\n",
       " 5.365702904658263  4.411309559705123 ...  0.4573712123772795\n",
       " 5.363135638754216  4.408906200924054 ...  0.7451563588650051\n",
       "3.1403886384984556  7.975560752485588 ...  0.6050633537016941\n",
       " 4.554618358962954  8.306629124182514 ...  1.0647775383468168\n",
       "3.1403662184235808  7.941683727898936 ...  0.9820428492608958\n",
       "3.6680703528085212  8.701960484255514 ... 0.48116903204029343\n",
       " 2.818039583937656  6.082642697537477 ... 0.39850067862641325\n",
       "  5.90626935040164  9.163786603220768 ...  1.0178545595337154\n",
       "0.9948912762953012 3.6895476697631024 ...  0.4136948306944042"
      ]
     },
     "execution_count": 5,
     "metadata": {},
     "output_type": "execute_result"
    }
   ],
   "source": [
    "bright_merge_obs = Table.read('/global/cscratch1/sd/mjwilson/desi/BGS/lumfn/MXXL/bright_v{:.1f}.fits'.format(version))\n",
    "bright_merge_obs"
   ]
  },
  {
   "cell_type": "code",
   "execution_count": 6,
   "id": "27462033-ae18-4504-80cc-4c78741ce8e2",
   "metadata": {},
   "outputs": [
    {
     "data": {
      "text/plain": [
       "[<matplotlib.lines.Line2D at 0x2aaad6ebbee0>]"
      ]
     },
     "execution_count": 6,
     "metadata": {},
     "output_type": "execute_result"
    },
    {
     "data": {
      "image/png": "[encoded data removed]",
      "text/plain": [
       "<Figure size 432x288 with 1 Axes>"
      ]
     },
     "metadata": {
      "needs_background": "light"
     },
     "output_type": "display_data"
    }
   ],
   "source": [
    "pl.plot(bright_merge_obs['RA'], bright_merge_obs['DEC'], marker=',', lw=0.0)"
   ]
  },
  {
   "cell_type": "code",
   "execution_count": 7,
   "id": "f09d1755-a58e-417e-ad0e-4ae0956611f3",
   "metadata": {},
   "outputs": [
    {
     "data": {
      "text/plain": [
       "41252.96124941928"
      ]
     },
     "execution_count": 7,
     "metadata": {},
     "output_type": "execute_result"
    }
   ],
   "source": [
    "all_sky_deg2 = 4. * np.pi * (180. / np.pi)**2.\n",
    "all_sky_deg2"
   ]
  },
  {
   "cell_type": "code",
   "execution_count": 8,
   "id": "e1599bd7-6c0d-4352-b4e5-704830f8e0e8",
   "metadata": {},
   "outputs": [
    {
     "data": {
      "text/plain": [
       "0.0024240684055476798"
      ]
     },
     "execution_count": 8,
     "metadata": {},
     "output_type": "execute_result"
    }
   ],
   "source": [
    "fsky = 100. / all_sky_deg2\n",
    "fsky"
   ]
  },
  {
   "cell_type": "code",
   "execution_count": 9,
   "id": "4e49565e-89ba-4779-8b0e-4b5466182165",
   "metadata": {},
   "outputs": [
    {
     "data": {
      "text/plain": [
       "Text(0, 0.5, 'N per $\\\\Delta Z=0.025$')"
      ]
     },
     "execution_count": 9,
     "metadata": {},
     "output_type": "execute_result"
    },
    {
     "data": {
      "image/png": "[encoded data removed]",
      "text/plain": [
       "<Figure size 432x288 with 1 Axes>"
      ]
     },
     "metadata": {
      "needs_background": "light"
     },
     "output_type": "display_data"
    }
   ],
   "source": [
    "dz = 0.025\n",
    "_  = pl.hist(bright_merge_obs['Z'], bins=np.arange(0.0, 1.0, dz), histtype='step')\n",
    "\n",
    "pl.xlabel('Z')\n",
    "pl.ylabel('N per $\\Delta Z={:0.3f}$'.format(dz))"
   ]
  },
  {
   "cell_type": "code",
   "execution_count": 10,
   "id": "675e6f3d-c90a-4fb9-bd0b-ac69f420d044",
   "metadata": {},
   "outputs": [
    {
     "data": {
      "text/plain": [
       "<matplotlib.lines.Line2D at 0x2aaad7021ee0>"
      ]
     },
     "execution_count": 10,
     "metadata": {},
     "output_type": "execute_result"
    },
    {
     "data": {
      "image/png": "[encoded data removed]",
      "text/plain": [
       "<Figure size 432x288 with 1 Axes>"
      ]
     },
     "metadata": {
      "needs_background": "light"
     },
     "output_type": "display_data"
    }
   ],
   "source": [
    "dr = 0.025\n",
    "_  = pl.hist(bright_merge_obs['RMAG_DRED'], bins=np.arange(12.0, 20.0, dr), histtype='step')\n",
    "\n",
    "pl.xlabel('r')\n",
    "pl.ylabel('N per $\\Delta r={:0.3f}$'.format(dr))\n",
    "\n",
    "pl.axvline(19.5, c='k', lw=0.5)\n",
    "pl.axvline(19.8, c='k', lw=0.5)"
   ]
  },
  {
   "cell_type": "code",
   "execution_count": 11,
   "id": "8582e513-3e7e-46a5-b239-763062c6c120",
   "metadata": {},
   "outputs": [
    {
     "data": {
      "text/html": [
       "<i>Table length=114458</i>\n",
       "<table id=\"table46913240285136\" class=\"table-striped table-bordered table-condensed\">\n",
       "<thead><tr><th>TARGETID</th><th>INSAMPLE</th><th>VOLUME</th><th>MRH</th><th>ZMAX</th><th>IVMAX</th></tr></thead>\n",
       "<thead><tr><th>float64</th><th>float64</th><th>float64</th><th>float64</th><th>float64</th><th>float64</th></tr></thead>\n",
       "<tr><td>0.0</td><td>0.0</td><td>20401010.34672233</td><td>-21.944438008701233</td><td>0.45192217818769254</td><td>5.291166715249059e-08</td></tr>\n",
       "<tr><td>1.0</td><td>0.0</td><td>21020621.826476462</td><td>-21.58349088768941</td><td>0.42949726263687305</td><td>6.068359973247376e-08</td></tr>\n",
       "<tr><td>2.0</td><td>0.0</td><td>23654315.659843307</td><td>-21.68503407932896</td><td>0.4504753577033329</td><td>5.336912467812422e-08</td></tr>\n",
       "<tr><td>3.0</td><td>0.0</td><td>15067904.624427442</td><td>-21.694006848446836</td><td>0.4153936976444512</td><td>6.642363179191228e-08</td></tr>\n",
       "<tr><td>4.0</td><td>0.0</td><td>12790806.928424224</td><td>-21.3457368816921</td><td>0.37039316594172916</td><td>9.083742130467794e-08</td></tr>\n",
       "<tr><td>5.0</td><td>0.0</td><td>11393153.983618839</td><td>-21.50928145273749</td><td>0.3647159294756562</td><td>9.47776146425796e-08</td></tr>\n",
       "<tr><td>6.0</td><td>0.0</td><td>8742894.846819622</td><td>-20.890544333420124</td><td>0.33158480846510385</td><td>1.2331691877094362e-07</td></tr>\n",
       "<tr><td>7.0</td><td>0.0</td><td>7369672.081741017</td><td>-20.812640186331</td><td>0.3178142122344462</td><td>1.3875905345872108e-07</td></tr>\n",
       "<tr><td>8.0</td><td>1.0</td><td>8512527.859442476</td><td>-21.594433657615397</td><td>0.41789967998248323</td><td>6.534919358634168e-08</td></tr>\n",
       "<tr><td>9.0</td><td>0.0</td><td>8559176.429957848</td><td>-20.86713519121364</td><td>0.3267457713596234</td><td>1.284576148039148e-07</td></tr>\n",
       "<tr><td>...</td><td>...</td><td>...</td><td>...</td><td>...</td><td>...</td></tr>\n",
       "<tr><td>114448.0</td><td>1.0</td><td>2657249.8692139164</td><td>-19.9687057779521</td><td>0.22395850652566257</td><td>3.7275076256272704e-07</td></tr>\n",
       "<tr><td>114449.0</td><td>1.0</td><td>1921267.0830894932</td><td>-19.842305564630557</td><td>0.21989655820455017</td><td>3.927607299849166e-07</td></tr>\n",
       "<tr><td>114450.0</td><td>1.0</td><td>1920882.9905416174</td><td>-19.74773684779551</td><td>0.204592025592463</td><td>4.828917667382836e-07</td></tr>\n",
       "<tr><td>114451.0</td><td>1.0</td><td>1667330.9183218218</td><td>-20.44897806415182</td><td>0.27165446987473846</td><td>2.154712961955714e-07</td></tr>\n",
       "<tr><td>114452.0</td><td>1.0</td><td>1548775.9340135213</td><td>-19.605350867549006</td><td>0.18991893749268812</td><td>5.980669274960214e-07</td></tr>\n",
       "<tr><td>114453.0</td><td>1.0</td><td>1660964.8090835123</td><td>-19.9006864861722</td><td>0.21244647044554446</td><td>4.334644674164477e-07</td></tr>\n",
       "<tr><td>114454.0</td><td>1.0</td><td>1018972.3599953877</td><td>-19.201320224670216</td><td>0.16879979968526346</td><td>8.405174605227438e-07</td></tr>\n",
       "<tr><td>114455.0</td><td>1.0</td><td>627210.5965003599</td><td>-19.230454409357662</td><td>0.1720726264956353</td><td>7.950977859966134e-07</td></tr>\n",
       "<tr><td>114456.0</td><td>1.0</td><td>500122.198163082</td><td>-20.30481931211486</td><td>0.24469262700291705</td><td>2.8966784407022966e-07</td></tr>\n",
       "<tr><td>114457.0</td><td>1.0</td><td>53019.89421593778</td><td>-18.404181426969988</td><td>0.1214697888029125</td><td>2.19037197778383e-06</td></tr>\n",
       "</table>"
      ],
      "text/plain": [
       "<Table length=114458>\n",
       "TARGETID INSAMPLE ...         ZMAX                IVMAX         \n",
       "float64  float64  ...       float64              float64        \n",
       "-------- -------- ... ------------------- ----------------------\n",
       "     0.0      0.0 ... 0.45192217818769254  5.291166715249059e-08\n",
       "     1.0      0.0 ... 0.42949726263687305  6.068359973247376e-08\n",
       "     2.0      0.0 ...  0.4504753577033329  5.336912467812422e-08\n",
       "     3.0      0.0 ...  0.4153936976444512  6.642363179191228e-08\n",
       "     4.0      0.0 ... 0.37039316594172916  9.083742130467794e-08\n",
       "     5.0      0.0 ...  0.3647159294756562   9.47776146425796e-08\n",
       "     6.0      0.0 ... 0.33158480846510385 1.2331691877094362e-07\n",
       "     7.0      0.0 ...  0.3178142122344462 1.3875905345872108e-07\n",
       "     8.0      1.0 ... 0.41789967998248323  6.534919358634168e-08\n",
       "     9.0      0.0 ...  0.3267457713596234  1.284576148039148e-07\n",
       "     ...      ... ...                 ...                    ...\n",
       "114448.0      1.0 ... 0.22395850652566257 3.7275076256272704e-07\n",
       "114449.0      1.0 ... 0.21989655820455017  3.927607299849166e-07\n",
       "114450.0      1.0 ...   0.204592025592463  4.828917667382836e-07\n",
       "114451.0      1.0 ... 0.27165446987473846  2.154712961955714e-07\n",
       "114452.0      1.0 ... 0.18991893749268812  5.980669274960214e-07\n",
       "114453.0      1.0 ... 0.21244647044554446  4.334644674164477e-07\n",
       "114454.0      1.0 ... 0.16879979968526346  8.405174605227438e-07\n",
       "114455.0      1.0 ...  0.1720726264956353  7.950977859966134e-07\n",
       "114456.0      1.0 ... 0.24469262700291705 2.8966784407022966e-07\n",
       "114457.0      1.0 ...  0.1214697888029125   2.19037197778383e-06"
      ]
     },
     "execution_count": 11,
     "metadata": {},
     "output_type": "execute_result"
    }
   ],
   "source": [
    "derived = Table.read('/global/cscratch1/sd/mjwilson/desi/BGS/lumfn/MXXL/bright_derived_v{:.1f}.fits'.format(version))\n",
    "derived"
   ]
  },
  {
   "cell_type": "code",
   "execution_count": 12,
   "id": "4a85ccb0-1480-4ecd-b968-767e9e209152",
   "metadata": {},
   "outputs": [],
   "source": [
    "bright_merge_obs = bright_merge_obs[:len(derived)]"
   ]
  },
  {
   "cell_type": "code",
   "execution_count": 14,
   "id": "ddc2bfd5-8e1f-404f-bffa-caaa4c3cee04",
   "metadata": {},
   "outputs": [],
   "source": [
    "isin = derived['INSAMPLE'].astype(bool)\n",
    "\n",
    "derived = derived[isin]"
   ]
  },
  {
   "cell_type": "code",
   "execution_count": 15,
   "id": "12fcd4a7-2711-464a-bf8f-f66165178f5e",
   "metadata": {},
   "outputs": [
    {
     "data": {
      "text/plain": [
       "1.0"
      ]
     },
     "execution_count": 15,
     "metadata": {},
     "output_type": "execute_result"
    }
   ],
   "source": [
    "np.mean(isin)"
   ]
  },
  {
   "cell_type": "code",
   "execution_count": 16,
   "id": "0bbcf1bc-b727-440f-9d41-b43f01c3ce0a",
   "metadata": {},
   "outputs": [
    {
     "data": {
      "text/plain": [
       "(0.95, 1.05)"
      ]
     },
     "execution_count": 16,
     "metadata": {},
     "output_type": "execute_result"
    },
    {
     "data": {
      "image/png": "[encoded data removed]",
      "text/plain": [
       "<Figure size 432x288 with 1 Axes>"
      ]
     },
     "metadata": {
      "needs_background": "light"
     },
     "output_type": "display_data"
    }
   ],
   "source": [
    "pl.axhline(1.0, lw=0.5, c='k')\n",
    "pl.plot(derived['MRH'] / bright_merge_obs['MRH'], marker=',', lw=0.0)\n",
    "\n",
    "pl.xlabel('(MJW MRH / AJS MRH)')\n",
    "\n",
    "pl.ylim(0.95, 1.05)"
   ]
  },
  {
   "cell_type": "code",
   "execution_count": 17,
   "id": "55e6fb64-bb11-4248-baf5-cf5f70479558",
   "metadata": {},
   "outputs": [
    {
     "data": {
      "text/plain": [
       "Text(0, 0.5, '$zmax$')"
      ]
     },
     "execution_count": 17,
     "metadata": {},
     "output_type": "execute_result"
    },
    {
     "data": {
      "image/png": "[encoded data removed]",
      "text/plain": [
       "<Figure size 432x288 with 1 Axes>"
      ]
     },
     "metadata": {
      "needs_background": "light"
     },
     "output_type": "display_data"
    }
   ],
   "source": [
    "pl.plot(bright_merge_obs['Z'], derived['ZMAX'], marker=',', lw=0.0)\n",
    "\n",
    "pl.xlim(0.0, 0.6)\n",
    "pl.ylim(0.0, 0.6)\n",
    "\n",
    "pl.xlabel(r'$z$')\n",
    "pl.ylabel(r'$zmax$')"
   ]
  },
  {
   "cell_type": "code",
   "execution_count": 18,
   "id": "8a7ee063-b221-437b-978d-2e59981d7e69",
   "metadata": {},
   "outputs": [],
   "source": [
    "derived['PHIKERNEL']   = derived['IVMAX']"
   ]
  },
  {
   "cell_type": "code",
   "execution_count": 19,
   "id": "535334b2-eb90-4ef1-a435-a35491dfaa8c",
   "metadata": {},
   "outputs": [
    {
     "data": {
      "text/plain": [
       "(-23.356245724668774, -17.548385694483216)"
      ]
     },
     "execution_count": 19,
     "metadata": {},
     "output_type": "execute_result"
    }
   ],
   "source": [
    "derived['MRH'].min(), derived['MRH'].max()"
   ]
  },
  {
   "cell_type": "code",
   "execution_count": 20,
   "id": "59425880-3697-4d01-bac1-fe6fa684fc43",
   "metadata": {},
   "outputs": [
    {
     "data": {
      "text/plain": [
       "array([-24. , -23.5, -23. , -22.5, -22. , -21.5, -21. , -20.5, -20. ,\n",
       "       -19.5, -19. , -18.5, -18. , -17.5, -17. , -16.5, -16. , -15.5,\n",
       "       -15. , -14.5, -14. , -13.5, -13. , -12.5, -12. , -11.5, -11. ,\n",
       "       -10.5])"
      ]
     },
     "execution_count": 20,
     "metadata": {},
     "output_type": "execute_result"
    }
   ],
   "source": [
    "bins=np.arange(-24.0, -10.0, 0.5)\n",
    "bins"
   ]
  },
  {
   "cell_type": "code",
   "execution_count": 21,
   "id": "048a039d-c3db-4fa6-8ca5-c5d1007e4b8e",
   "metadata": {},
   "outputs": [
    {
     "data": {
      "text/plain": [
       "(80502, 80502)"
      ]
     },
     "execution_count": 21,
     "metadata": {},
     "output_type": "execute_result"
    }
   ],
   "source": [
    "len(derived), len(bright_merge_obs)"
   ]
  },
  {
   "cell_type": "code",
   "execution_count": 22,
   "id": "b325e714-0a07-4a96-b228-5fc7f5866c09",
   "metadata": {},
   "outputs": [
    {
     "data": {
      "text/plain": [
       "Text(0.5, 1.0, 'BGS Bright SV3')"
      ]
     },
     "execution_count": 22,
     "metadata": {},
     "output_type": "execute_result"
    },
    {
     "data": {
      "image/png": "[encoded data removed]",
      "text/plain": [
       "<Figure size 432x288 with 1 Axes>"
      ]
     },
     "metadata": {
      "needs_background": "light"
     },
     "output_type": "display_data"
    }
   ],
   "source": [
    "derived                   = derived[bright_merge_obs['Z'] < 0.1]\n",
    "\n",
    "derived['MRH_IDX']        = np.digitize(derived['MRH'], bins=bins)\n",
    "\n",
    "derived_grouped           = derived.group_by(['MRH_IDX'])\n",
    "derived_grouped['NGROUP'] = 1 \n",
    "\n",
    "derived_addbinned         = derived_grouped['MRH', 'PHIKERNEL', 'NGROUP'].groups.aggregate(np.add)\n",
    "derived_mnbinned          = derived_grouped['MRH', 'PHIKERNEL'].groups.aggregate(np.mean)\n",
    "\n",
    "derived_addbinned['MRH']  = derived_mnbinned['MRH']\n",
    "\n",
    "isin                      = derived_addbinned['NGROUP'] > 10\n",
    "\n",
    "## \n",
    "Ms = np.arange(-24., -10., 0.01)\n",
    "\n",
    "pl.plot(derived_mnbinned['MRH'][isin], np.log10(derived_addbinned['PHIKERNEL'][isin]), marker='.', c='k', lw=0.1)\n",
    "pl.plot(Ms, np.log10(schechter(Ms)), c='c', lw=0.25)\n",
    "\n",
    "pl.ylim(-6.1, 0.1)\n",
    "\n",
    "pl.xlabel(r'$M_r - 5\\log_{10}|h|$')\n",
    "pl.ylabel(r'$\\Phi(M_r - 5\\log_{10}|h|)$')\n",
    "\n",
    "pl.title('BGS Bright SV3')"
   ]
  },
  {
   "cell_type": "markdown",
   "id": "f27440e5-ddbb-46ae-bc0d-592902c83b4b",
   "metadata": {},
   "source": [
    "# Done."
   ]
  }
 ],
 "metadata": {
  "kernelspec": {
   "display_name": "DESI master",
   "language": "python",
   "name": "desi-master"
  },
  "language_info": {
   "codemirror_mode": {
    "name": "ipython",
    "version": 3
   },
   "file_extension": ".py",
   "mimetype": "text/x-python",
   "name": "python",
   "nbconvert_exporter": "python",
   "pygments_lexer": "ipython3",
   "version": "3.8.3"
  }
 },
 "nbformat": 4,
 "nbformat_minor": 5
}
