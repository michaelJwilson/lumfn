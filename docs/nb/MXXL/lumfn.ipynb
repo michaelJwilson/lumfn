{
 "cells": [
  {
   "cell_type": "code",
   "execution_count": 1,
   "id": "7b026ffb-1798-4b0b-898e-27ba53564ade",
   "metadata": {},
   "outputs": [],
   "source": [
    "import sys\n",
    "import numpy             as     np\n",
    "import pylab             as     pl\n",
    "import astropy.io.fits   as     fits\n",
    "\n",
    "from   astropy.table     import Table\n",
    "from   matplotlib.pyplot import figure"
   ]
  },
  {
   "cell_type": "code",
   "execution_count": 2,
   "id": "631a5419-9c75-4f5b-9672-0601e9e777f2",
   "metadata": {},
   "outputs": [],
   "source": [
    "sys.path.append('/global/homes/m/mjwilson/desi/BGS/lumfn/py/lumfn/')\n",
    "sys.path.append('/global/homes/m/mjwilson/desi/BGS/lumfn/py/')"
   ]
  },
  {
   "cell_type": "code",
   "execution_count": 3,
   "id": "e69d6afe-3928-4b04-b3d2-98c096019d66",
   "metadata": {},
   "outputs": [],
   "source": [
    "from   schechter         import schechter\n",
    "from   SV3.define_sample import define_sample\n",
    "from   ref_gmr           import tmr_reference_gmr\n",
    "from   ajs_kcorr         import ajs_kcorr\n",
    "from   mxxl_ecorr        import mxxl_ecorr"
   ]
  },
  {
   "cell_type": "code",
   "execution_count": null,
   "id": "f9d4eae5-1756-4308-8e28-45cb30e6a219",
   "metadata": {},
   "outputs": [],
   "source": [
    "version = 0.5"
   ]
  },
  {
   "cell_type": "code",
   "execution_count": null,
   "id": "d997afe3-9201-411f-ae4c-90cfc927bd39",
   "metadata": {},
   "outputs": [],
   "source": [
    "bright_merge_obs = Table.read('/global/cscratch1/sd/mjwilson/desi/BGS/lumfn/MXXL/bright_v{:.1f}.fits'.format(version))\n",
    "bright_merge_obs"
   ]
  },
  {
   "cell_type": "code",
   "execution_count": null,
   "id": "27462033-ae18-4504-80cc-4c78741ce8e2",
   "metadata": {},
   "outputs": [],
   "source": [
    "pl.plot(bright_merge_obs['RA'], bright_merge_obs['DEC'], marker=',', lw=0.0)"
   ]
  },
  {
   "cell_type": "code",
   "execution_count": null,
   "id": "4e49565e-89ba-4779-8b0e-4b5466182165",
   "metadata": {},
   "outputs": [],
   "source": [
    "dz = 0.025\n",
    "_  = pl.hist(bright_merge_obs['Z'], bins=np.arange(0.0, 1.0, dz), histtype='step')\n",
    "\n",
    "pl.xlabel('Z')\n",
    "pl.ylabel('N per $\\Delta Z={:0.3f}$'.format(dz))"
   ]
  },
  {
   "cell_type": "code",
   "execution_count": null,
   "id": "675e6f3d-c90a-4fb9-bd0b-ac69f420d044",
   "metadata": {},
   "outputs": [],
   "source": [
    "dr = 0.025\n",
    "_  = pl.hist(bright_merge_obs['RMAG_DRED'], bins=np.arange(12.0, 20.0, dr), histtype='step')\n",
    "\n",
    "pl.xlabel('r')\n",
    "pl.ylabel('N per $\\Delta r={:0.3f}$'.format(dr))\n",
    "\n",
    "pl.axvline(19.5, c='k', lw=0.5)\n",
    "pl.axvline(19.8, c='k', lw=0.5)"
   ]
  },
  {
   "cell_type": "code",
   "execution_count": null,
   "id": "fdc3ab67-d544-48bb-af88-3ce4acd77831",
   "metadata": {},
   "outputs": [],
   "source": [
    "pl.plot(bright_merge_obs['MRH'], bright_merge_obs['REFGMR0P1'], marker=',', lw=0.0, c='k')\n",
    "\n",
    "Ms    = np.arange(-23., -18., 0.01)\n",
    "\n",
    "blues = 0.620 - 0.110 * (Ms + 20.)\n",
    "brms  = 0.120 + 0.020 * (Ms + 20.)\n",
    "\n",
    "reds  = 0.932 - 0.032 * (Ms + 20.)\n",
    "rrms  = 0.070 + 0.010 * (Ms + 20.)\n",
    "\n",
    "pl.plot(Ms, blues,      c='cyan')\n",
    "pl.plot(Ms, blues+brms, c='cyan', alpha=0.45)\n",
    "pl.plot(Ms, blues-brms, c='cyan', alpha=0.45)\n",
    "\n",
    "pl.plot(Ms,  reds,      c='red')\n",
    "pl.plot(Ms,  reds+rrms, c='red', alpha=0.45)\n",
    "pl.plot(Ms,  reds-rrms, c='red', alpha=0.45)\n",
    "\n",
    "pl.xlim(-23., -18.)\n",
    "pl.ylim(0.0, 1.2)\n",
    "\n",
    "pl.xlabel(r'$M_r$')\n",
    "pl.ylabel('Ref. $(g-r)$')"
   ]
  },
  {
   "cell_type": "code",
   "execution_count": null,
   "id": "8582e513-3e7e-46a5-b239-763062c6c120",
   "metadata": {},
   "outputs": [],
   "source": [
    "derived = Table.read('/global/cscratch1/sd/mjwilson/desi/BGS/lumfn/MXXL/bright_derived_v{:.1f}.fits'.format(version))\n",
    "derived"
   ]
  },
  {
   "cell_type": "code",
   "execution_count": null,
   "id": "4a85ccb0-1480-4ecd-b968-767e9e209152",
   "metadata": {},
   "outputs": [],
   "source": [
    "# bright_merge_obs = bright_merge_obs[:len(derived)]"
   ]
  },
  {
   "cell_type": "code",
   "execution_count": null,
   "id": "ddc2bfd5-8e1f-404f-bffa-caaa4c3cee04",
   "metadata": {},
   "outputs": [],
   "source": [
    "isin = derived['INSAMPLE'].astype(bool)\n",
    "\n",
    "derived = derived[isin]\n",
    "bright_merge_obs = bright_merge_obs[isin]"
   ]
  },
  {
   "cell_type": "code",
   "execution_count": null,
   "id": "12fcd4a7-2711-464a-bf8f-f66165178f5e",
   "metadata": {},
   "outputs": [],
   "source": [
    "np.mean(isin)"
   ]
  },
  {
   "cell_type": "code",
   "execution_count": null,
   "id": "e174daa5-dc51-42d9-9212-77bcd7c50a8a",
   "metadata": {},
   "outputs": [],
   "source": [
    "len(derived), len(bright_merge_obs)"
   ]
  },
  {
   "cell_type": "code",
   "execution_count": null,
   "id": "42f6f196-e384-4a2c-9221-a14e96ee486c",
   "metadata": {},
   "outputs": [],
   "source": [
    "_ = pl.hist(derived['GMR_DRED'], histtype='step', bins=np.arange(-0.4, 1.2, 0.1), label=r'$(g-r)$')\n",
    "_ = pl.hist(bright_merge_obs['REFGMR0P1'], histtype='step', bins=np.arange(-0.4, 1.2, 0.1), label='Ref. $(g-r)$')\n",
    "\n",
    "pl.xlabel(r'$(g-r)$')\n",
    "pl.legend(loc=2)"
   ]
  },
  {
   "cell_type": "code",
   "execution_count": null,
   "id": "0bbcf1bc-b727-440f-9d41-b43f01c3ce0a",
   "metadata": {},
   "outputs": [],
   "source": [
    "pl.scatter(bright_merge_obs['MRH'], (derived['MRH'] / bright_merge_obs['MRH']) - 1., marker='.', lw=0.0, c=bright_merge_obs['Z'], s=1)\n",
    "\n",
    "pl.xlabel('AJS MRH')\n",
    "pl.ylabel('(MJW / AJS) - 1 ')\n",
    "\n",
    "pl.xlim(-23.5, -12.)\n",
    "pl.ylim(-0.025, 0.015)\n",
    "\n",
    "pl.colorbar(label='Z')"
   ]
  },
  {
   "cell_type": "code",
   "execution_count": null,
   "id": "55e6fb64-bb11-4248-baf5-cf5f70479558",
   "metadata": {},
   "outputs": [],
   "source": [
    "zs = np.arange(0.0, 0.6, 0.01)\n",
    "\n",
    "pl.plot(zs, zs, c='k', lw=0.5)\n",
    "pl.plot(bright_merge_obs['Z'], derived['ZMAX'], marker=',', lw=0.0)\n",
    "\n",
    "pl.xlim(0.0, 0.6)\n",
    "pl.ylim(0.0, 0.6)\n",
    "\n",
    "pl.xlabel(r'$z$')\n",
    "pl.ylabel(r'$zmax$')\n",
    "\n",
    "pl.axvline(0.5, c='k', lw=0.5)"
   ]
  },
  {
   "cell_type": "code",
   "execution_count": null,
   "id": "499f7f39-6613-4426-bc3c-2005b789d6f6",
   "metadata": {},
   "outputs": [],
   "source": [
    "for zcut in np.arange(0.0, 0.6, 0.1):\n",
    "    in_zcut = (bright_merge_obs['Z'] > zcut) & (bright_merge_obs['Z'] < zcut + 0.1)\n",
    "    \n",
    "    zcut_sample = bright_merge_obs[in_zcut]\n",
    "    \n",
    "    pl.hist(zcut_sample['MRH'], bins=np.arange(-24.0, -16.0, 0.5), histtype='step', label='{:.1f} < z < {:.1f}'.format(zcut, zcut + 0.1))\n",
    "    \n",
    "pl.legend(loc=1, frameon=False)\n",
    "pl.xlabel(r'$M_r - 5 \\log_{10}|h|$')"
   ]
  },
  {
   "cell_type": "code",
   "execution_count": null,
   "id": "8a7ee063-b221-437b-978d-2e59981d7e69",
   "metadata": {},
   "outputs": [],
   "source": [
    "derived['PHIKERNEL']      = derived['IVMAX']\n",
    "derived['PHIKERNEL']     /= 0.01"
   ]
  },
  {
   "cell_type": "code",
   "execution_count": null,
   "id": "535334b2-eb90-4ef1-a435-a35491dfaa8c",
   "metadata": {},
   "outputs": [],
   "source": [
    "derived['MRH'].min(), derived['MRH'].max()"
   ]
  },
  {
   "cell_type": "code",
   "execution_count": null,
   "id": "048a039d-c3db-4fa6-8ca5-c5d1007e4b8e",
   "metadata": {},
   "outputs": [],
   "source": [
    "len(derived), len(bright_merge_obs)"
   ]
  },
  {
   "cell_type": "code",
   "execution_count": null,
   "id": "b325e714-0a07-4a96-b228-5fc7f5866c09",
   "metadata": {},
   "outputs": [],
   "source": [
    "derived['MRH_IDX']        = np.digitize(derived['MRH'], bins=np.arange(-24.0, -10.0, 0.5))\n",
    "\n",
    "derived_grouped           = derived.group_by(['MRH_IDX'])\n",
    "derived_grouped['NGROUP'] = 1 \n",
    "\n",
    "derived_addbinned         = derived_grouped['MRH', 'PHIKERNEL', 'NGROUP'].groups.aggregate(np.add)\n",
    "derived_mnbinned          = derived_grouped['MRH', 'PHIKERNEL'].groups.aggregate(np.mean)\n",
    "\n",
    "derived_addbinned['MRH']  = derived_mnbinned['MRH']\n",
    "\n",
    "isin                      = derived_addbinned['NGROUP'] > 10\n",
    "\n",
    "## \n",
    "Ms = np.arange(-24., -16., 0.01)\n",
    "\n",
    "pl.plot(derived_mnbinned['MRH'][isin], np.log10(derived_addbinned['PHIKERNEL'][isin]), marker='.', c='k', lw=0.1)\n",
    "pl.plot(derived_mnbinned['MRH'][isin] + mxxl_ecorr(0.3), np.log10(derived_addbinned['PHIKERNEL'][isin]), marker='.', c='k', lw=0.1, alpha=0.3)\n",
    "\n",
    "pl.plot(Ms, np.log10(schechter(Ms)), c='c', lw=1., label='GAMA')\n",
    "pl.plot(Ms, np.log10(schechter(Ms, named_type='Blanton')), c='magenta', lw=1., label='Blanton')\n",
    "\n",
    "pl.xlim(-23.5, -16.0)\n",
    "pl.ylim(-6.1,  -1.50)\n",
    "\n",
    "pl.xlabel(r'$M_r - 5\\log_{10}|h|$')\n",
    "pl.ylabel(r'$\\Phi(M_r - 5\\log_{10}|h|)$')\n",
    "\n",
    "pl.title('BGS Bright SV3 (v{:.1f})'.format(version))\n",
    "\n",
    "pl.legend(frameon=False, loc=2)"
   ]
  },
  {
   "cell_type": "markdown",
   "id": "f27440e5-ddbb-46ae-bc0d-592902c83b4b",
   "metadata": {},
   "source": [
    "# Done."
   ]
  }
 ],
 "metadata": {
  "kernelspec": {
   "display_name": "DESI master",
   "language": "python",
   "name": "desi-master"
  },
  "language_info": {
   "codemirror_mode": {
    "name": "ipython",
    "version": 3
   },
   "file_extension": ".py",
   "mimetype": "text/x-python",
   "name": "python",
   "nbconvert_exporter": "python",
   "pygments_lexer": "ipython3",
   "version": "3.8.3"
  }
 },
 "nbformat": 4,
 "nbformat_minor": 5
}
